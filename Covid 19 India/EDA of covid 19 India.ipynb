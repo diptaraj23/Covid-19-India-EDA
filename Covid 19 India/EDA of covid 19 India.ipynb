{
 "cells": [
  {
   "cell_type": "markdown",
   "metadata": {},
   "source": [
    "# EXPLORATORY DATA ANALYSIS OF COVID 19 INDIA DATASET\n",
    "\n",
    "THIS DATA SET IS COLLECTED FROM - https://www.kaggle.com/sudalairajkumar/covid19-in-india\n",
    "\n",
    "KAGGLE LINK OF THIS PROJECT: https://www.kaggle.com/diptaraj23/eda-of-covid-india\n",
    "\n",
    "GITHUB LINK OF THIS PROJECT: https://github.com/diptaraj23/Covid-19-India-EDA\n",
    "\n",
    "##### NOTE :\n",
    "This dataset is getting updated continuously in the given link above. I download the dataset in .CSV format on [22 ‎April ‎2021, ‏‎22:34:41]. \n",
    "\n",
    "This notebook on Kaggle will not get affected as the data it is taking is also getting updated. But in other platforms (like Github) where I have uploaded the .CSV files downloaded on [22 ‎April ‎2021, ‏‎22:34:41] \n",
    "\n",
    "Analysis can only be retrieved based on the data collected till [22 ‎April ‎2021, ‏‎22:34:41]. So it is suggested to use the KAGGLE link to view this Analysis to get the Analysis base4d on the latest data."
   ]
  },
  {
   "cell_type": "code",
   "execution_count": 202,
   "metadata": {},
   "outputs": [],
   "source": [
    "import pandas as pd\n",
    "import numpy as np\n",
    "import matplotlib.pyplot as plt\n",
    "import seaborn as sns\n",
    "import plotly.express as px\n",
    "from plotly.subplots import make_subplots\n",
    "from datetime import datetime"
   ]
  },
  {
   "cell_type": "markdown",
   "metadata": {},
   "source": [
    "## Exploratory Data Analysis of Covid_19_India Dataset"
   ]
  },
  {
   "cell_type": "code",
   "execution_count": 203,
   "metadata": {},
   "outputs": [
    {
     "data": {
      "text/html": [
       "<div>\n",
       "<style scoped>\n",
       "    .dataframe tbody tr th:only-of-type {\n",
       "        vertical-align: middle;\n",
       "    }\n",
       "\n",
       "    .dataframe tbody tr th {\n",
       "        vertical-align: top;\n",
       "    }\n",
       "\n",
       "    .dataframe thead th {\n",
       "        text-align: right;\n",
       "    }\n",
       "</style>\n",
       "<table border=\"1\" class=\"dataframe\">\n",
       "  <thead>\n",
       "    <tr style=\"text-align: right;\">\n",
       "      <th></th>\n",
       "      <th>Sno</th>\n",
       "      <th>Date</th>\n",
       "      <th>Time</th>\n",
       "      <th>State/UnionTerritory</th>\n",
       "      <th>ConfirmedIndianNational</th>\n",
       "      <th>ConfirmedForeignNational</th>\n",
       "      <th>Cured</th>\n",
       "      <th>Deaths</th>\n",
       "      <th>Confirmed</th>\n",
       "    </tr>\n",
       "  </thead>\n",
       "  <tbody>\n",
       "    <tr>\n",
       "      <th>0</th>\n",
       "      <td>1</td>\n",
       "      <td>2020-01-30</td>\n",
       "      <td>6:00 PM</td>\n",
       "      <td>Kerala</td>\n",
       "      <td>1</td>\n",
       "      <td>0</td>\n",
       "      <td>0</td>\n",
       "      <td>0</td>\n",
       "      <td>1</td>\n",
       "    </tr>\n",
       "    <tr>\n",
       "      <th>1</th>\n",
       "      <td>2</td>\n",
       "      <td>2020-01-31</td>\n",
       "      <td>6:00 PM</td>\n",
       "      <td>Kerala</td>\n",
       "      <td>1</td>\n",
       "      <td>0</td>\n",
       "      <td>0</td>\n",
       "      <td>0</td>\n",
       "      <td>1</td>\n",
       "    </tr>\n",
       "    <tr>\n",
       "      <th>2</th>\n",
       "      <td>3</td>\n",
       "      <td>2020-02-01</td>\n",
       "      <td>6:00 PM</td>\n",
       "      <td>Kerala</td>\n",
       "      <td>2</td>\n",
       "      <td>0</td>\n",
       "      <td>0</td>\n",
       "      <td>0</td>\n",
       "      <td>2</td>\n",
       "    </tr>\n",
       "    <tr>\n",
       "      <th>3</th>\n",
       "      <td>4</td>\n",
       "      <td>2020-02-02</td>\n",
       "      <td>6:00 PM</td>\n",
       "      <td>Kerala</td>\n",
       "      <td>3</td>\n",
       "      <td>0</td>\n",
       "      <td>0</td>\n",
       "      <td>0</td>\n",
       "      <td>3</td>\n",
       "    </tr>\n",
       "    <tr>\n",
       "      <th>4</th>\n",
       "      <td>5</td>\n",
       "      <td>2020-02-03</td>\n",
       "      <td>6:00 PM</td>\n",
       "      <td>Kerala</td>\n",
       "      <td>3</td>\n",
       "      <td>0</td>\n",
       "      <td>0</td>\n",
       "      <td>0</td>\n",
       "      <td>3</td>\n",
       "    </tr>\n",
       "  </tbody>\n",
       "</table>\n",
       "</div>"
      ],
      "text/plain": [
       "   Sno       Date     Time State/UnionTerritory ConfirmedIndianNational  \\\n",
       "0    1 2020-01-30  6:00 PM               Kerala                       1   \n",
       "1    2 2020-01-31  6:00 PM               Kerala                       1   \n",
       "2    3 2020-02-01  6:00 PM               Kerala                       2   \n",
       "3    4 2020-02-02  6:00 PM               Kerala                       3   \n",
       "4    5 2020-02-03  6:00 PM               Kerala                       3   \n",
       "\n",
       "  ConfirmedForeignNational  Cured  Deaths  Confirmed  \n",
       "0                        0      0       0          1  \n",
       "1                        0      0       0          1  \n",
       "2                        0      0       0          2  \n",
       "3                        0      0       0          3  \n",
       "4                        0      0       0          3  "
      ]
     },
     "execution_count": 203,
     "metadata": {},
     "output_type": "execute_result"
    }
   ],
   "source": [
    "covid_data = pd.read_csv(\"covid_19_india.csv\")\n",
    "covid_data['Date'] =  pd.to_datetime(covid_data['Date'] ,format ='%d-%m-%Y')\n",
    "covid_data.head()"
   ]
  },
  {
   "cell_type": "code",
   "execution_count": 204,
   "metadata": {},
   "outputs": [
    {
     "data": {
      "text/plain": [
       "(14114, 9)"
      ]
     },
     "execution_count": 204,
     "metadata": {},
     "output_type": "execute_result"
    }
   ],
   "source": [
    "covid_data.shape"
   ]
  },
  {
   "cell_type": "code",
   "execution_count": 205,
   "metadata": {},
   "outputs": [
    {
     "name": "stdout",
     "output_type": "stream",
     "text": [
      "<class 'pandas.core.frame.DataFrame'>\n",
      "RangeIndex: 14114 entries, 0 to 14113\n",
      "Data columns (total 9 columns):\n",
      " #   Column                    Non-Null Count  Dtype         \n",
      "---  ------                    --------------  -----         \n",
      " 0   Sno                       14114 non-null  int64         \n",
      " 1   Date                      14114 non-null  datetime64[ns]\n",
      " 2   Time                      14114 non-null  object        \n",
      " 3   State/UnionTerritory      14114 non-null  object        \n",
      " 4   ConfirmedIndianNational   14114 non-null  object        \n",
      " 5   ConfirmedForeignNational  14114 non-null  object        \n",
      " 6   Cured                     14114 non-null  int64         \n",
      " 7   Deaths                    14114 non-null  int64         \n",
      " 8   Confirmed                 14114 non-null  int64         \n",
      "dtypes: datetime64[ns](1), int64(4), object(4)\n",
      "memory usage: 992.5+ KB\n"
     ]
    }
   ],
   "source": [
    "covid_data.info()"
   ]
  },
  {
   "cell_type": "code",
   "execution_count": 206,
   "metadata": {},
   "outputs": [
    {
     "data": {
      "text/html": [
       "<div>\n",
       "<style scoped>\n",
       "    .dataframe tbody tr th:only-of-type {\n",
       "        vertical-align: middle;\n",
       "    }\n",
       "\n",
       "    .dataframe tbody tr th {\n",
       "        vertical-align: top;\n",
       "    }\n",
       "\n",
       "    .dataframe thead th {\n",
       "        text-align: right;\n",
       "    }\n",
       "</style>\n",
       "<table border=\"1\" class=\"dataframe\">\n",
       "  <thead>\n",
       "    <tr style=\"text-align: right;\">\n",
       "      <th></th>\n",
       "      <th>Sno</th>\n",
       "      <th>Cured</th>\n",
       "      <th>Deaths</th>\n",
       "      <th>Confirmed</th>\n",
       "    </tr>\n",
       "  </thead>\n",
       "  <tbody>\n",
       "    <tr>\n",
       "      <th>count</th>\n",
       "      <td>14114.000000</td>\n",
       "      <td>1.411400e+04</td>\n",
       "      <td>14114.000000</td>\n",
       "      <td>1.411400e+04</td>\n",
       "    </tr>\n",
       "    <tr>\n",
       "      <th>mean</th>\n",
       "      <td>7057.500000</td>\n",
       "      <td>1.534384e+05</td>\n",
       "      <td>2464.965212</td>\n",
       "      <td>1.674345e+05</td>\n",
       "    </tr>\n",
       "    <tr>\n",
       "      <th>std</th>\n",
       "      <td>4074.505185</td>\n",
       "      <td>3.092455e+05</td>\n",
       "      <td>6593.425888</td>\n",
       "      <td>3.365404e+05</td>\n",
       "    </tr>\n",
       "    <tr>\n",
       "      <th>min</th>\n",
       "      <td>1.000000</td>\n",
       "      <td>0.000000e+00</td>\n",
       "      <td>0.000000</td>\n",
       "      <td>0.000000e+00</td>\n",
       "    </tr>\n",
       "    <tr>\n",
       "      <th>25%</th>\n",
       "      <td>3529.250000</td>\n",
       "      <td>1.216000e+03</td>\n",
       "      <td>10.000000</td>\n",
       "      <td>2.338250e+03</td>\n",
       "    </tr>\n",
       "    <tr>\n",
       "      <th>50%</th>\n",
       "      <td>7057.500000</td>\n",
       "      <td>1.676450e+04</td>\n",
       "      <td>316.000000</td>\n",
       "      <td>2.092150e+04</td>\n",
       "    </tr>\n",
       "    <tr>\n",
       "      <th>75%</th>\n",
       "      <td>10585.750000</td>\n",
       "      <td>1.770048e+05</td>\n",
       "      <td>1912.750000</td>\n",
       "      <td>2.052068e+05</td>\n",
       "    </tr>\n",
       "    <tr>\n",
       "      <th>max</th>\n",
       "      <td>14114.000000</td>\n",
       "      <td>3.268449e+06</td>\n",
       "      <td>61911.000000</td>\n",
       "      <td>4.027827e+06</td>\n",
       "    </tr>\n",
       "  </tbody>\n",
       "</table>\n",
       "</div>"
      ],
      "text/plain": [
       "                Sno         Cured        Deaths     Confirmed\n",
       "count  14114.000000  1.411400e+04  14114.000000  1.411400e+04\n",
       "mean    7057.500000  1.534384e+05   2464.965212  1.674345e+05\n",
       "std     4074.505185  3.092455e+05   6593.425888  3.365404e+05\n",
       "min        1.000000  0.000000e+00      0.000000  0.000000e+00\n",
       "25%     3529.250000  1.216000e+03     10.000000  2.338250e+03\n",
       "50%     7057.500000  1.676450e+04    316.000000  2.092150e+04\n",
       "75%    10585.750000  1.770048e+05   1912.750000  2.052068e+05\n",
       "max    14114.000000  3.268449e+06  61911.000000  4.027827e+06"
      ]
     },
     "execution_count": 206,
     "metadata": {},
     "output_type": "execute_result"
    }
   ],
   "source": [
    "covid_data.describe()"
   ]
  },
  {
   "cell_type": "markdown",
   "metadata": {},
   "source": [
    "## Statewise Analysis"
   ]
  },
  {
   "cell_type": "code",
   "execution_count": 207,
   "metadata": {
    "scrolled": true
   },
   "outputs": [
    {
     "name": "stderr",
     "output_type": "stream",
     "text": [
      "C:\\Users\\DIPTARAJ SEN\\anaconda3\\lib\\site-packages\\ipykernel_launcher.py:1: FutureWarning:\n",
      "\n",
      "Indexing with multiple keys (implicitly converted to a tuple of keys) will be deprecated, use a list instead.\n",
      "\n"
     ]
    },
    {
     "data": {
      "text/html": [
       "<style  type=\"text/css\" >\n",
       "    #T_4fdc5c58_a4ce_11eb_a081_8091333da24arow0_col1 {\n",
       "            background-color:  #000004;\n",
       "            color:  #f1f1f1;\n",
       "        }    #T_4fdc5c58_a4ce_11eb_a081_8091333da24arow0_col2 {\n",
       "            background-color:  #000004;\n",
       "            color:  #f1f1f1;\n",
       "        }    #T_4fdc5c58_a4ce_11eb_a081_8091333da24arow0_col3 {\n",
       "            background-color:  #000004;\n",
       "            color:  #f1f1f1;\n",
       "        }    #T_4fdc5c58_a4ce_11eb_a081_8091333da24arow0_col4 {\n",
       "            background-color:  #932b80;\n",
       "            color:  #f1f1f1;\n",
       "        }    #T_4fdc5c58_a4ce_11eb_a081_8091333da24arow1_col1 {\n",
       "            background-color:  #932b80;\n",
       "            color:  #f1f1f1;\n",
       "        }    #T_4fdc5c58_a4ce_11eb_a081_8091333da24arow1_col2 {\n",
       "            background-color:  #a1307e;\n",
       "            color:  #f1f1f1;\n",
       "        }    #T_4fdc5c58_a4ce_11eb_a081_8091333da24arow1_col3 {\n",
       "            background-color:  #21114e;\n",
       "            color:  #f1f1f1;\n",
       "        }    #T_4fdc5c58_a4ce_11eb_a081_8091333da24arow1_col4 {\n",
       "            background-color:  #57157e;\n",
       "            color:  #f1f1f1;\n",
       "        }    #T_4fdc5c58_a4ce_11eb_a081_8091333da24arow2_col1 {\n",
       "            background-color:  #010005;\n",
       "            color:  #f1f1f1;\n",
       "        }    #T_4fdc5c58_a4ce_11eb_a081_8091333da24arow2_col2 {\n",
       "            background-color:  #010005;\n",
       "            color:  #f1f1f1;\n",
       "        }    #T_4fdc5c58_a4ce_11eb_a081_8091333da24arow2_col3 {\n",
       "            background-color:  #000004;\n",
       "            color:  #f1f1f1;\n",
       "        }    #T_4fdc5c58_a4ce_11eb_a081_8091333da24arow2_col4 {\n",
       "            background-color:  #140e36;\n",
       "            color:  #f1f1f1;\n",
       "        }    #T_4fdc5c58_a4ce_11eb_a081_8091333da24arow3_col1 {\n",
       "            background-color:  #150e38;\n",
       "            color:  #f1f1f1;\n",
       "        }    #T_4fdc5c58_a4ce_11eb_a081_8091333da24arow3_col2 {\n",
       "            background-color:  #180f3d;\n",
       "            color:  #f1f1f1;\n",
       "        }    #T_4fdc5c58_a4ce_11eb_a081_8091333da24arow3_col3 {\n",
       "            background-color:  #020109;\n",
       "            color:  #f1f1f1;\n",
       "        }    #T_4fdc5c58_a4ce_11eb_a081_8091333da24arow3_col4 {\n",
       "            background-color:  #241253;\n",
       "            color:  #f1f1f1;\n",
       "        }    #T_4fdc5c58_a4ce_11eb_a081_8091333da24arow4_col1 {\n",
       "            background-color:  #1a1042;\n",
       "            color:  #f1f1f1;\n",
       "        }    #T_4fdc5c58_a4ce_11eb_a081_8091333da24arow4_col2 {\n",
       "            background-color:  #1e1149;\n",
       "            color:  #f1f1f1;\n",
       "        }    #T_4fdc5c58_a4ce_11eb_a081_8091333da24arow4_col3 {\n",
       "            background-color:  #02020d;\n",
       "            color:  #f1f1f1;\n",
       "        }    #T_4fdc5c58_a4ce_11eb_a081_8091333da24arow4_col4 {\n",
       "            background-color:  #311165;\n",
       "            color:  #f1f1f1;\n",
       "        }    #T_4fdc5c58_a4ce_11eb_a081_8091333da24arow5_col1 {\n",
       "            background-color:  #000004;\n",
       "            color:  #f1f1f1;\n",
       "        }    #T_4fdc5c58_a4ce_11eb_a081_8091333da24arow5_col2 {\n",
       "            background-color:  #000004;\n",
       "            color:  #f1f1f1;\n",
       "        }    #T_4fdc5c58_a4ce_11eb_a081_8091333da24arow5_col3 {\n",
       "            background-color:  #000004;\n",
       "            color:  #f1f1f1;\n",
       "        }    #T_4fdc5c58_a4ce_11eb_a081_8091333da24arow5_col4 {\n",
       "            background-color:  #000004;\n",
       "            color:  #f1f1f1;\n",
       "        }    #T_4fdc5c58_a4ce_11eb_a081_8091333da24arow6_col1 {\n",
       "            background-color:  #010106;\n",
       "            color:  #f1f1f1;\n",
       "        }    #T_4fdc5c58_a4ce_11eb_a081_8091333da24arow6_col2 {\n",
       "            background-color:  #010106;\n",
       "            color:  #f1f1f1;\n",
       "        }    #T_4fdc5c58_a4ce_11eb_a081_8091333da24arow6_col3 {\n",
       "            background-color:  #010005;\n",
       "            color:  #f1f1f1;\n",
       "        }    #T_4fdc5c58_a4ce_11eb_a081_8091333da24arow6_col4 {\n",
       "            background-color:  #b3367a;\n",
       "            color:  #f1f1f1;\n",
       "        }    #T_4fdc5c58_a4ce_11eb_a081_8091333da24arow7_col1 {\n",
       "            background-color:  #1c1044;\n",
       "            color:  #f1f1f1;\n",
       "        }    #T_4fdc5c58_a4ce_11eb_a081_8091333da24arow7_col2 {\n",
       "            background-color:  #1c1044;\n",
       "            color:  #f1f1f1;\n",
       "        }    #T_4fdc5c58_a4ce_11eb_a081_8091333da24arow7_col3 {\n",
       "            background-color:  #08071e;\n",
       "            color:  #f1f1f1;\n",
       "        }    #T_4fdc5c58_a4ce_11eb_a081_8091333da24arow7_col4 {\n",
       "            background-color:  #832681;\n",
       "            color:  #f1f1f1;\n",
       "        }    #T_4fdc5c58_a4ce_11eb_a081_8091333da24arow8_col1 {\n",
       "            background-color:  #000004;\n",
       "            color:  #f1f1f1;\n",
       "        }    #T_4fdc5c58_a4ce_11eb_a081_8091333da24arow8_col2 {\n",
       "            background-color:  #000004;\n",
       "            color:  #f1f1f1;\n",
       "        }    #T_4fdc5c58_a4ce_11eb_a081_8091333da24arow8_col3 {\n",
       "            background-color:  #000004;\n",
       "            color:  #f1f1f1;\n",
       "        }    #T_4fdc5c58_a4ce_11eb_a081_8091333da24arow8_col4 {\n",
       "            background-color:  #02020b;\n",
       "            color:  #f1f1f1;\n",
       "        }    #T_4fdc5c58_a4ce_11eb_a081_8091333da24arow9_col1 {\n",
       "            background-color:  #000004;\n",
       "            color:  #f1f1f1;\n",
       "        }    #T_4fdc5c58_a4ce_11eb_a081_8091333da24arow9_col2 {\n",
       "            background-color:  #000004;\n",
       "            color:  #f1f1f1;\n",
       "        }    #T_4fdc5c58_a4ce_11eb_a081_8091333da24arow9_col3 {\n",
       "            background-color:  #000004;\n",
       "            color:  #f1f1f1;\n",
       "        }    #T_4fdc5c58_a4ce_11eb_a081_8091333da24arow9_col4 {\n",
       "            background-color:  #000004;\n",
       "            color:  #f1f1f1;\n",
       "        }    #T_4fdc5c58_a4ce_11eb_a081_8091333da24arow10_col1 {\n",
       "            background-color:  #59157e;\n",
       "            color:  #f1f1f1;\n",
       "        }    #T_4fdc5c58_a4ce_11eb_a081_8091333da24arow10_col2 {\n",
       "            background-color:  #601880;\n",
       "            color:  #f1f1f1;\n",
       "        }    #T_4fdc5c58_a4ce_11eb_a081_8091333da24arow10_col3 {\n",
       "            background-color:  #390f6e;\n",
       "            color:  #f1f1f1;\n",
       "        }    #T_4fdc5c58_a4ce_11eb_a081_8091333da24arow10_col4 {\n",
       "            background-color:  #d8456c;\n",
       "            color:  #f1f1f1;\n",
       "        }    #T_4fdc5c58_a4ce_11eb_a081_8091333da24arow11_col1 {\n",
       "            background-color:  #02020d;\n",
       "            color:  #f1f1f1;\n",
       "        }    #T_4fdc5c58_a4ce_11eb_a081_8091333da24arow11_col2 {\n",
       "            background-color:  #02020d;\n",
       "            color:  #f1f1f1;\n",
       "        }    #T_4fdc5c58_a4ce_11eb_a081_8091333da24arow11_col3 {\n",
       "            background-color:  #010108;\n",
       "            color:  #f1f1f1;\n",
       "        }    #T_4fdc5c58_a4ce_11eb_a081_8091333da24arow11_col4 {\n",
       "            background-color:  #a1307e;\n",
       "            color:  #f1f1f1;\n",
       "        }    #T_4fdc5c58_a4ce_11eb_a081_8091333da24arow12_col1 {\n",
       "            background-color:  #1a1042;\n",
       "            color:  #f1f1f1;\n",
       "        }    #T_4fdc5c58_a4ce_11eb_a081_8091333da24arow12_col2 {\n",
       "            background-color:  #1c1044;\n",
       "            color:  #f1f1f1;\n",
       "        }    #T_4fdc5c58_a4ce_11eb_a081_8091333da24arow12_col3 {\n",
       "            background-color:  #130d34;\n",
       "            color:  #f1f1f1;\n",
       "        }    #T_4fdc5c58_a4ce_11eb_a081_8091333da24arow12_col4 {\n",
       "            background-color:  #f05f5e;\n",
       "            color:  #000000;\n",
       "        }    #T_4fdc5c58_a4ce_11eb_a081_8091333da24arow13_col1 {\n",
       "            background-color:  #180f3d;\n",
       "            color:  #f1f1f1;\n",
       "        }    #T_4fdc5c58_a4ce_11eb_a081_8091333da24arow13_col2 {\n",
       "            background-color:  #1a1042;\n",
       "            color:  #f1f1f1;\n",
       "        }    #T_4fdc5c58_a4ce_11eb_a081_8091333da24arow13_col3 {\n",
       "            background-color:  #06051a;\n",
       "            color:  #f1f1f1;\n",
       "        }    #T_4fdc5c58_a4ce_11eb_a081_8091333da24arow13_col4 {\n",
       "            background-color:  #7b2382;\n",
       "            color:  #f1f1f1;\n",
       "        }    #T_4fdc5c58_a4ce_11eb_a081_8091333da24arow14_col1 {\n",
       "            background-color:  #02020b;\n",
       "            color:  #f1f1f1;\n",
       "        }    #T_4fdc5c58_a4ce_11eb_a081_8091333da24arow14_col2 {\n",
       "            background-color:  #02020b;\n",
       "            color:  #f1f1f1;\n",
       "        }    #T_4fdc5c58_a4ce_11eb_a081_8091333da24arow14_col3 {\n",
       "            background-color:  #010108;\n",
       "            color:  #f1f1f1;\n",
       "        }    #T_4fdc5c58_a4ce_11eb_a081_8091333da24arow14_col4 {\n",
       "            background-color:  #c03a76;\n",
       "            color:  #f1f1f1;\n",
       "        }    #T_4fdc5c58_a4ce_11eb_a081_8091333da24arow15_col1 {\n",
       "            background-color:  #07061c;\n",
       "            color:  #f1f1f1;\n",
       "        }    #T_4fdc5c58_a4ce_11eb_a081_8091333da24arow15_col2 {\n",
       "            background-color:  #08071e;\n",
       "            color:  #f1f1f1;\n",
       "        }    #T_4fdc5c58_a4ce_11eb_a081_8091333da24arow15_col3 {\n",
       "            background-color:  #030312;\n",
       "            color:  #f1f1f1;\n",
       "        }    #T_4fdc5c58_a4ce_11eb_a081_8091333da24arow15_col4 {\n",
       "            background-color:  #ba3878;\n",
       "            color:  #f1f1f1;\n",
       "        }    #T_4fdc5c58_a4ce_11eb_a081_8091333da24arow16_col1 {\n",
       "            background-color:  #07061c;\n",
       "            color:  #f1f1f1;\n",
       "        }    #T_4fdc5c58_a4ce_11eb_a081_8091333da24arow16_col2 {\n",
       "            background-color:  #08071e;\n",
       "            color:  #f1f1f1;\n",
       "        }    #T_4fdc5c58_a4ce_11eb_a081_8091333da24arow16_col3 {\n",
       "            background-color:  #020109;\n",
       "            color:  #f1f1f1;\n",
       "        }    #T_4fdc5c58_a4ce_11eb_a081_8091333da24arow16_col4 {\n",
       "            background-color:  #601880;\n",
       "            color:  #f1f1f1;\n",
       "        }    #T_4fdc5c58_a4ce_11eb_a081_8091333da24arow17_col1 {\n",
       "            background-color:  #962c80;\n",
       "            color:  #f1f1f1;\n",
       "        }    #T_4fdc5c58_a4ce_11eb_a081_8091333da24arow17_col2 {\n",
       "            background-color:  #a02f7f;\n",
       "            color:  #f1f1f1;\n",
       "        }    #T_4fdc5c58_a4ce_11eb_a081_8091333da24arow17_col3 {\n",
       "            background-color:  #491078;\n",
       "            color:  #f1f1f1;\n",
       "        }    #T_4fdc5c58_a4ce_11eb_a081_8091333da24arow17_col4 {\n",
       "            background-color:  #9c2e7f;\n",
       "            color:  #f1f1f1;\n",
       "        }    #T_4fdc5c58_a4ce_11eb_a081_8091333da24arow18_col1 {\n",
       "            background-color:  #732081;\n",
       "            color:  #f1f1f1;\n",
       "        }    #T_4fdc5c58_a4ce_11eb_a081_8091333da24arow18_col2 {\n",
       "            background-color:  #782281;\n",
       "            color:  #f1f1f1;\n",
       "        }    #T_4fdc5c58_a4ce_11eb_a081_8091333da24arow18_col3 {\n",
       "            background-color:  #07061c;\n",
       "            color:  #f1f1f1;\n",
       "        }    #T_4fdc5c58_a4ce_11eb_a081_8091333da24arow18_col4 {\n",
       "            background-color:  #1e1149;\n",
       "            color:  #f1f1f1;\n",
       "        }    #T_4fdc5c58_a4ce_11eb_a081_8091333da24arow19_col1 {\n",
       "            background-color:  #010005;\n",
       "            color:  #f1f1f1;\n",
       "        }    #T_4fdc5c58_a4ce_11eb_a081_8091333da24arow19_col2 {\n",
       "            background-color:  #010005;\n",
       "            color:  #f1f1f1;\n",
       "        }    #T_4fdc5c58_a4ce_11eb_a081_8091333da24arow19_col3 {\n",
       "            background-color:  #000004;\n",
       "            color:  #f1f1f1;\n",
       "        }    #T_4fdc5c58_a4ce_11eb_a081_8091333da24arow19_col4 {\n",
       "            background-color:  #902a81;\n",
       "            color:  #f1f1f1;\n",
       "        }    #T_4fdc5c58_a4ce_11eb_a081_8091333da24arow20_col1 {\n",
       "            background-color:  #000004;\n",
       "            color:  #f1f1f1;\n",
       "        }    #T_4fdc5c58_a4ce_11eb_a081_8091333da24arow20_col2 {\n",
       "            background-color:  #000004;\n",
       "            color:  #f1f1f1;\n",
       "        }    #T_4fdc5c58_a4ce_11eb_a081_8091333da24arow20_col3 {\n",
       "            background-color:  #000004;\n",
       "            color:  #f1f1f1;\n",
       "        }    #T_4fdc5c58_a4ce_11eb_a081_8091333da24arow20_col4 {\n",
       "            background-color:  #050416;\n",
       "            color:  #f1f1f1;\n",
       "        }    #T_4fdc5c58_a4ce_11eb_a081_8091333da24arow21_col1 {\n",
       "            background-color:  #180f3d;\n",
       "            color:  #f1f1f1;\n",
       "        }    #T_4fdc5c58_a4ce_11eb_a081_8091333da24arow21_col2 {\n",
       "            background-color:  #19103f;\n",
       "            color:  #f1f1f1;\n",
       "        }    #T_4fdc5c58_a4ce_11eb_a081_8091333da24arow21_col3 {\n",
       "            background-color:  #0c0926;\n",
       "            color:  #f1f1f1;\n",
       "        }    #T_4fdc5c58_a4ce_11eb_a081_8091333da24arow21_col4 {\n",
       "            background-color:  #bf3a77;\n",
       "            color:  #f1f1f1;\n",
       "        }    #T_4fdc5c58_a4ce_11eb_a081_8091333da24arow22_col1 {\n",
       "            background-color:  #fcfdbf;\n",
       "            color:  #000000;\n",
       "        }    #T_4fdc5c58_a4ce_11eb_a081_8091333da24arow22_col2 {\n",
       "            background-color:  #fcfdbf;\n",
       "            color:  #000000;\n",
       "        }    #T_4fdc5c58_a4ce_11eb_a081_8091333da24arow22_col3 {\n",
       "            background-color:  #fcfdbf;\n",
       "            color:  #000000;\n",
       "        }    #T_4fdc5c58_a4ce_11eb_a081_8091333da24arow22_col4 {\n",
       "            background-color:  #fea36f;\n",
       "            color:  #000000;\n",
       "        }    #T_4fdc5c58_a4ce_11eb_a081_8091333da24arow23_col1 {\n",
       "            background-color:  #010106;\n",
       "            color:  #f1f1f1;\n",
       "        }    #T_4fdc5c58_a4ce_11eb_a081_8091333da24arow23_col2 {\n",
       "            background-color:  #010108;\n",
       "            color:  #f1f1f1;\n",
       "        }    #T_4fdc5c58_a4ce_11eb_a081_8091333da24arow23_col3 {\n",
       "            background-color:  #010005;\n",
       "            color:  #f1f1f1;\n",
       "        }    #T_4fdc5c58_a4ce_11eb_a081_8091333da24arow23_col4 {\n",
       "            background-color:  #7e2482;\n",
       "            color:  #f1f1f1;\n",
       "        }    #T_4fdc5c58_a4ce_11eb_a081_8091333da24arow24_col1 {\n",
       "            background-color:  #010005;\n",
       "            color:  #f1f1f1;\n",
       "        }    #T_4fdc5c58_a4ce_11eb_a081_8091333da24arow24_col2 {\n",
       "            background-color:  #010005;\n",
       "            color:  #f1f1f1;\n",
       "        }    #T_4fdc5c58_a4ce_11eb_a081_8091333da24arow24_col3 {\n",
       "            background-color:  #000004;\n",
       "            color:  #f1f1f1;\n",
       "        }    #T_4fdc5c58_a4ce_11eb_a081_8091333da24arow24_col4 {\n",
       "            background-color:  #6e1e81;\n",
       "            color:  #f1f1f1;\n",
       "        }    #T_4fdc5c58_a4ce_11eb_a081_8091333da24arow25_col1 {\n",
       "            background-color:  #000004;\n",
       "            color:  #f1f1f1;\n",
       "        }    #T_4fdc5c58_a4ce_11eb_a081_8091333da24arow25_col2 {\n",
       "            background-color:  #000004;\n",
       "            color:  #f1f1f1;\n",
       "        }    #T_4fdc5c58_a4ce_11eb_a081_8091333da24arow25_col3 {\n",
       "            background-color:  #000004;\n",
       "            color:  #f1f1f1;\n",
       "        }    #T_4fdc5c58_a4ce_11eb_a081_8091333da24arow25_col4 {\n",
       "            background-color:  #07061c;\n",
       "            color:  #f1f1f1;\n",
       "        }    #T_4fdc5c58_a4ce_11eb_a081_8091333da24arow26_col1 {\n",
       "            background-color:  #010005;\n",
       "            color:  #f1f1f1;\n",
       "        }    #T_4fdc5c58_a4ce_11eb_a081_8091333da24arow26_col2 {\n",
       "            background-color:  #010005;\n",
       "            color:  #f1f1f1;\n",
       "        }    #T_4fdc5c58_a4ce_11eb_a081_8091333da24arow26_col3 {\n",
       "            background-color:  #000004;\n",
       "            color:  #f1f1f1;\n",
       "        }    #T_4fdc5c58_a4ce_11eb_a081_8091333da24arow26_col4 {\n",
       "            background-color:  #38106c;\n",
       "            color:  #f1f1f1;\n",
       "        }    #T_4fdc5c58_a4ce_11eb_a081_8091333da24arow27_col1 {\n",
       "            background-color:  #241253;\n",
       "            color:  #f1f1f1;\n",
       "        }    #T_4fdc5c58_a4ce_11eb_a081_8091333da24arow27_col2 {\n",
       "            background-color:  #2a115c;\n",
       "            color:  #f1f1f1;\n",
       "        }    #T_4fdc5c58_a4ce_11eb_a081_8091333da24arow27_col3 {\n",
       "            background-color:  #030312;\n",
       "            color:  #f1f1f1;\n",
       "        }    #T_4fdc5c58_a4ce_11eb_a081_8091333da24arow27_col4 {\n",
       "            background-color:  #2f1163;\n",
       "            color:  #f1f1f1;\n",
       "        }    #T_4fdc5c58_a4ce_11eb_a081_8091333da24arow28_col1 {\n",
       "            background-color:  #020109;\n",
       "            color:  #f1f1f1;\n",
       "        }    #T_4fdc5c58_a4ce_11eb_a081_8091333da24arow28_col2 {\n",
       "            background-color:  #020109;\n",
       "            color:  #f1f1f1;\n",
       "        }    #T_4fdc5c58_a4ce_11eb_a081_8091333da24arow28_col3 {\n",
       "            background-color:  #010108;\n",
       "            color:  #f1f1f1;\n",
       "        }    #T_4fdc5c58_a4ce_11eb_a081_8091333da24arow28_col4 {\n",
       "            background-color:  #ca3e72;\n",
       "            color:  #f1f1f1;\n",
       "        }    #T_4fdc5c58_a4ce_11eb_a081_8091333da24arow29_col1 {\n",
       "            background-color:  #0e0b2b;\n",
       "            color:  #f1f1f1;\n",
       "        }    #T_4fdc5c58_a4ce_11eb_a081_8091333da24arow29_col2 {\n",
       "            background-color:  #100b2d;\n",
       "            color:  #f1f1f1;\n",
       "        }    #T_4fdc5c58_a4ce_11eb_a081_8091333da24arow29_col3 {\n",
       "            background-color:  #140e36;\n",
       "            color:  #f1f1f1;\n",
       "        }    #T_4fdc5c58_a4ce_11eb_a081_8091333da24arow29_col4 {\n",
       "            background-color:  #fcfdbf;\n",
       "            color:  #000000;\n",
       "        }    #T_4fdc5c58_a4ce_11eb_a081_8091333da24arow30_col1 {\n",
       "            background-color:  #1e1149;\n",
       "            color:  #f1f1f1;\n",
       "        }    #T_4fdc5c58_a4ce_11eb_a081_8091333da24arow30_col2 {\n",
       "            background-color:  #21114e;\n",
       "            color:  #f1f1f1;\n",
       "        }    #T_4fdc5c58_a4ce_11eb_a081_8091333da24arow30_col3 {\n",
       "            background-color:  #06051a;\n",
       "            color:  #f1f1f1;\n",
       "        }    #T_4fdc5c58_a4ce_11eb_a081_8091333da24arow30_col4 {\n",
       "            background-color:  #671b80;\n",
       "            color:  #f1f1f1;\n",
       "        }    #T_4fdc5c58_a4ce_11eb_a081_8091333da24arow31_col1 {\n",
       "            background-color:  #000004;\n",
       "            color:  #f1f1f1;\n",
       "        }    #T_4fdc5c58_a4ce_11eb_a081_8091333da24arow31_col2 {\n",
       "            background-color:  #000004;\n",
       "            color:  #f1f1f1;\n",
       "        }    #T_4fdc5c58_a4ce_11eb_a081_8091333da24arow31_col3 {\n",
       "            background-color:  #000004;\n",
       "            color:  #f1f1f1;\n",
       "        }    #T_4fdc5c58_a4ce_11eb_a081_8091333da24arow31_col4 {\n",
       "            background-color:  #ea5661;\n",
       "            color:  #000000;\n",
       "        }    #T_4fdc5c58_a4ce_11eb_a081_8091333da24arow32_col1 {\n",
       "            background-color:  #8c2981;\n",
       "            color:  #f1f1f1;\n",
       "        }    #T_4fdc5c58_a4ce_11eb_a081_8091333da24arow32_col2 {\n",
       "            background-color:  #992d80;\n",
       "            color:  #f1f1f1;\n",
       "        }    #T_4fdc5c58_a4ce_11eb_a081_8091333da24arow32_col3 {\n",
       "            background-color:  #4e117b;\n",
       "            color:  #f1f1f1;\n",
       "        }    #T_4fdc5c58_a4ce_11eb_a081_8091333da24arow32_col4 {\n",
       "            background-color:  #b2357b;\n",
       "            color:  #f1f1f1;\n",
       "        }    #T_4fdc5c58_a4ce_11eb_a081_8091333da24arow33_col1 {\n",
       "            background-color:  #20114b;\n",
       "            color:  #f1f1f1;\n",
       "        }    #T_4fdc5c58_a4ce_11eb_a081_8091333da24arow33_col2 {\n",
       "            background-color:  #221150;\n",
       "            color:  #f1f1f1;\n",
       "        }    #T_4fdc5c58_a4ce_11eb_a081_8091333da24arow33_col3 {\n",
       "            background-color:  #030312;\n",
       "            color:  #f1f1f1;\n",
       "        }    #T_4fdc5c58_a4ce_11eb_a081_8091333da24arow33_col4 {\n",
       "            background-color:  #36106b;\n",
       "            color:  #f1f1f1;\n",
       "        }    #T_4fdc5c58_a4ce_11eb_a081_8091333da24arow34_col1 {\n",
       "            background-color:  #010108;\n",
       "            color:  #f1f1f1;\n",
       "        }    #T_4fdc5c58_a4ce_11eb_a081_8091333da24arow34_col2 {\n",
       "            background-color:  #020109;\n",
       "            color:  #f1f1f1;\n",
       "        }    #T_4fdc5c58_a4ce_11eb_a081_8091333da24arow34_col3 {\n",
       "            background-color:  #010005;\n",
       "            color:  #f1f1f1;\n",
       "        }    #T_4fdc5c58_a4ce_11eb_a081_8091333da24arow34_col4 {\n",
       "            background-color:  #7e2482;\n",
       "            color:  #f1f1f1;\n",
       "        }    #T_4fdc5c58_a4ce_11eb_a081_8091333da24arow35_col1 {\n",
       "            background-color:  #000004;\n",
       "            color:  #f1f1f1;\n",
       "        }    #T_4fdc5c58_a4ce_11eb_a081_8091333da24arow35_col2 {\n",
       "            background-color:  #000004;\n",
       "            color:  #f1f1f1;\n",
       "        }    #T_4fdc5c58_a4ce_11eb_a081_8091333da24arow35_col3 {\n",
       "            background-color:  #000004;\n",
       "            color:  #f1f1f1;\n",
       "        }    #T_4fdc5c58_a4ce_11eb_a081_8091333da24arow35_col4 {\n",
       "            background-color:  #000004;\n",
       "            color:  #f1f1f1;\n",
       "        }    #T_4fdc5c58_a4ce_11eb_a081_8091333da24arow36_col1 {\n",
       "            background-color:  #59157e;\n",
       "            color:  #f1f1f1;\n",
       "        }    #T_4fdc5c58_a4ce_11eb_a081_8091333da24arow36_col2 {\n",
       "            background-color:  #5d177f;\n",
       "            color:  #f1f1f1;\n",
       "        }    #T_4fdc5c58_a4ce_11eb_a081_8091333da24arow36_col3 {\n",
       "            background-color:  #29115a;\n",
       "            color:  #f1f1f1;\n",
       "        }    #T_4fdc5c58_a4ce_11eb_a081_8091333da24arow36_col4 {\n",
       "            background-color:  #ab337c;\n",
       "            color:  #f1f1f1;\n",
       "        }    #T_4fdc5c58_a4ce_11eb_a081_8091333da24arow37_col1 {\n",
       "            background-color:  #040414;\n",
       "            color:  #f1f1f1;\n",
       "        }    #T_4fdc5c58_a4ce_11eb_a081_8091333da24arow37_col2 {\n",
       "            background-color:  #050416;\n",
       "            color:  #f1f1f1;\n",
       "        }    #T_4fdc5c58_a4ce_11eb_a081_8091333da24arow37_col3 {\n",
       "            background-color:  #02020d;\n",
       "            color:  #f1f1f1;\n",
       "        }    #T_4fdc5c58_a4ce_11eb_a081_8091333da24arow37_col4 {\n",
       "            background-color:  #c43c75;\n",
       "            color:  #f1f1f1;\n",
       "        }    #T_4fdc5c58_a4ce_11eb_a081_8091333da24arow38_col1 {\n",
       "            background-color:  #4a1079;\n",
       "            color:  #f1f1f1;\n",
       "        }    #T_4fdc5c58_a4ce_11eb_a081_8091333da24arow38_col2 {\n",
       "            background-color:  #51127c;\n",
       "            color:  #f1f1f1;\n",
       "        }    #T_4fdc5c58_a4ce_11eb_a081_8091333da24arow38_col3 {\n",
       "            background-color:  #2f1163;\n",
       "            color:  #f1f1f1;\n",
       "        }    #T_4fdc5c58_a4ce_11eb_a081_8091333da24arow38_col4 {\n",
       "            background-color:  #db476a;\n",
       "            color:  #000000;\n",
       "        }</style><table id=\"T_4fdc5c58_a4ce_11eb_a081_8091333da24a\" ><thead>    <tr>        <th class=\"blank level0\" ></th>        <th class=\"col_heading level0 col0\" >State/UnionTerritory</th>        <th class=\"col_heading level0 col1\" >Confirmed</th>        <th class=\"col_heading level0 col2\" >Cured</th>        <th class=\"col_heading level0 col3\" >Deaths</th>        <th class=\"col_heading level0 col4\" >Death_percentage</th>    </tr></thead><tbody>\n",
       "                <tr>\n",
       "                        <th id=\"T_4fdc5c58_a4ce_11eb_a081_8091333da24alevel0_row0\" class=\"row_heading level0 row0\" >0</th>\n",
       "                        <td id=\"T_4fdc5c58_a4ce_11eb_a081_8091333da24arow0_col0\" class=\"data row0 col0\" >Andaman and Nicobar Islands</td>\n",
       "                        <td id=\"T_4fdc5c58_a4ce_11eb_a081_8091333da24arow0_col1\" class=\"data row0 col1\" >1156097</td>\n",
       "                        <td id=\"T_4fdc5c58_a4ce_11eb_a081_8091333da24arow0_col2\" class=\"data row0 col2\" >1089930</td>\n",
       "                        <td id=\"T_4fdc5c58_a4ce_11eb_a081_8091333da24arow0_col3\" class=\"data row0 col3\" >14729</td>\n",
       "                        <td id=\"T_4fdc5c58_a4ce_11eb_a081_8091333da24arow0_col4\" class=\"data row0 col4\" >1.274028</td>\n",
       "            </tr>\n",
       "            <tr>\n",
       "                        <th id=\"T_4fdc5c58_a4ce_11eb_a081_8091333da24alevel0_row1\" class=\"row_heading level0 row1\" >1</th>\n",
       "                        <td id=\"T_4fdc5c58_a4ce_11eb_a081_8091333da24arow1_col0\" class=\"data row1 col0\" >Andhra Pradesh</td>\n",
       "                        <td id=\"T_4fdc5c58_a4ce_11eb_a081_8091333da24arow1_col1\" class=\"data row1 col1\" >204630098</td>\n",
       "                        <td id=\"T_4fdc5c58_a4ce_11eb_a081_8091333da24arow1_col2\" class=\"data row1 col2\" >194086560</td>\n",
       "                        <td id=\"T_4fdc5c58_a4ce_11eb_a081_8091333da24arow1_col3\" class=\"data row1 col3\" >1676597</td>\n",
       "                        <td id=\"T_4fdc5c58_a4ce_11eb_a081_8091333da24arow1_col4\" class=\"data row1 col4\" >0.819331</td>\n",
       "            </tr>\n",
       "            <tr>\n",
       "                        <th id=\"T_4fdc5c58_a4ce_11eb_a081_8091333da24alevel0_row2\" class=\"row_heading level0 row2\" >2</th>\n",
       "                        <td id=\"T_4fdc5c58_a4ce_11eb_a081_8091333da24arow2_col0\" class=\"data row2 col0\" >Arunachal Pradesh</td>\n",
       "                        <td id=\"T_4fdc5c58_a4ce_11eb_a081_8091333da24arow2_col1\" class=\"data row2 col1\" >3565479</td>\n",
       "                        <td id=\"T_4fdc5c58_a4ce_11eb_a081_8091333da24arow2_col2\" class=\"data row2 col2\" >3319089</td>\n",
       "                        <td id=\"T_4fdc5c58_a4ce_11eb_a081_8091333da24arow2_col3\" class=\"data row2 col3\" >10760</td>\n",
       "                        <td id=\"T_4fdc5c58_a4ce_11eb_a081_8091333da24arow2_col4\" class=\"data row2 col4\" >0.301783</td>\n",
       "            </tr>\n",
       "            <tr>\n",
       "                        <th id=\"T_4fdc5c58_a4ce_11eb_a081_8091333da24alevel0_row3\" class=\"row_heading level0 row3\" >3</th>\n",
       "                        <td id=\"T_4fdc5c58_a4ce_11eb_a081_8091333da24arow3_col0\" class=\"data row3 col0\" >Assam</td>\n",
       "                        <td id=\"T_4fdc5c58_a4ce_11eb_a081_8091333da24arow3_col1\" class=\"data row3 col1\" >50864662</td>\n",
       "                        <td id=\"T_4fdc5c58_a4ce_11eb_a081_8091333da24arow3_col2\" class=\"data row3 col2\" >47588973</td>\n",
       "                        <td id=\"T_4fdc5c58_a4ce_11eb_a081_8091333da24arow3_col3\" class=\"data row3 col3\" >230274</td>\n",
       "                        <td id=\"T_4fdc5c58_a4ce_11eb_a081_8091333da24arow3_col4\" class=\"data row3 col4\" >0.452719</td>\n",
       "            </tr>\n",
       "            <tr>\n",
       "                        <th id=\"T_4fdc5c58_a4ce_11eb_a081_8091333da24alevel0_row4\" class=\"row_heading level0 row4\" >4</th>\n",
       "                        <td id=\"T_4fdc5c58_a4ce_11eb_a081_8091333da24arow4_col0\" class=\"data row4 col0\" >Bihar</td>\n",
       "                        <td id=\"T_4fdc5c58_a4ce_11eb_a081_8091333da24arow4_col1\" class=\"data row4 col1\" >59137203</td>\n",
       "                        <td id=\"T_4fdc5c58_a4ce_11eb_a081_8091333da24arow4_col2\" class=\"data row4 col2\" >56032256</td>\n",
       "                        <td id=\"T_4fdc5c58_a4ce_11eb_a081_8091333da24arow4_col3\" class=\"data row4 col3\" >323777</td>\n",
       "                        <td id=\"T_4fdc5c58_a4ce_11eb_a081_8091333da24arow4_col4\" class=\"data row4 col4\" >0.547501</td>\n",
       "            </tr>\n",
       "            <tr>\n",
       "                        <th id=\"T_4fdc5c58_a4ce_11eb_a081_8091333da24alevel0_row5\" class=\"row_heading level0 row5\" >5</th>\n",
       "                        <td id=\"T_4fdc5c58_a4ce_11eb_a081_8091333da24arow5_col0\" class=\"data row5 col0\" >Cases being reassigned to states</td>\n",
       "                        <td id=\"T_4fdc5c58_a4ce_11eb_a081_8091333da24arow5_col1\" class=\"data row5 col1\" >345565</td>\n",
       "                        <td id=\"T_4fdc5c58_a4ce_11eb_a081_8091333da24arow5_col2\" class=\"data row5 col2\" >0</td>\n",
       "                        <td id=\"T_4fdc5c58_a4ce_11eb_a081_8091333da24arow5_col3\" class=\"data row5 col3\" >0</td>\n",
       "                        <td id=\"T_4fdc5c58_a4ce_11eb_a081_8091333da24arow5_col4\" class=\"data row5 col4\" >0.000000</td>\n",
       "            </tr>\n",
       "            <tr>\n",
       "                        <th id=\"T_4fdc5c58_a4ce_11eb_a081_8091333da24alevel0_row6\" class=\"row_heading level0 row6\" >6</th>\n",
       "                        <td id=\"T_4fdc5c58_a4ce_11eb_a081_8091333da24arow6_col0\" class=\"data row6 col0\" >Chandigarh</td>\n",
       "                        <td id=\"T_4fdc5c58_a4ce_11eb_a081_8091333da24arow6_col1\" class=\"data row6 col1\" >4460750</td>\n",
       "                        <td id=\"T_4fdc5c58_a4ce_11eb_a081_8091333da24arow6_col2\" class=\"data row6 col2\" >4067193</td>\n",
       "                        <td id=\"T_4fdc5c58_a4ce_11eb_a081_8091333da24arow6_col3\" class=\"data row6 col3\" >67213</td>\n",
       "                        <td id=\"T_4fdc5c58_a4ce_11eb_a081_8091333da24arow6_col4\" class=\"data row6 col4\" >1.506765</td>\n",
       "            </tr>\n",
       "            <tr>\n",
       "                        <th id=\"T_4fdc5c58_a4ce_11eb_a081_8091333da24alevel0_row7\" class=\"row_heading level0 row7\" >7</th>\n",
       "                        <td id=\"T_4fdc5c58_a4ce_11eb_a081_8091333da24arow7_col0\" class=\"data row7 col0\" >Chhattisgarh</td>\n",
       "                        <td id=\"T_4fdc5c58_a4ce_11eb_a081_8091333da24arow7_col1\" class=\"data row7 col1\" >59468765</td>\n",
       "                        <td id=\"T_4fdc5c58_a4ce_11eb_a081_8091333da24arow7_col2\" class=\"data row7 col2\" >53245886</td>\n",
       "                        <td id=\"T_4fdc5c58_a4ce_11eb_a081_8091333da24arow7_col3\" class=\"data row7 col3\" >687470</td>\n",
       "                        <td id=\"T_4fdc5c58_a4ce_11eb_a081_8091333da24arow7_col4\" class=\"data row7 col4\" >1.156019</td>\n",
       "            </tr>\n",
       "            <tr>\n",
       "                        <th id=\"T_4fdc5c58_a4ce_11eb_a081_8091333da24alevel0_row8\" class=\"row_heading level0 row8\" >8</th>\n",
       "                        <td id=\"T_4fdc5c58_a4ce_11eb_a081_8091333da24arow8_col0\" class=\"data row8 col0\" >Dadra and Nagar Haveli and Daman and Diu</td>\n",
       "                        <td id=\"T_4fdc5c58_a4ce_11eb_a081_8091333da24arow8_col1\" class=\"data row8 col1\" >860095</td>\n",
       "                        <td id=\"T_4fdc5c58_a4ce_11eb_a081_8091333da24arow8_col2\" class=\"data row8 col2\" >813537</td>\n",
       "                        <td id=\"T_4fdc5c58_a4ce_11eb_a081_8091333da24arow8_col3\" class=\"data row8 col3\" >578</td>\n",
       "                        <td id=\"T_4fdc5c58_a4ce_11eb_a081_8091333da24arow8_col4\" class=\"data row8 col4\" >0.067202</td>\n",
       "            </tr>\n",
       "            <tr>\n",
       "                        <th id=\"T_4fdc5c58_a4ce_11eb_a081_8091333da24alevel0_row9\" class=\"row_heading level0 row9\" >9</th>\n",
       "                        <td id=\"T_4fdc5c58_a4ce_11eb_a081_8091333da24arow9_col0\" class=\"data row9 col0\" >Daman & Diu</td>\n",
       "                        <td id=\"T_4fdc5c58_a4ce_11eb_a081_8091333da24arow9_col1\" class=\"data row9 col1\" >2</td>\n",
       "                        <td id=\"T_4fdc5c58_a4ce_11eb_a081_8091333da24arow9_col2\" class=\"data row9 col2\" >0</td>\n",
       "                        <td id=\"T_4fdc5c58_a4ce_11eb_a081_8091333da24arow9_col3\" class=\"data row9 col3\" >0</td>\n",
       "                        <td id=\"T_4fdc5c58_a4ce_11eb_a081_8091333da24arow9_col4\" class=\"data row9 col4\" >0.000000</td>\n",
       "            </tr>\n",
       "            <tr>\n",
       "                        <th id=\"T_4fdc5c58_a4ce_11eb_a081_8091333da24alevel0_row10\" class=\"row_heading level0 row10\" >10</th>\n",
       "                        <td id=\"T_4fdc5c58_a4ce_11eb_a081_8091333da24arow10_col0\" class=\"data row10 col0\" >Delhi</td>\n",
       "                        <td id=\"T_4fdc5c58_a4ce_11eb_a081_8091333da24arow10_col1\" class=\"data row10 col1\" >133870840</td>\n",
       "                        <td id=\"T_4fdc5c58_a4ce_11eb_a081_8091333da24arow10_col2\" class=\"data row10 col2\" >125390973</td>\n",
       "                        <td id=\"T_4fdc5c58_a4ce_11eb_a081_8091333da24arow10_col3\" class=\"data row10 col3\" >2386117</td>\n",
       "                        <td id=\"T_4fdc5c58_a4ce_11eb_a081_8091333da24arow10_col4\" class=\"data row10 col4\" >1.782402</td>\n",
       "            </tr>\n",
       "            <tr>\n",
       "                        <th id=\"T_4fdc5c58_a4ce_11eb_a081_8091333da24alevel0_row11\" class=\"row_heading level0 row11\" >11</th>\n",
       "                        <td id=\"T_4fdc5c58_a4ce_11eb_a081_8091333da24arow11_col0\" class=\"data row11 col0\" >Goa</td>\n",
       "                        <td id=\"T_4fdc5c58_a4ce_11eb_a081_8091333da24arow11_col1\" class=\"data row11 col1\" >11605973</td>\n",
       "                        <td id=\"T_4fdc5c58_a4ce_11eb_a081_8091333da24arow11_col2\" class=\"data row11 col2\" >10776817</td>\n",
       "                        <td id=\"T_4fdc5c58_a4ce_11eb_a081_8091333da24arow11_col3\" class=\"data row11 col3\" >160154</td>\n",
       "                        <td id=\"T_4fdc5c58_a4ce_11eb_a081_8091333da24arow11_col4\" class=\"data row11 col4\" >1.379927</td>\n",
       "            </tr>\n",
       "            <tr>\n",
       "                        <th id=\"T_4fdc5c58_a4ce_11eb_a081_8091333da24alevel0_row12\" class=\"row_heading level0 row12\" >12</th>\n",
       "                        <td id=\"T_4fdc5c58_a4ce_11eb_a081_8091333da24arow12_col0\" class=\"data row12 col0\" >Gujarat</td>\n",
       "                        <td id=\"T_4fdc5c58_a4ce_11eb_a081_8091333da24arow12_col1\" class=\"data row12 col1\" >57826087</td>\n",
       "                        <td id=\"T_4fdc5c58_a4ce_11eb_a081_8091333da24arow12_col2\" class=\"data row12 col2\" >52544927</td>\n",
       "                        <td id=\"T_4fdc5c58_a4ce_11eb_a081_8091333da24arow12_col3\" class=\"data row12 col3\" >1171490</td>\n",
       "                        <td id=\"T_4fdc5c58_a4ce_11eb_a081_8091333da24arow12_col4\" class=\"data row12 col4\" >2.025885</td>\n",
       "            </tr>\n",
       "            <tr>\n",
       "                        <th id=\"T_4fdc5c58_a4ce_11eb_a081_8091333da24alevel0_row13\" class=\"row_heading level0 row13\" >13</th>\n",
       "                        <td id=\"T_4fdc5c58_a4ce_11eb_a081_8091333da24arow13_col0\" class=\"data row13 col0\" >Haryana</td>\n",
       "                        <td id=\"T_4fdc5c58_a4ce_11eb_a081_8091333da24arow13_col1\" class=\"data row13 col1\" >55172910</td>\n",
       "                        <td id=\"T_4fdc5c58_a4ce_11eb_a081_8091333da24arow13_col2\" class=\"data row13 col2\" >51590433</td>\n",
       "                        <td id=\"T_4fdc5c58_a4ce_11eb_a081_8091333da24arow13_col3\" class=\"data row13 col3\" >601511</td>\n",
       "                        <td id=\"T_4fdc5c58_a4ce_11eb_a081_8091333da24arow13_col4\" class=\"data row13 col4\" >1.090229</td>\n",
       "            </tr>\n",
       "            <tr>\n",
       "                        <th id=\"T_4fdc5c58_a4ce_11eb_a081_8091333da24alevel0_row14\" class=\"row_heading level0 row14\" >14</th>\n",
       "                        <td id=\"T_4fdc5c58_a4ce_11eb_a081_8091333da24arow14_col0\" class=\"data row14 col0\" >Himachal Pradesh</td>\n",
       "                        <td id=\"T_4fdc5c58_a4ce_11eb_a081_8091333da24arow14_col1\" class=\"data row14 col1\" >10290829</td>\n",
       "                        <td id=\"T_4fdc5c58_a4ce_11eb_a081_8091333da24arow14_col2\" class=\"data row14 col2\" >9300385</td>\n",
       "                        <td id=\"T_4fdc5c58_a4ce_11eb_a081_8091333da24arow14_col3\" class=\"data row14 col3\" >164808</td>\n",
       "                        <td id=\"T_4fdc5c58_a4ce_11eb_a081_8091333da24arow14_col4\" class=\"data row14 col4\" >1.601504</td>\n",
       "            </tr>\n",
       "            <tr>\n",
       "                        <th id=\"T_4fdc5c58_a4ce_11eb_a081_8091333da24alevel0_row15\" class=\"row_heading level0 row15\" >15</th>\n",
       "                        <td id=\"T_4fdc5c58_a4ce_11eb_a081_8091333da24arow15_col0\" class=\"data row15 col0\" >Jammu and Kashmir</td>\n",
       "                        <td id=\"T_4fdc5c58_a4ce_11eb_a081_8091333da24arow15_col1\" class=\"data row15 col1\" >26816734</td>\n",
       "                        <td id=\"T_4fdc5c58_a4ce_11eb_a081_8091333da24arow15_col2\" class=\"data row15 col2\" >24541086</td>\n",
       "                        <td id=\"T_4fdc5c58_a4ce_11eb_a081_8091333da24arow15_col3\" class=\"data row15 col3\" >418146</td>\n",
       "                        <td id=\"T_4fdc5c58_a4ce_11eb_a081_8091333da24arow15_col4\" class=\"data row15 col4\" >1.559273</td>\n",
       "            </tr>\n",
       "            <tr>\n",
       "                        <th id=\"T_4fdc5c58_a4ce_11eb_a081_8091333da24alevel0_row16\" class=\"row_heading level0 row16\" >16</th>\n",
       "                        <td id=\"T_4fdc5c58_a4ce_11eb_a081_8091333da24arow16_col0\" class=\"data row16 col0\" >Jharkhand</td>\n",
       "                        <td id=\"T_4fdc5c58_a4ce_11eb_a081_8091333da24arow16_col1\" class=\"data row16 col1\" >26261351</td>\n",
       "                        <td id=\"T_4fdc5c58_a4ce_11eb_a081_8091333da24arow16_col2\" class=\"data row16 col2\" >24420671</td>\n",
       "                        <td id=\"T_4fdc5c58_a4ce_11eb_a081_8091333da24arow16_col3\" class=\"data row16 col3\" >234552</td>\n",
       "                        <td id=\"T_4fdc5c58_a4ce_11eb_a081_8091333da24arow16_col4\" class=\"data row16 col4\" >0.893145</td>\n",
       "            </tr>\n",
       "            <tr>\n",
       "                        <th id=\"T_4fdc5c58_a4ce_11eb_a081_8091333da24alevel0_row17\" class=\"row_heading level0 row17\" >17</th>\n",
       "                        <td id=\"T_4fdc5c58_a4ce_11eb_a081_8091333da24arow17_col0\" class=\"data row17 col0\" >Karnataka</td>\n",
       "                        <td id=\"T_4fdc5c58_a4ce_11eb_a081_8091333da24arow17_col1\" class=\"data row17 col1\" >208245183</td>\n",
       "                        <td id=\"T_4fdc5c58_a4ce_11eb_a081_8091333da24arow17_col2\" class=\"data row17 col2\" >191716714</td>\n",
       "                        <td id=\"T_4fdc5c58_a4ce_11eb_a081_8091333da24arow17_col3\" class=\"data row17 col3\" >2799191</td>\n",
       "                        <td id=\"T_4fdc5c58_a4ce_11eb_a081_8091333da24arow17_col4\" class=\"data row17 col4\" >1.344180</td>\n",
       "            </tr>\n",
       "            <tr>\n",
       "                        <th id=\"T_4fdc5c58_a4ce_11eb_a081_8091333da24alevel0_row18\" class=\"row_heading level0 row18\" >18</th>\n",
       "                        <td id=\"T_4fdc5c58_a4ce_11eb_a081_8091333da24arow18_col0\" class=\"data row18 col0\" >Kerala</td>\n",
       "                        <td id=\"T_4fdc5c58_a4ce_11eb_a081_8091333da24arow18_col1\" class=\"data row18 col1\" >165576234</td>\n",
       "                        <td id=\"T_4fdc5c58_a4ce_11eb_a081_8091333da24arow18_col2\" class=\"data row18 col2\" >150149814</td>\n",
       "                        <td id=\"T_4fdc5c58_a4ce_11eb_a081_8091333da24arow18_col3\" class=\"data row18 col3\" >652048</td>\n",
       "                        <td id=\"T_4fdc5c58_a4ce_11eb_a081_8091333da24arow18_col4\" class=\"data row18 col4\" >0.393805</td>\n",
       "            </tr>\n",
       "            <tr>\n",
       "                        <th id=\"T_4fdc5c58_a4ce_11eb_a081_8091333da24alevel0_row19\" class=\"row_heading level0 row19\" >19</th>\n",
       "                        <td id=\"T_4fdc5c58_a4ce_11eb_a081_8091333da24arow19_col0\" class=\"data row19 col0\" >Ladakh</td>\n",
       "                        <td id=\"T_4fdc5c58_a4ce_11eb_a081_8091333da24arow19_col1\" class=\"data row19 col1\" >2005931</td>\n",
       "                        <td id=\"T_4fdc5c58_a4ce_11eb_a081_8091333da24arow19_col2\" class=\"data row19 col2\" >1819673</td>\n",
       "                        <td id=\"T_4fdc5c58_a4ce_11eb_a081_8091333da24arow19_col3\" class=\"data row19 col3\" >25012</td>\n",
       "                        <td id=\"T_4fdc5c58_a4ce_11eb_a081_8091333da24arow19_col4\" class=\"data row19 col4\" >1.246902</td>\n",
       "            </tr>\n",
       "            <tr>\n",
       "                        <th id=\"T_4fdc5c58_a4ce_11eb_a081_8091333da24alevel0_row20\" class=\"row_heading level0 row20\" >20</th>\n",
       "                        <td id=\"T_4fdc5c58_a4ce_11eb_a081_8091333da24arow20_col0\" class=\"data row20 col0\" >Lakshadweep</td>\n",
       "                        <td id=\"T_4fdc5c58_a4ce_11eb_a081_8091333da24arow20_col1\" class=\"data row20 col1\" >44732</td>\n",
       "                        <td id=\"T_4fdc5c58_a4ce_11eb_a081_8091333da24arow20_col2\" class=\"data row20 col2\" >34046</td>\n",
       "                        <td id=\"T_4fdc5c58_a4ce_11eb_a081_8091333da24arow20_col3\" class=\"data row20 col3\" >56</td>\n",
       "                        <td id=\"T_4fdc5c58_a4ce_11eb_a081_8091333da24arow20_col4\" class=\"data row20 col4\" >0.125190</td>\n",
       "            </tr>\n",
       "            <tr>\n",
       "                        <th id=\"T_4fdc5c58_a4ce_11eb_a081_8091333da24alevel0_row21\" class=\"row_heading level0 row21\" >21</th>\n",
       "                        <td id=\"T_4fdc5c58_a4ce_11eb_a081_8091333da24arow21_col0\" class=\"data row21 col0\" >Madhya Pradesh</td>\n",
       "                        <td id=\"T_4fdc5c58_a4ce_11eb_a081_8091333da24arow21_col1\" class=\"data row21 col1\" >53706192</td>\n",
       "                        <td id=\"T_4fdc5c58_a4ce_11eb_a081_8091333da24arow21_col2\" class=\"data row21 col2\" >49102058</td>\n",
       "                        <td id=\"T_4fdc5c58_a4ce_11eb_a081_8091333da24arow21_col3\" class=\"data row21 col3\" >852536</td>\n",
       "                        <td id=\"T_4fdc5c58_a4ce_11eb_a081_8091333da24arow21_col4\" class=\"data row21 col4\" >1.587407</td>\n",
       "            </tr>\n",
       "            <tr>\n",
       "                        <th id=\"T_4fdc5c58_a4ce_11eb_a081_8091333da24alevel0_row22\" class=\"row_heading level0 row22\" >22</th>\n",
       "                        <td id=\"T_4fdc5c58_a4ce_11eb_a081_8091333da24arow22_col0\" class=\"data row22 col0\" >Maharashtra</td>\n",
       "                        <td id=\"T_4fdc5c58_a4ce_11eb_a081_8091333da24arow22_col1\" class=\"data row22 col1\" >490747435</td>\n",
       "                        <td id=\"T_4fdc5c58_a4ce_11eb_a081_8091333da24arow22_col2\" class=\"data row22 col2\" >429015359</td>\n",
       "                        <td id=\"T_4fdc5c58_a4ce_11eb_a081_8091333da24arow22_col3\" class=\"data row22 col3\" >12106217</td>\n",
       "                        <td id=\"T_4fdc5c58_a4ce_11eb_a081_8091333da24arow22_col4\" class=\"data row22 col4\" >2.466894</td>\n",
       "            </tr>\n",
       "            <tr>\n",
       "                        <th id=\"T_4fdc5c58_a4ce_11eb_a081_8091333da24alevel0_row23\" class=\"row_heading level0 row23\" >23</th>\n",
       "                        <td id=\"T_4fdc5c58_a4ce_11eb_a081_8091333da24arow23_col0\" class=\"data row23 col0\" >Manipur</td>\n",
       "                        <td id=\"T_4fdc5c58_a4ce_11eb_a081_8091333da24arow23_col1\" class=\"data row23 col1\" >5660993</td>\n",
       "                        <td id=\"T_4fdc5c58_a4ce_11eb_a081_8091333da24arow23_col2\" class=\"data row23 col2\" >5167289</td>\n",
       "                        <td id=\"T_4fdc5c58_a4ce_11eb_a081_8091333da24arow23_col3\" class=\"data row23 col3\" >63384</td>\n",
       "                        <td id=\"T_4fdc5c58_a4ce_11eb_a081_8091333da24arow23_col4\" class=\"data row23 col4\" >1.119662</td>\n",
       "            </tr>\n",
       "            <tr>\n",
       "                        <th id=\"T_4fdc5c58_a4ce_11eb_a081_8091333da24alevel0_row24\" class=\"row_heading level0 row24\" >24</th>\n",
       "                        <td id=\"T_4fdc5c58_a4ce_11eb_a081_8091333da24arow24_col0\" class=\"data row24 col0\" >Meghalaya</td>\n",
       "                        <td id=\"T_4fdc5c58_a4ce_11eb_a081_8091333da24arow24_col1\" class=\"data row24 col1\" >2706292</td>\n",
       "                        <td id=\"T_4fdc5c58_a4ce_11eb_a081_8091333da24arow24_col2\" class=\"data row24 col2\" >2471148</td>\n",
       "                        <td id=\"T_4fdc5c58_a4ce_11eb_a081_8091333da24arow24_col3\" class=\"data row24 col3\" >26830</td>\n",
       "                        <td id=\"T_4fdc5c58_a4ce_11eb_a081_8091333da24arow24_col4\" class=\"data row24 col4\" >0.991393</td>\n",
       "            </tr>\n",
       "            <tr>\n",
       "                        <th id=\"T_4fdc5c58_a4ce_11eb_a081_8091333da24alevel0_row25\" class=\"row_heading level0 row25\" >25</th>\n",
       "                        <td id=\"T_4fdc5c58_a4ce_11eb_a081_8091333da24arow25_col0\" class=\"data row25 col0\" >Mizoram</td>\n",
       "                        <td id=\"T_4fdc5c58_a4ce_11eb_a081_8091333da24arow25_col1\" class=\"data row25 col1\" >872335</td>\n",
       "                        <td id=\"T_4fdc5c58_a4ce_11eb_a081_8091333da24arow25_col2\" class=\"data row25 col2\" >802483</td>\n",
       "                        <td id=\"T_4fdc5c58_a4ce_11eb_a081_8091333da24arow25_col3\" class=\"data row25 col3\" >1430</td>\n",
       "                        <td id=\"T_4fdc5c58_a4ce_11eb_a081_8091333da24arow25_col4\" class=\"data row25 col4\" >0.163928</td>\n",
       "            </tr>\n",
       "            <tr>\n",
       "                        <th id=\"T_4fdc5c58_a4ce_11eb_a081_8091333da24alevel0_row26\" class=\"row_heading level0 row26\" >26</th>\n",
       "                        <td id=\"T_4fdc5c58_a4ce_11eb_a081_8091333da24arow26_col0\" class=\"data row26 col0\" >Nagaland</td>\n",
       "                        <td id=\"T_4fdc5c58_a4ce_11eb_a081_8091333da24arow26_col1\" class=\"data row26 col1\" >2544296</td>\n",
       "                        <td id=\"T_4fdc5c58_a4ce_11eb_a081_8091333da24arow26_col2\" class=\"data row26 col2\" >2325051</td>\n",
       "                        <td id=\"T_4fdc5c58_a4ce_11eb_a081_8091333da24arow26_col3\" class=\"data row26 col3\" >15141</td>\n",
       "                        <td id=\"T_4fdc5c58_a4ce_11eb_a081_8091333da24arow26_col4\" class=\"data row26 col4\" >0.595096</td>\n",
       "            </tr>\n",
       "            <tr>\n",
       "                        <th id=\"T_4fdc5c58_a4ce_11eb_a081_8091333da24alevel0_row27\" class=\"row_heading level0 row27\" >27</th>\n",
       "                        <td id=\"T_4fdc5c58_a4ce_11eb_a081_8091333da24arow27_col0\" class=\"data row27 col0\" >Odisha</td>\n",
       "                        <td id=\"T_4fdc5c58_a4ce_11eb_a081_8091333da24arow27_col1\" class=\"data row27 col1\" >72558356</td>\n",
       "                        <td id=\"T_4fdc5c58_a4ce_11eb_a081_8091333da24arow27_col2\" class=\"data row27 col2\" >69088320</td>\n",
       "                        <td id=\"T_4fdc5c58_a4ce_11eb_a081_8091333da24arow27_col3\" class=\"data row27 col3\" >382348</td>\n",
       "                        <td id=\"T_4fdc5c58_a4ce_11eb_a081_8091333da24arow27_col4\" class=\"data row27 col4\" >0.526952</td>\n",
       "            </tr>\n",
       "            <tr>\n",
       "                        <th id=\"T_4fdc5c58_a4ce_11eb_a081_8091333da24alevel0_row28\" class=\"row_heading level0 row28\" >28</th>\n",
       "                        <td id=\"T_4fdc5c58_a4ce_11eb_a081_8091333da24arow28_col0\" class=\"data row28 col0\" >Puducherry</td>\n",
       "                        <td id=\"T_4fdc5c58_a4ce_11eb_a081_8091333da24arow28_col1\" class=\"data row28 col1\" >8693061</td>\n",
       "                        <td id=\"T_4fdc5c58_a4ce_11eb_a081_8091333da24arow28_col2\" class=\"data row28 col2\" >8011874</td>\n",
       "                        <td id=\"T_4fdc5c58_a4ce_11eb_a081_8091333da24arow28_col3\" class=\"data row28 col3\" >145735</td>\n",
       "                        <td id=\"T_4fdc5c58_a4ce_11eb_a081_8091333da24arow28_col4\" class=\"data row28 col4\" >1.676452</td>\n",
       "            </tr>\n",
       "            <tr>\n",
       "                        <th id=\"T_4fdc5c58_a4ce_11eb_a081_8091333da24alevel0_row29\" class=\"row_heading level0 row29\" >29</th>\n",
       "                        <td id=\"T_4fdc5c58_a4ce_11eb_a081_8091333da24arow29_col0\" class=\"data row29 col0\" >Punjab</td>\n",
       "                        <td id=\"T_4fdc5c58_a4ce_11eb_a081_8091333da24arow29_col1\" class=\"data row29 col1\" >39575590</td>\n",
       "                        <td id=\"T_4fdc5c58_a4ce_11eb_a081_8091333da24arow29_col2\" class=\"data row29 col2\" >35514764</td>\n",
       "                        <td id=\"T_4fdc5c58_a4ce_11eb_a081_8091333da24arow29_col3\" class=\"data row29 col3\" >1207733</td>\n",
       "                        <td id=\"T_4fdc5c58_a4ce_11eb_a081_8091333da24arow29_col4\" class=\"data row29 col4\" >3.051712</td>\n",
       "            </tr>\n",
       "            <tr>\n",
       "                        <th id=\"T_4fdc5c58_a4ce_11eb_a081_8091333da24alevel0_row30\" class=\"row_heading level0 row30\" >30</th>\n",
       "                        <td id=\"T_4fdc5c58_a4ce_11eb_a081_8091333da24arow30_col0\" class=\"data row30 col0\" >Rajasthan</td>\n",
       "                        <td id=\"T_4fdc5c58_a4ce_11eb_a081_8091333da24arow30_col1\" class=\"data row30 col1\" >64396906</td>\n",
       "                        <td id=\"T_4fdc5c58_a4ce_11eb_a081_8091333da24arow30_col2\" class=\"data row30 col2\" >59613189</td>\n",
       "                        <td id=\"T_4fdc5c58_a4ce_11eb_a081_8091333da24arow30_col3\" class=\"data row30 col3\" >602787</td>\n",
       "                        <td id=\"T_4fdc5c58_a4ce_11eb_a081_8091333da24arow30_col4\" class=\"data row30 col4\" >0.936050</td>\n",
       "            </tr>\n",
       "            <tr>\n",
       "                        <th id=\"T_4fdc5c58_a4ce_11eb_a081_8091333da24alevel0_row31\" class=\"row_heading level0 row31\" >31</th>\n",
       "                        <td id=\"T_4fdc5c58_a4ce_11eb_a081_8091333da24arow31_col0\" class=\"data row31 col0\" >Sikkim</td>\n",
       "                        <td id=\"T_4fdc5c58_a4ce_11eb_a081_8091333da24arow31_col1\" class=\"data row31 col1\" >1212580</td>\n",
       "                        <td id=\"T_4fdc5c58_a4ce_11eb_a081_8091333da24arow31_col2\" class=\"data row31 col2\" >1105178</td>\n",
       "                        <td id=\"T_4fdc5c58_a4ce_11eb_a081_8091333da24arow31_col3\" class=\"data row31 col3\" >23680</td>\n",
       "                        <td id=\"T_4fdc5c58_a4ce_11eb_a081_8091333da24arow31_col4\" class=\"data row31 col4\" >1.952861</td>\n",
       "            </tr>\n",
       "            <tr>\n",
       "                        <th id=\"T_4fdc5c58_a4ce_11eb_a081_8091333da24alevel0_row32\" class=\"row_heading level0 row32\" >32</th>\n",
       "                        <td id=\"T_4fdc5c58_a4ce_11eb_a081_8091333da24arow32_col0\" class=\"data row32 col0\" >Tamil Nadu</td>\n",
       "                        <td id=\"T_4fdc5c58_a4ce_11eb_a081_8091333da24arow32_col1\" class=\"data row32 col1\" >197300890</td>\n",
       "                        <td id=\"T_4fdc5c58_a4ce_11eb_a081_8091333da24arow32_col2\" class=\"data row32 col2\" >185393195</td>\n",
       "                        <td id=\"T_4fdc5c58_a4ce_11eb_a081_8091333da24arow32_col3\" class=\"data row32 col3\" >2956041</td>\n",
       "                        <td id=\"T_4fdc5c58_a4ce_11eb_a081_8091333da24arow32_col4\" class=\"data row32 col4\" >1.498240</td>\n",
       "            </tr>\n",
       "            <tr>\n",
       "                        <th id=\"T_4fdc5c58_a4ce_11eb_a081_8091333da24alevel0_row33\" class=\"row_heading level0 row33\" >33</th>\n",
       "                        <td id=\"T_4fdc5c58_a4ce_11eb_a081_8091333da24arow33_col0\" class=\"data row33 col0\" >Telengana</td>\n",
       "                        <td id=\"T_4fdc5c58_a4ce_11eb_a081_8091333da24arow33_col1\" class=\"data row33 col1\" >66288256</td>\n",
       "                        <td id=\"T_4fdc5c58_a4ce_11eb_a081_8091333da24arow33_col2\" class=\"data row33 col2\" >61596239</td>\n",
       "                        <td id=\"T_4fdc5c58_a4ce_11eb_a081_8091333da24arow33_col3\" class=\"data row33 col3\" >381472</td>\n",
       "                        <td id=\"T_4fdc5c58_a4ce_11eb_a081_8091333da24arow33_col4\" class=\"data row33 col4\" >0.575474</td>\n",
       "            </tr>\n",
       "            <tr>\n",
       "                        <th id=\"T_4fdc5c58_a4ce_11eb_a081_8091333da24alevel0_row34\" class=\"row_heading level0 row34\" >34</th>\n",
       "                        <td id=\"T_4fdc5c58_a4ce_11eb_a081_8091333da24arow34_col0\" class=\"data row34 col0\" >Tripura</td>\n",
       "                        <td id=\"T_4fdc5c58_a4ce_11eb_a081_8091333da24arow34_col1\" class=\"data row34 col1\" >7561820</td>\n",
       "                        <td id=\"T_4fdc5c58_a4ce_11eb_a081_8091333da24arow34_col2\" class=\"data row34 col2\" >7015701</td>\n",
       "                        <td id=\"T_4fdc5c58_a4ce_11eb_a081_8091333da24arow34_col3\" class=\"data row34 col3\" >84418</td>\n",
       "                        <td id=\"T_4fdc5c58_a4ce_11eb_a081_8091333da24arow34_col4\" class=\"data row34 col4\" >1.116371</td>\n",
       "            </tr>\n",
       "            <tr>\n",
       "                        <th id=\"T_4fdc5c58_a4ce_11eb_a081_8091333da24alevel0_row35\" class=\"row_heading level0 row35\" >35</th>\n",
       "                        <td id=\"T_4fdc5c58_a4ce_11eb_a081_8091333da24arow35_col0\" class=\"data row35 col0\" >Unassigned</td>\n",
       "                        <td id=\"T_4fdc5c58_a4ce_11eb_a081_8091333da24arow35_col1\" class=\"data row35 col1\" >161</td>\n",
       "                        <td id=\"T_4fdc5c58_a4ce_11eb_a081_8091333da24arow35_col2\" class=\"data row35 col2\" >0</td>\n",
       "                        <td id=\"T_4fdc5c58_a4ce_11eb_a081_8091333da24arow35_col3\" class=\"data row35 col3\" >0</td>\n",
       "                        <td id=\"T_4fdc5c58_a4ce_11eb_a081_8091333da24arow35_col4\" class=\"data row35 col4\" >0.000000</td>\n",
       "            </tr>\n",
       "            <tr>\n",
       "                        <th id=\"T_4fdc5c58_a4ce_11eb_a081_8091333da24alevel0_row36\" class=\"row_heading level0 row36\" >36</th>\n",
       "                        <td id=\"T_4fdc5c58_a4ce_11eb_a081_8091333da24arow36_col0\" class=\"data row36 col0\" >Uttar Pradesh</td>\n",
       "                        <td id=\"T_4fdc5c58_a4ce_11eb_a081_8091333da24arow36_col1\" class=\"data row36 col1\" >132852608</td>\n",
       "                        <td id=\"T_4fdc5c58_a4ce_11eb_a081_8091333da24arow36_col2\" class=\"data row36 col2\" >121992547</td>\n",
       "                        <td id=\"T_4fdc5c58_a4ce_11eb_a081_8091333da24arow36_col3\" class=\"data row36 col3\" >1920013</td>\n",
       "                        <td id=\"T_4fdc5c58_a4ce_11eb_a081_8091333da24arow36_col4\" class=\"data row36 col4\" >1.445220</td>\n",
       "            </tr>\n",
       "            <tr>\n",
       "                        <th id=\"T_4fdc5c58_a4ce_11eb_a081_8091333da24alevel0_row37\" class=\"row_heading level0 row37\" >37</th>\n",
       "                        <td id=\"T_4fdc5c58_a4ce_11eb_a081_8091333da24arow37_col0\" class=\"data row37 col0\" >Uttarakhand</td>\n",
       "                        <td id=\"T_4fdc5c58_a4ce_11eb_a081_8091333da24arow37_col1\" class=\"data row37 col1\" >19080375</td>\n",
       "                        <td id=\"T_4fdc5c58_a4ce_11eb_a081_8091333da24arow37_col2\" class=\"data row37 col2\" >17471548</td>\n",
       "                        <td id=\"T_4fdc5c58_a4ce_11eb_a081_8091333da24arow37_col3\" class=\"data row37 col3\" >309957</td>\n",
       "                        <td id=\"T_4fdc5c58_a4ce_11eb_a081_8091333da24arow37_col4\" class=\"data row37 col4\" >1.624481</td>\n",
       "            </tr>\n",
       "            <tr>\n",
       "                        <th id=\"T_4fdc5c58_a4ce_11eb_a081_8091333da24alevel0_row38\" class=\"row_heading level0 row38\" >38</th>\n",
       "                        <td id=\"T_4fdc5c58_a4ce_11eb_a081_8091333da24arow38_col0\" class=\"data row38 col0\" >West Bengal</td>\n",
       "                        <td id=\"T_4fdc5c58_a4ce_11eb_a081_8091333da24arow38_col1\" class=\"data row38 col1\" >115206367</td>\n",
       "                        <td id=\"T_4fdc5c58_a4ce_11eb_a081_8091333da24arow38_col2\" class=\"data row38 col2\" >107415173</td>\n",
       "                        <td id=\"T_4fdc5c58_a4ce_11eb_a081_8091333da24arow38_col3\" class=\"data row38 col3\" >2086314</td>\n",
       "                        <td id=\"T_4fdc5c58_a4ce_11eb_a081_8091333da24arow38_col4\" class=\"data row38 col4\" >1.810936</td>\n",
       "            </tr>\n",
       "    </tbody></table>"
      ],
      "text/plain": [
       "<pandas.io.formats.style.Styler at 0x1c130ad6408>"
      ]
     },
     "execution_count": 207,
     "metadata": {},
     "output_type": "execute_result"
    }
   ],
   "source": [
    "state_wise = covid_data.groupby('State/UnionTerritory')['Confirmed','Cured','Deaths'].sum().reset_index()\n",
    "state_wise[\"Death_percentage\"] = ((state_wise[\"Deaths\"] / state_wise[\"Confirmed\"]) * 100)\n",
    "state_wise.style.background_gradient(cmap='magma')"
   ]
  },
  {
   "cell_type": "code",
   "execution_count": 208,
   "metadata": {},
   "outputs": [
    {
     "data": {
      "application/vnd.plotly.v1+json": {
       "config": {
        "plotlyServerURL": "https://plot.ly"
       },
       "data": [
        {
         "alignmentgroup": "True",
         "hovertemplate": "x=%{x}<br>y=%{y}<extra></extra>",
         "legendgroup": "",
         "marker": {
          "color": "rgb(0,0,255)"
         },
         "name": "",
         "offsetgroup": "",
         "orientation": "v",
         "showlegend": false,
         "textposition": "auto",
         "type": "bar",
         "x": [
          "Maharashtra",
          "Karnataka",
          "Andhra Pradesh",
          "Tamil Nadu",
          "Kerala",
          "Delhi",
          "Uttar Pradesh",
          "West Bengal",
          "Odisha",
          "Telengana"
         ],
         "xaxis": "x",
         "y": [
          490747435,
          208245183,
          204630098,
          197300890,
          165576234,
          133870840,
          132852608,
          115206367,
          72558356,
          66288256
         ],
         "yaxis": "y"
        }
       ],
       "layout": {
        "barmode": "relative",
        "legend": {
         "tracegroupgap": 0
        },
        "template": {
         "data": {
          "bar": [
           {
            "error_x": {
             "color": "#2a3f5f"
            },
            "error_y": {
             "color": "#2a3f5f"
            },
            "marker": {
             "line": {
              "color": "#E5ECF6",
              "width": 0.5
             }
            },
            "type": "bar"
           }
          ],
          "barpolar": [
           {
            "marker": {
             "line": {
              "color": "#E5ECF6",
              "width": 0.5
             }
            },
            "type": "barpolar"
           }
          ],
          "carpet": [
           {
            "aaxis": {
             "endlinecolor": "#2a3f5f",
             "gridcolor": "white",
             "linecolor": "white",
             "minorgridcolor": "white",
             "startlinecolor": "#2a3f5f"
            },
            "baxis": {
             "endlinecolor": "#2a3f5f",
             "gridcolor": "white",
             "linecolor": "white",
             "minorgridcolor": "white",
             "startlinecolor": "#2a3f5f"
            },
            "type": "carpet"
           }
          ],
          "choropleth": [
           {
            "colorbar": {
             "outlinewidth": 0,
             "ticks": ""
            },
            "type": "choropleth"
           }
          ],
          "contour": [
           {
            "colorbar": {
             "outlinewidth": 0,
             "ticks": ""
            },
            "colorscale": [
             [
              0,
              "#0d0887"
             ],
             [
              0.1111111111111111,
              "#46039f"
             ],
             [
              0.2222222222222222,
              "#7201a8"
             ],
             [
              0.3333333333333333,
              "#9c179e"
             ],
             [
              0.4444444444444444,
              "#bd3786"
             ],
             [
              0.5555555555555556,
              "#d8576b"
             ],
             [
              0.6666666666666666,
              "#ed7953"
             ],
             [
              0.7777777777777778,
              "#fb9f3a"
             ],
             [
              0.8888888888888888,
              "#fdca26"
             ],
             [
              1,
              "#f0f921"
             ]
            ],
            "type": "contour"
           }
          ],
          "contourcarpet": [
           {
            "colorbar": {
             "outlinewidth": 0,
             "ticks": ""
            },
            "type": "contourcarpet"
           }
          ],
          "heatmap": [
           {
            "colorbar": {
             "outlinewidth": 0,
             "ticks": ""
            },
            "colorscale": [
             [
              0,
              "#0d0887"
             ],
             [
              0.1111111111111111,
              "#46039f"
             ],
             [
              0.2222222222222222,
              "#7201a8"
             ],
             [
              0.3333333333333333,
              "#9c179e"
             ],
             [
              0.4444444444444444,
              "#bd3786"
             ],
             [
              0.5555555555555556,
              "#d8576b"
             ],
             [
              0.6666666666666666,
              "#ed7953"
             ],
             [
              0.7777777777777778,
              "#fb9f3a"
             ],
             [
              0.8888888888888888,
              "#fdca26"
             ],
             [
              1,
              "#f0f921"
             ]
            ],
            "type": "heatmap"
           }
          ],
          "heatmapgl": [
           {
            "colorbar": {
             "outlinewidth": 0,
             "ticks": ""
            },
            "colorscale": [
             [
              0,
              "#0d0887"
             ],
             [
              0.1111111111111111,
              "#46039f"
             ],
             [
              0.2222222222222222,
              "#7201a8"
             ],
             [
              0.3333333333333333,
              "#9c179e"
             ],
             [
              0.4444444444444444,
              "#bd3786"
             ],
             [
              0.5555555555555556,
              "#d8576b"
             ],
             [
              0.6666666666666666,
              "#ed7953"
             ],
             [
              0.7777777777777778,
              "#fb9f3a"
             ],
             [
              0.8888888888888888,
              "#fdca26"
             ],
             [
              1,
              "#f0f921"
             ]
            ],
            "type": "heatmapgl"
           }
          ],
          "histogram": [
           {
            "marker": {
             "colorbar": {
              "outlinewidth": 0,
              "ticks": ""
             }
            },
            "type": "histogram"
           }
          ],
          "histogram2d": [
           {
            "colorbar": {
             "outlinewidth": 0,
             "ticks": ""
            },
            "colorscale": [
             [
              0,
              "#0d0887"
             ],
             [
              0.1111111111111111,
              "#46039f"
             ],
             [
              0.2222222222222222,
              "#7201a8"
             ],
             [
              0.3333333333333333,
              "#9c179e"
             ],
             [
              0.4444444444444444,
              "#bd3786"
             ],
             [
              0.5555555555555556,
              "#d8576b"
             ],
             [
              0.6666666666666666,
              "#ed7953"
             ],
             [
              0.7777777777777778,
              "#fb9f3a"
             ],
             [
              0.8888888888888888,
              "#fdca26"
             ],
             [
              1,
              "#f0f921"
             ]
            ],
            "type": "histogram2d"
           }
          ],
          "histogram2dcontour": [
           {
            "colorbar": {
             "outlinewidth": 0,
             "ticks": ""
            },
            "colorscale": [
             [
              0,
              "#0d0887"
             ],
             [
              0.1111111111111111,
              "#46039f"
             ],
             [
              0.2222222222222222,
              "#7201a8"
             ],
             [
              0.3333333333333333,
              "#9c179e"
             ],
             [
              0.4444444444444444,
              "#bd3786"
             ],
             [
              0.5555555555555556,
              "#d8576b"
             ],
             [
              0.6666666666666666,
              "#ed7953"
             ],
             [
              0.7777777777777778,
              "#fb9f3a"
             ],
             [
              0.8888888888888888,
              "#fdca26"
             ],
             [
              1,
              "#f0f921"
             ]
            ],
            "type": "histogram2dcontour"
           }
          ],
          "mesh3d": [
           {
            "colorbar": {
             "outlinewidth": 0,
             "ticks": ""
            },
            "type": "mesh3d"
           }
          ],
          "parcoords": [
           {
            "line": {
             "colorbar": {
              "outlinewidth": 0,
              "ticks": ""
             }
            },
            "type": "parcoords"
           }
          ],
          "pie": [
           {
            "automargin": true,
            "type": "pie"
           }
          ],
          "scatter": [
           {
            "marker": {
             "colorbar": {
              "outlinewidth": 0,
              "ticks": ""
             }
            },
            "type": "scatter"
           }
          ],
          "scatter3d": [
           {
            "line": {
             "colorbar": {
              "outlinewidth": 0,
              "ticks": ""
             }
            },
            "marker": {
             "colorbar": {
              "outlinewidth": 0,
              "ticks": ""
             }
            },
            "type": "scatter3d"
           }
          ],
          "scattercarpet": [
           {
            "marker": {
             "colorbar": {
              "outlinewidth": 0,
              "ticks": ""
             }
            },
            "type": "scattercarpet"
           }
          ],
          "scattergeo": [
           {
            "marker": {
             "colorbar": {
              "outlinewidth": 0,
              "ticks": ""
             }
            },
            "type": "scattergeo"
           }
          ],
          "scattergl": [
           {
            "marker": {
             "colorbar": {
              "outlinewidth": 0,
              "ticks": ""
             }
            },
            "type": "scattergl"
           }
          ],
          "scattermapbox": [
           {
            "marker": {
             "colorbar": {
              "outlinewidth": 0,
              "ticks": ""
             }
            },
            "type": "scattermapbox"
           }
          ],
          "scatterpolar": [
           {
            "marker": {
             "colorbar": {
              "outlinewidth": 0,
              "ticks": ""
             }
            },
            "type": "scatterpolar"
           }
          ],
          "scatterpolargl": [
           {
            "marker": {
             "colorbar": {
              "outlinewidth": 0,
              "ticks": ""
             }
            },
            "type": "scatterpolargl"
           }
          ],
          "scatterternary": [
           {
            "marker": {
             "colorbar": {
              "outlinewidth": 0,
              "ticks": ""
             }
            },
            "type": "scatterternary"
           }
          ],
          "surface": [
           {
            "colorbar": {
             "outlinewidth": 0,
             "ticks": ""
            },
            "colorscale": [
             [
              0,
              "#0d0887"
             ],
             [
              0.1111111111111111,
              "#46039f"
             ],
             [
              0.2222222222222222,
              "#7201a8"
             ],
             [
              0.3333333333333333,
              "#9c179e"
             ],
             [
              0.4444444444444444,
              "#bd3786"
             ],
             [
              0.5555555555555556,
              "#d8576b"
             ],
             [
              0.6666666666666666,
              "#ed7953"
             ],
             [
              0.7777777777777778,
              "#fb9f3a"
             ],
             [
              0.8888888888888888,
              "#fdca26"
             ],
             [
              1,
              "#f0f921"
             ]
            ],
            "type": "surface"
           }
          ],
          "table": [
           {
            "cells": {
             "fill": {
              "color": "#EBF0F8"
             },
             "line": {
              "color": "white"
             }
            },
            "header": {
             "fill": {
              "color": "#C8D4E3"
             },
             "line": {
              "color": "white"
             }
            },
            "type": "table"
           }
          ]
         },
         "layout": {
          "annotationdefaults": {
           "arrowcolor": "#2a3f5f",
           "arrowhead": 0,
           "arrowwidth": 1
          },
          "autotypenumbers": "strict",
          "coloraxis": {
           "colorbar": {
            "outlinewidth": 0,
            "ticks": ""
           }
          },
          "colorscale": {
           "diverging": [
            [
             0,
             "#8e0152"
            ],
            [
             0.1,
             "#c51b7d"
            ],
            [
             0.2,
             "#de77ae"
            ],
            [
             0.3,
             "#f1b6da"
            ],
            [
             0.4,
             "#fde0ef"
            ],
            [
             0.5,
             "#f7f7f7"
            ],
            [
             0.6,
             "#e6f5d0"
            ],
            [
             0.7,
             "#b8e186"
            ],
            [
             0.8,
             "#7fbc41"
            ],
            [
             0.9,
             "#4d9221"
            ],
            [
             1,
             "#276419"
            ]
           ],
           "sequential": [
            [
             0,
             "#0d0887"
            ],
            [
             0.1111111111111111,
             "#46039f"
            ],
            [
             0.2222222222222222,
             "#7201a8"
            ],
            [
             0.3333333333333333,
             "#9c179e"
            ],
            [
             0.4444444444444444,
             "#bd3786"
            ],
            [
             0.5555555555555556,
             "#d8576b"
            ],
            [
             0.6666666666666666,
             "#ed7953"
            ],
            [
             0.7777777777777778,
             "#fb9f3a"
            ],
            [
             0.8888888888888888,
             "#fdca26"
            ],
            [
             1,
             "#f0f921"
            ]
           ],
           "sequentialminus": [
            [
             0,
             "#0d0887"
            ],
            [
             0.1111111111111111,
             "#46039f"
            ],
            [
             0.2222222222222222,
             "#7201a8"
            ],
            [
             0.3333333333333333,
             "#9c179e"
            ],
            [
             0.4444444444444444,
             "#bd3786"
            ],
            [
             0.5555555555555556,
             "#d8576b"
            ],
            [
             0.6666666666666666,
             "#ed7953"
            ],
            [
             0.7777777777777778,
             "#fb9f3a"
            ],
            [
             0.8888888888888888,
             "#fdca26"
            ],
            [
             1,
             "#f0f921"
            ]
           ]
          },
          "colorway": [
           "#636efa",
           "#EF553B",
           "#00cc96",
           "#ab63fa",
           "#FFA15A",
           "#19d3f3",
           "#FF6692",
           "#B6E880",
           "#FF97FF",
           "#FECB52"
          ],
          "font": {
           "color": "#2a3f5f"
          },
          "geo": {
           "bgcolor": "white",
           "lakecolor": "white",
           "landcolor": "#E5ECF6",
           "showlakes": true,
           "showland": true,
           "subunitcolor": "white"
          },
          "hoverlabel": {
           "align": "left"
          },
          "hovermode": "closest",
          "mapbox": {
           "style": "light"
          },
          "paper_bgcolor": "white",
          "plot_bgcolor": "#E5ECF6",
          "polar": {
           "angularaxis": {
            "gridcolor": "white",
            "linecolor": "white",
            "ticks": ""
           },
           "bgcolor": "#E5ECF6",
           "radialaxis": {
            "gridcolor": "white",
            "linecolor": "white",
            "ticks": ""
           }
          },
          "scene": {
           "xaxis": {
            "backgroundcolor": "#E5ECF6",
            "gridcolor": "white",
            "gridwidth": 2,
            "linecolor": "white",
            "showbackground": true,
            "ticks": "",
            "zerolinecolor": "white"
           },
           "yaxis": {
            "backgroundcolor": "#E5ECF6",
            "gridcolor": "white",
            "gridwidth": 2,
            "linecolor": "white",
            "showbackground": true,
            "ticks": "",
            "zerolinecolor": "white"
           },
           "zaxis": {
            "backgroundcolor": "#E5ECF6",
            "gridcolor": "white",
            "gridwidth": 2,
            "linecolor": "white",
            "showbackground": true,
            "ticks": "",
            "zerolinecolor": "white"
           }
          },
          "shapedefaults": {
           "line": {
            "color": "#2a3f5f"
           }
          },
          "ternary": {
           "aaxis": {
            "gridcolor": "white",
            "linecolor": "white",
            "ticks": ""
           },
           "baxis": {
            "gridcolor": "white",
            "linecolor": "white",
            "ticks": ""
           },
           "bgcolor": "#E5ECF6",
           "caxis": {
            "gridcolor": "white",
            "linecolor": "white",
            "ticks": ""
           }
          },
          "title": {
           "x": 0.05
          },
          "xaxis": {
           "automargin": true,
           "gridcolor": "white",
           "linecolor": "white",
           "ticks": "",
           "title": {
            "standoff": 15
           },
           "zerolinecolor": "white",
           "zerolinewidth": 2
          },
          "yaxis": {
           "automargin": true,
           "gridcolor": "white",
           "linecolor": "white",
           "ticks": "",
           "title": {
            "standoff": 15
           },
           "zerolinecolor": "white",
           "zerolinewidth": 2
          }
         }
        },
        "title": {
         "text": "Top 10 states with highest number of Confirmed cases"
        },
        "xaxis": {
         "anchor": "y",
         "domain": [
          0,
          1
         ],
         "title": {
          "text": "x"
         }
        },
        "yaxis": {
         "anchor": "x",
         "domain": [
          0,
          1
         ],
         "title": {
          "text": "y"
         }
        }
       }
      },
      "text/html": [
       "<div>                            <div id=\"154a2ead-c63f-4e3a-9e0d-8d544dcdf9c5\" class=\"plotly-graph-div\" style=\"height:525px; width:100%;\"></div>            <script type=\"text/javascript\">                require([\"plotly\"], function(Plotly) {                    window.PLOTLYENV=window.PLOTLYENV || {};                                    if (document.getElementById(\"154a2ead-c63f-4e3a-9e0d-8d544dcdf9c5\")) {                    Plotly.newPlot(                        \"154a2ead-c63f-4e3a-9e0d-8d544dcdf9c5\",                        [{\"alignmentgroup\": \"True\", \"hovertemplate\": \"x=%{x}<br>y=%{y}<extra></extra>\", \"legendgroup\": \"\", \"marker\": {\"color\": \"rgb(0,0,255)\"}, \"name\": \"\", \"offsetgroup\": \"\", \"orientation\": \"v\", \"showlegend\": false, \"textposition\": \"auto\", \"type\": \"bar\", \"x\": [\"Maharashtra\", \"Karnataka\", \"Andhra Pradesh\", \"Tamil Nadu\", \"Kerala\", \"Delhi\", \"Uttar Pradesh\", \"West Bengal\", \"Odisha\", \"Telengana\"], \"xaxis\": \"x\", \"y\": [490747435, 208245183, 204630098, 197300890, 165576234, 133870840, 132852608, 115206367, 72558356, 66288256], \"yaxis\": \"y\"}],                        {\"barmode\": \"relative\", \"legend\": {\"tracegroupgap\": 0}, \"template\": {\"data\": {\"bar\": [{\"error_x\": {\"color\": \"#2a3f5f\"}, \"error_y\": {\"color\": \"#2a3f5f\"}, \"marker\": {\"line\": {\"color\": \"#E5ECF6\", \"width\": 0.5}}, \"type\": \"bar\"}], \"barpolar\": [{\"marker\": {\"line\": {\"color\": \"#E5ECF6\", \"width\": 0.5}}, \"type\": \"barpolar\"}], \"carpet\": [{\"aaxis\": {\"endlinecolor\": \"#2a3f5f\", \"gridcolor\": \"white\", \"linecolor\": \"white\", \"minorgridcolor\": \"white\", \"startlinecolor\": \"#2a3f5f\"}, \"baxis\": {\"endlinecolor\": \"#2a3f5f\", \"gridcolor\": \"white\", \"linecolor\": \"white\", \"minorgridcolor\": \"white\", \"startlinecolor\": \"#2a3f5f\"}, \"type\": \"carpet\"}], \"choropleth\": [{\"colorbar\": {\"outlinewidth\": 0, \"ticks\": \"\"}, \"type\": \"choropleth\"}], \"contour\": [{\"colorbar\": {\"outlinewidth\": 0, \"ticks\": \"\"}, \"colorscale\": [[0.0, \"#0d0887\"], [0.1111111111111111, \"#46039f\"], [0.2222222222222222, \"#7201a8\"], [0.3333333333333333, \"#9c179e\"], [0.4444444444444444, \"#bd3786\"], [0.5555555555555556, \"#d8576b\"], [0.6666666666666666, \"#ed7953\"], [0.7777777777777778, \"#fb9f3a\"], [0.8888888888888888, \"#fdca26\"], [1.0, \"#f0f921\"]], \"type\": \"contour\"}], \"contourcarpet\": [{\"colorbar\": {\"outlinewidth\": 0, \"ticks\": \"\"}, \"type\": \"contourcarpet\"}], \"heatmap\": [{\"colorbar\": {\"outlinewidth\": 0, \"ticks\": \"\"}, \"colorscale\": [[0.0, \"#0d0887\"], [0.1111111111111111, \"#46039f\"], [0.2222222222222222, \"#7201a8\"], [0.3333333333333333, \"#9c179e\"], [0.4444444444444444, \"#bd3786\"], [0.5555555555555556, \"#d8576b\"], [0.6666666666666666, \"#ed7953\"], [0.7777777777777778, \"#fb9f3a\"], [0.8888888888888888, \"#fdca26\"], [1.0, \"#f0f921\"]], \"type\": \"heatmap\"}], \"heatmapgl\": [{\"colorbar\": {\"outlinewidth\": 0, \"ticks\": \"\"}, \"colorscale\": [[0.0, \"#0d0887\"], [0.1111111111111111, \"#46039f\"], [0.2222222222222222, \"#7201a8\"], [0.3333333333333333, \"#9c179e\"], [0.4444444444444444, \"#bd3786\"], [0.5555555555555556, \"#d8576b\"], [0.6666666666666666, \"#ed7953\"], [0.7777777777777778, \"#fb9f3a\"], [0.8888888888888888, \"#fdca26\"], [1.0, \"#f0f921\"]], \"type\": \"heatmapgl\"}], \"histogram\": [{\"marker\": {\"colorbar\": {\"outlinewidth\": 0, \"ticks\": \"\"}}, \"type\": \"histogram\"}], \"histogram2d\": [{\"colorbar\": {\"outlinewidth\": 0, \"ticks\": \"\"}, \"colorscale\": [[0.0, \"#0d0887\"], [0.1111111111111111, \"#46039f\"], [0.2222222222222222, \"#7201a8\"], [0.3333333333333333, \"#9c179e\"], [0.4444444444444444, \"#bd3786\"], [0.5555555555555556, \"#d8576b\"], [0.6666666666666666, \"#ed7953\"], [0.7777777777777778, \"#fb9f3a\"], [0.8888888888888888, \"#fdca26\"], [1.0, \"#f0f921\"]], \"type\": \"histogram2d\"}], \"histogram2dcontour\": [{\"colorbar\": {\"outlinewidth\": 0, \"ticks\": \"\"}, \"colorscale\": [[0.0, \"#0d0887\"], [0.1111111111111111, \"#46039f\"], [0.2222222222222222, \"#7201a8\"], [0.3333333333333333, \"#9c179e\"], [0.4444444444444444, \"#bd3786\"], [0.5555555555555556, \"#d8576b\"], [0.6666666666666666, \"#ed7953\"], [0.7777777777777778, \"#fb9f3a\"], [0.8888888888888888, \"#fdca26\"], [1.0, \"#f0f921\"]], \"type\": \"histogram2dcontour\"}], \"mesh3d\": [{\"colorbar\": {\"outlinewidth\": 0, \"ticks\": \"\"}, \"type\": \"mesh3d\"}], \"parcoords\": [{\"line\": {\"colorbar\": {\"outlinewidth\": 0, \"ticks\": \"\"}}, \"type\": \"parcoords\"}], \"pie\": [{\"automargin\": true, \"type\": \"pie\"}], \"scatter\": [{\"marker\": {\"colorbar\": {\"outlinewidth\": 0, \"ticks\": \"\"}}, \"type\": \"scatter\"}], \"scatter3d\": [{\"line\": {\"colorbar\": {\"outlinewidth\": 0, \"ticks\": \"\"}}, \"marker\": {\"colorbar\": {\"outlinewidth\": 0, \"ticks\": \"\"}}, \"type\": \"scatter3d\"}], \"scattercarpet\": [{\"marker\": {\"colorbar\": {\"outlinewidth\": 0, \"ticks\": \"\"}}, \"type\": \"scattercarpet\"}], \"scattergeo\": [{\"marker\": {\"colorbar\": {\"outlinewidth\": 0, \"ticks\": \"\"}}, \"type\": \"scattergeo\"}], \"scattergl\": [{\"marker\": {\"colorbar\": {\"outlinewidth\": 0, \"ticks\": \"\"}}, \"type\": \"scattergl\"}], \"scattermapbox\": [{\"marker\": {\"colorbar\": {\"outlinewidth\": 0, \"ticks\": \"\"}}, \"type\": \"scattermapbox\"}], \"scatterpolar\": [{\"marker\": {\"colorbar\": {\"outlinewidth\": 0, \"ticks\": \"\"}}, \"type\": \"scatterpolar\"}], \"scatterpolargl\": [{\"marker\": {\"colorbar\": {\"outlinewidth\": 0, \"ticks\": \"\"}}, \"type\": \"scatterpolargl\"}], \"scatterternary\": [{\"marker\": {\"colorbar\": {\"outlinewidth\": 0, \"ticks\": \"\"}}, \"type\": \"scatterternary\"}], \"surface\": [{\"colorbar\": {\"outlinewidth\": 0, \"ticks\": \"\"}, \"colorscale\": [[0.0, \"#0d0887\"], [0.1111111111111111, \"#46039f\"], [0.2222222222222222, \"#7201a8\"], [0.3333333333333333, \"#9c179e\"], [0.4444444444444444, \"#bd3786\"], [0.5555555555555556, \"#d8576b\"], [0.6666666666666666, \"#ed7953\"], [0.7777777777777778, \"#fb9f3a\"], [0.8888888888888888, \"#fdca26\"], [1.0, \"#f0f921\"]], \"type\": \"surface\"}], \"table\": [{\"cells\": {\"fill\": {\"color\": \"#EBF0F8\"}, \"line\": {\"color\": \"white\"}}, \"header\": {\"fill\": {\"color\": \"#C8D4E3\"}, \"line\": {\"color\": \"white\"}}, \"type\": \"table\"}]}, \"layout\": {\"annotationdefaults\": {\"arrowcolor\": \"#2a3f5f\", \"arrowhead\": 0, \"arrowwidth\": 1}, \"autotypenumbers\": \"strict\", \"coloraxis\": {\"colorbar\": {\"outlinewidth\": 0, \"ticks\": \"\"}}, \"colorscale\": {\"diverging\": [[0, \"#8e0152\"], [0.1, \"#c51b7d\"], [0.2, \"#de77ae\"], [0.3, \"#f1b6da\"], [0.4, \"#fde0ef\"], [0.5, \"#f7f7f7\"], [0.6, \"#e6f5d0\"], [0.7, \"#b8e186\"], [0.8, \"#7fbc41\"], [0.9, \"#4d9221\"], [1, \"#276419\"]], \"sequential\": [[0.0, \"#0d0887\"], [0.1111111111111111, \"#46039f\"], [0.2222222222222222, \"#7201a8\"], [0.3333333333333333, \"#9c179e\"], [0.4444444444444444, \"#bd3786\"], [0.5555555555555556, \"#d8576b\"], [0.6666666666666666, \"#ed7953\"], [0.7777777777777778, \"#fb9f3a\"], [0.8888888888888888, \"#fdca26\"], [1.0, \"#f0f921\"]], \"sequentialminus\": [[0.0, \"#0d0887\"], [0.1111111111111111, \"#46039f\"], [0.2222222222222222, \"#7201a8\"], [0.3333333333333333, \"#9c179e\"], [0.4444444444444444, \"#bd3786\"], [0.5555555555555556, \"#d8576b\"], [0.6666666666666666, \"#ed7953\"], [0.7777777777777778, \"#fb9f3a\"], [0.8888888888888888, \"#fdca26\"], [1.0, \"#f0f921\"]]}, \"colorway\": [\"#636efa\", \"#EF553B\", \"#00cc96\", \"#ab63fa\", \"#FFA15A\", \"#19d3f3\", \"#FF6692\", \"#B6E880\", \"#FF97FF\", \"#FECB52\"], \"font\": {\"color\": \"#2a3f5f\"}, \"geo\": {\"bgcolor\": \"white\", \"lakecolor\": \"white\", \"landcolor\": \"#E5ECF6\", \"showlakes\": true, \"showland\": true, \"subunitcolor\": \"white\"}, \"hoverlabel\": {\"align\": \"left\"}, \"hovermode\": \"closest\", \"mapbox\": {\"style\": \"light\"}, \"paper_bgcolor\": \"white\", \"plot_bgcolor\": \"#E5ECF6\", \"polar\": {\"angularaxis\": {\"gridcolor\": \"white\", \"linecolor\": \"white\", \"ticks\": \"\"}, \"bgcolor\": \"#E5ECF6\", \"radialaxis\": {\"gridcolor\": \"white\", \"linecolor\": \"white\", \"ticks\": \"\"}}, \"scene\": {\"xaxis\": {\"backgroundcolor\": \"#E5ECF6\", \"gridcolor\": \"white\", \"gridwidth\": 2, \"linecolor\": \"white\", \"showbackground\": true, \"ticks\": \"\", \"zerolinecolor\": \"white\"}, \"yaxis\": {\"backgroundcolor\": \"#E5ECF6\", \"gridcolor\": \"white\", \"gridwidth\": 2, \"linecolor\": \"white\", \"showbackground\": true, \"ticks\": \"\", \"zerolinecolor\": \"white\"}, \"zaxis\": {\"backgroundcolor\": \"#E5ECF6\", \"gridcolor\": \"white\", \"gridwidth\": 2, \"linecolor\": \"white\", \"showbackground\": true, \"ticks\": \"\", \"zerolinecolor\": \"white\"}}, \"shapedefaults\": {\"line\": {\"color\": \"#2a3f5f\"}}, \"ternary\": {\"aaxis\": {\"gridcolor\": \"white\", \"linecolor\": \"white\", \"ticks\": \"\"}, \"baxis\": {\"gridcolor\": \"white\", \"linecolor\": \"white\", \"ticks\": \"\"}, \"bgcolor\": \"#E5ECF6\", \"caxis\": {\"gridcolor\": \"white\", \"linecolor\": \"white\", \"ticks\": \"\"}}, \"title\": {\"x\": 0.05}, \"xaxis\": {\"automargin\": true, \"gridcolor\": \"white\", \"linecolor\": \"white\", \"ticks\": \"\", \"title\": {\"standoff\": 15}, \"zerolinecolor\": \"white\", \"zerolinewidth\": 2}, \"yaxis\": {\"automargin\": true, \"gridcolor\": \"white\", \"linecolor\": \"white\", \"ticks\": \"\", \"title\": {\"standoff\": 15}, \"zerolinecolor\": \"white\", \"zerolinewidth\": 2}}}, \"title\": {\"text\": \"Top 10 states with highest number of Confirmed cases\"}, \"xaxis\": {\"anchor\": \"y\", \"domain\": [0.0, 1.0], \"title\": {\"text\": \"x\"}}, \"yaxis\": {\"anchor\": \"x\", \"domain\": [0.0, 1.0], \"title\": {\"text\": \"y\"}}},                        {\"responsive\": true}                    ).then(function(){\n",
       "                            \n",
       "var gd = document.getElementById('154a2ead-c63f-4e3a-9e0d-8d544dcdf9c5');\n",
       "var x = new MutationObserver(function (mutations, observer) {{\n",
       "        var display = window.getComputedStyle(gd).display;\n",
       "        if (!display || display === 'none') {{\n",
       "            console.log([gd, 'removed!']);\n",
       "            Plotly.purge(gd);\n",
       "            observer.disconnect();\n",
       "        }}\n",
       "}});\n",
       "\n",
       "// Listen for the removal of the full notebook cells\n",
       "var notebookContainer = gd.closest('#notebook-container');\n",
       "if (notebookContainer) {{\n",
       "    x.observe(notebookContainer, {childList: true});\n",
       "}}\n",
       "\n",
       "// Listen for the clearing of the current output cell\n",
       "var outputEl = gd.closest('.output');\n",
       "if (outputEl) {{\n",
       "    x.observe(outputEl, {childList: true});\n",
       "}}\n",
       "\n",
       "                        })                };                });            </script>        </div>"
      ]
     },
     "metadata": {},
     "output_type": "display_data"
    }
   ],
   "source": [
    "px.bar(x=state_wise.nlargest(10,\"Confirmed\")[\"State/UnionTerritory\"],\n",
    "       y = state_wise.nlargest(10,\"Confirmed\")[\"Confirmed\"],\n",
    "       color_discrete_sequence=px.colors.diverging.Picnic,\n",
    "       title=\"Top 10 states with highest number of Confirmed cases\")"
   ]
  },
  {
   "cell_type": "code",
   "execution_count": 209,
   "metadata": {},
   "outputs": [
    {
     "data": {
      "application/vnd.plotly.v1+json": {
       "config": {
        "plotlyServerURL": "https://plot.ly"
       },
       "data": [
        {
         "alignmentgroup": "True",
         "hovertemplate": "x=%{x}<br>y=%{y}<extra></extra>",
         "legendgroup": "",
         "marker": {
          "color": "rgb(243, 231, 155)"
         },
         "name": "",
         "offsetgroup": "",
         "orientation": "v",
         "showlegend": false,
         "textposition": "auto",
         "type": "bar",
         "x": [
          "Maharashtra",
          "Andhra Pradesh",
          "Karnataka",
          "Tamil Nadu",
          "Kerala",
          "Delhi",
          "Uttar Pradesh",
          "West Bengal",
          "Odisha",
          "Telengana"
         ],
         "xaxis": "x",
         "y": [
          429015359,
          194086560,
          191716714,
          185393195,
          150149814,
          125390973,
          121992547,
          107415173,
          69088320,
          61596239
         ],
         "yaxis": "y"
        }
       ],
       "layout": {
        "barmode": "relative",
        "legend": {
         "tracegroupgap": 0
        },
        "template": {
         "data": {
          "bar": [
           {
            "error_x": {
             "color": "#2a3f5f"
            },
            "error_y": {
             "color": "#2a3f5f"
            },
            "marker": {
             "line": {
              "color": "#E5ECF6",
              "width": 0.5
             }
            },
            "type": "bar"
           }
          ],
          "barpolar": [
           {
            "marker": {
             "line": {
              "color": "#E5ECF6",
              "width": 0.5
             }
            },
            "type": "barpolar"
           }
          ],
          "carpet": [
           {
            "aaxis": {
             "endlinecolor": "#2a3f5f",
             "gridcolor": "white",
             "linecolor": "white",
             "minorgridcolor": "white",
             "startlinecolor": "#2a3f5f"
            },
            "baxis": {
             "endlinecolor": "#2a3f5f",
             "gridcolor": "white",
             "linecolor": "white",
             "minorgridcolor": "white",
             "startlinecolor": "#2a3f5f"
            },
            "type": "carpet"
           }
          ],
          "choropleth": [
           {
            "colorbar": {
             "outlinewidth": 0,
             "ticks": ""
            },
            "type": "choropleth"
           }
          ],
          "contour": [
           {
            "colorbar": {
             "outlinewidth": 0,
             "ticks": ""
            },
            "colorscale": [
             [
              0,
              "#0d0887"
             ],
             [
              0.1111111111111111,
              "#46039f"
             ],
             [
              0.2222222222222222,
              "#7201a8"
             ],
             [
              0.3333333333333333,
              "#9c179e"
             ],
             [
              0.4444444444444444,
              "#bd3786"
             ],
             [
              0.5555555555555556,
              "#d8576b"
             ],
             [
              0.6666666666666666,
              "#ed7953"
             ],
             [
              0.7777777777777778,
              "#fb9f3a"
             ],
             [
              0.8888888888888888,
              "#fdca26"
             ],
             [
              1,
              "#f0f921"
             ]
            ],
            "type": "contour"
           }
          ],
          "contourcarpet": [
           {
            "colorbar": {
             "outlinewidth": 0,
             "ticks": ""
            },
            "type": "contourcarpet"
           }
          ],
          "heatmap": [
           {
            "colorbar": {
             "outlinewidth": 0,
             "ticks": ""
            },
            "colorscale": [
             [
              0,
              "#0d0887"
             ],
             [
              0.1111111111111111,
              "#46039f"
             ],
             [
              0.2222222222222222,
              "#7201a8"
             ],
             [
              0.3333333333333333,
              "#9c179e"
             ],
             [
              0.4444444444444444,
              "#bd3786"
             ],
             [
              0.5555555555555556,
              "#d8576b"
             ],
             [
              0.6666666666666666,
              "#ed7953"
             ],
             [
              0.7777777777777778,
              "#fb9f3a"
             ],
             [
              0.8888888888888888,
              "#fdca26"
             ],
             [
              1,
              "#f0f921"
             ]
            ],
            "type": "heatmap"
           }
          ],
          "heatmapgl": [
           {
            "colorbar": {
             "outlinewidth": 0,
             "ticks": ""
            },
            "colorscale": [
             [
              0,
              "#0d0887"
             ],
             [
              0.1111111111111111,
              "#46039f"
             ],
             [
              0.2222222222222222,
              "#7201a8"
             ],
             [
              0.3333333333333333,
              "#9c179e"
             ],
             [
              0.4444444444444444,
              "#bd3786"
             ],
             [
              0.5555555555555556,
              "#d8576b"
             ],
             [
              0.6666666666666666,
              "#ed7953"
             ],
             [
              0.7777777777777778,
              "#fb9f3a"
             ],
             [
              0.8888888888888888,
              "#fdca26"
             ],
             [
              1,
              "#f0f921"
             ]
            ],
            "type": "heatmapgl"
           }
          ],
          "histogram": [
           {
            "marker": {
             "colorbar": {
              "outlinewidth": 0,
              "ticks": ""
             }
            },
            "type": "histogram"
           }
          ],
          "histogram2d": [
           {
            "colorbar": {
             "outlinewidth": 0,
             "ticks": ""
            },
            "colorscale": [
             [
              0,
              "#0d0887"
             ],
             [
              0.1111111111111111,
              "#46039f"
             ],
             [
              0.2222222222222222,
              "#7201a8"
             ],
             [
              0.3333333333333333,
              "#9c179e"
             ],
             [
              0.4444444444444444,
              "#bd3786"
             ],
             [
              0.5555555555555556,
              "#d8576b"
             ],
             [
              0.6666666666666666,
              "#ed7953"
             ],
             [
              0.7777777777777778,
              "#fb9f3a"
             ],
             [
              0.8888888888888888,
              "#fdca26"
             ],
             [
              1,
              "#f0f921"
             ]
            ],
            "type": "histogram2d"
           }
          ],
          "histogram2dcontour": [
           {
            "colorbar": {
             "outlinewidth": 0,
             "ticks": ""
            },
            "colorscale": [
             [
              0,
              "#0d0887"
             ],
             [
              0.1111111111111111,
              "#46039f"
             ],
             [
              0.2222222222222222,
              "#7201a8"
             ],
             [
              0.3333333333333333,
              "#9c179e"
             ],
             [
              0.4444444444444444,
              "#bd3786"
             ],
             [
              0.5555555555555556,
              "#d8576b"
             ],
             [
              0.6666666666666666,
              "#ed7953"
             ],
             [
              0.7777777777777778,
              "#fb9f3a"
             ],
             [
              0.8888888888888888,
              "#fdca26"
             ],
             [
              1,
              "#f0f921"
             ]
            ],
            "type": "histogram2dcontour"
           }
          ],
          "mesh3d": [
           {
            "colorbar": {
             "outlinewidth": 0,
             "ticks": ""
            },
            "type": "mesh3d"
           }
          ],
          "parcoords": [
           {
            "line": {
             "colorbar": {
              "outlinewidth": 0,
              "ticks": ""
             }
            },
            "type": "parcoords"
           }
          ],
          "pie": [
           {
            "automargin": true,
            "type": "pie"
           }
          ],
          "scatter": [
           {
            "marker": {
             "colorbar": {
              "outlinewidth": 0,
              "ticks": ""
             }
            },
            "type": "scatter"
           }
          ],
          "scatter3d": [
           {
            "line": {
             "colorbar": {
              "outlinewidth": 0,
              "ticks": ""
             }
            },
            "marker": {
             "colorbar": {
              "outlinewidth": 0,
              "ticks": ""
             }
            },
            "type": "scatter3d"
           }
          ],
          "scattercarpet": [
           {
            "marker": {
             "colorbar": {
              "outlinewidth": 0,
              "ticks": ""
             }
            },
            "type": "scattercarpet"
           }
          ],
          "scattergeo": [
           {
            "marker": {
             "colorbar": {
              "outlinewidth": 0,
              "ticks": ""
             }
            },
            "type": "scattergeo"
           }
          ],
          "scattergl": [
           {
            "marker": {
             "colorbar": {
              "outlinewidth": 0,
              "ticks": ""
             }
            },
            "type": "scattergl"
           }
          ],
          "scattermapbox": [
           {
            "marker": {
             "colorbar": {
              "outlinewidth": 0,
              "ticks": ""
             }
            },
            "type": "scattermapbox"
           }
          ],
          "scatterpolar": [
           {
            "marker": {
             "colorbar": {
              "outlinewidth": 0,
              "ticks": ""
             }
            },
            "type": "scatterpolar"
           }
          ],
          "scatterpolargl": [
           {
            "marker": {
             "colorbar": {
              "outlinewidth": 0,
              "ticks": ""
             }
            },
            "type": "scatterpolargl"
           }
          ],
          "scatterternary": [
           {
            "marker": {
             "colorbar": {
              "outlinewidth": 0,
              "ticks": ""
             }
            },
            "type": "scatterternary"
           }
          ],
          "surface": [
           {
            "colorbar": {
             "outlinewidth": 0,
             "ticks": ""
            },
            "colorscale": [
             [
              0,
              "#0d0887"
             ],
             [
              0.1111111111111111,
              "#46039f"
             ],
             [
              0.2222222222222222,
              "#7201a8"
             ],
             [
              0.3333333333333333,
              "#9c179e"
             ],
             [
              0.4444444444444444,
              "#bd3786"
             ],
             [
              0.5555555555555556,
              "#d8576b"
             ],
             [
              0.6666666666666666,
              "#ed7953"
             ],
             [
              0.7777777777777778,
              "#fb9f3a"
             ],
             [
              0.8888888888888888,
              "#fdca26"
             ],
             [
              1,
              "#f0f921"
             ]
            ],
            "type": "surface"
           }
          ],
          "table": [
           {
            "cells": {
             "fill": {
              "color": "#EBF0F8"
             },
             "line": {
              "color": "white"
             }
            },
            "header": {
             "fill": {
              "color": "#C8D4E3"
             },
             "line": {
              "color": "white"
             }
            },
            "type": "table"
           }
          ]
         },
         "layout": {
          "annotationdefaults": {
           "arrowcolor": "#2a3f5f",
           "arrowhead": 0,
           "arrowwidth": 1
          },
          "autotypenumbers": "strict",
          "coloraxis": {
           "colorbar": {
            "outlinewidth": 0,
            "ticks": ""
           }
          },
          "colorscale": {
           "diverging": [
            [
             0,
             "#8e0152"
            ],
            [
             0.1,
             "#c51b7d"
            ],
            [
             0.2,
             "#de77ae"
            ],
            [
             0.3,
             "#f1b6da"
            ],
            [
             0.4,
             "#fde0ef"
            ],
            [
             0.5,
             "#f7f7f7"
            ],
            [
             0.6,
             "#e6f5d0"
            ],
            [
             0.7,
             "#b8e186"
            ],
            [
             0.8,
             "#7fbc41"
            ],
            [
             0.9,
             "#4d9221"
            ],
            [
             1,
             "#276419"
            ]
           ],
           "sequential": [
            [
             0,
             "#0d0887"
            ],
            [
             0.1111111111111111,
             "#46039f"
            ],
            [
             0.2222222222222222,
             "#7201a8"
            ],
            [
             0.3333333333333333,
             "#9c179e"
            ],
            [
             0.4444444444444444,
             "#bd3786"
            ],
            [
             0.5555555555555556,
             "#d8576b"
            ],
            [
             0.6666666666666666,
             "#ed7953"
            ],
            [
             0.7777777777777778,
             "#fb9f3a"
            ],
            [
             0.8888888888888888,
             "#fdca26"
            ],
            [
             1,
             "#f0f921"
            ]
           ],
           "sequentialminus": [
            [
             0,
             "#0d0887"
            ],
            [
             0.1111111111111111,
             "#46039f"
            ],
            [
             0.2222222222222222,
             "#7201a8"
            ],
            [
             0.3333333333333333,
             "#9c179e"
            ],
            [
             0.4444444444444444,
             "#bd3786"
            ],
            [
             0.5555555555555556,
             "#d8576b"
            ],
            [
             0.6666666666666666,
             "#ed7953"
            ],
            [
             0.7777777777777778,
             "#fb9f3a"
            ],
            [
             0.8888888888888888,
             "#fdca26"
            ],
            [
             1,
             "#f0f921"
            ]
           ]
          },
          "colorway": [
           "#636efa",
           "#EF553B",
           "#00cc96",
           "#ab63fa",
           "#FFA15A",
           "#19d3f3",
           "#FF6692",
           "#B6E880",
           "#FF97FF",
           "#FECB52"
          ],
          "font": {
           "color": "#2a3f5f"
          },
          "geo": {
           "bgcolor": "white",
           "lakecolor": "white",
           "landcolor": "#E5ECF6",
           "showlakes": true,
           "showland": true,
           "subunitcolor": "white"
          },
          "hoverlabel": {
           "align": "left"
          },
          "hovermode": "closest",
          "mapbox": {
           "style": "light"
          },
          "paper_bgcolor": "white",
          "plot_bgcolor": "#E5ECF6",
          "polar": {
           "angularaxis": {
            "gridcolor": "white",
            "linecolor": "white",
            "ticks": ""
           },
           "bgcolor": "#E5ECF6",
           "radialaxis": {
            "gridcolor": "white",
            "linecolor": "white",
            "ticks": ""
           }
          },
          "scene": {
           "xaxis": {
            "backgroundcolor": "#E5ECF6",
            "gridcolor": "white",
            "gridwidth": 2,
            "linecolor": "white",
            "showbackground": true,
            "ticks": "",
            "zerolinecolor": "white"
           },
           "yaxis": {
            "backgroundcolor": "#E5ECF6",
            "gridcolor": "white",
            "gridwidth": 2,
            "linecolor": "white",
            "showbackground": true,
            "ticks": "",
            "zerolinecolor": "white"
           },
           "zaxis": {
            "backgroundcolor": "#E5ECF6",
            "gridcolor": "white",
            "gridwidth": 2,
            "linecolor": "white",
            "showbackground": true,
            "ticks": "",
            "zerolinecolor": "white"
           }
          },
          "shapedefaults": {
           "line": {
            "color": "#2a3f5f"
           }
          },
          "ternary": {
           "aaxis": {
            "gridcolor": "white",
            "linecolor": "white",
            "ticks": ""
           },
           "baxis": {
            "gridcolor": "white",
            "linecolor": "white",
            "ticks": ""
           },
           "bgcolor": "#E5ECF6",
           "caxis": {
            "gridcolor": "white",
            "linecolor": "white",
            "ticks": ""
           }
          },
          "title": {
           "x": 0.05
          },
          "xaxis": {
           "automargin": true,
           "gridcolor": "white",
           "linecolor": "white",
           "ticks": "",
           "title": {
            "standoff": 15
           },
           "zerolinecolor": "white",
           "zerolinewidth": 2
          },
          "yaxis": {
           "automargin": true,
           "gridcolor": "white",
           "linecolor": "white",
           "ticks": "",
           "title": {
            "standoff": 15
           },
           "zerolinecolor": "white",
           "zerolinewidth": 2
          }
         }
        },
        "title": {
         "text": "Top 10 states with highest number of Cured cases"
        },
        "xaxis": {
         "anchor": "y",
         "domain": [
          0,
          1
         ],
         "title": {
          "text": "x"
         }
        },
        "yaxis": {
         "anchor": "x",
         "domain": [
          0,
          1
         ],
         "title": {
          "text": "y"
         }
        }
       }
      },
      "text/html": [
       "<div>                            <div id=\"08ac4cf0-dcbc-45e1-8236-ad63c455138e\" class=\"plotly-graph-div\" style=\"height:525px; width:100%;\"></div>            <script type=\"text/javascript\">                require([\"plotly\"], function(Plotly) {                    window.PLOTLYENV=window.PLOTLYENV || {};                                    if (document.getElementById(\"08ac4cf0-dcbc-45e1-8236-ad63c455138e\")) {                    Plotly.newPlot(                        \"08ac4cf0-dcbc-45e1-8236-ad63c455138e\",                        [{\"alignmentgroup\": \"True\", \"hovertemplate\": \"x=%{x}<br>y=%{y}<extra></extra>\", \"legendgroup\": \"\", \"marker\": {\"color\": \"rgb(243, 231, 155)\"}, \"name\": \"\", \"offsetgroup\": \"\", \"orientation\": \"v\", \"showlegend\": false, \"textposition\": \"auto\", \"type\": \"bar\", \"x\": [\"Maharashtra\", \"Andhra Pradesh\", \"Karnataka\", \"Tamil Nadu\", \"Kerala\", \"Delhi\", \"Uttar Pradesh\", \"West Bengal\", \"Odisha\", \"Telengana\"], \"xaxis\": \"x\", \"y\": [429015359, 194086560, 191716714, 185393195, 150149814, 125390973, 121992547, 107415173, 69088320, 61596239], \"yaxis\": \"y\"}],                        {\"barmode\": \"relative\", \"legend\": {\"tracegroupgap\": 0}, \"template\": {\"data\": {\"bar\": [{\"error_x\": {\"color\": \"#2a3f5f\"}, \"error_y\": {\"color\": \"#2a3f5f\"}, \"marker\": {\"line\": {\"color\": \"#E5ECF6\", \"width\": 0.5}}, \"type\": \"bar\"}], \"barpolar\": [{\"marker\": {\"line\": {\"color\": \"#E5ECF6\", \"width\": 0.5}}, \"type\": \"barpolar\"}], \"carpet\": [{\"aaxis\": {\"endlinecolor\": \"#2a3f5f\", \"gridcolor\": \"white\", \"linecolor\": \"white\", \"minorgridcolor\": \"white\", \"startlinecolor\": \"#2a3f5f\"}, \"baxis\": {\"endlinecolor\": \"#2a3f5f\", \"gridcolor\": \"white\", \"linecolor\": \"white\", \"minorgridcolor\": \"white\", \"startlinecolor\": \"#2a3f5f\"}, \"type\": \"carpet\"}], \"choropleth\": [{\"colorbar\": {\"outlinewidth\": 0, \"ticks\": \"\"}, \"type\": \"choropleth\"}], \"contour\": [{\"colorbar\": {\"outlinewidth\": 0, \"ticks\": \"\"}, \"colorscale\": [[0.0, \"#0d0887\"], [0.1111111111111111, \"#46039f\"], [0.2222222222222222, \"#7201a8\"], [0.3333333333333333, \"#9c179e\"], [0.4444444444444444, \"#bd3786\"], [0.5555555555555556, \"#d8576b\"], [0.6666666666666666, \"#ed7953\"], [0.7777777777777778, \"#fb9f3a\"], [0.8888888888888888, \"#fdca26\"], [1.0, \"#f0f921\"]], \"type\": \"contour\"}], \"contourcarpet\": [{\"colorbar\": {\"outlinewidth\": 0, \"ticks\": \"\"}, \"type\": \"contourcarpet\"}], \"heatmap\": [{\"colorbar\": {\"outlinewidth\": 0, \"ticks\": \"\"}, \"colorscale\": [[0.0, \"#0d0887\"], [0.1111111111111111, \"#46039f\"], [0.2222222222222222, \"#7201a8\"], [0.3333333333333333, \"#9c179e\"], [0.4444444444444444, \"#bd3786\"], [0.5555555555555556, \"#d8576b\"], [0.6666666666666666, \"#ed7953\"], [0.7777777777777778, \"#fb9f3a\"], [0.8888888888888888, \"#fdca26\"], [1.0, \"#f0f921\"]], \"type\": \"heatmap\"}], \"heatmapgl\": [{\"colorbar\": {\"outlinewidth\": 0, \"ticks\": \"\"}, \"colorscale\": [[0.0, \"#0d0887\"], [0.1111111111111111, \"#46039f\"], [0.2222222222222222, \"#7201a8\"], [0.3333333333333333, \"#9c179e\"], [0.4444444444444444, \"#bd3786\"], [0.5555555555555556, \"#d8576b\"], [0.6666666666666666, \"#ed7953\"], [0.7777777777777778, \"#fb9f3a\"], [0.8888888888888888, \"#fdca26\"], [1.0, \"#f0f921\"]], \"type\": \"heatmapgl\"}], \"histogram\": [{\"marker\": {\"colorbar\": {\"outlinewidth\": 0, \"ticks\": \"\"}}, \"type\": \"histogram\"}], \"histogram2d\": [{\"colorbar\": {\"outlinewidth\": 0, \"ticks\": \"\"}, \"colorscale\": [[0.0, \"#0d0887\"], [0.1111111111111111, \"#46039f\"], [0.2222222222222222, \"#7201a8\"], [0.3333333333333333, \"#9c179e\"], [0.4444444444444444, \"#bd3786\"], [0.5555555555555556, \"#d8576b\"], [0.6666666666666666, \"#ed7953\"], [0.7777777777777778, \"#fb9f3a\"], [0.8888888888888888, \"#fdca26\"], [1.0, \"#f0f921\"]], \"type\": \"histogram2d\"}], \"histogram2dcontour\": [{\"colorbar\": {\"outlinewidth\": 0, \"ticks\": \"\"}, \"colorscale\": [[0.0, \"#0d0887\"], [0.1111111111111111, \"#46039f\"], [0.2222222222222222, \"#7201a8\"], [0.3333333333333333, \"#9c179e\"], [0.4444444444444444, \"#bd3786\"], [0.5555555555555556, \"#d8576b\"], [0.6666666666666666, \"#ed7953\"], [0.7777777777777778, \"#fb9f3a\"], [0.8888888888888888, \"#fdca26\"], [1.0, \"#f0f921\"]], \"type\": \"histogram2dcontour\"}], \"mesh3d\": [{\"colorbar\": {\"outlinewidth\": 0, \"ticks\": \"\"}, \"type\": \"mesh3d\"}], \"parcoords\": [{\"line\": {\"colorbar\": {\"outlinewidth\": 0, \"ticks\": \"\"}}, \"type\": \"parcoords\"}], \"pie\": [{\"automargin\": true, \"type\": \"pie\"}], \"scatter\": [{\"marker\": {\"colorbar\": {\"outlinewidth\": 0, \"ticks\": \"\"}}, \"type\": \"scatter\"}], \"scatter3d\": [{\"line\": {\"colorbar\": {\"outlinewidth\": 0, \"ticks\": \"\"}}, \"marker\": {\"colorbar\": {\"outlinewidth\": 0, \"ticks\": \"\"}}, \"type\": \"scatter3d\"}], \"scattercarpet\": [{\"marker\": {\"colorbar\": {\"outlinewidth\": 0, \"ticks\": \"\"}}, \"type\": \"scattercarpet\"}], \"scattergeo\": [{\"marker\": {\"colorbar\": {\"outlinewidth\": 0, \"ticks\": \"\"}}, \"type\": \"scattergeo\"}], \"scattergl\": [{\"marker\": {\"colorbar\": {\"outlinewidth\": 0, \"ticks\": \"\"}}, \"type\": \"scattergl\"}], \"scattermapbox\": [{\"marker\": {\"colorbar\": {\"outlinewidth\": 0, \"ticks\": \"\"}}, \"type\": \"scattermapbox\"}], \"scatterpolar\": [{\"marker\": {\"colorbar\": {\"outlinewidth\": 0, \"ticks\": \"\"}}, \"type\": \"scatterpolar\"}], \"scatterpolargl\": [{\"marker\": {\"colorbar\": {\"outlinewidth\": 0, \"ticks\": \"\"}}, \"type\": \"scatterpolargl\"}], \"scatterternary\": [{\"marker\": {\"colorbar\": {\"outlinewidth\": 0, \"ticks\": \"\"}}, \"type\": \"scatterternary\"}], \"surface\": [{\"colorbar\": {\"outlinewidth\": 0, \"ticks\": \"\"}, \"colorscale\": [[0.0, \"#0d0887\"], [0.1111111111111111, \"#46039f\"], [0.2222222222222222, \"#7201a8\"], [0.3333333333333333, \"#9c179e\"], [0.4444444444444444, \"#bd3786\"], [0.5555555555555556, \"#d8576b\"], [0.6666666666666666, \"#ed7953\"], [0.7777777777777778, \"#fb9f3a\"], [0.8888888888888888, \"#fdca26\"], [1.0, \"#f0f921\"]], \"type\": \"surface\"}], \"table\": [{\"cells\": {\"fill\": {\"color\": \"#EBF0F8\"}, \"line\": {\"color\": \"white\"}}, \"header\": {\"fill\": {\"color\": \"#C8D4E3\"}, \"line\": {\"color\": \"white\"}}, \"type\": \"table\"}]}, \"layout\": {\"annotationdefaults\": {\"arrowcolor\": \"#2a3f5f\", \"arrowhead\": 0, \"arrowwidth\": 1}, \"autotypenumbers\": \"strict\", \"coloraxis\": {\"colorbar\": {\"outlinewidth\": 0, \"ticks\": \"\"}}, \"colorscale\": {\"diverging\": [[0, \"#8e0152\"], [0.1, \"#c51b7d\"], [0.2, \"#de77ae\"], [0.3, \"#f1b6da\"], [0.4, \"#fde0ef\"], [0.5, \"#f7f7f7\"], [0.6, \"#e6f5d0\"], [0.7, \"#b8e186\"], [0.8, \"#7fbc41\"], [0.9, \"#4d9221\"], [1, \"#276419\"]], \"sequential\": [[0.0, \"#0d0887\"], [0.1111111111111111, \"#46039f\"], [0.2222222222222222, \"#7201a8\"], [0.3333333333333333, \"#9c179e\"], [0.4444444444444444, \"#bd3786\"], [0.5555555555555556, \"#d8576b\"], [0.6666666666666666, \"#ed7953\"], [0.7777777777777778, \"#fb9f3a\"], [0.8888888888888888, \"#fdca26\"], [1.0, \"#f0f921\"]], \"sequentialminus\": [[0.0, \"#0d0887\"], [0.1111111111111111, \"#46039f\"], [0.2222222222222222, \"#7201a8\"], [0.3333333333333333, \"#9c179e\"], [0.4444444444444444, \"#bd3786\"], [0.5555555555555556, \"#d8576b\"], [0.6666666666666666, \"#ed7953\"], [0.7777777777777778, \"#fb9f3a\"], [0.8888888888888888, \"#fdca26\"], [1.0, \"#f0f921\"]]}, \"colorway\": [\"#636efa\", \"#EF553B\", \"#00cc96\", \"#ab63fa\", \"#FFA15A\", \"#19d3f3\", \"#FF6692\", \"#B6E880\", \"#FF97FF\", \"#FECB52\"], \"font\": {\"color\": \"#2a3f5f\"}, \"geo\": {\"bgcolor\": \"white\", \"lakecolor\": \"white\", \"landcolor\": \"#E5ECF6\", \"showlakes\": true, \"showland\": true, \"subunitcolor\": \"white\"}, \"hoverlabel\": {\"align\": \"left\"}, \"hovermode\": \"closest\", \"mapbox\": {\"style\": \"light\"}, \"paper_bgcolor\": \"white\", \"plot_bgcolor\": \"#E5ECF6\", \"polar\": {\"angularaxis\": {\"gridcolor\": \"white\", \"linecolor\": \"white\", \"ticks\": \"\"}, \"bgcolor\": \"#E5ECF6\", \"radialaxis\": {\"gridcolor\": \"white\", \"linecolor\": \"white\", \"ticks\": \"\"}}, \"scene\": {\"xaxis\": {\"backgroundcolor\": \"#E5ECF6\", \"gridcolor\": \"white\", \"gridwidth\": 2, \"linecolor\": \"white\", \"showbackground\": true, \"ticks\": \"\", \"zerolinecolor\": \"white\"}, \"yaxis\": {\"backgroundcolor\": \"#E5ECF6\", \"gridcolor\": \"white\", \"gridwidth\": 2, \"linecolor\": \"white\", \"showbackground\": true, \"ticks\": \"\", \"zerolinecolor\": \"white\"}, \"zaxis\": {\"backgroundcolor\": \"#E5ECF6\", \"gridcolor\": \"white\", \"gridwidth\": 2, \"linecolor\": \"white\", \"showbackground\": true, \"ticks\": \"\", \"zerolinecolor\": \"white\"}}, \"shapedefaults\": {\"line\": {\"color\": \"#2a3f5f\"}}, \"ternary\": {\"aaxis\": {\"gridcolor\": \"white\", \"linecolor\": \"white\", \"ticks\": \"\"}, \"baxis\": {\"gridcolor\": \"white\", \"linecolor\": \"white\", \"ticks\": \"\"}, \"bgcolor\": \"#E5ECF6\", \"caxis\": {\"gridcolor\": \"white\", \"linecolor\": \"white\", \"ticks\": \"\"}}, \"title\": {\"x\": 0.05}, \"xaxis\": {\"automargin\": true, \"gridcolor\": \"white\", \"linecolor\": \"white\", \"ticks\": \"\", \"title\": {\"standoff\": 15}, \"zerolinecolor\": \"white\", \"zerolinewidth\": 2}, \"yaxis\": {\"automargin\": true, \"gridcolor\": \"white\", \"linecolor\": \"white\", \"ticks\": \"\", \"title\": {\"standoff\": 15}, \"zerolinecolor\": \"white\", \"zerolinewidth\": 2}}}, \"title\": {\"text\": \"Top 10 states with highest number of Cured cases\"}, \"xaxis\": {\"anchor\": \"y\", \"domain\": [0.0, 1.0], \"title\": {\"text\": \"x\"}}, \"yaxis\": {\"anchor\": \"x\", \"domain\": [0.0, 1.0], \"title\": {\"text\": \"y\"}}},                        {\"responsive\": true}                    ).then(function(){\n",
       "                            \n",
       "var gd = document.getElementById('08ac4cf0-dcbc-45e1-8236-ad63c455138e');\n",
       "var x = new MutationObserver(function (mutations, observer) {{\n",
       "        var display = window.getComputedStyle(gd).display;\n",
       "        if (!display || display === 'none') {{\n",
       "            console.log([gd, 'removed!']);\n",
       "            Plotly.purge(gd);\n",
       "            observer.disconnect();\n",
       "        }}\n",
       "}});\n",
       "\n",
       "// Listen for the removal of the full notebook cells\n",
       "var notebookContainer = gd.closest('#notebook-container');\n",
       "if (notebookContainer) {{\n",
       "    x.observe(notebookContainer, {childList: true});\n",
       "}}\n",
       "\n",
       "// Listen for the clearing of the current output cell\n",
       "var outputEl = gd.closest('.output');\n",
       "if (outputEl) {{\n",
       "    x.observe(outputEl, {childList: true});\n",
       "}}\n",
       "\n",
       "                        })                };                });            </script>        </div>"
      ]
     },
     "metadata": {},
     "output_type": "display_data"
    }
   ],
   "source": [
    "px.bar(x=state_wise.nlargest(10,\"Cured\")[\"State/UnionTerritory\"],\n",
    "       y = state_wise.nlargest(10,\"Cured\")[\"Cured\"],\n",
    "       color_discrete_sequence=px.colors.sequential.Sunset,\n",
    "       title=\"Top 10 states with highest number of Cured cases\")"
   ]
  },
  {
   "cell_type": "code",
   "execution_count": 210,
   "metadata": {},
   "outputs": [
    {
     "data": {
      "application/vnd.plotly.v1+json": {
       "config": {
        "plotlyServerURL": "https://plot.ly"
       },
       "data": [
        {
         "alignmentgroup": "True",
         "hovertemplate": "x=%{x}<br>y=%{y}<extra></extra>",
         "legendgroup": "",
         "marker": {
          "color": "rgb(20, 29, 67)"
         },
         "name": "",
         "offsetgroup": "",
         "orientation": "v",
         "showlegend": false,
         "textposition": "auto",
         "type": "bar",
         "x": [
          "Maharashtra",
          "Tamil Nadu",
          "Karnataka",
          "Delhi",
          "West Bengal",
          "Uttar Pradesh",
          "Andhra Pradesh",
          "Punjab",
          "Gujarat",
          "Madhya Pradesh"
         ],
         "xaxis": "x",
         "y": [
          12106217,
          2956041,
          2799191,
          2386117,
          2086314,
          1920013,
          1676597,
          1207733,
          1171490,
          852536
         ],
         "yaxis": "y"
        }
       ],
       "layout": {
        "barmode": "relative",
        "legend": {
         "tracegroupgap": 0
        },
        "template": {
         "data": {
          "bar": [
           {
            "error_x": {
             "color": "#2a3f5f"
            },
            "error_y": {
             "color": "#2a3f5f"
            },
            "marker": {
             "line": {
              "color": "#E5ECF6",
              "width": 0.5
             }
            },
            "type": "bar"
           }
          ],
          "barpolar": [
           {
            "marker": {
             "line": {
              "color": "#E5ECF6",
              "width": 0.5
             }
            },
            "type": "barpolar"
           }
          ],
          "carpet": [
           {
            "aaxis": {
             "endlinecolor": "#2a3f5f",
             "gridcolor": "white",
             "linecolor": "white",
             "minorgridcolor": "white",
             "startlinecolor": "#2a3f5f"
            },
            "baxis": {
             "endlinecolor": "#2a3f5f",
             "gridcolor": "white",
             "linecolor": "white",
             "minorgridcolor": "white",
             "startlinecolor": "#2a3f5f"
            },
            "type": "carpet"
           }
          ],
          "choropleth": [
           {
            "colorbar": {
             "outlinewidth": 0,
             "ticks": ""
            },
            "type": "choropleth"
           }
          ],
          "contour": [
           {
            "colorbar": {
             "outlinewidth": 0,
             "ticks": ""
            },
            "colorscale": [
             [
              0,
              "#0d0887"
             ],
             [
              0.1111111111111111,
              "#46039f"
             ],
             [
              0.2222222222222222,
              "#7201a8"
             ],
             [
              0.3333333333333333,
              "#9c179e"
             ],
             [
              0.4444444444444444,
              "#bd3786"
             ],
             [
              0.5555555555555556,
              "#d8576b"
             ],
             [
              0.6666666666666666,
              "#ed7953"
             ],
             [
              0.7777777777777778,
              "#fb9f3a"
             ],
             [
              0.8888888888888888,
              "#fdca26"
             ],
             [
              1,
              "#f0f921"
             ]
            ],
            "type": "contour"
           }
          ],
          "contourcarpet": [
           {
            "colorbar": {
             "outlinewidth": 0,
             "ticks": ""
            },
            "type": "contourcarpet"
           }
          ],
          "heatmap": [
           {
            "colorbar": {
             "outlinewidth": 0,
             "ticks": ""
            },
            "colorscale": [
             [
              0,
              "#0d0887"
             ],
             [
              0.1111111111111111,
              "#46039f"
             ],
             [
              0.2222222222222222,
              "#7201a8"
             ],
             [
              0.3333333333333333,
              "#9c179e"
             ],
             [
              0.4444444444444444,
              "#bd3786"
             ],
             [
              0.5555555555555556,
              "#d8576b"
             ],
             [
              0.6666666666666666,
              "#ed7953"
             ],
             [
              0.7777777777777778,
              "#fb9f3a"
             ],
             [
              0.8888888888888888,
              "#fdca26"
             ],
             [
              1,
              "#f0f921"
             ]
            ],
            "type": "heatmap"
           }
          ],
          "heatmapgl": [
           {
            "colorbar": {
             "outlinewidth": 0,
             "ticks": ""
            },
            "colorscale": [
             [
              0,
              "#0d0887"
             ],
             [
              0.1111111111111111,
              "#46039f"
             ],
             [
              0.2222222222222222,
              "#7201a8"
             ],
             [
              0.3333333333333333,
              "#9c179e"
             ],
             [
              0.4444444444444444,
              "#bd3786"
             ],
             [
              0.5555555555555556,
              "#d8576b"
             ],
             [
              0.6666666666666666,
              "#ed7953"
             ],
             [
              0.7777777777777778,
              "#fb9f3a"
             ],
             [
              0.8888888888888888,
              "#fdca26"
             ],
             [
              1,
              "#f0f921"
             ]
            ],
            "type": "heatmapgl"
           }
          ],
          "histogram": [
           {
            "marker": {
             "colorbar": {
              "outlinewidth": 0,
              "ticks": ""
             }
            },
            "type": "histogram"
           }
          ],
          "histogram2d": [
           {
            "colorbar": {
             "outlinewidth": 0,
             "ticks": ""
            },
            "colorscale": [
             [
              0,
              "#0d0887"
             ],
             [
              0.1111111111111111,
              "#46039f"
             ],
             [
              0.2222222222222222,
              "#7201a8"
             ],
             [
              0.3333333333333333,
              "#9c179e"
             ],
             [
              0.4444444444444444,
              "#bd3786"
             ],
             [
              0.5555555555555556,
              "#d8576b"
             ],
             [
              0.6666666666666666,
              "#ed7953"
             ],
             [
              0.7777777777777778,
              "#fb9f3a"
             ],
             [
              0.8888888888888888,
              "#fdca26"
             ],
             [
              1,
              "#f0f921"
             ]
            ],
            "type": "histogram2d"
           }
          ],
          "histogram2dcontour": [
           {
            "colorbar": {
             "outlinewidth": 0,
             "ticks": ""
            },
            "colorscale": [
             [
              0,
              "#0d0887"
             ],
             [
              0.1111111111111111,
              "#46039f"
             ],
             [
              0.2222222222222222,
              "#7201a8"
             ],
             [
              0.3333333333333333,
              "#9c179e"
             ],
             [
              0.4444444444444444,
              "#bd3786"
             ],
             [
              0.5555555555555556,
              "#d8576b"
             ],
             [
              0.6666666666666666,
              "#ed7953"
             ],
             [
              0.7777777777777778,
              "#fb9f3a"
             ],
             [
              0.8888888888888888,
              "#fdca26"
             ],
             [
              1,
              "#f0f921"
             ]
            ],
            "type": "histogram2dcontour"
           }
          ],
          "mesh3d": [
           {
            "colorbar": {
             "outlinewidth": 0,
             "ticks": ""
            },
            "type": "mesh3d"
           }
          ],
          "parcoords": [
           {
            "line": {
             "colorbar": {
              "outlinewidth": 0,
              "ticks": ""
             }
            },
            "type": "parcoords"
           }
          ],
          "pie": [
           {
            "automargin": true,
            "type": "pie"
           }
          ],
          "scatter": [
           {
            "marker": {
             "colorbar": {
              "outlinewidth": 0,
              "ticks": ""
             }
            },
            "type": "scatter"
           }
          ],
          "scatter3d": [
           {
            "line": {
             "colorbar": {
              "outlinewidth": 0,
              "ticks": ""
             }
            },
            "marker": {
             "colorbar": {
              "outlinewidth": 0,
              "ticks": ""
             }
            },
            "type": "scatter3d"
           }
          ],
          "scattercarpet": [
           {
            "marker": {
             "colorbar": {
              "outlinewidth": 0,
              "ticks": ""
             }
            },
            "type": "scattercarpet"
           }
          ],
          "scattergeo": [
           {
            "marker": {
             "colorbar": {
              "outlinewidth": 0,
              "ticks": ""
             }
            },
            "type": "scattergeo"
           }
          ],
          "scattergl": [
           {
            "marker": {
             "colorbar": {
              "outlinewidth": 0,
              "ticks": ""
             }
            },
            "type": "scattergl"
           }
          ],
          "scattermapbox": [
           {
            "marker": {
             "colorbar": {
              "outlinewidth": 0,
              "ticks": ""
             }
            },
            "type": "scattermapbox"
           }
          ],
          "scatterpolar": [
           {
            "marker": {
             "colorbar": {
              "outlinewidth": 0,
              "ticks": ""
             }
            },
            "type": "scatterpolar"
           }
          ],
          "scatterpolargl": [
           {
            "marker": {
             "colorbar": {
              "outlinewidth": 0,
              "ticks": ""
             }
            },
            "type": "scatterpolargl"
           }
          ],
          "scatterternary": [
           {
            "marker": {
             "colorbar": {
              "outlinewidth": 0,
              "ticks": ""
             }
            },
            "type": "scatterternary"
           }
          ],
          "surface": [
           {
            "colorbar": {
             "outlinewidth": 0,
             "ticks": ""
            },
            "colorscale": [
             [
              0,
              "#0d0887"
             ],
             [
              0.1111111111111111,
              "#46039f"
             ],
             [
              0.2222222222222222,
              "#7201a8"
             ],
             [
              0.3333333333333333,
              "#9c179e"
             ],
             [
              0.4444444444444444,
              "#bd3786"
             ],
             [
              0.5555555555555556,
              "#d8576b"
             ],
             [
              0.6666666666666666,
              "#ed7953"
             ],
             [
              0.7777777777777778,
              "#fb9f3a"
             ],
             [
              0.8888888888888888,
              "#fdca26"
             ],
             [
              1,
              "#f0f921"
             ]
            ],
            "type": "surface"
           }
          ],
          "table": [
           {
            "cells": {
             "fill": {
              "color": "#EBF0F8"
             },
             "line": {
              "color": "white"
             }
            },
            "header": {
             "fill": {
              "color": "#C8D4E3"
             },
             "line": {
              "color": "white"
             }
            },
            "type": "table"
           }
          ]
         },
         "layout": {
          "annotationdefaults": {
           "arrowcolor": "#2a3f5f",
           "arrowhead": 0,
           "arrowwidth": 1
          },
          "autotypenumbers": "strict",
          "coloraxis": {
           "colorbar": {
            "outlinewidth": 0,
            "ticks": ""
           }
          },
          "colorscale": {
           "diverging": [
            [
             0,
             "#8e0152"
            ],
            [
             0.1,
             "#c51b7d"
            ],
            [
             0.2,
             "#de77ae"
            ],
            [
             0.3,
             "#f1b6da"
            ],
            [
             0.4,
             "#fde0ef"
            ],
            [
             0.5,
             "#f7f7f7"
            ],
            [
             0.6,
             "#e6f5d0"
            ],
            [
             0.7,
             "#b8e186"
            ],
            [
             0.8,
             "#7fbc41"
            ],
            [
             0.9,
             "#4d9221"
            ],
            [
             1,
             "#276419"
            ]
           ],
           "sequential": [
            [
             0,
             "#0d0887"
            ],
            [
             0.1111111111111111,
             "#46039f"
            ],
            [
             0.2222222222222222,
             "#7201a8"
            ],
            [
             0.3333333333333333,
             "#9c179e"
            ],
            [
             0.4444444444444444,
             "#bd3786"
            ],
            [
             0.5555555555555556,
             "#d8576b"
            ],
            [
             0.6666666666666666,
             "#ed7953"
            ],
            [
             0.7777777777777778,
             "#fb9f3a"
            ],
            [
             0.8888888888888888,
             "#fdca26"
            ],
            [
             1,
             "#f0f921"
            ]
           ],
           "sequentialminus": [
            [
             0,
             "#0d0887"
            ],
            [
             0.1111111111111111,
             "#46039f"
            ],
            [
             0.2222222222222222,
             "#7201a8"
            ],
            [
             0.3333333333333333,
             "#9c179e"
            ],
            [
             0.4444444444444444,
             "#bd3786"
            ],
            [
             0.5555555555555556,
             "#d8576b"
            ],
            [
             0.6666666666666666,
             "#ed7953"
            ],
            [
             0.7777777777777778,
             "#fb9f3a"
            ],
            [
             0.8888888888888888,
             "#fdca26"
            ],
            [
             1,
             "#f0f921"
            ]
           ]
          },
          "colorway": [
           "#636efa",
           "#EF553B",
           "#00cc96",
           "#ab63fa",
           "#FFA15A",
           "#19d3f3",
           "#FF6692",
           "#B6E880",
           "#FF97FF",
           "#FECB52"
          ],
          "font": {
           "color": "#2a3f5f"
          },
          "geo": {
           "bgcolor": "white",
           "lakecolor": "white",
           "landcolor": "#E5ECF6",
           "showlakes": true,
           "showland": true,
           "subunitcolor": "white"
          },
          "hoverlabel": {
           "align": "left"
          },
          "hovermode": "closest",
          "mapbox": {
           "style": "light"
          },
          "paper_bgcolor": "white",
          "plot_bgcolor": "#E5ECF6",
          "polar": {
           "angularaxis": {
            "gridcolor": "white",
            "linecolor": "white",
            "ticks": ""
           },
           "bgcolor": "#E5ECF6",
           "radialaxis": {
            "gridcolor": "white",
            "linecolor": "white",
            "ticks": ""
           }
          },
          "scene": {
           "xaxis": {
            "backgroundcolor": "#E5ECF6",
            "gridcolor": "white",
            "gridwidth": 2,
            "linecolor": "white",
            "showbackground": true,
            "ticks": "",
            "zerolinecolor": "white"
           },
           "yaxis": {
            "backgroundcolor": "#E5ECF6",
            "gridcolor": "white",
            "gridwidth": 2,
            "linecolor": "white",
            "showbackground": true,
            "ticks": "",
            "zerolinecolor": "white"
           },
           "zaxis": {
            "backgroundcolor": "#E5ECF6",
            "gridcolor": "white",
            "gridwidth": 2,
            "linecolor": "white",
            "showbackground": true,
            "ticks": "",
            "zerolinecolor": "white"
           }
          },
          "shapedefaults": {
           "line": {
            "color": "#2a3f5f"
           }
          },
          "ternary": {
           "aaxis": {
            "gridcolor": "white",
            "linecolor": "white",
            "ticks": ""
           },
           "baxis": {
            "gridcolor": "white",
            "linecolor": "white",
            "ticks": ""
           },
           "bgcolor": "#E5ECF6",
           "caxis": {
            "gridcolor": "white",
            "linecolor": "white",
            "ticks": ""
           }
          },
          "title": {
           "x": 0.05
          },
          "xaxis": {
           "automargin": true,
           "gridcolor": "white",
           "linecolor": "white",
           "ticks": "",
           "title": {
            "standoff": 15
           },
           "zerolinecolor": "white",
           "zerolinewidth": 2
          },
          "yaxis": {
           "automargin": true,
           "gridcolor": "white",
           "linecolor": "white",
           "ticks": "",
           "title": {
            "standoff": 15
           },
           "zerolinecolor": "white",
           "zerolinewidth": 2
          }
         }
        },
        "title": {
         "text": "Top 10 states with highest number of Deaths"
        },
        "xaxis": {
         "anchor": "y",
         "domain": [
          0,
          1
         ],
         "title": {
          "text": "x"
         }
        },
        "yaxis": {
         "anchor": "x",
         "domain": [
          0,
          1
         ],
         "title": {
          "text": "y"
         }
        }
       }
      },
      "text/html": [
       "<div>                            <div id=\"a8416a46-f85f-4b4b-b2c1-f678b0d00de8\" class=\"plotly-graph-div\" style=\"height:525px; width:100%;\"></div>            <script type=\"text/javascript\">                require([\"plotly\"], function(Plotly) {                    window.PLOTLYENV=window.PLOTLYENV || {};                                    if (document.getElementById(\"a8416a46-f85f-4b4b-b2c1-f678b0d00de8\")) {                    Plotly.newPlot(                        \"a8416a46-f85f-4b4b-b2c1-f678b0d00de8\",                        [{\"alignmentgroup\": \"True\", \"hovertemplate\": \"x=%{x}<br>y=%{y}<extra></extra>\", \"legendgroup\": \"\", \"marker\": {\"color\": \"rgb(20, 29, 67)\"}, \"name\": \"\", \"offsetgroup\": \"\", \"orientation\": \"v\", \"showlegend\": false, \"textposition\": \"auto\", \"type\": \"bar\", \"x\": [\"Maharashtra\", \"Tamil Nadu\", \"Karnataka\", \"Delhi\", \"West Bengal\", \"Uttar Pradesh\", \"Andhra Pradesh\", \"Punjab\", \"Gujarat\", \"Madhya Pradesh\"], \"xaxis\": \"x\", \"y\": [12106217, 2956041, 2799191, 2386117, 2086314, 1920013, 1676597, 1207733, 1171490, 852536], \"yaxis\": \"y\"}],                        {\"barmode\": \"relative\", \"legend\": {\"tracegroupgap\": 0}, \"template\": {\"data\": {\"bar\": [{\"error_x\": {\"color\": \"#2a3f5f\"}, \"error_y\": {\"color\": \"#2a3f5f\"}, \"marker\": {\"line\": {\"color\": \"#E5ECF6\", \"width\": 0.5}}, \"type\": \"bar\"}], \"barpolar\": [{\"marker\": {\"line\": {\"color\": \"#E5ECF6\", \"width\": 0.5}}, \"type\": \"barpolar\"}], \"carpet\": [{\"aaxis\": {\"endlinecolor\": \"#2a3f5f\", \"gridcolor\": \"white\", \"linecolor\": \"white\", \"minorgridcolor\": \"white\", \"startlinecolor\": \"#2a3f5f\"}, \"baxis\": {\"endlinecolor\": \"#2a3f5f\", \"gridcolor\": \"white\", \"linecolor\": \"white\", \"minorgridcolor\": \"white\", \"startlinecolor\": \"#2a3f5f\"}, \"type\": \"carpet\"}], \"choropleth\": [{\"colorbar\": {\"outlinewidth\": 0, \"ticks\": \"\"}, \"type\": \"choropleth\"}], \"contour\": [{\"colorbar\": {\"outlinewidth\": 0, \"ticks\": \"\"}, \"colorscale\": [[0.0, \"#0d0887\"], [0.1111111111111111, \"#46039f\"], [0.2222222222222222, \"#7201a8\"], [0.3333333333333333, \"#9c179e\"], [0.4444444444444444, \"#bd3786\"], [0.5555555555555556, \"#d8576b\"], [0.6666666666666666, \"#ed7953\"], [0.7777777777777778, \"#fb9f3a\"], [0.8888888888888888, \"#fdca26\"], [1.0, \"#f0f921\"]], \"type\": \"contour\"}], \"contourcarpet\": [{\"colorbar\": {\"outlinewidth\": 0, \"ticks\": \"\"}, \"type\": \"contourcarpet\"}], \"heatmap\": [{\"colorbar\": {\"outlinewidth\": 0, \"ticks\": \"\"}, \"colorscale\": [[0.0, \"#0d0887\"], [0.1111111111111111, \"#46039f\"], [0.2222222222222222, \"#7201a8\"], [0.3333333333333333, \"#9c179e\"], [0.4444444444444444, \"#bd3786\"], [0.5555555555555556, \"#d8576b\"], [0.6666666666666666, \"#ed7953\"], [0.7777777777777778, \"#fb9f3a\"], [0.8888888888888888, \"#fdca26\"], [1.0, \"#f0f921\"]], \"type\": \"heatmap\"}], \"heatmapgl\": [{\"colorbar\": {\"outlinewidth\": 0, \"ticks\": \"\"}, \"colorscale\": [[0.0, \"#0d0887\"], [0.1111111111111111, \"#46039f\"], [0.2222222222222222, \"#7201a8\"], [0.3333333333333333, \"#9c179e\"], [0.4444444444444444, \"#bd3786\"], [0.5555555555555556, \"#d8576b\"], [0.6666666666666666, \"#ed7953\"], [0.7777777777777778, \"#fb9f3a\"], [0.8888888888888888, \"#fdca26\"], [1.0, \"#f0f921\"]], \"type\": \"heatmapgl\"}], \"histogram\": [{\"marker\": {\"colorbar\": {\"outlinewidth\": 0, \"ticks\": \"\"}}, \"type\": \"histogram\"}], \"histogram2d\": [{\"colorbar\": {\"outlinewidth\": 0, \"ticks\": \"\"}, \"colorscale\": [[0.0, \"#0d0887\"], [0.1111111111111111, \"#46039f\"], [0.2222222222222222, \"#7201a8\"], [0.3333333333333333, \"#9c179e\"], [0.4444444444444444, \"#bd3786\"], [0.5555555555555556, \"#d8576b\"], [0.6666666666666666, \"#ed7953\"], [0.7777777777777778, \"#fb9f3a\"], [0.8888888888888888, \"#fdca26\"], [1.0, \"#f0f921\"]], \"type\": \"histogram2d\"}], \"histogram2dcontour\": [{\"colorbar\": {\"outlinewidth\": 0, \"ticks\": \"\"}, \"colorscale\": [[0.0, \"#0d0887\"], [0.1111111111111111, \"#46039f\"], [0.2222222222222222, \"#7201a8\"], [0.3333333333333333, \"#9c179e\"], [0.4444444444444444, \"#bd3786\"], [0.5555555555555556, \"#d8576b\"], [0.6666666666666666, \"#ed7953\"], [0.7777777777777778, \"#fb9f3a\"], [0.8888888888888888, \"#fdca26\"], [1.0, \"#f0f921\"]], \"type\": \"histogram2dcontour\"}], \"mesh3d\": [{\"colorbar\": {\"outlinewidth\": 0, \"ticks\": \"\"}, \"type\": \"mesh3d\"}], \"parcoords\": [{\"line\": {\"colorbar\": {\"outlinewidth\": 0, \"ticks\": \"\"}}, \"type\": \"parcoords\"}], \"pie\": [{\"automargin\": true, \"type\": \"pie\"}], \"scatter\": [{\"marker\": {\"colorbar\": {\"outlinewidth\": 0, \"ticks\": \"\"}}, \"type\": \"scatter\"}], \"scatter3d\": [{\"line\": {\"colorbar\": {\"outlinewidth\": 0, \"ticks\": \"\"}}, \"marker\": {\"colorbar\": {\"outlinewidth\": 0, \"ticks\": \"\"}}, \"type\": \"scatter3d\"}], \"scattercarpet\": [{\"marker\": {\"colorbar\": {\"outlinewidth\": 0, \"ticks\": \"\"}}, \"type\": \"scattercarpet\"}], \"scattergeo\": [{\"marker\": {\"colorbar\": {\"outlinewidth\": 0, \"ticks\": \"\"}}, \"type\": \"scattergeo\"}], \"scattergl\": [{\"marker\": {\"colorbar\": {\"outlinewidth\": 0, \"ticks\": \"\"}}, \"type\": \"scattergl\"}], \"scattermapbox\": [{\"marker\": {\"colorbar\": {\"outlinewidth\": 0, \"ticks\": \"\"}}, \"type\": \"scattermapbox\"}], \"scatterpolar\": [{\"marker\": {\"colorbar\": {\"outlinewidth\": 0, \"ticks\": \"\"}}, \"type\": \"scatterpolar\"}], \"scatterpolargl\": [{\"marker\": {\"colorbar\": {\"outlinewidth\": 0, \"ticks\": \"\"}}, \"type\": \"scatterpolargl\"}], \"scatterternary\": [{\"marker\": {\"colorbar\": {\"outlinewidth\": 0, \"ticks\": \"\"}}, \"type\": \"scatterternary\"}], \"surface\": [{\"colorbar\": {\"outlinewidth\": 0, \"ticks\": \"\"}, \"colorscale\": [[0.0, \"#0d0887\"], [0.1111111111111111, \"#46039f\"], [0.2222222222222222, \"#7201a8\"], [0.3333333333333333, \"#9c179e\"], [0.4444444444444444, \"#bd3786\"], [0.5555555555555556, \"#d8576b\"], [0.6666666666666666, \"#ed7953\"], [0.7777777777777778, \"#fb9f3a\"], [0.8888888888888888, \"#fdca26\"], [1.0, \"#f0f921\"]], \"type\": \"surface\"}], \"table\": [{\"cells\": {\"fill\": {\"color\": \"#EBF0F8\"}, \"line\": {\"color\": \"white\"}}, \"header\": {\"fill\": {\"color\": \"#C8D4E3\"}, \"line\": {\"color\": \"white\"}}, \"type\": \"table\"}]}, \"layout\": {\"annotationdefaults\": {\"arrowcolor\": \"#2a3f5f\", \"arrowhead\": 0, \"arrowwidth\": 1}, \"autotypenumbers\": \"strict\", \"coloraxis\": {\"colorbar\": {\"outlinewidth\": 0, \"ticks\": \"\"}}, \"colorscale\": {\"diverging\": [[0, \"#8e0152\"], [0.1, \"#c51b7d\"], [0.2, \"#de77ae\"], [0.3, \"#f1b6da\"], [0.4, \"#fde0ef\"], [0.5, \"#f7f7f7\"], [0.6, \"#e6f5d0\"], [0.7, \"#b8e186\"], [0.8, \"#7fbc41\"], [0.9, \"#4d9221\"], [1, \"#276419\"]], \"sequential\": [[0.0, \"#0d0887\"], [0.1111111111111111, \"#46039f\"], [0.2222222222222222, \"#7201a8\"], [0.3333333333333333, \"#9c179e\"], [0.4444444444444444, \"#bd3786\"], [0.5555555555555556, \"#d8576b\"], [0.6666666666666666, \"#ed7953\"], [0.7777777777777778, \"#fb9f3a\"], [0.8888888888888888, \"#fdca26\"], [1.0, \"#f0f921\"]], \"sequentialminus\": [[0.0, \"#0d0887\"], [0.1111111111111111, \"#46039f\"], [0.2222222222222222, \"#7201a8\"], [0.3333333333333333, \"#9c179e\"], [0.4444444444444444, \"#bd3786\"], [0.5555555555555556, \"#d8576b\"], [0.6666666666666666, \"#ed7953\"], [0.7777777777777778, \"#fb9f3a\"], [0.8888888888888888, \"#fdca26\"], [1.0, \"#f0f921\"]]}, \"colorway\": [\"#636efa\", \"#EF553B\", \"#00cc96\", \"#ab63fa\", \"#FFA15A\", \"#19d3f3\", \"#FF6692\", \"#B6E880\", \"#FF97FF\", \"#FECB52\"], \"font\": {\"color\": \"#2a3f5f\"}, \"geo\": {\"bgcolor\": \"white\", \"lakecolor\": \"white\", \"landcolor\": \"#E5ECF6\", \"showlakes\": true, \"showland\": true, \"subunitcolor\": \"white\"}, \"hoverlabel\": {\"align\": \"left\"}, \"hovermode\": \"closest\", \"mapbox\": {\"style\": \"light\"}, \"paper_bgcolor\": \"white\", \"plot_bgcolor\": \"#E5ECF6\", \"polar\": {\"angularaxis\": {\"gridcolor\": \"white\", \"linecolor\": \"white\", \"ticks\": \"\"}, \"bgcolor\": \"#E5ECF6\", \"radialaxis\": {\"gridcolor\": \"white\", \"linecolor\": \"white\", \"ticks\": \"\"}}, \"scene\": {\"xaxis\": {\"backgroundcolor\": \"#E5ECF6\", \"gridcolor\": \"white\", \"gridwidth\": 2, \"linecolor\": \"white\", \"showbackground\": true, \"ticks\": \"\", \"zerolinecolor\": \"white\"}, \"yaxis\": {\"backgroundcolor\": \"#E5ECF6\", \"gridcolor\": \"white\", \"gridwidth\": 2, \"linecolor\": \"white\", \"showbackground\": true, \"ticks\": \"\", \"zerolinecolor\": \"white\"}, \"zaxis\": {\"backgroundcolor\": \"#E5ECF6\", \"gridcolor\": \"white\", \"gridwidth\": 2, \"linecolor\": \"white\", \"showbackground\": true, \"ticks\": \"\", \"zerolinecolor\": \"white\"}}, \"shapedefaults\": {\"line\": {\"color\": \"#2a3f5f\"}}, \"ternary\": {\"aaxis\": {\"gridcolor\": \"white\", \"linecolor\": \"white\", \"ticks\": \"\"}, \"baxis\": {\"gridcolor\": \"white\", \"linecolor\": \"white\", \"ticks\": \"\"}, \"bgcolor\": \"#E5ECF6\", \"caxis\": {\"gridcolor\": \"white\", \"linecolor\": \"white\", \"ticks\": \"\"}}, \"title\": {\"x\": 0.05}, \"xaxis\": {\"automargin\": true, \"gridcolor\": \"white\", \"linecolor\": \"white\", \"ticks\": \"\", \"title\": {\"standoff\": 15}, \"zerolinecolor\": \"white\", \"zerolinewidth\": 2}, \"yaxis\": {\"automargin\": true, \"gridcolor\": \"white\", \"linecolor\": \"white\", \"ticks\": \"\", \"title\": {\"standoff\": 15}, \"zerolinecolor\": \"white\", \"zerolinewidth\": 2}}}, \"title\": {\"text\": \"Top 10 states with highest number of Deaths\"}, \"xaxis\": {\"anchor\": \"y\", \"domain\": [0.0, 1.0], \"title\": {\"text\": \"x\"}}, \"yaxis\": {\"anchor\": \"x\", \"domain\": [0.0, 1.0], \"title\": {\"text\": \"y\"}}},                        {\"responsive\": true}                    ).then(function(){\n",
       "                            \n",
       "var gd = document.getElementById('a8416a46-f85f-4b4b-b2c1-f678b0d00de8');\n",
       "var x = new MutationObserver(function (mutations, observer) {{\n",
       "        var display = window.getComputedStyle(gd).display;\n",
       "        if (!display || display === 'none') {{\n",
       "            console.log([gd, 'removed!']);\n",
       "            Plotly.purge(gd);\n",
       "            observer.disconnect();\n",
       "        }}\n",
       "}});\n",
       "\n",
       "// Listen for the removal of the full notebook cells\n",
       "var notebookContainer = gd.closest('#notebook-container');\n",
       "if (notebookContainer) {{\n",
       "    x.observe(notebookContainer, {childList: true});\n",
       "}}\n",
       "\n",
       "// Listen for the clearing of the current output cell\n",
       "var outputEl = gd.closest('.output');\n",
       "if (outputEl) {{\n",
       "    x.observe(outputEl, {childList: true});\n",
       "}}\n",
       "\n",
       "                        })                };                });            </script>        </div>"
      ]
     },
     "metadata": {},
     "output_type": "display_data"
    }
   ],
   "source": [
    "px.bar(x=state_wise.nlargest(10,\"Deaths\")[\"State/UnionTerritory\"],\n",
    "       y = state_wise.nlargest(10,\"Deaths\")[\"Deaths\"],\n",
    "       color_discrete_sequence=px.colors.diverging.curl,\n",
    "       title=\"Top 10 states with highest number of Deaths\")"
   ]
  },
  {
   "cell_type": "code",
   "execution_count": 211,
   "metadata": {},
   "outputs": [
    {
     "data": {
      "application/vnd.plotly.v1+json": {
       "config": {
        "plotlyServerURL": "https://plot.ly"
       },
       "data": [
        {
         "alignmentgroup": "True",
         "hovertemplate": "x=%{x}<br>y=%{y}<extra></extra>",
         "legendgroup": "",
         "marker": {
          "color": "rgb(12,51,131)"
         },
         "name": "",
         "offsetgroup": "",
         "orientation": "v",
         "showlegend": false,
         "textposition": "auto",
         "type": "bar",
         "x": [
          "Punjab",
          "Maharashtra",
          "Gujarat",
          "Sikkim",
          "West Bengal",
          "Delhi",
          "Puducherry",
          "Uttarakhand",
          "Himachal Pradesh",
          "Madhya Pradesh"
         ],
         "xaxis": "x",
         "y": [
          3.0517119264678048,
          2.4668935865146193,
          2.0258849608827934,
          1.9528608421712383,
          1.8109363695150635,
          1.782402351400798,
          1.676452057566374,
          1.624480650930603,
          1.6015036300768382,
          1.5874072769858643
         ],
         "yaxis": "y"
        }
       ],
       "layout": {
        "barmode": "relative",
        "legend": {
         "tracegroupgap": 0
        },
        "template": {
         "data": {
          "bar": [
           {
            "error_x": {
             "color": "#2a3f5f"
            },
            "error_y": {
             "color": "#2a3f5f"
            },
            "marker": {
             "line": {
              "color": "#E5ECF6",
              "width": 0.5
             }
            },
            "type": "bar"
           }
          ],
          "barpolar": [
           {
            "marker": {
             "line": {
              "color": "#E5ECF6",
              "width": 0.5
             }
            },
            "type": "barpolar"
           }
          ],
          "carpet": [
           {
            "aaxis": {
             "endlinecolor": "#2a3f5f",
             "gridcolor": "white",
             "linecolor": "white",
             "minorgridcolor": "white",
             "startlinecolor": "#2a3f5f"
            },
            "baxis": {
             "endlinecolor": "#2a3f5f",
             "gridcolor": "white",
             "linecolor": "white",
             "minorgridcolor": "white",
             "startlinecolor": "#2a3f5f"
            },
            "type": "carpet"
           }
          ],
          "choropleth": [
           {
            "colorbar": {
             "outlinewidth": 0,
             "ticks": ""
            },
            "type": "choropleth"
           }
          ],
          "contour": [
           {
            "colorbar": {
             "outlinewidth": 0,
             "ticks": ""
            },
            "colorscale": [
             [
              0,
              "#0d0887"
             ],
             [
              0.1111111111111111,
              "#46039f"
             ],
             [
              0.2222222222222222,
              "#7201a8"
             ],
             [
              0.3333333333333333,
              "#9c179e"
             ],
             [
              0.4444444444444444,
              "#bd3786"
             ],
             [
              0.5555555555555556,
              "#d8576b"
             ],
             [
              0.6666666666666666,
              "#ed7953"
             ],
             [
              0.7777777777777778,
              "#fb9f3a"
             ],
             [
              0.8888888888888888,
              "#fdca26"
             ],
             [
              1,
              "#f0f921"
             ]
            ],
            "type": "contour"
           }
          ],
          "contourcarpet": [
           {
            "colorbar": {
             "outlinewidth": 0,
             "ticks": ""
            },
            "type": "contourcarpet"
           }
          ],
          "heatmap": [
           {
            "colorbar": {
             "outlinewidth": 0,
             "ticks": ""
            },
            "colorscale": [
             [
              0,
              "#0d0887"
             ],
             [
              0.1111111111111111,
              "#46039f"
             ],
             [
              0.2222222222222222,
              "#7201a8"
             ],
             [
              0.3333333333333333,
              "#9c179e"
             ],
             [
              0.4444444444444444,
              "#bd3786"
             ],
             [
              0.5555555555555556,
              "#d8576b"
             ],
             [
              0.6666666666666666,
              "#ed7953"
             ],
             [
              0.7777777777777778,
              "#fb9f3a"
             ],
             [
              0.8888888888888888,
              "#fdca26"
             ],
             [
              1,
              "#f0f921"
             ]
            ],
            "type": "heatmap"
           }
          ],
          "heatmapgl": [
           {
            "colorbar": {
             "outlinewidth": 0,
             "ticks": ""
            },
            "colorscale": [
             [
              0,
              "#0d0887"
             ],
             [
              0.1111111111111111,
              "#46039f"
             ],
             [
              0.2222222222222222,
              "#7201a8"
             ],
             [
              0.3333333333333333,
              "#9c179e"
             ],
             [
              0.4444444444444444,
              "#bd3786"
             ],
             [
              0.5555555555555556,
              "#d8576b"
             ],
             [
              0.6666666666666666,
              "#ed7953"
             ],
             [
              0.7777777777777778,
              "#fb9f3a"
             ],
             [
              0.8888888888888888,
              "#fdca26"
             ],
             [
              1,
              "#f0f921"
             ]
            ],
            "type": "heatmapgl"
           }
          ],
          "histogram": [
           {
            "marker": {
             "colorbar": {
              "outlinewidth": 0,
              "ticks": ""
             }
            },
            "type": "histogram"
           }
          ],
          "histogram2d": [
           {
            "colorbar": {
             "outlinewidth": 0,
             "ticks": ""
            },
            "colorscale": [
             [
              0,
              "#0d0887"
             ],
             [
              0.1111111111111111,
              "#46039f"
             ],
             [
              0.2222222222222222,
              "#7201a8"
             ],
             [
              0.3333333333333333,
              "#9c179e"
             ],
             [
              0.4444444444444444,
              "#bd3786"
             ],
             [
              0.5555555555555556,
              "#d8576b"
             ],
             [
              0.6666666666666666,
              "#ed7953"
             ],
             [
              0.7777777777777778,
              "#fb9f3a"
             ],
             [
              0.8888888888888888,
              "#fdca26"
             ],
             [
              1,
              "#f0f921"
             ]
            ],
            "type": "histogram2d"
           }
          ],
          "histogram2dcontour": [
           {
            "colorbar": {
             "outlinewidth": 0,
             "ticks": ""
            },
            "colorscale": [
             [
              0,
              "#0d0887"
             ],
             [
              0.1111111111111111,
              "#46039f"
             ],
             [
              0.2222222222222222,
              "#7201a8"
             ],
             [
              0.3333333333333333,
              "#9c179e"
             ],
             [
              0.4444444444444444,
              "#bd3786"
             ],
             [
              0.5555555555555556,
              "#d8576b"
             ],
             [
              0.6666666666666666,
              "#ed7953"
             ],
             [
              0.7777777777777778,
              "#fb9f3a"
             ],
             [
              0.8888888888888888,
              "#fdca26"
             ],
             [
              1,
              "#f0f921"
             ]
            ],
            "type": "histogram2dcontour"
           }
          ],
          "mesh3d": [
           {
            "colorbar": {
             "outlinewidth": 0,
             "ticks": ""
            },
            "type": "mesh3d"
           }
          ],
          "parcoords": [
           {
            "line": {
             "colorbar": {
              "outlinewidth": 0,
              "ticks": ""
             }
            },
            "type": "parcoords"
           }
          ],
          "pie": [
           {
            "automargin": true,
            "type": "pie"
           }
          ],
          "scatter": [
           {
            "marker": {
             "colorbar": {
              "outlinewidth": 0,
              "ticks": ""
             }
            },
            "type": "scatter"
           }
          ],
          "scatter3d": [
           {
            "line": {
             "colorbar": {
              "outlinewidth": 0,
              "ticks": ""
             }
            },
            "marker": {
             "colorbar": {
              "outlinewidth": 0,
              "ticks": ""
             }
            },
            "type": "scatter3d"
           }
          ],
          "scattercarpet": [
           {
            "marker": {
             "colorbar": {
              "outlinewidth": 0,
              "ticks": ""
             }
            },
            "type": "scattercarpet"
           }
          ],
          "scattergeo": [
           {
            "marker": {
             "colorbar": {
              "outlinewidth": 0,
              "ticks": ""
             }
            },
            "type": "scattergeo"
           }
          ],
          "scattergl": [
           {
            "marker": {
             "colorbar": {
              "outlinewidth": 0,
              "ticks": ""
             }
            },
            "type": "scattergl"
           }
          ],
          "scattermapbox": [
           {
            "marker": {
             "colorbar": {
              "outlinewidth": 0,
              "ticks": ""
             }
            },
            "type": "scattermapbox"
           }
          ],
          "scatterpolar": [
           {
            "marker": {
             "colorbar": {
              "outlinewidth": 0,
              "ticks": ""
             }
            },
            "type": "scatterpolar"
           }
          ],
          "scatterpolargl": [
           {
            "marker": {
             "colorbar": {
              "outlinewidth": 0,
              "ticks": ""
             }
            },
            "type": "scatterpolargl"
           }
          ],
          "scatterternary": [
           {
            "marker": {
             "colorbar": {
              "outlinewidth": 0,
              "ticks": ""
             }
            },
            "type": "scatterternary"
           }
          ],
          "surface": [
           {
            "colorbar": {
             "outlinewidth": 0,
             "ticks": ""
            },
            "colorscale": [
             [
              0,
              "#0d0887"
             ],
             [
              0.1111111111111111,
              "#46039f"
             ],
             [
              0.2222222222222222,
              "#7201a8"
             ],
             [
              0.3333333333333333,
              "#9c179e"
             ],
             [
              0.4444444444444444,
              "#bd3786"
             ],
             [
              0.5555555555555556,
              "#d8576b"
             ],
             [
              0.6666666666666666,
              "#ed7953"
             ],
             [
              0.7777777777777778,
              "#fb9f3a"
             ],
             [
              0.8888888888888888,
              "#fdca26"
             ],
             [
              1,
              "#f0f921"
             ]
            ],
            "type": "surface"
           }
          ],
          "table": [
           {
            "cells": {
             "fill": {
              "color": "#EBF0F8"
             },
             "line": {
              "color": "white"
             }
            },
            "header": {
             "fill": {
              "color": "#C8D4E3"
             },
             "line": {
              "color": "white"
             }
            },
            "type": "table"
           }
          ]
         },
         "layout": {
          "annotationdefaults": {
           "arrowcolor": "#2a3f5f",
           "arrowhead": 0,
           "arrowwidth": 1
          },
          "autotypenumbers": "strict",
          "coloraxis": {
           "colorbar": {
            "outlinewidth": 0,
            "ticks": ""
           }
          },
          "colorscale": {
           "diverging": [
            [
             0,
             "#8e0152"
            ],
            [
             0.1,
             "#c51b7d"
            ],
            [
             0.2,
             "#de77ae"
            ],
            [
             0.3,
             "#f1b6da"
            ],
            [
             0.4,
             "#fde0ef"
            ],
            [
             0.5,
             "#f7f7f7"
            ],
            [
             0.6,
             "#e6f5d0"
            ],
            [
             0.7,
             "#b8e186"
            ],
            [
             0.8,
             "#7fbc41"
            ],
            [
             0.9,
             "#4d9221"
            ],
            [
             1,
             "#276419"
            ]
           ],
           "sequential": [
            [
             0,
             "#0d0887"
            ],
            [
             0.1111111111111111,
             "#46039f"
            ],
            [
             0.2222222222222222,
             "#7201a8"
            ],
            [
             0.3333333333333333,
             "#9c179e"
            ],
            [
             0.4444444444444444,
             "#bd3786"
            ],
            [
             0.5555555555555556,
             "#d8576b"
            ],
            [
             0.6666666666666666,
             "#ed7953"
            ],
            [
             0.7777777777777778,
             "#fb9f3a"
            ],
            [
             0.8888888888888888,
             "#fdca26"
            ],
            [
             1,
             "#f0f921"
            ]
           ],
           "sequentialminus": [
            [
             0,
             "#0d0887"
            ],
            [
             0.1111111111111111,
             "#46039f"
            ],
            [
             0.2222222222222222,
             "#7201a8"
            ],
            [
             0.3333333333333333,
             "#9c179e"
            ],
            [
             0.4444444444444444,
             "#bd3786"
            ],
            [
             0.5555555555555556,
             "#d8576b"
            ],
            [
             0.6666666666666666,
             "#ed7953"
            ],
            [
             0.7777777777777778,
             "#fb9f3a"
            ],
            [
             0.8888888888888888,
             "#fdca26"
            ],
            [
             1,
             "#f0f921"
            ]
           ]
          },
          "colorway": [
           "#636efa",
           "#EF553B",
           "#00cc96",
           "#ab63fa",
           "#FFA15A",
           "#19d3f3",
           "#FF6692",
           "#B6E880",
           "#FF97FF",
           "#FECB52"
          ],
          "font": {
           "color": "#2a3f5f"
          },
          "geo": {
           "bgcolor": "white",
           "lakecolor": "white",
           "landcolor": "#E5ECF6",
           "showlakes": true,
           "showland": true,
           "subunitcolor": "white"
          },
          "hoverlabel": {
           "align": "left"
          },
          "hovermode": "closest",
          "mapbox": {
           "style": "light"
          },
          "paper_bgcolor": "white",
          "plot_bgcolor": "#E5ECF6",
          "polar": {
           "angularaxis": {
            "gridcolor": "white",
            "linecolor": "white",
            "ticks": ""
           },
           "bgcolor": "#E5ECF6",
           "radialaxis": {
            "gridcolor": "white",
            "linecolor": "white",
            "ticks": ""
           }
          },
          "scene": {
           "xaxis": {
            "backgroundcolor": "#E5ECF6",
            "gridcolor": "white",
            "gridwidth": 2,
            "linecolor": "white",
            "showbackground": true,
            "ticks": "",
            "zerolinecolor": "white"
           },
           "yaxis": {
            "backgroundcolor": "#E5ECF6",
            "gridcolor": "white",
            "gridwidth": 2,
            "linecolor": "white",
            "showbackground": true,
            "ticks": "",
            "zerolinecolor": "white"
           },
           "zaxis": {
            "backgroundcolor": "#E5ECF6",
            "gridcolor": "white",
            "gridwidth": 2,
            "linecolor": "white",
            "showbackground": true,
            "ticks": "",
            "zerolinecolor": "white"
           }
          },
          "shapedefaults": {
           "line": {
            "color": "#2a3f5f"
           }
          },
          "ternary": {
           "aaxis": {
            "gridcolor": "white",
            "linecolor": "white",
            "ticks": ""
           },
           "baxis": {
            "gridcolor": "white",
            "linecolor": "white",
            "ticks": ""
           },
           "bgcolor": "#E5ECF6",
           "caxis": {
            "gridcolor": "white",
            "linecolor": "white",
            "ticks": ""
           }
          },
          "title": {
           "x": 0.05
          },
          "xaxis": {
           "automargin": true,
           "gridcolor": "white",
           "linecolor": "white",
           "ticks": "",
           "title": {
            "standoff": 15
           },
           "zerolinecolor": "white",
           "zerolinewidth": 2
          },
          "yaxis": {
           "automargin": true,
           "gridcolor": "white",
           "linecolor": "white",
           "ticks": "",
           "title": {
            "standoff": 15
           },
           "zerolinecolor": "white",
           "zerolinewidth": 2
          }
         }
        },
        "title": {
         "text": "Top 10 states with highest of Death percentage"
        },
        "xaxis": {
         "anchor": "y",
         "domain": [
          0,
          1
         ],
         "title": {
          "text": "x"
         }
        },
        "yaxis": {
         "anchor": "x",
         "domain": [
          0,
          1
         ],
         "title": {
          "text": "y"
         }
        }
       }
      },
      "text/html": [
       "<div>                            <div id=\"d985d021-4a91-4003-87e3-e037cfb280f7\" class=\"plotly-graph-div\" style=\"height:525px; width:100%;\"></div>            <script type=\"text/javascript\">                require([\"plotly\"], function(Plotly) {                    window.PLOTLYENV=window.PLOTLYENV || {};                                    if (document.getElementById(\"d985d021-4a91-4003-87e3-e037cfb280f7\")) {                    Plotly.newPlot(                        \"d985d021-4a91-4003-87e3-e037cfb280f7\",                        [{\"alignmentgroup\": \"True\", \"hovertemplate\": \"x=%{x}<br>y=%{y}<extra></extra>\", \"legendgroup\": \"\", \"marker\": {\"color\": \"rgb(12,51,131)\"}, \"name\": \"\", \"offsetgroup\": \"\", \"orientation\": \"v\", \"showlegend\": false, \"textposition\": \"auto\", \"type\": \"bar\", \"x\": [\"Punjab\", \"Maharashtra\", \"Gujarat\", \"Sikkim\", \"West Bengal\", \"Delhi\", \"Puducherry\", \"Uttarakhand\", \"Himachal Pradesh\", \"Madhya Pradesh\"], \"xaxis\": \"x\", \"y\": [3.0517119264678048, 2.4668935865146193, 2.0258849608827934, 1.9528608421712383, 1.8109363695150635, 1.782402351400798, 1.676452057566374, 1.624480650930603, 1.6015036300768382, 1.5874072769858643], \"yaxis\": \"y\"}],                        {\"barmode\": \"relative\", \"legend\": {\"tracegroupgap\": 0}, \"template\": {\"data\": {\"bar\": [{\"error_x\": {\"color\": \"#2a3f5f\"}, \"error_y\": {\"color\": \"#2a3f5f\"}, \"marker\": {\"line\": {\"color\": \"#E5ECF6\", \"width\": 0.5}}, \"type\": \"bar\"}], \"barpolar\": [{\"marker\": {\"line\": {\"color\": \"#E5ECF6\", \"width\": 0.5}}, \"type\": \"barpolar\"}], \"carpet\": [{\"aaxis\": {\"endlinecolor\": \"#2a3f5f\", \"gridcolor\": \"white\", \"linecolor\": \"white\", \"minorgridcolor\": \"white\", \"startlinecolor\": \"#2a3f5f\"}, \"baxis\": {\"endlinecolor\": \"#2a3f5f\", \"gridcolor\": \"white\", \"linecolor\": \"white\", \"minorgridcolor\": \"white\", \"startlinecolor\": \"#2a3f5f\"}, \"type\": \"carpet\"}], \"choropleth\": [{\"colorbar\": {\"outlinewidth\": 0, \"ticks\": \"\"}, \"type\": \"choropleth\"}], \"contour\": [{\"colorbar\": {\"outlinewidth\": 0, \"ticks\": \"\"}, \"colorscale\": [[0.0, \"#0d0887\"], [0.1111111111111111, \"#46039f\"], [0.2222222222222222, \"#7201a8\"], [0.3333333333333333, \"#9c179e\"], [0.4444444444444444, \"#bd3786\"], [0.5555555555555556, \"#d8576b\"], [0.6666666666666666, \"#ed7953\"], [0.7777777777777778, \"#fb9f3a\"], [0.8888888888888888, \"#fdca26\"], [1.0, \"#f0f921\"]], \"type\": \"contour\"}], \"contourcarpet\": [{\"colorbar\": {\"outlinewidth\": 0, \"ticks\": \"\"}, \"type\": \"contourcarpet\"}], \"heatmap\": [{\"colorbar\": {\"outlinewidth\": 0, \"ticks\": \"\"}, \"colorscale\": [[0.0, \"#0d0887\"], [0.1111111111111111, \"#46039f\"], [0.2222222222222222, \"#7201a8\"], [0.3333333333333333, \"#9c179e\"], [0.4444444444444444, \"#bd3786\"], [0.5555555555555556, \"#d8576b\"], [0.6666666666666666, \"#ed7953\"], [0.7777777777777778, \"#fb9f3a\"], [0.8888888888888888, \"#fdca26\"], [1.0, \"#f0f921\"]], \"type\": \"heatmap\"}], \"heatmapgl\": [{\"colorbar\": {\"outlinewidth\": 0, \"ticks\": \"\"}, \"colorscale\": [[0.0, \"#0d0887\"], [0.1111111111111111, \"#46039f\"], [0.2222222222222222, \"#7201a8\"], [0.3333333333333333, \"#9c179e\"], [0.4444444444444444, \"#bd3786\"], [0.5555555555555556, \"#d8576b\"], [0.6666666666666666, \"#ed7953\"], [0.7777777777777778, \"#fb9f3a\"], [0.8888888888888888, \"#fdca26\"], [1.0, \"#f0f921\"]], \"type\": \"heatmapgl\"}], \"histogram\": [{\"marker\": {\"colorbar\": {\"outlinewidth\": 0, \"ticks\": \"\"}}, \"type\": \"histogram\"}], \"histogram2d\": [{\"colorbar\": {\"outlinewidth\": 0, \"ticks\": \"\"}, \"colorscale\": [[0.0, \"#0d0887\"], [0.1111111111111111, \"#46039f\"], [0.2222222222222222, \"#7201a8\"], [0.3333333333333333, \"#9c179e\"], [0.4444444444444444, \"#bd3786\"], [0.5555555555555556, \"#d8576b\"], [0.6666666666666666, \"#ed7953\"], [0.7777777777777778, \"#fb9f3a\"], [0.8888888888888888, \"#fdca26\"], [1.0, \"#f0f921\"]], \"type\": \"histogram2d\"}], \"histogram2dcontour\": [{\"colorbar\": {\"outlinewidth\": 0, \"ticks\": \"\"}, \"colorscale\": [[0.0, \"#0d0887\"], [0.1111111111111111, \"#46039f\"], [0.2222222222222222, \"#7201a8\"], [0.3333333333333333, \"#9c179e\"], [0.4444444444444444, \"#bd3786\"], [0.5555555555555556, \"#d8576b\"], [0.6666666666666666, \"#ed7953\"], [0.7777777777777778, \"#fb9f3a\"], [0.8888888888888888, \"#fdca26\"], [1.0, \"#f0f921\"]], \"type\": \"histogram2dcontour\"}], \"mesh3d\": [{\"colorbar\": {\"outlinewidth\": 0, \"ticks\": \"\"}, \"type\": \"mesh3d\"}], \"parcoords\": [{\"line\": {\"colorbar\": {\"outlinewidth\": 0, \"ticks\": \"\"}}, \"type\": \"parcoords\"}], \"pie\": [{\"automargin\": true, \"type\": \"pie\"}], \"scatter\": [{\"marker\": {\"colorbar\": {\"outlinewidth\": 0, \"ticks\": \"\"}}, \"type\": \"scatter\"}], \"scatter3d\": [{\"line\": {\"colorbar\": {\"outlinewidth\": 0, \"ticks\": \"\"}}, \"marker\": {\"colorbar\": {\"outlinewidth\": 0, \"ticks\": \"\"}}, \"type\": \"scatter3d\"}], \"scattercarpet\": [{\"marker\": {\"colorbar\": {\"outlinewidth\": 0, \"ticks\": \"\"}}, \"type\": \"scattercarpet\"}], \"scattergeo\": [{\"marker\": {\"colorbar\": {\"outlinewidth\": 0, \"ticks\": \"\"}}, \"type\": \"scattergeo\"}], \"scattergl\": [{\"marker\": {\"colorbar\": {\"outlinewidth\": 0, \"ticks\": \"\"}}, \"type\": \"scattergl\"}], \"scattermapbox\": [{\"marker\": {\"colorbar\": {\"outlinewidth\": 0, \"ticks\": \"\"}}, \"type\": \"scattermapbox\"}], \"scatterpolar\": [{\"marker\": {\"colorbar\": {\"outlinewidth\": 0, \"ticks\": \"\"}}, \"type\": \"scatterpolar\"}], \"scatterpolargl\": [{\"marker\": {\"colorbar\": {\"outlinewidth\": 0, \"ticks\": \"\"}}, \"type\": \"scatterpolargl\"}], \"scatterternary\": [{\"marker\": {\"colorbar\": {\"outlinewidth\": 0, \"ticks\": \"\"}}, \"type\": \"scatterternary\"}], \"surface\": [{\"colorbar\": {\"outlinewidth\": 0, \"ticks\": \"\"}, \"colorscale\": [[0.0, \"#0d0887\"], [0.1111111111111111, \"#46039f\"], [0.2222222222222222, \"#7201a8\"], [0.3333333333333333, \"#9c179e\"], [0.4444444444444444, \"#bd3786\"], [0.5555555555555556, \"#d8576b\"], [0.6666666666666666, \"#ed7953\"], [0.7777777777777778, \"#fb9f3a\"], [0.8888888888888888, \"#fdca26\"], [1.0, \"#f0f921\"]], \"type\": \"surface\"}], \"table\": [{\"cells\": {\"fill\": {\"color\": \"#EBF0F8\"}, \"line\": {\"color\": \"white\"}}, \"header\": {\"fill\": {\"color\": \"#C8D4E3\"}, \"line\": {\"color\": \"white\"}}, \"type\": \"table\"}]}, \"layout\": {\"annotationdefaults\": {\"arrowcolor\": \"#2a3f5f\", \"arrowhead\": 0, \"arrowwidth\": 1}, \"autotypenumbers\": \"strict\", \"coloraxis\": {\"colorbar\": {\"outlinewidth\": 0, \"ticks\": \"\"}}, \"colorscale\": {\"diverging\": [[0, \"#8e0152\"], [0.1, \"#c51b7d\"], [0.2, \"#de77ae\"], [0.3, \"#f1b6da\"], [0.4, \"#fde0ef\"], [0.5, \"#f7f7f7\"], [0.6, \"#e6f5d0\"], [0.7, \"#b8e186\"], [0.8, \"#7fbc41\"], [0.9, \"#4d9221\"], [1, \"#276419\"]], \"sequential\": [[0.0, \"#0d0887\"], [0.1111111111111111, \"#46039f\"], [0.2222222222222222, \"#7201a8\"], [0.3333333333333333, \"#9c179e\"], [0.4444444444444444, \"#bd3786\"], [0.5555555555555556, \"#d8576b\"], [0.6666666666666666, \"#ed7953\"], [0.7777777777777778, \"#fb9f3a\"], [0.8888888888888888, \"#fdca26\"], [1.0, \"#f0f921\"]], \"sequentialminus\": [[0.0, \"#0d0887\"], [0.1111111111111111, \"#46039f\"], [0.2222222222222222, \"#7201a8\"], [0.3333333333333333, \"#9c179e\"], [0.4444444444444444, \"#bd3786\"], [0.5555555555555556, \"#d8576b\"], [0.6666666666666666, \"#ed7953\"], [0.7777777777777778, \"#fb9f3a\"], [0.8888888888888888, \"#fdca26\"], [1.0, \"#f0f921\"]]}, \"colorway\": [\"#636efa\", \"#EF553B\", \"#00cc96\", \"#ab63fa\", \"#FFA15A\", \"#19d3f3\", \"#FF6692\", \"#B6E880\", \"#FF97FF\", \"#FECB52\"], \"font\": {\"color\": \"#2a3f5f\"}, \"geo\": {\"bgcolor\": \"white\", \"lakecolor\": \"white\", \"landcolor\": \"#E5ECF6\", \"showlakes\": true, \"showland\": true, \"subunitcolor\": \"white\"}, \"hoverlabel\": {\"align\": \"left\"}, \"hovermode\": \"closest\", \"mapbox\": {\"style\": \"light\"}, \"paper_bgcolor\": \"white\", \"plot_bgcolor\": \"#E5ECF6\", \"polar\": {\"angularaxis\": {\"gridcolor\": \"white\", \"linecolor\": \"white\", \"ticks\": \"\"}, \"bgcolor\": \"#E5ECF6\", \"radialaxis\": {\"gridcolor\": \"white\", \"linecolor\": \"white\", \"ticks\": \"\"}}, \"scene\": {\"xaxis\": {\"backgroundcolor\": \"#E5ECF6\", \"gridcolor\": \"white\", \"gridwidth\": 2, \"linecolor\": \"white\", \"showbackground\": true, \"ticks\": \"\", \"zerolinecolor\": \"white\"}, \"yaxis\": {\"backgroundcolor\": \"#E5ECF6\", \"gridcolor\": \"white\", \"gridwidth\": 2, \"linecolor\": \"white\", \"showbackground\": true, \"ticks\": \"\", \"zerolinecolor\": \"white\"}, \"zaxis\": {\"backgroundcolor\": \"#E5ECF6\", \"gridcolor\": \"white\", \"gridwidth\": 2, \"linecolor\": \"white\", \"showbackground\": true, \"ticks\": \"\", \"zerolinecolor\": \"white\"}}, \"shapedefaults\": {\"line\": {\"color\": \"#2a3f5f\"}}, \"ternary\": {\"aaxis\": {\"gridcolor\": \"white\", \"linecolor\": \"white\", \"ticks\": \"\"}, \"baxis\": {\"gridcolor\": \"white\", \"linecolor\": \"white\", \"ticks\": \"\"}, \"bgcolor\": \"#E5ECF6\", \"caxis\": {\"gridcolor\": \"white\", \"linecolor\": \"white\", \"ticks\": \"\"}}, \"title\": {\"x\": 0.05}, \"xaxis\": {\"automargin\": true, \"gridcolor\": \"white\", \"linecolor\": \"white\", \"ticks\": \"\", \"title\": {\"standoff\": 15}, \"zerolinecolor\": \"white\", \"zerolinewidth\": 2}, \"yaxis\": {\"automargin\": true, \"gridcolor\": \"white\", \"linecolor\": \"white\", \"ticks\": \"\", \"title\": {\"standoff\": 15}, \"zerolinecolor\": \"white\", \"zerolinewidth\": 2}}}, \"title\": {\"text\": \"Top 10 states with highest of Death percentage\"}, \"xaxis\": {\"anchor\": \"y\", \"domain\": [0.0, 1.0], \"title\": {\"text\": \"x\"}}, \"yaxis\": {\"anchor\": \"x\", \"domain\": [0.0, 1.0], \"title\": {\"text\": \"y\"}}},                        {\"responsive\": true}                    ).then(function(){\n",
       "                            \n",
       "var gd = document.getElementById('d985d021-4a91-4003-87e3-e037cfb280f7');\n",
       "var x = new MutationObserver(function (mutations, observer) {{\n",
       "        var display = window.getComputedStyle(gd).display;\n",
       "        if (!display || display === 'none') {{\n",
       "            console.log([gd, 'removed!']);\n",
       "            Plotly.purge(gd);\n",
       "            observer.disconnect();\n",
       "        }}\n",
       "}});\n",
       "\n",
       "// Listen for the removal of the full notebook cells\n",
       "var notebookContainer = gd.closest('#notebook-container');\n",
       "if (notebookContainer) {{\n",
       "    x.observe(notebookContainer, {childList: true});\n",
       "}}\n",
       "\n",
       "// Listen for the clearing of the current output cell\n",
       "var outputEl = gd.closest('.output');\n",
       "if (outputEl) {{\n",
       "    x.observe(outputEl, {childList: true});\n",
       "}}\n",
       "\n",
       "                        })                };                });            </script>        </div>"
      ]
     },
     "metadata": {},
     "output_type": "display_data"
    }
   ],
   "source": [
    "px.bar(x=state_wise.nlargest(10,\"Death_percentage\")[\"State/UnionTerritory\"],\n",
    "       y = state_wise.nlargest(10,\"Death_percentage\")[\"Death_percentage\"],\n",
    "       color_discrete_sequence=px.colors.diverging.Portland,\n",
    "       title=\"Top 10 states with highest of Death percentage\")"
   ]
  },
  {
   "cell_type": "markdown",
   "metadata": {},
   "source": [
    "## Monthwise Analysis"
   ]
  },
  {
   "cell_type": "code",
   "execution_count": 212,
   "metadata": {},
   "outputs": [
    {
     "data": {
      "text/html": [
       "<style  type=\"text/css\" >\n",
       "    #T_5029e192_a4ce_11eb_9e9d_8091333da24arow0_col1 {\n",
       "            background-color:  #301437;\n",
       "            color:  #f1f1f1;\n",
       "        }    #T_5029e192_a4ce_11eb_9e9d_8091333da24arow0_col2 {\n",
       "            background-color:  #301437;\n",
       "            color:  #f1f1f1;\n",
       "        }    #T_5029e192_a4ce_11eb_9e9d_8091333da24arow0_col3 {\n",
       "            background-color:  #301437;\n",
       "            color:  #f1f1f1;\n",
       "        }    #T_5029e192_a4ce_11eb_9e9d_8091333da24arow0_col4 {\n",
       "            background-color:  #301437;\n",
       "            color:  #f1f1f1;\n",
       "        }    #T_5029e192_a4ce_11eb_9e9d_8091333da24arow1_col1 {\n",
       "            background-color:  #301437;\n",
       "            color:  #f1f1f1;\n",
       "        }    #T_5029e192_a4ce_11eb_9e9d_8091333da24arow1_col2 {\n",
       "            background-color:  #301437;\n",
       "            color:  #f1f1f1;\n",
       "        }    #T_5029e192_a4ce_11eb_9e9d_8091333da24arow1_col3 {\n",
       "            background-color:  #301437;\n",
       "            color:  #f1f1f1;\n",
       "        }    #T_5029e192_a4ce_11eb_9e9d_8091333da24arow1_col4 {\n",
       "            background-color:  #301437;\n",
       "            color:  #f1f1f1;\n",
       "        }    #T_5029e192_a4ce_11eb_9e9d_8091333da24arow2_col1 {\n",
       "            background-color:  #301437;\n",
       "            color:  #f1f1f1;\n",
       "        }    #T_5029e192_a4ce_11eb_9e9d_8091333da24arow2_col2 {\n",
       "            background-color:  #301437;\n",
       "            color:  #f1f1f1;\n",
       "        }    #T_5029e192_a4ce_11eb_9e9d_8091333da24arow2_col3 {\n",
       "            background-color:  #301437;\n",
       "            color:  #f1f1f1;\n",
       "        }    #T_5029e192_a4ce_11eb_9e9d_8091333da24arow2_col4 {\n",
       "            background-color:  #c68b6e;\n",
       "            color:  #000000;\n",
       "        }    #T_5029e192_a4ce_11eb_9e9d_8091333da24arow3_col1 {\n",
       "            background-color:  #301437;\n",
       "            color:  #f1f1f1;\n",
       "        }    #T_5029e192_a4ce_11eb_9e9d_8091333da24arow3_col2 {\n",
       "            background-color:  #301437;\n",
       "            color:  #f1f1f1;\n",
       "        }    #T_5029e192_a4ce_11eb_9e9d_8091333da24arow3_col3 {\n",
       "            background-color:  #301338;\n",
       "            color:  #f1f1f1;\n",
       "        }    #T_5029e192_a4ce_11eb_9e9d_8091333da24arow3_col4 {\n",
       "            background-color:  #2f1436;\n",
       "            color:  #f1f1f1;\n",
       "        }    #T_5029e192_a4ce_11eb_9e9d_8091333da24arow4_col1 {\n",
       "            background-color:  #32123a;\n",
       "            color:  #f1f1f1;\n",
       "        }    #T_5029e192_a4ce_11eb_9e9d_8091333da24arow4_col2 {\n",
       "            background-color:  #301338;\n",
       "            color:  #f1f1f1;\n",
       "        }    #T_5029e192_a4ce_11eb_9e9d_8091333da24arow4_col3 {\n",
       "            background-color:  #34113f;\n",
       "            color:  #f1f1f1;\n",
       "        }    #T_5029e192_a4ce_11eb_9e9d_8091333da24arow4_col4 {\n",
       "            background-color:  #381139;\n",
       "            color:  #f1f1f1;\n",
       "        }    #T_5029e192_a4ce_11eb_9e9d_8091333da24arow5_col1 {\n",
       "            background-color:  #381145;\n",
       "            color:  #f1f1f1;\n",
       "        }    #T_5029e192_a4ce_11eb_9e9d_8091333da24arow5_col2 {\n",
       "            background-color:  #34113e;\n",
       "            color:  #f1f1f1;\n",
       "        }    #T_5029e192_a4ce_11eb_9e9d_8091333da24arow5_col3 {\n",
       "            background-color:  #47145f;\n",
       "            color:  #f1f1f1;\n",
       "        }    #T_5029e192_a4ce_11eb_9e9d_8091333da24arow5_col4 {\n",
       "            background-color:  #3c113b;\n",
       "            color:  #f1f1f1;\n",
       "        }    #T_5029e192_a4ce_11eb_9e9d_8091333da24arow6_col1 {\n",
       "            background-color:  #501a74;\n",
       "            color:  #f1f1f1;\n",
       "        }    #T_5029e192_a4ce_11eb_9e9d_8091333da24arow6_col2 {\n",
       "            background-color:  #431359;\n",
       "            color:  #f1f1f1;\n",
       "        }    #T_5029e192_a4ce_11eb_9e9d_8091333da24arow6_col3 {\n",
       "            background-color:  #5d40a2;\n",
       "            color:  #f1f1f1;\n",
       "        }    #T_5029e192_a4ce_11eb_9e9d_8091333da24arow6_col4 {\n",
       "            background-color:  #a03d50;\n",
       "            color:  #f1f1f1;\n",
       "        }    #T_5029e192_a4ce_11eb_9e9d_8091333da24arow7_col1 {\n",
       "            background-color:  #6068b6;\n",
       "            color:  #000000;\n",
       "        }    #T_5029e192_a4ce_11eb_9e9d_8091333da24arow7_col2 {\n",
       "            background-color:  #5e47a7;\n",
       "            color:  #f1f1f1;\n",
       "        }    #T_5029e192_a4ce_11eb_9e9d_8091333da24arow7_col3 {\n",
       "            background-color:  #7398c1;\n",
       "            color:  #000000;\n",
       "        }    #T_5029e192_a4ce_11eb_9e9d_8091333da24arow7_col4 {\n",
       "            background-color:  #ceab92;\n",
       "            color:  #000000;\n",
       "        }    #T_5029e192_a4ce_11eb_9e9d_8091333da24arow8_col1 {\n",
       "            background-color:  #b5c7cf;\n",
       "            color:  #000000;\n",
       "        }    #T_5029e192_a4ce_11eb_9e9d_8091333da24arow8_col2 {\n",
       "            background-color:  #82a7c3;\n",
       "            color:  #000000;\n",
       "        }    #T_5029e192_a4ce_11eb_9e9d_8091333da24arow8_col3 {\n",
       "            background-color:  #e1d9e2;\n",
       "            color:  #000000;\n",
       "        }    #T_5029e192_a4ce_11eb_9e9d_8091333da24arow8_col4 {\n",
       "            background-color:  #e0d6da;\n",
       "            color:  #000000;\n",
       "        }    #T_5029e192_a4ce_11eb_9e9d_8091333da24arow9_col1 {\n",
       "            background-color:  #ca9c80;\n",
       "            color:  #000000;\n",
       "        }    #T_5029e192_a4ce_11eb_9e9d_8091333da24arow9_col2 {\n",
       "            background-color:  #d4beaf;\n",
       "            color:  #000000;\n",
       "        }    #T_5029e192_a4ce_11eb_9e9d_8091333da24arow9_col3 {\n",
       "            background-color:  #c0745d;\n",
       "            color:  #000000;\n",
       "        }    #T_5029e192_a4ce_11eb_9e9d_8091333da24arow9_col4 {\n",
       "            background-color:  #ded9e1;\n",
       "            color:  #000000;\n",
       "        }    #T_5029e192_a4ce_11eb_9e9d_8091333da24arow10_col1 {\n",
       "            background-color:  #b55b53;\n",
       "            color:  #000000;\n",
       "        }    #T_5029e192_a4ce_11eb_9e9d_8091333da24arow10_col2 {\n",
       "            background-color:  #bb6958;\n",
       "            color:  #000000;\n",
       "        }    #T_5029e192_a4ce_11eb_9e9d_8091333da24arow10_col3 {\n",
       "            background-color:  #a34150;\n",
       "            color:  #f1f1f1;\n",
       "        }    #T_5029e192_a4ce_11eb_9e9d_8091333da24arow10_col4 {\n",
       "            background-color:  #d6d7dd;\n",
       "            color:  #000000;\n",
       "        }    #T_5029e192_a4ce_11eb_9e9d_8091333da24arow11_col1 {\n",
       "            background-color:  #7d2150;\n",
       "            color:  #f1f1f1;\n",
       "        }    #T_5029e192_a4ce_11eb_9e9d_8091333da24arow11_col2 {\n",
       "            background-color:  #812450;\n",
       "            color:  #f1f1f1;\n",
       "        }    #T_5029e192_a4ce_11eb_9e9d_8091333da24arow11_col3 {\n",
       "            background-color:  #61184b;\n",
       "            color:  #f1f1f1;\n",
       "        }    #T_5029e192_a4ce_11eb_9e9d_8091333da24arow11_col4 {\n",
       "            background-color:  #d3d6db;\n",
       "            color:  #000000;\n",
       "        }    #T_5029e192_a4ce_11eb_9e9d_8091333da24arow12_col1 {\n",
       "            background-color:  #581647;\n",
       "            color:  #f1f1f1;\n",
       "        }    #T_5029e192_a4ce_11eb_9e9d_8091333da24arow12_col2 {\n",
       "            background-color:  #561546;\n",
       "            color:  #f1f1f1;\n",
       "        }    #T_5029e192_a4ce_11eb_9e9d_8091333da24arow12_col3 {\n",
       "            background-color:  #41123d;\n",
       "            color:  #f1f1f1;\n",
       "        }    #T_5029e192_a4ce_11eb_9e9d_8091333da24arow12_col4 {\n",
       "            background-color:  #d2d5db;\n",
       "            color:  #000000;\n",
       "        }    #T_5029e192_a4ce_11eb_9e9d_8091333da24arow13_col1 {\n",
       "            background-color:  #7f2350;\n",
       "            color:  #f1f1f1;\n",
       "        }    #T_5029e192_a4ce_11eb_9e9d_8091333da24arow13_col2 {\n",
       "            background-color:  #792050;\n",
       "            color:  #f1f1f1;\n",
       "        }    #T_5029e192_a4ce_11eb_9e9d_8091333da24arow13_col3 {\n",
       "            background-color:  #6f1c4e;\n",
       "            color:  #f1f1f1;\n",
       "        }    #T_5029e192_a4ce_11eb_9e9d_8091333da24arow13_col4 {\n",
       "            background-color:  #ced3d9;\n",
       "            color:  #000000;\n",
       "        }    #T_5029e192_a4ce_11eb_9e9d_8091333da24arow14_col1 {\n",
       "            background-color:  #2f1436;\n",
       "            color:  #f1f1f1;\n",
       "        }    #T_5029e192_a4ce_11eb_9e9d_8091333da24arow14_col2 {\n",
       "            background-color:  #2f1436;\n",
       "            color:  #f1f1f1;\n",
       "        }    #T_5029e192_a4ce_11eb_9e9d_8091333da24arow14_col3 {\n",
       "            background-color:  #2f1436;\n",
       "            color:  #f1f1f1;\n",
       "        }    #T_5029e192_a4ce_11eb_9e9d_8091333da24arow14_col4 {\n",
       "            background-color:  #c5cfd5;\n",
       "            color:  #000000;\n",
       "        }    #T_5029e192_a4ce_11eb_9e9d_8091333da24arow15_col1 {\n",
       "            background-color:  #872750;\n",
       "            color:  #f1f1f1;\n",
       "        }    #T_5029e192_a4ce_11eb_9e9d_8091333da24arow15_col2 {\n",
       "            background-color:  #a54350;\n",
       "            color:  #f1f1f1;\n",
       "        }    #T_5029e192_a4ce_11eb_9e9d_8091333da24arow15_col3 {\n",
       "            background-color:  #ae5051;\n",
       "            color:  #f1f1f1;\n",
       "        }    #T_5029e192_a4ce_11eb_9e9d_8091333da24arow15_col4 {\n",
       "            background-color:  #a6bfca;\n",
       "            color:  #000000;\n",
       "        }</style><table id=\"T_5029e192_a4ce_11eb_9e9d_8091333da24a\" ><thead>    <tr>        <th class=\"blank level0\" ></th>        <th class=\"col_heading level0 col0\" >Date</th>        <th class=\"col_heading level0 col1\" >Confirmed</th>        <th class=\"col_heading level0 col2\" >Cured</th>        <th class=\"col_heading level0 col3\" >Deaths</th>        <th class=\"col_heading level0 col4\" >Death_percentage</th>    </tr>    <tr>        <th class=\"index_name level0\" >index</th>        <th class=\"blank\" ></th>        <th class=\"blank\" ></th>        <th class=\"blank\" ></th>        <th class=\"blank\" ></th>        <th class=\"blank\" ></th>    </tr></thead><tbody>\n",
       "                <tr>\n",
       "                        <th id=\"T_5029e192_a4ce_11eb_9e9d_8091333da24alevel0_row0\" class=\"row_heading level0 row0\" >0</th>\n",
       "                        <td id=\"T_5029e192_a4ce_11eb_9e9d_8091333da24arow0_col0\" class=\"data row0 col0\" >2020-01-31 00:00:00</td>\n",
       "                        <td id=\"T_5029e192_a4ce_11eb_9e9d_8091333da24arow0_col1\" class=\"data row0 col1\" >2</td>\n",
       "                        <td id=\"T_5029e192_a4ce_11eb_9e9d_8091333da24arow0_col2\" class=\"data row0 col2\" >0</td>\n",
       "                        <td id=\"T_5029e192_a4ce_11eb_9e9d_8091333da24arow0_col3\" class=\"data row0 col3\" >0</td>\n",
       "                        <td id=\"T_5029e192_a4ce_11eb_9e9d_8091333da24arow0_col4\" class=\"data row0 col4\" >0.000000</td>\n",
       "            </tr>\n",
       "            <tr>\n",
       "                        <th id=\"T_5029e192_a4ce_11eb_9e9d_8091333da24alevel0_row1\" class=\"row_heading level0 row1\" >1</th>\n",
       "                        <td id=\"T_5029e192_a4ce_11eb_9e9d_8091333da24arow1_col0\" class=\"data row1 col0\" >2020-02-29 00:00:00</td>\n",
       "                        <td id=\"T_5029e192_a4ce_11eb_9e9d_8091333da24arow1_col1\" class=\"data row1 col1\" >86</td>\n",
       "                        <td id=\"T_5029e192_a4ce_11eb_9e9d_8091333da24arow1_col2\" class=\"data row1 col2\" >0</td>\n",
       "                        <td id=\"T_5029e192_a4ce_11eb_9e9d_8091333da24arow1_col3\" class=\"data row1 col3\" >0</td>\n",
       "                        <td id=\"T_5029e192_a4ce_11eb_9e9d_8091333da24arow1_col4\" class=\"data row1 col4\" >0.000000</td>\n",
       "            </tr>\n",
       "            <tr>\n",
       "                        <th id=\"T_5029e192_a4ce_11eb_9e9d_8091333da24alevel0_row2\" class=\"row_heading level0 row2\" >2</th>\n",
       "                        <td id=\"T_5029e192_a4ce_11eb_9e9d_8091333da24arow2_col0\" class=\"data row2 col0\" >2020-03-31 00:00:00</td>\n",
       "                        <td id=\"T_5029e192_a4ce_11eb_9e9d_8091333da24arow2_col1\" class=\"data row2 col1\" >9687</td>\n",
       "                        <td id=\"T_5029e192_a4ce_11eb_9e9d_8091333da24arow2_col2\" class=\"data row2 col2\" >808</td>\n",
       "                        <td id=\"T_5029e192_a4ce_11eb_9e9d_8091333da24arow2_col3\" class=\"data row2 col3\" >202</td>\n",
       "                        <td id=\"T_5029e192_a4ce_11eb_9e9d_8091333da24arow2_col4\" class=\"data row2 col4\" >2.085269</td>\n",
       "            </tr>\n",
       "            <tr>\n",
       "                        <th id=\"T_5029e192_a4ce_11eb_9e9d_8091333da24alevel0_row3\" class=\"row_heading level0 row3\" >3</th>\n",
       "                        <td id=\"T_5029e192_a4ce_11eb_9e9d_8091333da24arow3_col0\" class=\"data row3 col0\" >2020-04-30 00:00:00</td>\n",
       "                        <td id=\"T_5029e192_a4ce_11eb_9e9d_8091333da24arow3_col1\" class=\"data row3 col1\" >422442</td>\n",
       "                        <td id=\"T_5029e192_a4ce_11eb_9e9d_8091333da24arow3_col2\" class=\"data row3 col2\" >75443</td>\n",
       "                        <td id=\"T_5029e192_a4ce_11eb_9e9d_8091333da24arow3_col3\" class=\"data row3 col3\" >13270</td>\n",
       "                        <td id=\"T_5029e192_a4ce_11eb_9e9d_8091333da24arow3_col4\" class=\"data row3 col4\" >3.141260</td>\n",
       "            </tr>\n",
       "            <tr>\n",
       "                        <th id=\"T_5029e192_a4ce_11eb_9e9d_8091333da24alevel0_row4\" class=\"row_heading level0 row4\" >4</th>\n",
       "                        <td id=\"T_5029e192_a4ce_11eb_9e9d_8091333da24arow4_col0\" class=\"data row4 col0\" >2020-05-31 00:00:00</td>\n",
       "                        <td id=\"T_5029e192_a4ce_11eb_9e9d_8091333da24arow4_col1\" class=\"data row4 col1\" >2938234</td>\n",
       "                        <td id=\"T_5029e192_a4ce_11eb_9e9d_8091333da24arow4_col2\" class=\"data row4 col2\" >1133341</td>\n",
       "                        <td id=\"T_5029e192_a4ce_11eb_9e9d_8091333da24arow4_col3\" class=\"data row4 col3\" >89834</td>\n",
       "                        <td id=\"T_5029e192_a4ce_11eb_9e9d_8091333da24arow4_col4\" class=\"data row4 col4\" >3.057415</td>\n",
       "            </tr>\n",
       "            <tr>\n",
       "                        <th id=\"T_5029e192_a4ce_11eb_9e9d_8091333da24alevel0_row5\" class=\"row_heading level0 row5\" >5</th>\n",
       "                        <td id=\"T_5029e192_a4ce_11eb_9e9d_8091333da24arow5_col0\" class=\"data row5 col0\" >2020-06-30 00:00:00</td>\n",
       "                        <td id=\"T_5029e192_a4ce_11eb_9e9d_8091333da24arow5_col1\" class=\"data row5 col1\" >10558374</td>\n",
       "                        <td id=\"T_5029e192_a4ce_11eb_9e9d_8091333da24arow5_col2\" class=\"data row5 col2\" >5668946</td>\n",
       "                        <td id=\"T_5029e192_a4ce_11eb_9e9d_8091333da24arow5_col3\" class=\"data row5 col3\" >319690</td>\n",
       "                        <td id=\"T_5029e192_a4ce_11eb_9e9d_8091333da24arow5_col4\" class=\"data row5 col4\" >3.027834</td>\n",
       "            </tr>\n",
       "            <tr>\n",
       "                        <th id=\"T_5029e192_a4ce_11eb_9e9d_8091333da24alevel0_row6\" class=\"row_heading level0 row6\" >6</th>\n",
       "                        <td id=\"T_5029e192_a4ce_11eb_9e9d_8091333da24arow6_col0\" class=\"data row6 col0\" >2020-07-31 00:00:00</td>\n",
       "                        <td id=\"T_5029e192_a4ce_11eb_9e9d_8091333da24arow6_col1\" class=\"data row6 col1\" >31726501</td>\n",
       "                        <td id=\"T_5029e192_a4ce_11eb_9e9d_8091333da24arow6_col2\" class=\"data row6 col2\" >19980130</td>\n",
       "                        <td id=\"T_5029e192_a4ce_11eb_9e9d_8091333da24arow6_col3\" class=\"data row6 col3\" >793511</td>\n",
       "                        <td id=\"T_5029e192_a4ce_11eb_9e9d_8091333da24arow6_col4\" class=\"data row6 col4\" >2.501098</td>\n",
       "            </tr>\n",
       "            <tr>\n",
       "                        <th id=\"T_5029e192_a4ce_11eb_9e9d_8091333da24alevel0_row7\" class=\"row_heading level0 row7\" >7</th>\n",
       "                        <td id=\"T_5029e192_a4ce_11eb_9e9d_8091333da24arow7_col0\" class=\"data row7 col0\" >2020-08-31 00:00:00</td>\n",
       "                        <td id=\"T_5029e192_a4ce_11eb_9e9d_8091333da24arow7_col1\" class=\"data row7 col1\" >80749620</td>\n",
       "                        <td id=\"T_5029e192_a4ce_11eb_9e9d_8091333da24arow7_col2\" class=\"data row7 col2\" >58580895</td>\n",
       "                        <td id=\"T_5029e192_a4ce_11eb_9e9d_8091333da24arow7_col3\" class=\"data row7 col3\" >1553468</td>\n",
       "                        <td id=\"T_5029e192_a4ce_11eb_9e9d_8091333da24arow7_col4\" class=\"data row7 col4\" >1.923808</td>\n",
       "            </tr>\n",
       "            <tr>\n",
       "                        <th id=\"T_5029e192_a4ce_11eb_9e9d_8091333da24alevel0_row8\" class=\"row_heading level0 row8\" >8</th>\n",
       "                        <td id=\"T_5029e192_a4ce_11eb_9e9d_8091333da24arow8_col0\" class=\"data row8 col0\" >2020-09-30 00:00:00</td>\n",
       "                        <td id=\"T_5029e192_a4ce_11eb_9e9d_8091333da24arow8_col1\" class=\"data row8 col1\" >149113758</td>\n",
       "                        <td id=\"T_5029e192_a4ce_11eb_9e9d_8091333da24arow8_col2\" class=\"data row8 col2\" >118592934</td>\n",
       "                        <td id=\"T_5029e192_a4ce_11eb_9e9d_8091333da24arow8_col3\" class=\"data row8 col3\" >2443374</td>\n",
       "                        <td id=\"T_5029e192_a4ce_11eb_9e9d_8091333da24arow8_col4\" class=\"data row8 col4\" >1.638597</td>\n",
       "            </tr>\n",
       "            <tr>\n",
       "                        <th id=\"T_5029e192_a4ce_11eb_9e9d_8091333da24alevel0_row9\" class=\"row_heading level0 row9\" >9</th>\n",
       "                        <td id=\"T_5029e192_a4ce_11eb_9e9d_8091333da24arow9_col0\" class=\"data row9 col0\" >2020-10-31 00:00:00</td>\n",
       "                        <td id=\"T_5029e192_a4ce_11eb_9e9d_8091333da24arow9_col1\" class=\"data row9 col1\" >226770312</td>\n",
       "                        <td id=\"T_5029e192_a4ce_11eb_9e9d_8091333da24arow9_col2\" class=\"data row9 col2\" >198824412</td>\n",
       "                        <td id=\"T_5029e192_a4ce_11eb_9e9d_8091333da24arow9_col3\" class=\"data row9 col3\" >3457615</td>\n",
       "                        <td id=\"T_5029e192_a4ce_11eb_9e9d_8091333da24arow9_col4\" class=\"data row9 col4\" >1.524721</td>\n",
       "            </tr>\n",
       "            <tr>\n",
       "                        <th id=\"T_5029e192_a4ce_11eb_9e9d_8091333da24alevel0_row10\" class=\"row_heading level0 row10\" >10</th>\n",
       "                        <td id=\"T_5029e192_a4ce_11eb_9e9d_8091333da24arow10_col0\" class=\"data row10 col0\" >2020-11-30 00:00:00</td>\n",
       "                        <td id=\"T_5029e192_a4ce_11eb_9e9d_8091333da24arow10_col1\" class=\"data row10 col1\" >264556412</td>\n",
       "                        <td id=\"T_5029e192_a4ce_11eb_9e9d_8091333da24arow10_col2\" class=\"data row10 col2\" >246213201</td>\n",
       "                        <td id=\"T_5029e192_a4ce_11eb_9e9d_8091333da24arow10_col3\" class=\"data row10 col3\" >3894165</td>\n",
       "                        <td id=\"T_5029e192_a4ce_11eb_9e9d_8091333da24arow10_col4\" class=\"data row10 col4\" >1.471960</td>\n",
       "            </tr>\n",
       "            <tr>\n",
       "                        <th id=\"T_5029e192_a4ce_11eb_9e9d_8091333da24alevel0_row11\" class=\"row_heading level0 row11\" >11</th>\n",
       "                        <td id=\"T_5029e192_a4ce_11eb_9e9d_8091333da24arow11_col0\" class=\"data row11 col0\" >2020-12-31 00:00:00</td>\n",
       "                        <td id=\"T_5029e192_a4ce_11eb_9e9d_8091333da24arow11_col1\" class=\"data row11 col1\" >307177353</td>\n",
       "                        <td id=\"T_5029e192_a4ce_11eb_9e9d_8091333da24arow11_col2\" class=\"data row11 col2\" >292244085</td>\n",
       "                        <td id=\"T_5029e192_a4ce_11eb_9e9d_8091333da24arow11_col3\" class=\"data row11 col3\" >4457379</td>\n",
       "                        <td id=\"T_5029e192_a4ce_11eb_9e9d_8091333da24arow11_col4\" class=\"data row11 col4\" >1.451077</td>\n",
       "            </tr>\n",
       "            <tr>\n",
       "                        <th id=\"T_5029e192_a4ce_11eb_9e9d_8091333da24alevel0_row12\" class=\"row_heading level0 row12\" >12</th>\n",
       "                        <td id=\"T_5029e192_a4ce_11eb_9e9d_8091333da24arow12_col0\" class=\"data row12 col0\" >2021-01-31 00:00:00</td>\n",
       "                        <td id=\"T_5029e192_a4ce_11eb_9e9d_8091333da24arow12_col1\" class=\"data row12 col1\" >326469747</td>\n",
       "                        <td id=\"T_5029e192_a4ce_11eb_9e9d_8091333da24arow12_col2\" class=\"data row12 col2\" >315332019</td>\n",
       "                        <td id=\"T_5029e192_a4ce_11eb_9e9d_8091333da24arow12_col3\" class=\"data row12 col3\" >4709167</td>\n",
       "                        <td id=\"T_5029e192_a4ce_11eb_9e9d_8091333da24arow12_col4\" class=\"data row12 col4\" >1.442451</td>\n",
       "            </tr>\n",
       "            <tr>\n",
       "                        <th id=\"T_5029e192_a4ce_11eb_9e9d_8091333da24alevel0_row13\" class=\"row_heading level0 row13\" >13</th>\n",
       "                        <td id=\"T_5029e192_a4ce_11eb_9e9d_8091333da24arow13_col0\" class=\"data row13 col0\" >2021-02-28 00:00:00</td>\n",
       "                        <td id=\"T_5029e192_a4ce_11eb_9e9d_8091333da24arow13_col1\" class=\"data row13 col1\" >305631803</td>\n",
       "                        <td id=\"T_5029e192_a4ce_11eb_9e9d_8091333da24arow13_col2\" class=\"data row13 col2\" >297133802</td>\n",
       "                        <td id=\"T_5029e192_a4ce_11eb_9e9d_8091333da24arow13_col3\" class=\"data row13 col3\" >4359434</td>\n",
       "                        <td id=\"T_5029e192_a4ce_11eb_9e9d_8091333da24arow13_col4\" class=\"data row13 col4\" >1.426368</td>\n",
       "            </tr>\n",
       "            <tr>\n",
       "                        <th id=\"T_5029e192_a4ce_11eb_9e9d_8091333da24alevel0_row14\" class=\"row_heading level0 row14\" >14</th>\n",
       "                        <td id=\"T_5029e192_a4ce_11eb_9e9d_8091333da24arow14_col0\" class=\"data row14 col0\" >2021-03-31 00:00:00</td>\n",
       "                        <td id=\"T_5029e192_a4ce_11eb_9e9d_8091333da24arow14_col1\" class=\"data row14 col1\" >356305616</td>\n",
       "                        <td id=\"T_5029e192_a4ce_11eb_9e9d_8091333da24arow14_col2\" class=\"data row14 col2\" >342610397</td>\n",
       "                        <td id=\"T_5029e192_a4ce_11eb_9e9d_8091333da24arow14_col3\" class=\"data row14 col3\" >4935253</td>\n",
       "                        <td id=\"T_5029e192_a4ce_11eb_9e9d_8091333da24arow14_col4\" class=\"data row14 col4\" >1.385118</td>\n",
       "            </tr>\n",
       "            <tr>\n",
       "                        <th id=\"T_5029e192_a4ce_11eb_9e9d_8091333da24alevel0_row15\" class=\"row_heading level0 row15\" >15</th>\n",
       "                        <td id=\"T_5029e192_a4ce_11eb_9e9d_8091333da24arow15_col0\" class=\"data row15 col0\" >2021-04-30 00:00:00</td>\n",
       "                        <td id=\"T_5029e192_a4ce_11eb_9e9d_8091333da24arow15_col1\" class=\"data row15 col1\" >300740086</td>\n",
       "                        <td id=\"T_5029e192_a4ce_11eb_9e9d_8091333da24arow15_col2\" class=\"data row15 col2\" >269239666</td>\n",
       "                        <td id=\"T_5029e192_a4ce_11eb_9e9d_8091333da24arow15_col3\" class=\"data row15 col3\" >3764157</td>\n",
       "                        <td id=\"T_5029e192_a4ce_11eb_9e9d_8091333da24arow15_col4\" class=\"data row15 col4\" >1.251631</td>\n",
       "            </tr>\n",
       "    </tbody></table>"
      ],
      "text/plain": [
       "<pandas.io.formats.style.Styler at 0x1c1305e7f88>"
      ]
     },
     "execution_count": 212,
     "metadata": {},
     "output_type": "execute_result"
    }
   ],
   "source": [
    "month_wise = covid_data.groupby(pd.Grouper(key='Date',freq='M')).sum()\n",
    "\n",
    "month_wise = month_wise.drop(['Sno'], axis = 1)\n",
    "month_wise['Date'] = month_wise.index\n",
    "\n",
    "first_column = month_wise.pop('Date')\n",
    "month_wise.insert(0, 'Date', first_column)\n",
    "\n",
    "index = [x for x in range(len(month_wise))]\n",
    "month_wise['index'] = index\n",
    "month_wise = month_wise.set_index('index')\n",
    "\n",
    "second_column = month_wise.pop('Confirmed')\n",
    "month_wise.insert(1, 'Confirmed', second_column)\n",
    "month_wise[\"Death_percentage\"] = ((month_wise[\"Deaths\"] / month_wise[\"Confirmed\"]) * 100)\n",
    "month_wise.style.background_gradient(cmap='twilight_shifted')"
   ]
  },
  {
   "cell_type": "code",
   "execution_count": 213,
   "metadata": {
    "scrolled": true
   },
   "outputs": [
    {
     "data": {
      "application/vnd.plotly.v1+json": {
       "config": {
        "plotlyServerURL": "https://plot.ly"
       },
       "data": [
        {
         "alignmentgroup": "True",
         "customdata": [
          [
           0,
           0
          ]
         ],
         "hovertemplate": "Date(monthwise)=%{x}<br>Confirmed=%{y}<br>Cured=%{customdata[0]}<br>Deaths=%{customdata[1]}<extra></extra>",
         "legendgroup": "2020-01-31 00:00:00",
         "marker": {
          "color": "#FF6692"
         },
         "name": "2020-01-31 00:00:00",
         "offsetgroup": "2020-01-31 00:00:00",
         "orientation": "v",
         "showlegend": true,
         "textposition": "auto",
         "type": "bar",
         "x": [
          "2020-01-31T00:00:00"
         ],
         "xaxis": "x",
         "y": [
          2
         ],
         "yaxis": "y"
        },
        {
         "alignmentgroup": "True",
         "customdata": [
          [
           0,
           0
          ]
         ],
         "hovertemplate": "Date(monthwise)=%{x}<br>Confirmed=%{y}<br>Cured=%{customdata[0]}<br>Deaths=%{customdata[1]}<extra></extra>",
         "legendgroup": "2020-02-29 00:00:00",
         "marker": {
          "color": "#B6E880"
         },
         "name": "2020-02-29 00:00:00",
         "offsetgroup": "2020-02-29 00:00:00",
         "orientation": "v",
         "showlegend": true,
         "textposition": "auto",
         "type": "bar",
         "x": [
          "2020-02-29T00:00:00"
         ],
         "xaxis": "x",
         "y": [
          86
         ],
         "yaxis": "y"
        },
        {
         "alignmentgroup": "True",
         "customdata": [
          [
           808,
           202
          ]
         ],
         "hovertemplate": "Date(monthwise)=%{x}<br>Confirmed=%{y}<br>Cured=%{customdata[0]}<br>Deaths=%{customdata[1]}<extra></extra>",
         "legendgroup": "2020-03-31 00:00:00",
         "marker": {
          "color": "#FF97FF"
         },
         "name": "2020-03-31 00:00:00",
         "offsetgroup": "2020-03-31 00:00:00",
         "orientation": "v",
         "showlegend": true,
         "textposition": "auto",
         "type": "bar",
         "x": [
          "2020-03-31T00:00:00"
         ],
         "xaxis": "x",
         "y": [
          9687
         ],
         "yaxis": "y"
        },
        {
         "alignmentgroup": "True",
         "customdata": [
          [
           75443,
           13270
          ]
         ],
         "hovertemplate": "Date(monthwise)=%{x}<br>Confirmed=%{y}<br>Cured=%{customdata[0]}<br>Deaths=%{customdata[1]}<extra></extra>",
         "legendgroup": "2020-04-30 00:00:00",
         "marker": {
          "color": "#FECB52"
         },
         "name": "2020-04-30 00:00:00",
         "offsetgroup": "2020-04-30 00:00:00",
         "orientation": "v",
         "showlegend": true,
         "textposition": "auto",
         "type": "bar",
         "x": [
          "2020-04-30T00:00:00"
         ],
         "xaxis": "x",
         "y": [
          422442
         ],
         "yaxis": "y"
        },
        {
         "alignmentgroup": "True",
         "customdata": [
          [
           1133341,
           89834
          ]
         ],
         "hovertemplate": "Date(monthwise)=%{x}<br>Confirmed=%{y}<br>Cured=%{customdata[0]}<br>Deaths=%{customdata[1]}<extra></extra>",
         "legendgroup": "2020-05-31 00:00:00",
         "marker": {
          "color": "#636efa"
         },
         "name": "2020-05-31 00:00:00",
         "offsetgroup": "2020-05-31 00:00:00",
         "orientation": "v",
         "showlegend": true,
         "textposition": "auto",
         "type": "bar",
         "x": [
          "2020-05-31T00:00:00"
         ],
         "xaxis": "x",
         "y": [
          2938234
         ],
         "yaxis": "y"
        },
        {
         "alignmentgroup": "True",
         "customdata": [
          [
           5668946,
           319690
          ]
         ],
         "hovertemplate": "Date(monthwise)=%{x}<br>Confirmed=%{y}<br>Cured=%{customdata[0]}<br>Deaths=%{customdata[1]}<extra></extra>",
         "legendgroup": "2020-06-30 00:00:00",
         "marker": {
          "color": "#EF553B"
         },
         "name": "2020-06-30 00:00:00",
         "offsetgroup": "2020-06-30 00:00:00",
         "orientation": "v",
         "showlegend": true,
         "textposition": "auto",
         "type": "bar",
         "x": [
          "2020-06-30T00:00:00"
         ],
         "xaxis": "x",
         "y": [
          10558374
         ],
         "yaxis": "y"
        },
        {
         "alignmentgroup": "True",
         "customdata": [
          [
           19980130,
           793511
          ]
         ],
         "hovertemplate": "Date(monthwise)=%{x}<br>Confirmed=%{y}<br>Cured=%{customdata[0]}<br>Deaths=%{customdata[1]}<extra></extra>",
         "legendgroup": "2020-07-31 00:00:00",
         "marker": {
          "color": "#00cc96"
         },
         "name": "2020-07-31 00:00:00",
         "offsetgroup": "2020-07-31 00:00:00",
         "orientation": "v",
         "showlegend": true,
         "textposition": "auto",
         "type": "bar",
         "x": [
          "2020-07-31T00:00:00"
         ],
         "xaxis": "x",
         "y": [
          31726501
         ],
         "yaxis": "y"
        },
        {
         "alignmentgroup": "True",
         "customdata": [
          [
           58580895,
           1553468
          ]
         ],
         "hovertemplate": "Date(monthwise)=%{x}<br>Confirmed=%{y}<br>Cured=%{customdata[0]}<br>Deaths=%{customdata[1]}<extra></extra>",
         "legendgroup": "2020-08-31 00:00:00",
         "marker": {
          "color": "#ab63fa"
         },
         "name": "2020-08-31 00:00:00",
         "offsetgroup": "2020-08-31 00:00:00",
         "orientation": "v",
         "showlegend": true,
         "textposition": "auto",
         "type": "bar",
         "x": [
          "2020-08-31T00:00:00"
         ],
         "xaxis": "x",
         "y": [
          80749620
         ],
         "yaxis": "y"
        },
        {
         "alignmentgroup": "True",
         "customdata": [
          [
           118592934,
           2443374
          ]
         ],
         "hovertemplate": "Date(monthwise)=%{x}<br>Confirmed=%{y}<br>Cured=%{customdata[0]}<br>Deaths=%{customdata[1]}<extra></extra>",
         "legendgroup": "2020-09-30 00:00:00",
         "marker": {
          "color": "#FFA15A"
         },
         "name": "2020-09-30 00:00:00",
         "offsetgroup": "2020-09-30 00:00:00",
         "orientation": "v",
         "showlegend": true,
         "textposition": "auto",
         "type": "bar",
         "x": [
          "2020-09-30T00:00:00"
         ],
         "xaxis": "x",
         "y": [
          149113758
         ],
         "yaxis": "y"
        },
        {
         "alignmentgroup": "True",
         "customdata": [
          [
           198824412,
           3457615
          ]
         ],
         "hovertemplate": "Date(monthwise)=%{x}<br>Confirmed=%{y}<br>Cured=%{customdata[0]}<br>Deaths=%{customdata[1]}<extra></extra>",
         "legendgroup": "2020-10-31 00:00:00",
         "marker": {
          "color": "#19d3f3"
         },
         "name": "2020-10-31 00:00:00",
         "offsetgroup": "2020-10-31 00:00:00",
         "orientation": "v",
         "showlegend": true,
         "textposition": "auto",
         "type": "bar",
         "x": [
          "2020-10-31T00:00:00"
         ],
         "xaxis": "x",
         "y": [
          226770312
         ],
         "yaxis": "y"
        },
        {
         "alignmentgroup": "True",
         "customdata": [
          [
           246213201,
           3894165
          ]
         ],
         "hovertemplate": "Date(monthwise)=%{x}<br>Confirmed=%{y}<br>Cured=%{customdata[0]}<br>Deaths=%{customdata[1]}<extra></extra>",
         "legendgroup": "2020-11-30 00:00:00",
         "marker": {
          "color": "#FF6692"
         },
         "name": "2020-11-30 00:00:00",
         "offsetgroup": "2020-11-30 00:00:00",
         "orientation": "v",
         "showlegend": true,
         "textposition": "auto",
         "type": "bar",
         "x": [
          "2020-11-30T00:00:00"
         ],
         "xaxis": "x",
         "y": [
          264556412
         ],
         "yaxis": "y"
        },
        {
         "alignmentgroup": "True",
         "customdata": [
          [
           292244085,
           4457379
          ]
         ],
         "hovertemplate": "Date(monthwise)=%{x}<br>Confirmed=%{y}<br>Cured=%{customdata[0]}<br>Deaths=%{customdata[1]}<extra></extra>",
         "legendgroup": "2020-12-31 00:00:00",
         "marker": {
          "color": "#B6E880"
         },
         "name": "2020-12-31 00:00:00",
         "offsetgroup": "2020-12-31 00:00:00",
         "orientation": "v",
         "showlegend": true,
         "textposition": "auto",
         "type": "bar",
         "x": [
          "2020-12-31T00:00:00"
         ],
         "xaxis": "x",
         "y": [
          307177353
         ],
         "yaxis": "y"
        },
        {
         "alignmentgroup": "True",
         "customdata": [
          [
           315332019,
           4709167
          ]
         ],
         "hovertemplate": "Date(monthwise)=%{x}<br>Confirmed=%{y}<br>Cured=%{customdata[0]}<br>Deaths=%{customdata[1]}<extra></extra>",
         "legendgroup": "2021-01-31 00:00:00",
         "marker": {
          "color": "#FF97FF"
         },
         "name": "2021-01-31 00:00:00",
         "offsetgroup": "2021-01-31 00:00:00",
         "orientation": "v",
         "showlegend": true,
         "textposition": "auto",
         "type": "bar",
         "x": [
          "2021-01-31T00:00:00"
         ],
         "xaxis": "x",
         "y": [
          326469747
         ],
         "yaxis": "y"
        },
        {
         "alignmentgroup": "True",
         "customdata": [
          [
           297133802,
           4359434
          ]
         ],
         "hovertemplate": "Date(monthwise)=%{x}<br>Confirmed=%{y}<br>Cured=%{customdata[0]}<br>Deaths=%{customdata[1]}<extra></extra>",
         "legendgroup": "2021-02-28 00:00:00",
         "marker": {
          "color": "#FECB52"
         },
         "name": "2021-02-28 00:00:00",
         "offsetgroup": "2021-02-28 00:00:00",
         "orientation": "v",
         "showlegend": true,
         "textposition": "auto",
         "type": "bar",
         "x": [
          "2021-02-28T00:00:00"
         ],
         "xaxis": "x",
         "y": [
          305631803
         ],
         "yaxis": "y"
        },
        {
         "alignmentgroup": "True",
         "customdata": [
          [
           342610397,
           4935253
          ]
         ],
         "hovertemplate": "Date(monthwise)=%{x}<br>Confirmed=%{y}<br>Cured=%{customdata[0]}<br>Deaths=%{customdata[1]}<extra></extra>",
         "legendgroup": "2021-03-31 00:00:00",
         "marker": {
          "color": "#636efa"
         },
         "name": "2021-03-31 00:00:00",
         "offsetgroup": "2021-03-31 00:00:00",
         "orientation": "v",
         "showlegend": true,
         "textposition": "auto",
         "type": "bar",
         "x": [
          "2021-03-31T00:00:00"
         ],
         "xaxis": "x",
         "y": [
          356305616
         ],
         "yaxis": "y"
        },
        {
         "alignmentgroup": "True",
         "customdata": [
          [
           269239666,
           3764157
          ]
         ],
         "hovertemplate": "Date(monthwise)=%{x}<br>Confirmed=%{y}<br>Cured=%{customdata[0]}<br>Deaths=%{customdata[1]}<extra></extra>",
         "legendgroup": "2021-04-30 00:00:00",
         "marker": {
          "color": "#EF553B"
         },
         "name": "2021-04-30 00:00:00",
         "offsetgroup": "2021-04-30 00:00:00",
         "orientation": "v",
         "showlegend": true,
         "textposition": "auto",
         "type": "bar",
         "x": [
          "2021-04-30T00:00:00"
         ],
         "xaxis": "x",
         "y": [
          300740086
         ],
         "yaxis": "y"
        }
       ],
       "layout": {
        "barmode": "relative",
        "height": 400,
        "legend": {
         "title": {
          "text": "Date(monthwise)"
         },
         "tracegroupgap": 0
        },
        "template": {
         "data": {
          "bar": [
           {
            "error_x": {
             "color": "#2a3f5f"
            },
            "error_y": {
             "color": "#2a3f5f"
            },
            "marker": {
             "line": {
              "color": "#E5ECF6",
              "width": 0.5
             }
            },
            "type": "bar"
           }
          ],
          "barpolar": [
           {
            "marker": {
             "line": {
              "color": "#E5ECF6",
              "width": 0.5
             }
            },
            "type": "barpolar"
           }
          ],
          "carpet": [
           {
            "aaxis": {
             "endlinecolor": "#2a3f5f",
             "gridcolor": "white",
             "linecolor": "white",
             "minorgridcolor": "white",
             "startlinecolor": "#2a3f5f"
            },
            "baxis": {
             "endlinecolor": "#2a3f5f",
             "gridcolor": "white",
             "linecolor": "white",
             "minorgridcolor": "white",
             "startlinecolor": "#2a3f5f"
            },
            "type": "carpet"
           }
          ],
          "choropleth": [
           {
            "colorbar": {
             "outlinewidth": 0,
             "ticks": ""
            },
            "type": "choropleth"
           }
          ],
          "contour": [
           {
            "colorbar": {
             "outlinewidth": 0,
             "ticks": ""
            },
            "colorscale": [
             [
              0,
              "#0d0887"
             ],
             [
              0.1111111111111111,
              "#46039f"
             ],
             [
              0.2222222222222222,
              "#7201a8"
             ],
             [
              0.3333333333333333,
              "#9c179e"
             ],
             [
              0.4444444444444444,
              "#bd3786"
             ],
             [
              0.5555555555555556,
              "#d8576b"
             ],
             [
              0.6666666666666666,
              "#ed7953"
             ],
             [
              0.7777777777777778,
              "#fb9f3a"
             ],
             [
              0.8888888888888888,
              "#fdca26"
             ],
             [
              1,
              "#f0f921"
             ]
            ],
            "type": "contour"
           }
          ],
          "contourcarpet": [
           {
            "colorbar": {
             "outlinewidth": 0,
             "ticks": ""
            },
            "type": "contourcarpet"
           }
          ],
          "heatmap": [
           {
            "colorbar": {
             "outlinewidth": 0,
             "ticks": ""
            },
            "colorscale": [
             [
              0,
              "#0d0887"
             ],
             [
              0.1111111111111111,
              "#46039f"
             ],
             [
              0.2222222222222222,
              "#7201a8"
             ],
             [
              0.3333333333333333,
              "#9c179e"
             ],
             [
              0.4444444444444444,
              "#bd3786"
             ],
             [
              0.5555555555555556,
              "#d8576b"
             ],
             [
              0.6666666666666666,
              "#ed7953"
             ],
             [
              0.7777777777777778,
              "#fb9f3a"
             ],
             [
              0.8888888888888888,
              "#fdca26"
             ],
             [
              1,
              "#f0f921"
             ]
            ],
            "type": "heatmap"
           }
          ],
          "heatmapgl": [
           {
            "colorbar": {
             "outlinewidth": 0,
             "ticks": ""
            },
            "colorscale": [
             [
              0,
              "#0d0887"
             ],
             [
              0.1111111111111111,
              "#46039f"
             ],
             [
              0.2222222222222222,
              "#7201a8"
             ],
             [
              0.3333333333333333,
              "#9c179e"
             ],
             [
              0.4444444444444444,
              "#bd3786"
             ],
             [
              0.5555555555555556,
              "#d8576b"
             ],
             [
              0.6666666666666666,
              "#ed7953"
             ],
             [
              0.7777777777777778,
              "#fb9f3a"
             ],
             [
              0.8888888888888888,
              "#fdca26"
             ],
             [
              1,
              "#f0f921"
             ]
            ],
            "type": "heatmapgl"
           }
          ],
          "histogram": [
           {
            "marker": {
             "colorbar": {
              "outlinewidth": 0,
              "ticks": ""
             }
            },
            "type": "histogram"
           }
          ],
          "histogram2d": [
           {
            "colorbar": {
             "outlinewidth": 0,
             "ticks": ""
            },
            "colorscale": [
             [
              0,
              "#0d0887"
             ],
             [
              0.1111111111111111,
              "#46039f"
             ],
             [
              0.2222222222222222,
              "#7201a8"
             ],
             [
              0.3333333333333333,
              "#9c179e"
             ],
             [
              0.4444444444444444,
              "#bd3786"
             ],
             [
              0.5555555555555556,
              "#d8576b"
             ],
             [
              0.6666666666666666,
              "#ed7953"
             ],
             [
              0.7777777777777778,
              "#fb9f3a"
             ],
             [
              0.8888888888888888,
              "#fdca26"
             ],
             [
              1,
              "#f0f921"
             ]
            ],
            "type": "histogram2d"
           }
          ],
          "histogram2dcontour": [
           {
            "colorbar": {
             "outlinewidth": 0,
             "ticks": ""
            },
            "colorscale": [
             [
              0,
              "#0d0887"
             ],
             [
              0.1111111111111111,
              "#46039f"
             ],
             [
              0.2222222222222222,
              "#7201a8"
             ],
             [
              0.3333333333333333,
              "#9c179e"
             ],
             [
              0.4444444444444444,
              "#bd3786"
             ],
             [
              0.5555555555555556,
              "#d8576b"
             ],
             [
              0.6666666666666666,
              "#ed7953"
             ],
             [
              0.7777777777777778,
              "#fb9f3a"
             ],
             [
              0.8888888888888888,
              "#fdca26"
             ],
             [
              1,
              "#f0f921"
             ]
            ],
            "type": "histogram2dcontour"
           }
          ],
          "mesh3d": [
           {
            "colorbar": {
             "outlinewidth": 0,
             "ticks": ""
            },
            "type": "mesh3d"
           }
          ],
          "parcoords": [
           {
            "line": {
             "colorbar": {
              "outlinewidth": 0,
              "ticks": ""
             }
            },
            "type": "parcoords"
           }
          ],
          "pie": [
           {
            "automargin": true,
            "type": "pie"
           }
          ],
          "scatter": [
           {
            "marker": {
             "colorbar": {
              "outlinewidth": 0,
              "ticks": ""
             }
            },
            "type": "scatter"
           }
          ],
          "scatter3d": [
           {
            "line": {
             "colorbar": {
              "outlinewidth": 0,
              "ticks": ""
             }
            },
            "marker": {
             "colorbar": {
              "outlinewidth": 0,
              "ticks": ""
             }
            },
            "type": "scatter3d"
           }
          ],
          "scattercarpet": [
           {
            "marker": {
             "colorbar": {
              "outlinewidth": 0,
              "ticks": ""
             }
            },
            "type": "scattercarpet"
           }
          ],
          "scattergeo": [
           {
            "marker": {
             "colorbar": {
              "outlinewidth": 0,
              "ticks": ""
             }
            },
            "type": "scattergeo"
           }
          ],
          "scattergl": [
           {
            "marker": {
             "colorbar": {
              "outlinewidth": 0,
              "ticks": ""
             }
            },
            "type": "scattergl"
           }
          ],
          "scattermapbox": [
           {
            "marker": {
             "colorbar": {
              "outlinewidth": 0,
              "ticks": ""
             }
            },
            "type": "scattermapbox"
           }
          ],
          "scatterpolar": [
           {
            "marker": {
             "colorbar": {
              "outlinewidth": 0,
              "ticks": ""
             }
            },
            "type": "scatterpolar"
           }
          ],
          "scatterpolargl": [
           {
            "marker": {
             "colorbar": {
              "outlinewidth": 0,
              "ticks": ""
             }
            },
            "type": "scatterpolargl"
           }
          ],
          "scatterternary": [
           {
            "marker": {
             "colorbar": {
              "outlinewidth": 0,
              "ticks": ""
             }
            },
            "type": "scatterternary"
           }
          ],
          "surface": [
           {
            "colorbar": {
             "outlinewidth": 0,
             "ticks": ""
            },
            "colorscale": [
             [
              0,
              "#0d0887"
             ],
             [
              0.1111111111111111,
              "#46039f"
             ],
             [
              0.2222222222222222,
              "#7201a8"
             ],
             [
              0.3333333333333333,
              "#9c179e"
             ],
             [
              0.4444444444444444,
              "#bd3786"
             ],
             [
              0.5555555555555556,
              "#d8576b"
             ],
             [
              0.6666666666666666,
              "#ed7953"
             ],
             [
              0.7777777777777778,
              "#fb9f3a"
             ],
             [
              0.8888888888888888,
              "#fdca26"
             ],
             [
              1,
              "#f0f921"
             ]
            ],
            "type": "surface"
           }
          ],
          "table": [
           {
            "cells": {
             "fill": {
              "color": "#EBF0F8"
             },
             "line": {
              "color": "white"
             }
            },
            "header": {
             "fill": {
              "color": "#C8D4E3"
             },
             "line": {
              "color": "white"
             }
            },
            "type": "table"
           }
          ]
         },
         "layout": {
          "annotationdefaults": {
           "arrowcolor": "#2a3f5f",
           "arrowhead": 0,
           "arrowwidth": 1
          },
          "autotypenumbers": "strict",
          "coloraxis": {
           "colorbar": {
            "outlinewidth": 0,
            "ticks": ""
           }
          },
          "colorscale": {
           "diverging": [
            [
             0,
             "#8e0152"
            ],
            [
             0.1,
             "#c51b7d"
            ],
            [
             0.2,
             "#de77ae"
            ],
            [
             0.3,
             "#f1b6da"
            ],
            [
             0.4,
             "#fde0ef"
            ],
            [
             0.5,
             "#f7f7f7"
            ],
            [
             0.6,
             "#e6f5d0"
            ],
            [
             0.7,
             "#b8e186"
            ],
            [
             0.8,
             "#7fbc41"
            ],
            [
             0.9,
             "#4d9221"
            ],
            [
             1,
             "#276419"
            ]
           ],
           "sequential": [
            [
             0,
             "#0d0887"
            ],
            [
             0.1111111111111111,
             "#46039f"
            ],
            [
             0.2222222222222222,
             "#7201a8"
            ],
            [
             0.3333333333333333,
             "#9c179e"
            ],
            [
             0.4444444444444444,
             "#bd3786"
            ],
            [
             0.5555555555555556,
             "#d8576b"
            ],
            [
             0.6666666666666666,
             "#ed7953"
            ],
            [
             0.7777777777777778,
             "#fb9f3a"
            ],
            [
             0.8888888888888888,
             "#fdca26"
            ],
            [
             1,
             "#f0f921"
            ]
           ],
           "sequentialminus": [
            [
             0,
             "#0d0887"
            ],
            [
             0.1111111111111111,
             "#46039f"
            ],
            [
             0.2222222222222222,
             "#7201a8"
            ],
            [
             0.3333333333333333,
             "#9c179e"
            ],
            [
             0.4444444444444444,
             "#bd3786"
            ],
            [
             0.5555555555555556,
             "#d8576b"
            ],
            [
             0.6666666666666666,
             "#ed7953"
            ],
            [
             0.7777777777777778,
             "#fb9f3a"
            ],
            [
             0.8888888888888888,
             "#fdca26"
            ],
            [
             1,
             "#f0f921"
            ]
           ]
          },
          "colorway": [
           "#636efa",
           "#EF553B",
           "#00cc96",
           "#ab63fa",
           "#FFA15A",
           "#19d3f3",
           "#FF6692",
           "#B6E880",
           "#FF97FF",
           "#FECB52"
          ],
          "font": {
           "color": "#2a3f5f"
          },
          "geo": {
           "bgcolor": "white",
           "lakecolor": "white",
           "landcolor": "#E5ECF6",
           "showlakes": true,
           "showland": true,
           "subunitcolor": "white"
          },
          "hoverlabel": {
           "align": "left"
          },
          "hovermode": "closest",
          "mapbox": {
           "style": "light"
          },
          "paper_bgcolor": "white",
          "plot_bgcolor": "#E5ECF6",
          "polar": {
           "angularaxis": {
            "gridcolor": "white",
            "linecolor": "white",
            "ticks": ""
           },
           "bgcolor": "#E5ECF6",
           "radialaxis": {
            "gridcolor": "white",
            "linecolor": "white",
            "ticks": ""
           }
          },
          "scene": {
           "xaxis": {
            "backgroundcolor": "#E5ECF6",
            "gridcolor": "white",
            "gridwidth": 2,
            "linecolor": "white",
            "showbackground": true,
            "ticks": "",
            "zerolinecolor": "white"
           },
           "yaxis": {
            "backgroundcolor": "#E5ECF6",
            "gridcolor": "white",
            "gridwidth": 2,
            "linecolor": "white",
            "showbackground": true,
            "ticks": "",
            "zerolinecolor": "white"
           },
           "zaxis": {
            "backgroundcolor": "#E5ECF6",
            "gridcolor": "white",
            "gridwidth": 2,
            "linecolor": "white",
            "showbackground": true,
            "ticks": "",
            "zerolinecolor": "white"
           }
          },
          "shapedefaults": {
           "line": {
            "color": "#2a3f5f"
           }
          },
          "ternary": {
           "aaxis": {
            "gridcolor": "white",
            "linecolor": "white",
            "ticks": ""
           },
           "baxis": {
            "gridcolor": "white",
            "linecolor": "white",
            "ticks": ""
           },
           "bgcolor": "#E5ECF6",
           "caxis": {
            "gridcolor": "white",
            "linecolor": "white",
            "ticks": ""
           }
          },
          "title": {
           "x": 0.05
          },
          "xaxis": {
           "automargin": true,
           "gridcolor": "white",
           "linecolor": "white",
           "ticks": "",
           "title": {
            "standoff": 15
           },
           "zerolinecolor": "white",
           "zerolinewidth": 2
          },
          "yaxis": {
           "automargin": true,
           "gridcolor": "white",
           "linecolor": "white",
           "ticks": "",
           "title": {
            "standoff": 15
           },
           "zerolinecolor": "white",
           "zerolinewidth": 2
          }
         }
        },
        "title": {
         "text": "Monthwise Increase in Confirmed cases"
        },
        "xaxis": {
         "anchor": "y",
         "categoryarray": [
          1580428800000000000,
          1582934400000000000,
          1585612800000000000,
          1588204800000000000,
          1590883200000000000,
          1593475200000000000,
          1596153600000000000,
          1598832000000000000,
          1601424000000000000,
          1604102400000000000,
          1606694400000000000,
          1609372800000000000,
          1612051200000000000,
          1614470400000000000,
          1617148800000000000,
          1619740800000000000
         ],
         "categoryorder": "array",
         "domain": [
          0,
          1
         ],
         "title": {
          "text": "Date(monthwise)"
         }
        },
        "yaxis": {
         "anchor": "x",
         "domain": [
          0,
          1
         ],
         "title": {
          "text": "Confirmed"
         }
        }
       }
      },
      "text/html": [
       "<div>                            <div id=\"1467de27-88cc-4a51-8827-9aed50816b07\" class=\"plotly-graph-div\" style=\"height:400px; width:100%;\"></div>            <script type=\"text/javascript\">                require([\"plotly\"], function(Plotly) {                    window.PLOTLYENV=window.PLOTLYENV || {};                                    if (document.getElementById(\"1467de27-88cc-4a51-8827-9aed50816b07\")) {                    Plotly.newPlot(                        \"1467de27-88cc-4a51-8827-9aed50816b07\",                        [{\"alignmentgroup\": \"True\", \"customdata\": [[0, 0]], \"hovertemplate\": \"Date(monthwise)=%{x}<br>Confirmed=%{y}<br>Cured=%{customdata[0]}<br>Deaths=%{customdata[1]}<extra></extra>\", \"legendgroup\": \"2020-01-31 00:00:00\", \"marker\": {\"color\": \"#FF6692\"}, \"name\": \"2020-01-31 00:00:00\", \"offsetgroup\": \"2020-01-31 00:00:00\", \"orientation\": \"v\", \"showlegend\": true, \"textposition\": \"auto\", \"type\": \"bar\", \"x\": [\"2020-01-31T00:00:00\"], \"xaxis\": \"x\", \"y\": [2], \"yaxis\": \"y\"}, {\"alignmentgroup\": \"True\", \"customdata\": [[0, 0]], \"hovertemplate\": \"Date(monthwise)=%{x}<br>Confirmed=%{y}<br>Cured=%{customdata[0]}<br>Deaths=%{customdata[1]}<extra></extra>\", \"legendgroup\": \"2020-02-29 00:00:00\", \"marker\": {\"color\": \"#B6E880\"}, \"name\": \"2020-02-29 00:00:00\", \"offsetgroup\": \"2020-02-29 00:00:00\", \"orientation\": \"v\", \"showlegend\": true, \"textposition\": \"auto\", \"type\": \"bar\", \"x\": [\"2020-02-29T00:00:00\"], \"xaxis\": \"x\", \"y\": [86], \"yaxis\": \"y\"}, {\"alignmentgroup\": \"True\", \"customdata\": [[808, 202]], \"hovertemplate\": \"Date(monthwise)=%{x}<br>Confirmed=%{y}<br>Cured=%{customdata[0]}<br>Deaths=%{customdata[1]}<extra></extra>\", \"legendgroup\": \"2020-03-31 00:00:00\", \"marker\": {\"color\": \"#FF97FF\"}, \"name\": \"2020-03-31 00:00:00\", \"offsetgroup\": \"2020-03-31 00:00:00\", \"orientation\": \"v\", \"showlegend\": true, \"textposition\": \"auto\", \"type\": \"bar\", \"x\": [\"2020-03-31T00:00:00\"], \"xaxis\": \"x\", \"y\": [9687], \"yaxis\": \"y\"}, {\"alignmentgroup\": \"True\", \"customdata\": [[75443, 13270]], \"hovertemplate\": \"Date(monthwise)=%{x}<br>Confirmed=%{y}<br>Cured=%{customdata[0]}<br>Deaths=%{customdata[1]}<extra></extra>\", \"legendgroup\": \"2020-04-30 00:00:00\", \"marker\": {\"color\": \"#FECB52\"}, \"name\": \"2020-04-30 00:00:00\", \"offsetgroup\": \"2020-04-30 00:00:00\", \"orientation\": \"v\", \"showlegend\": true, \"textposition\": \"auto\", \"type\": \"bar\", \"x\": [\"2020-04-30T00:00:00\"], \"xaxis\": \"x\", \"y\": [422442], \"yaxis\": \"y\"}, {\"alignmentgroup\": \"True\", \"customdata\": [[1133341, 89834]], \"hovertemplate\": \"Date(monthwise)=%{x}<br>Confirmed=%{y}<br>Cured=%{customdata[0]}<br>Deaths=%{customdata[1]}<extra></extra>\", \"legendgroup\": \"2020-05-31 00:00:00\", \"marker\": {\"color\": \"#636efa\"}, \"name\": \"2020-05-31 00:00:00\", \"offsetgroup\": \"2020-05-31 00:00:00\", \"orientation\": \"v\", \"showlegend\": true, \"textposition\": \"auto\", \"type\": \"bar\", \"x\": [\"2020-05-31T00:00:00\"], \"xaxis\": \"x\", \"y\": [2938234], \"yaxis\": \"y\"}, {\"alignmentgroup\": \"True\", \"customdata\": [[5668946, 319690]], \"hovertemplate\": \"Date(monthwise)=%{x}<br>Confirmed=%{y}<br>Cured=%{customdata[0]}<br>Deaths=%{customdata[1]}<extra></extra>\", \"legendgroup\": \"2020-06-30 00:00:00\", \"marker\": {\"color\": \"#EF553B\"}, \"name\": \"2020-06-30 00:00:00\", \"offsetgroup\": \"2020-06-30 00:00:00\", \"orientation\": \"v\", \"showlegend\": true, \"textposition\": \"auto\", \"type\": \"bar\", \"x\": [\"2020-06-30T00:00:00\"], \"xaxis\": \"x\", \"y\": [10558374], \"yaxis\": \"y\"}, {\"alignmentgroup\": \"True\", \"customdata\": [[19980130, 793511]], \"hovertemplate\": \"Date(monthwise)=%{x}<br>Confirmed=%{y}<br>Cured=%{customdata[0]}<br>Deaths=%{customdata[1]}<extra></extra>\", \"legendgroup\": \"2020-07-31 00:00:00\", \"marker\": {\"color\": \"#00cc96\"}, \"name\": \"2020-07-31 00:00:00\", \"offsetgroup\": \"2020-07-31 00:00:00\", \"orientation\": \"v\", \"showlegend\": true, \"textposition\": \"auto\", \"type\": \"bar\", \"x\": [\"2020-07-31T00:00:00\"], \"xaxis\": \"x\", \"y\": [31726501], \"yaxis\": \"y\"}, {\"alignmentgroup\": \"True\", \"customdata\": [[58580895, 1553468]], \"hovertemplate\": \"Date(monthwise)=%{x}<br>Confirmed=%{y}<br>Cured=%{customdata[0]}<br>Deaths=%{customdata[1]}<extra></extra>\", \"legendgroup\": \"2020-08-31 00:00:00\", \"marker\": {\"color\": \"#ab63fa\"}, \"name\": \"2020-08-31 00:00:00\", \"offsetgroup\": \"2020-08-31 00:00:00\", \"orientation\": \"v\", \"showlegend\": true, \"textposition\": \"auto\", \"type\": \"bar\", \"x\": [\"2020-08-31T00:00:00\"], \"xaxis\": \"x\", \"y\": [80749620], \"yaxis\": \"y\"}, {\"alignmentgroup\": \"True\", \"customdata\": [[118592934, 2443374]], \"hovertemplate\": \"Date(monthwise)=%{x}<br>Confirmed=%{y}<br>Cured=%{customdata[0]}<br>Deaths=%{customdata[1]}<extra></extra>\", \"legendgroup\": \"2020-09-30 00:00:00\", \"marker\": {\"color\": \"#FFA15A\"}, \"name\": \"2020-09-30 00:00:00\", \"offsetgroup\": \"2020-09-30 00:00:00\", \"orientation\": \"v\", \"showlegend\": true, \"textposition\": \"auto\", \"type\": \"bar\", \"x\": [\"2020-09-30T00:00:00\"], \"xaxis\": \"x\", \"y\": [149113758], \"yaxis\": \"y\"}, {\"alignmentgroup\": \"True\", \"customdata\": [[198824412, 3457615]], \"hovertemplate\": \"Date(monthwise)=%{x}<br>Confirmed=%{y}<br>Cured=%{customdata[0]}<br>Deaths=%{customdata[1]}<extra></extra>\", \"legendgroup\": \"2020-10-31 00:00:00\", \"marker\": {\"color\": \"#19d3f3\"}, \"name\": \"2020-10-31 00:00:00\", \"offsetgroup\": \"2020-10-31 00:00:00\", \"orientation\": \"v\", \"showlegend\": true, \"textposition\": \"auto\", \"type\": \"bar\", \"x\": [\"2020-10-31T00:00:00\"], \"xaxis\": \"x\", \"y\": [226770312], \"yaxis\": \"y\"}, {\"alignmentgroup\": \"True\", \"customdata\": [[246213201, 3894165]], \"hovertemplate\": \"Date(monthwise)=%{x}<br>Confirmed=%{y}<br>Cured=%{customdata[0]}<br>Deaths=%{customdata[1]}<extra></extra>\", \"legendgroup\": \"2020-11-30 00:00:00\", \"marker\": {\"color\": \"#FF6692\"}, \"name\": \"2020-11-30 00:00:00\", \"offsetgroup\": \"2020-11-30 00:00:00\", \"orientation\": \"v\", \"showlegend\": true, \"textposition\": \"auto\", \"type\": \"bar\", \"x\": [\"2020-11-30T00:00:00\"], \"xaxis\": \"x\", \"y\": [264556412], \"yaxis\": \"y\"}, {\"alignmentgroup\": \"True\", \"customdata\": [[292244085, 4457379]], \"hovertemplate\": \"Date(monthwise)=%{x}<br>Confirmed=%{y}<br>Cured=%{customdata[0]}<br>Deaths=%{customdata[1]}<extra></extra>\", \"legendgroup\": \"2020-12-31 00:00:00\", \"marker\": {\"color\": \"#B6E880\"}, \"name\": \"2020-12-31 00:00:00\", \"offsetgroup\": \"2020-12-31 00:00:00\", \"orientation\": \"v\", \"showlegend\": true, \"textposition\": \"auto\", \"type\": \"bar\", \"x\": [\"2020-12-31T00:00:00\"], \"xaxis\": \"x\", \"y\": [307177353], \"yaxis\": \"y\"}, {\"alignmentgroup\": \"True\", \"customdata\": [[315332019, 4709167]], \"hovertemplate\": \"Date(monthwise)=%{x}<br>Confirmed=%{y}<br>Cured=%{customdata[0]}<br>Deaths=%{customdata[1]}<extra></extra>\", \"legendgroup\": \"2021-01-31 00:00:00\", \"marker\": {\"color\": \"#FF97FF\"}, \"name\": \"2021-01-31 00:00:00\", \"offsetgroup\": \"2021-01-31 00:00:00\", \"orientation\": \"v\", \"showlegend\": true, \"textposition\": \"auto\", \"type\": \"bar\", \"x\": [\"2021-01-31T00:00:00\"], \"xaxis\": \"x\", \"y\": [326469747], \"yaxis\": \"y\"}, {\"alignmentgroup\": \"True\", \"customdata\": [[297133802, 4359434]], \"hovertemplate\": \"Date(monthwise)=%{x}<br>Confirmed=%{y}<br>Cured=%{customdata[0]}<br>Deaths=%{customdata[1]}<extra></extra>\", \"legendgroup\": \"2021-02-28 00:00:00\", \"marker\": {\"color\": \"#FECB52\"}, \"name\": \"2021-02-28 00:00:00\", \"offsetgroup\": \"2021-02-28 00:00:00\", \"orientation\": \"v\", \"showlegend\": true, \"textposition\": \"auto\", \"type\": \"bar\", \"x\": [\"2021-02-28T00:00:00\"], \"xaxis\": \"x\", \"y\": [305631803], \"yaxis\": \"y\"}, {\"alignmentgroup\": \"True\", \"customdata\": [[342610397, 4935253]], \"hovertemplate\": \"Date(monthwise)=%{x}<br>Confirmed=%{y}<br>Cured=%{customdata[0]}<br>Deaths=%{customdata[1]}<extra></extra>\", \"legendgroup\": \"2021-03-31 00:00:00\", \"marker\": {\"color\": \"#636efa\"}, \"name\": \"2021-03-31 00:00:00\", \"offsetgroup\": \"2021-03-31 00:00:00\", \"orientation\": \"v\", \"showlegend\": true, \"textposition\": \"auto\", \"type\": \"bar\", \"x\": [\"2021-03-31T00:00:00\"], \"xaxis\": \"x\", \"y\": [356305616], \"yaxis\": \"y\"}, {\"alignmentgroup\": \"True\", \"customdata\": [[269239666, 3764157]], \"hovertemplate\": \"Date(monthwise)=%{x}<br>Confirmed=%{y}<br>Cured=%{customdata[0]}<br>Deaths=%{customdata[1]}<extra></extra>\", \"legendgroup\": \"2021-04-30 00:00:00\", \"marker\": {\"color\": \"#EF553B\"}, \"name\": \"2021-04-30 00:00:00\", \"offsetgroup\": \"2021-04-30 00:00:00\", \"orientation\": \"v\", \"showlegend\": true, \"textposition\": \"auto\", \"type\": \"bar\", \"x\": [\"2021-04-30T00:00:00\"], \"xaxis\": \"x\", \"y\": [300740086], \"yaxis\": \"y\"}],                        {\"barmode\": \"relative\", \"height\": 400, \"legend\": {\"title\": {\"text\": \"Date(monthwise)\"}, \"tracegroupgap\": 0}, \"template\": {\"data\": {\"bar\": [{\"error_x\": {\"color\": \"#2a3f5f\"}, \"error_y\": {\"color\": \"#2a3f5f\"}, \"marker\": {\"line\": {\"color\": \"#E5ECF6\", \"width\": 0.5}}, \"type\": \"bar\"}], \"barpolar\": [{\"marker\": {\"line\": {\"color\": \"#E5ECF6\", \"width\": 0.5}}, \"type\": \"barpolar\"}], \"carpet\": [{\"aaxis\": {\"endlinecolor\": \"#2a3f5f\", \"gridcolor\": \"white\", \"linecolor\": \"white\", \"minorgridcolor\": \"white\", \"startlinecolor\": \"#2a3f5f\"}, \"baxis\": {\"endlinecolor\": \"#2a3f5f\", \"gridcolor\": \"white\", \"linecolor\": \"white\", \"minorgridcolor\": \"white\", \"startlinecolor\": \"#2a3f5f\"}, \"type\": \"carpet\"}], \"choropleth\": [{\"colorbar\": {\"outlinewidth\": 0, \"ticks\": \"\"}, \"type\": \"choropleth\"}], \"contour\": [{\"colorbar\": {\"outlinewidth\": 0, \"ticks\": \"\"}, \"colorscale\": [[0.0, \"#0d0887\"], [0.1111111111111111, \"#46039f\"], [0.2222222222222222, \"#7201a8\"], [0.3333333333333333, \"#9c179e\"], [0.4444444444444444, \"#bd3786\"], [0.5555555555555556, \"#d8576b\"], [0.6666666666666666, \"#ed7953\"], [0.7777777777777778, \"#fb9f3a\"], [0.8888888888888888, \"#fdca26\"], [1.0, \"#f0f921\"]], \"type\": \"contour\"}], \"contourcarpet\": [{\"colorbar\": {\"outlinewidth\": 0, \"ticks\": \"\"}, \"type\": \"contourcarpet\"}], \"heatmap\": [{\"colorbar\": {\"outlinewidth\": 0, \"ticks\": \"\"}, \"colorscale\": [[0.0, \"#0d0887\"], [0.1111111111111111, \"#46039f\"], [0.2222222222222222, \"#7201a8\"], [0.3333333333333333, \"#9c179e\"], [0.4444444444444444, \"#bd3786\"], [0.5555555555555556, \"#d8576b\"], [0.6666666666666666, \"#ed7953\"], [0.7777777777777778, \"#fb9f3a\"], [0.8888888888888888, \"#fdca26\"], [1.0, \"#f0f921\"]], \"type\": \"heatmap\"}], \"heatmapgl\": [{\"colorbar\": {\"outlinewidth\": 0, \"ticks\": \"\"}, \"colorscale\": [[0.0, \"#0d0887\"], [0.1111111111111111, \"#46039f\"], [0.2222222222222222, \"#7201a8\"], [0.3333333333333333, \"#9c179e\"], [0.4444444444444444, \"#bd3786\"], [0.5555555555555556, \"#d8576b\"], [0.6666666666666666, \"#ed7953\"], [0.7777777777777778, \"#fb9f3a\"], [0.8888888888888888, \"#fdca26\"], [1.0, \"#f0f921\"]], \"type\": \"heatmapgl\"}], \"histogram\": [{\"marker\": {\"colorbar\": {\"outlinewidth\": 0, \"ticks\": \"\"}}, \"type\": \"histogram\"}], \"histogram2d\": [{\"colorbar\": {\"outlinewidth\": 0, \"ticks\": \"\"}, \"colorscale\": [[0.0, \"#0d0887\"], [0.1111111111111111, \"#46039f\"], [0.2222222222222222, \"#7201a8\"], [0.3333333333333333, \"#9c179e\"], [0.4444444444444444, \"#bd3786\"], [0.5555555555555556, \"#d8576b\"], [0.6666666666666666, \"#ed7953\"], [0.7777777777777778, \"#fb9f3a\"], [0.8888888888888888, \"#fdca26\"], [1.0, \"#f0f921\"]], \"type\": \"histogram2d\"}], \"histogram2dcontour\": [{\"colorbar\": {\"outlinewidth\": 0, \"ticks\": \"\"}, \"colorscale\": [[0.0, \"#0d0887\"], [0.1111111111111111, \"#46039f\"], [0.2222222222222222, \"#7201a8\"], [0.3333333333333333, \"#9c179e\"], [0.4444444444444444, \"#bd3786\"], [0.5555555555555556, \"#d8576b\"], [0.6666666666666666, \"#ed7953\"], [0.7777777777777778, \"#fb9f3a\"], [0.8888888888888888, \"#fdca26\"], [1.0, \"#f0f921\"]], \"type\": \"histogram2dcontour\"}], \"mesh3d\": [{\"colorbar\": {\"outlinewidth\": 0, \"ticks\": \"\"}, \"type\": \"mesh3d\"}], \"parcoords\": [{\"line\": {\"colorbar\": {\"outlinewidth\": 0, \"ticks\": \"\"}}, \"type\": \"parcoords\"}], \"pie\": [{\"automargin\": true, \"type\": \"pie\"}], \"scatter\": [{\"marker\": {\"colorbar\": {\"outlinewidth\": 0, \"ticks\": \"\"}}, \"type\": \"scatter\"}], \"scatter3d\": [{\"line\": {\"colorbar\": {\"outlinewidth\": 0, \"ticks\": \"\"}}, \"marker\": {\"colorbar\": {\"outlinewidth\": 0, \"ticks\": \"\"}}, \"type\": \"scatter3d\"}], \"scattercarpet\": [{\"marker\": {\"colorbar\": {\"outlinewidth\": 0, \"ticks\": \"\"}}, \"type\": \"scattercarpet\"}], \"scattergeo\": [{\"marker\": {\"colorbar\": {\"outlinewidth\": 0, \"ticks\": \"\"}}, \"type\": \"scattergeo\"}], \"scattergl\": [{\"marker\": {\"colorbar\": {\"outlinewidth\": 0, \"ticks\": \"\"}}, \"type\": \"scattergl\"}], \"scattermapbox\": [{\"marker\": {\"colorbar\": {\"outlinewidth\": 0, \"ticks\": \"\"}}, \"type\": \"scattermapbox\"}], \"scatterpolar\": [{\"marker\": {\"colorbar\": {\"outlinewidth\": 0, \"ticks\": \"\"}}, \"type\": \"scatterpolar\"}], \"scatterpolargl\": [{\"marker\": {\"colorbar\": {\"outlinewidth\": 0, \"ticks\": \"\"}}, \"type\": \"scatterpolargl\"}], \"scatterternary\": [{\"marker\": {\"colorbar\": {\"outlinewidth\": 0, \"ticks\": \"\"}}, \"type\": \"scatterternary\"}], \"surface\": [{\"colorbar\": {\"outlinewidth\": 0, \"ticks\": \"\"}, \"colorscale\": [[0.0, \"#0d0887\"], [0.1111111111111111, \"#46039f\"], [0.2222222222222222, \"#7201a8\"], [0.3333333333333333, \"#9c179e\"], [0.4444444444444444, \"#bd3786\"], [0.5555555555555556, \"#d8576b\"], [0.6666666666666666, \"#ed7953\"], [0.7777777777777778, \"#fb9f3a\"], [0.8888888888888888, \"#fdca26\"], [1.0, \"#f0f921\"]], \"type\": \"surface\"}], \"table\": [{\"cells\": {\"fill\": {\"color\": \"#EBF0F8\"}, \"line\": {\"color\": \"white\"}}, \"header\": {\"fill\": {\"color\": \"#C8D4E3\"}, \"line\": {\"color\": \"white\"}}, \"type\": \"table\"}]}, \"layout\": {\"annotationdefaults\": {\"arrowcolor\": \"#2a3f5f\", \"arrowhead\": 0, \"arrowwidth\": 1}, \"autotypenumbers\": \"strict\", \"coloraxis\": {\"colorbar\": {\"outlinewidth\": 0, \"ticks\": \"\"}}, \"colorscale\": {\"diverging\": [[0, \"#8e0152\"], [0.1, \"#c51b7d\"], [0.2, \"#de77ae\"], [0.3, \"#f1b6da\"], [0.4, \"#fde0ef\"], [0.5, \"#f7f7f7\"], [0.6, \"#e6f5d0\"], [0.7, \"#b8e186\"], [0.8, \"#7fbc41\"], [0.9, \"#4d9221\"], [1, \"#276419\"]], \"sequential\": [[0.0, \"#0d0887\"], [0.1111111111111111, \"#46039f\"], [0.2222222222222222, \"#7201a8\"], [0.3333333333333333, \"#9c179e\"], [0.4444444444444444, \"#bd3786\"], [0.5555555555555556, \"#d8576b\"], [0.6666666666666666, \"#ed7953\"], [0.7777777777777778, \"#fb9f3a\"], [0.8888888888888888, \"#fdca26\"], [1.0, \"#f0f921\"]], \"sequentialminus\": [[0.0, \"#0d0887\"], [0.1111111111111111, \"#46039f\"], [0.2222222222222222, \"#7201a8\"], [0.3333333333333333, \"#9c179e\"], [0.4444444444444444, \"#bd3786\"], [0.5555555555555556, \"#d8576b\"], [0.6666666666666666, \"#ed7953\"], [0.7777777777777778, \"#fb9f3a\"], [0.8888888888888888, \"#fdca26\"], [1.0, \"#f0f921\"]]}, \"colorway\": [\"#636efa\", \"#EF553B\", \"#00cc96\", \"#ab63fa\", \"#FFA15A\", \"#19d3f3\", \"#FF6692\", \"#B6E880\", \"#FF97FF\", \"#FECB52\"], \"font\": {\"color\": \"#2a3f5f\"}, \"geo\": {\"bgcolor\": \"white\", \"lakecolor\": \"white\", \"landcolor\": \"#E5ECF6\", \"showlakes\": true, \"showland\": true, \"subunitcolor\": \"white\"}, \"hoverlabel\": {\"align\": \"left\"}, \"hovermode\": \"closest\", \"mapbox\": {\"style\": \"light\"}, \"paper_bgcolor\": \"white\", \"plot_bgcolor\": \"#E5ECF6\", \"polar\": {\"angularaxis\": {\"gridcolor\": \"white\", \"linecolor\": \"white\", \"ticks\": \"\"}, \"bgcolor\": \"#E5ECF6\", \"radialaxis\": {\"gridcolor\": \"white\", \"linecolor\": \"white\", \"ticks\": \"\"}}, \"scene\": {\"xaxis\": {\"backgroundcolor\": \"#E5ECF6\", \"gridcolor\": \"white\", \"gridwidth\": 2, \"linecolor\": \"white\", \"showbackground\": true, \"ticks\": \"\", \"zerolinecolor\": \"white\"}, \"yaxis\": {\"backgroundcolor\": \"#E5ECF6\", \"gridcolor\": \"white\", \"gridwidth\": 2, \"linecolor\": \"white\", \"showbackground\": true, \"ticks\": \"\", \"zerolinecolor\": \"white\"}, \"zaxis\": {\"backgroundcolor\": \"#E5ECF6\", \"gridcolor\": \"white\", \"gridwidth\": 2, \"linecolor\": \"white\", \"showbackground\": true, \"ticks\": \"\", \"zerolinecolor\": \"white\"}}, \"shapedefaults\": {\"line\": {\"color\": \"#2a3f5f\"}}, \"ternary\": {\"aaxis\": {\"gridcolor\": \"white\", \"linecolor\": \"white\", \"ticks\": \"\"}, \"baxis\": {\"gridcolor\": \"white\", \"linecolor\": \"white\", \"ticks\": \"\"}, \"bgcolor\": \"#E5ECF6\", \"caxis\": {\"gridcolor\": \"white\", \"linecolor\": \"white\", \"ticks\": \"\"}}, \"title\": {\"x\": 0.05}, \"xaxis\": {\"automargin\": true, \"gridcolor\": \"white\", \"linecolor\": \"white\", \"ticks\": \"\", \"title\": {\"standoff\": 15}, \"zerolinecolor\": \"white\", \"zerolinewidth\": 2}, \"yaxis\": {\"automargin\": true, \"gridcolor\": \"white\", \"linecolor\": \"white\", \"ticks\": \"\", \"title\": {\"standoff\": 15}, \"zerolinecolor\": \"white\", \"zerolinewidth\": 2}}}, \"title\": {\"text\": \"Monthwise Increase in Confirmed cases\"}, \"xaxis\": {\"anchor\": \"y\", \"categoryarray\": [1580428800000000000, 1582934400000000000, 1585612800000000000, 1588204800000000000, 1590883200000000000, 1593475200000000000, 1596153600000000000, 1598832000000000000, 1601424000000000000, 1604102400000000000, 1606694400000000000, 1609372800000000000, 1612051200000000000, 1614470400000000000, 1617148800000000000, 1619740800000000000], \"categoryorder\": \"array\", \"domain\": [0.0, 1.0], \"title\": {\"text\": \"Date(monthwise)\"}}, \"yaxis\": {\"anchor\": \"x\", \"domain\": [0.0, 1.0], \"title\": {\"text\": \"Confirmed\"}}},                        {\"responsive\": true}                    ).then(function(){\n",
       "                            \n",
       "var gd = document.getElementById('1467de27-88cc-4a51-8827-9aed50816b07');\n",
       "var x = new MutationObserver(function (mutations, observer) {{\n",
       "        var display = window.getComputedStyle(gd).display;\n",
       "        if (!display || display === 'none') {{\n",
       "            console.log([gd, 'removed!']);\n",
       "            Plotly.purge(gd);\n",
       "            observer.disconnect();\n",
       "        }}\n",
       "}});\n",
       "\n",
       "// Listen for the removal of the full notebook cells\n",
       "var notebookContainer = gd.closest('#notebook-container');\n",
       "if (notebookContainer) {{\n",
       "    x.observe(notebookContainer, {childList: true});\n",
       "}}\n",
       "\n",
       "// Listen for the clearing of the current output cell\n",
       "var outputEl = gd.closest('.output');\n",
       "if (outputEl) {{\n",
       "    x.observe(outputEl, {childList: true});\n",
       "}}\n",
       "\n",
       "                        })                };                });            </script>        </div>"
      ]
     },
     "metadata": {},
     "output_type": "display_data"
    }
   ],
   "source": [
    "fig = px.bar(month_wise, x='Date', y='Confirmed',\n",
    "             hover_data=['Cured', 'Deaths'], color='Date',\n",
    "             labels={'Date':'Date(monthwise)'}, height=400,\n",
    "             title=\"Monthwise Increase in Confirmed cases\")\n",
    "fig.show()"
   ]
  },
  {
   "cell_type": "code",
   "execution_count": 214,
   "metadata": {},
   "outputs": [
    {
     "data": {
      "application/vnd.plotly.v1+json": {
       "config": {
        "plotlyServerURL": "https://plot.ly"
       },
       "data": [
        {
         "alignmentgroup": "True",
         "customdata": [
          [
           2,
           0
          ]
         ],
         "hovertemplate": "Date(monthwise)=%{x}<br>Cured=%{y}<br>Confirmed=%{customdata[0]}<br>Deaths=%{customdata[1]}<extra></extra>",
         "legendgroup": "2020-01-31 00:00:00",
         "marker": {
          "color": "#FF6692"
         },
         "name": "2020-01-31 00:00:00",
         "offsetgroup": "2020-01-31 00:00:00",
         "orientation": "v",
         "showlegend": true,
         "textposition": "auto",
         "type": "bar",
         "x": [
          "2020-01-31T00:00:00"
         ],
         "xaxis": "x",
         "y": [
          0
         ],
         "yaxis": "y"
        },
        {
         "alignmentgroup": "True",
         "customdata": [
          [
           86,
           0
          ]
         ],
         "hovertemplate": "Date(monthwise)=%{x}<br>Cured=%{y}<br>Confirmed=%{customdata[0]}<br>Deaths=%{customdata[1]}<extra></extra>",
         "legendgroup": "2020-02-29 00:00:00",
         "marker": {
          "color": "#B6E880"
         },
         "name": "2020-02-29 00:00:00",
         "offsetgroup": "2020-02-29 00:00:00",
         "orientation": "v",
         "showlegend": true,
         "textposition": "auto",
         "type": "bar",
         "x": [
          "2020-02-29T00:00:00"
         ],
         "xaxis": "x",
         "y": [
          0
         ],
         "yaxis": "y"
        },
        {
         "alignmentgroup": "True",
         "customdata": [
          [
           9687,
           202
          ]
         ],
         "hovertemplate": "Date(monthwise)=%{x}<br>Cured=%{y}<br>Confirmed=%{customdata[0]}<br>Deaths=%{customdata[1]}<extra></extra>",
         "legendgroup": "2020-03-31 00:00:00",
         "marker": {
          "color": "#FF97FF"
         },
         "name": "2020-03-31 00:00:00",
         "offsetgroup": "2020-03-31 00:00:00",
         "orientation": "v",
         "showlegend": true,
         "textposition": "auto",
         "type": "bar",
         "x": [
          "2020-03-31T00:00:00"
         ],
         "xaxis": "x",
         "y": [
          808
         ],
         "yaxis": "y"
        },
        {
         "alignmentgroup": "True",
         "customdata": [
          [
           422442,
           13270
          ]
         ],
         "hovertemplate": "Date(monthwise)=%{x}<br>Cured=%{y}<br>Confirmed=%{customdata[0]}<br>Deaths=%{customdata[1]}<extra></extra>",
         "legendgroup": "2020-04-30 00:00:00",
         "marker": {
          "color": "#FECB52"
         },
         "name": "2020-04-30 00:00:00",
         "offsetgroup": "2020-04-30 00:00:00",
         "orientation": "v",
         "showlegend": true,
         "textposition": "auto",
         "type": "bar",
         "x": [
          "2020-04-30T00:00:00"
         ],
         "xaxis": "x",
         "y": [
          75443
         ],
         "yaxis": "y"
        },
        {
         "alignmentgroup": "True",
         "customdata": [
          [
           2938234,
           89834
          ]
         ],
         "hovertemplate": "Date(monthwise)=%{x}<br>Cured=%{y}<br>Confirmed=%{customdata[0]}<br>Deaths=%{customdata[1]}<extra></extra>",
         "legendgroup": "2020-05-31 00:00:00",
         "marker": {
          "color": "#636efa"
         },
         "name": "2020-05-31 00:00:00",
         "offsetgroup": "2020-05-31 00:00:00",
         "orientation": "v",
         "showlegend": true,
         "textposition": "auto",
         "type": "bar",
         "x": [
          "2020-05-31T00:00:00"
         ],
         "xaxis": "x",
         "y": [
          1133341
         ],
         "yaxis": "y"
        },
        {
         "alignmentgroup": "True",
         "customdata": [
          [
           10558374,
           319690
          ]
         ],
         "hovertemplate": "Date(monthwise)=%{x}<br>Cured=%{y}<br>Confirmed=%{customdata[0]}<br>Deaths=%{customdata[1]}<extra></extra>",
         "legendgroup": "2020-06-30 00:00:00",
         "marker": {
          "color": "#EF553B"
         },
         "name": "2020-06-30 00:00:00",
         "offsetgroup": "2020-06-30 00:00:00",
         "orientation": "v",
         "showlegend": true,
         "textposition": "auto",
         "type": "bar",
         "x": [
          "2020-06-30T00:00:00"
         ],
         "xaxis": "x",
         "y": [
          5668946
         ],
         "yaxis": "y"
        },
        {
         "alignmentgroup": "True",
         "customdata": [
          [
           31726501,
           793511
          ]
         ],
         "hovertemplate": "Date(monthwise)=%{x}<br>Cured=%{y}<br>Confirmed=%{customdata[0]}<br>Deaths=%{customdata[1]}<extra></extra>",
         "legendgroup": "2020-07-31 00:00:00",
         "marker": {
          "color": "#00cc96"
         },
         "name": "2020-07-31 00:00:00",
         "offsetgroup": "2020-07-31 00:00:00",
         "orientation": "v",
         "showlegend": true,
         "textposition": "auto",
         "type": "bar",
         "x": [
          "2020-07-31T00:00:00"
         ],
         "xaxis": "x",
         "y": [
          19980130
         ],
         "yaxis": "y"
        },
        {
         "alignmentgroup": "True",
         "customdata": [
          [
           80749620,
           1553468
          ]
         ],
         "hovertemplate": "Date(monthwise)=%{x}<br>Cured=%{y}<br>Confirmed=%{customdata[0]}<br>Deaths=%{customdata[1]}<extra></extra>",
         "legendgroup": "2020-08-31 00:00:00",
         "marker": {
          "color": "#ab63fa"
         },
         "name": "2020-08-31 00:00:00",
         "offsetgroup": "2020-08-31 00:00:00",
         "orientation": "v",
         "showlegend": true,
         "textposition": "auto",
         "type": "bar",
         "x": [
          "2020-08-31T00:00:00"
         ],
         "xaxis": "x",
         "y": [
          58580895
         ],
         "yaxis": "y"
        },
        {
         "alignmentgroup": "True",
         "customdata": [
          [
           149113758,
           2443374
          ]
         ],
         "hovertemplate": "Date(monthwise)=%{x}<br>Cured=%{y}<br>Confirmed=%{customdata[0]}<br>Deaths=%{customdata[1]}<extra></extra>",
         "legendgroup": "2020-09-30 00:00:00",
         "marker": {
          "color": "#FFA15A"
         },
         "name": "2020-09-30 00:00:00",
         "offsetgroup": "2020-09-30 00:00:00",
         "orientation": "v",
         "showlegend": true,
         "textposition": "auto",
         "type": "bar",
         "x": [
          "2020-09-30T00:00:00"
         ],
         "xaxis": "x",
         "y": [
          118592934
         ],
         "yaxis": "y"
        },
        {
         "alignmentgroup": "True",
         "customdata": [
          [
           226770312,
           3457615
          ]
         ],
         "hovertemplate": "Date(monthwise)=%{x}<br>Cured=%{y}<br>Confirmed=%{customdata[0]}<br>Deaths=%{customdata[1]}<extra></extra>",
         "legendgroup": "2020-10-31 00:00:00",
         "marker": {
          "color": "#19d3f3"
         },
         "name": "2020-10-31 00:00:00",
         "offsetgroup": "2020-10-31 00:00:00",
         "orientation": "v",
         "showlegend": true,
         "textposition": "auto",
         "type": "bar",
         "x": [
          "2020-10-31T00:00:00"
         ],
         "xaxis": "x",
         "y": [
          198824412
         ],
         "yaxis": "y"
        },
        {
         "alignmentgroup": "True",
         "customdata": [
          [
           264556412,
           3894165
          ]
         ],
         "hovertemplate": "Date(monthwise)=%{x}<br>Cured=%{y}<br>Confirmed=%{customdata[0]}<br>Deaths=%{customdata[1]}<extra></extra>",
         "legendgroup": "2020-11-30 00:00:00",
         "marker": {
          "color": "#FF6692"
         },
         "name": "2020-11-30 00:00:00",
         "offsetgroup": "2020-11-30 00:00:00",
         "orientation": "v",
         "showlegend": true,
         "textposition": "auto",
         "type": "bar",
         "x": [
          "2020-11-30T00:00:00"
         ],
         "xaxis": "x",
         "y": [
          246213201
         ],
         "yaxis": "y"
        },
        {
         "alignmentgroup": "True",
         "customdata": [
          [
           307177353,
           4457379
          ]
         ],
         "hovertemplate": "Date(monthwise)=%{x}<br>Cured=%{y}<br>Confirmed=%{customdata[0]}<br>Deaths=%{customdata[1]}<extra></extra>",
         "legendgroup": "2020-12-31 00:00:00",
         "marker": {
          "color": "#B6E880"
         },
         "name": "2020-12-31 00:00:00",
         "offsetgroup": "2020-12-31 00:00:00",
         "orientation": "v",
         "showlegend": true,
         "textposition": "auto",
         "type": "bar",
         "x": [
          "2020-12-31T00:00:00"
         ],
         "xaxis": "x",
         "y": [
          292244085
         ],
         "yaxis": "y"
        },
        {
         "alignmentgroup": "True",
         "customdata": [
          [
           326469747,
           4709167
          ]
         ],
         "hovertemplate": "Date(monthwise)=%{x}<br>Cured=%{y}<br>Confirmed=%{customdata[0]}<br>Deaths=%{customdata[1]}<extra></extra>",
         "legendgroup": "2021-01-31 00:00:00",
         "marker": {
          "color": "#FF97FF"
         },
         "name": "2021-01-31 00:00:00",
         "offsetgroup": "2021-01-31 00:00:00",
         "orientation": "v",
         "showlegend": true,
         "textposition": "auto",
         "type": "bar",
         "x": [
          "2021-01-31T00:00:00"
         ],
         "xaxis": "x",
         "y": [
          315332019
         ],
         "yaxis": "y"
        },
        {
         "alignmentgroup": "True",
         "customdata": [
          [
           305631803,
           4359434
          ]
         ],
         "hovertemplate": "Date(monthwise)=%{x}<br>Cured=%{y}<br>Confirmed=%{customdata[0]}<br>Deaths=%{customdata[1]}<extra></extra>",
         "legendgroup": "2021-02-28 00:00:00",
         "marker": {
          "color": "#FECB52"
         },
         "name": "2021-02-28 00:00:00",
         "offsetgroup": "2021-02-28 00:00:00",
         "orientation": "v",
         "showlegend": true,
         "textposition": "auto",
         "type": "bar",
         "x": [
          "2021-02-28T00:00:00"
         ],
         "xaxis": "x",
         "y": [
          297133802
         ],
         "yaxis": "y"
        },
        {
         "alignmentgroup": "True",
         "customdata": [
          [
           356305616,
           4935253
          ]
         ],
         "hovertemplate": "Date(monthwise)=%{x}<br>Cured=%{y}<br>Confirmed=%{customdata[0]}<br>Deaths=%{customdata[1]}<extra></extra>",
         "legendgroup": "2021-03-31 00:00:00",
         "marker": {
          "color": "#636efa"
         },
         "name": "2021-03-31 00:00:00",
         "offsetgroup": "2021-03-31 00:00:00",
         "orientation": "v",
         "showlegend": true,
         "textposition": "auto",
         "type": "bar",
         "x": [
          "2021-03-31T00:00:00"
         ],
         "xaxis": "x",
         "y": [
          342610397
         ],
         "yaxis": "y"
        },
        {
         "alignmentgroup": "True",
         "customdata": [
          [
           300740086,
           3764157
          ]
         ],
         "hovertemplate": "Date(monthwise)=%{x}<br>Cured=%{y}<br>Confirmed=%{customdata[0]}<br>Deaths=%{customdata[1]}<extra></extra>",
         "legendgroup": "2021-04-30 00:00:00",
         "marker": {
          "color": "#EF553B"
         },
         "name": "2021-04-30 00:00:00",
         "offsetgroup": "2021-04-30 00:00:00",
         "orientation": "v",
         "showlegend": true,
         "textposition": "auto",
         "type": "bar",
         "x": [
          "2021-04-30T00:00:00"
         ],
         "xaxis": "x",
         "y": [
          269239666
         ],
         "yaxis": "y"
        }
       ],
       "layout": {
        "barmode": "relative",
        "legend": {
         "title": {
          "text": "Date(monthwise)"
         },
         "tracegroupgap": 0
        },
        "template": {
         "data": {
          "bar": [
           {
            "error_x": {
             "color": "#2a3f5f"
            },
            "error_y": {
             "color": "#2a3f5f"
            },
            "marker": {
             "line": {
              "color": "#E5ECF6",
              "width": 0.5
             }
            },
            "type": "bar"
           }
          ],
          "barpolar": [
           {
            "marker": {
             "line": {
              "color": "#E5ECF6",
              "width": 0.5
             }
            },
            "type": "barpolar"
           }
          ],
          "carpet": [
           {
            "aaxis": {
             "endlinecolor": "#2a3f5f",
             "gridcolor": "white",
             "linecolor": "white",
             "minorgridcolor": "white",
             "startlinecolor": "#2a3f5f"
            },
            "baxis": {
             "endlinecolor": "#2a3f5f",
             "gridcolor": "white",
             "linecolor": "white",
             "minorgridcolor": "white",
             "startlinecolor": "#2a3f5f"
            },
            "type": "carpet"
           }
          ],
          "choropleth": [
           {
            "colorbar": {
             "outlinewidth": 0,
             "ticks": ""
            },
            "type": "choropleth"
           }
          ],
          "contour": [
           {
            "colorbar": {
             "outlinewidth": 0,
             "ticks": ""
            },
            "colorscale": [
             [
              0,
              "#0d0887"
             ],
             [
              0.1111111111111111,
              "#46039f"
             ],
             [
              0.2222222222222222,
              "#7201a8"
             ],
             [
              0.3333333333333333,
              "#9c179e"
             ],
             [
              0.4444444444444444,
              "#bd3786"
             ],
             [
              0.5555555555555556,
              "#d8576b"
             ],
             [
              0.6666666666666666,
              "#ed7953"
             ],
             [
              0.7777777777777778,
              "#fb9f3a"
             ],
             [
              0.8888888888888888,
              "#fdca26"
             ],
             [
              1,
              "#f0f921"
             ]
            ],
            "type": "contour"
           }
          ],
          "contourcarpet": [
           {
            "colorbar": {
             "outlinewidth": 0,
             "ticks": ""
            },
            "type": "contourcarpet"
           }
          ],
          "heatmap": [
           {
            "colorbar": {
             "outlinewidth": 0,
             "ticks": ""
            },
            "colorscale": [
             [
              0,
              "#0d0887"
             ],
             [
              0.1111111111111111,
              "#46039f"
             ],
             [
              0.2222222222222222,
              "#7201a8"
             ],
             [
              0.3333333333333333,
              "#9c179e"
             ],
             [
              0.4444444444444444,
              "#bd3786"
             ],
             [
              0.5555555555555556,
              "#d8576b"
             ],
             [
              0.6666666666666666,
              "#ed7953"
             ],
             [
              0.7777777777777778,
              "#fb9f3a"
             ],
             [
              0.8888888888888888,
              "#fdca26"
             ],
             [
              1,
              "#f0f921"
             ]
            ],
            "type": "heatmap"
           }
          ],
          "heatmapgl": [
           {
            "colorbar": {
             "outlinewidth": 0,
             "ticks": ""
            },
            "colorscale": [
             [
              0,
              "#0d0887"
             ],
             [
              0.1111111111111111,
              "#46039f"
             ],
             [
              0.2222222222222222,
              "#7201a8"
             ],
             [
              0.3333333333333333,
              "#9c179e"
             ],
             [
              0.4444444444444444,
              "#bd3786"
             ],
             [
              0.5555555555555556,
              "#d8576b"
             ],
             [
              0.6666666666666666,
              "#ed7953"
             ],
             [
              0.7777777777777778,
              "#fb9f3a"
             ],
             [
              0.8888888888888888,
              "#fdca26"
             ],
             [
              1,
              "#f0f921"
             ]
            ],
            "type": "heatmapgl"
           }
          ],
          "histogram": [
           {
            "marker": {
             "colorbar": {
              "outlinewidth": 0,
              "ticks": ""
             }
            },
            "type": "histogram"
           }
          ],
          "histogram2d": [
           {
            "colorbar": {
             "outlinewidth": 0,
             "ticks": ""
            },
            "colorscale": [
             [
              0,
              "#0d0887"
             ],
             [
              0.1111111111111111,
              "#46039f"
             ],
             [
              0.2222222222222222,
              "#7201a8"
             ],
             [
              0.3333333333333333,
              "#9c179e"
             ],
             [
              0.4444444444444444,
              "#bd3786"
             ],
             [
              0.5555555555555556,
              "#d8576b"
             ],
             [
              0.6666666666666666,
              "#ed7953"
             ],
             [
              0.7777777777777778,
              "#fb9f3a"
             ],
             [
              0.8888888888888888,
              "#fdca26"
             ],
             [
              1,
              "#f0f921"
             ]
            ],
            "type": "histogram2d"
           }
          ],
          "histogram2dcontour": [
           {
            "colorbar": {
             "outlinewidth": 0,
             "ticks": ""
            },
            "colorscale": [
             [
              0,
              "#0d0887"
             ],
             [
              0.1111111111111111,
              "#46039f"
             ],
             [
              0.2222222222222222,
              "#7201a8"
             ],
             [
              0.3333333333333333,
              "#9c179e"
             ],
             [
              0.4444444444444444,
              "#bd3786"
             ],
             [
              0.5555555555555556,
              "#d8576b"
             ],
             [
              0.6666666666666666,
              "#ed7953"
             ],
             [
              0.7777777777777778,
              "#fb9f3a"
             ],
             [
              0.8888888888888888,
              "#fdca26"
             ],
             [
              1,
              "#f0f921"
             ]
            ],
            "type": "histogram2dcontour"
           }
          ],
          "mesh3d": [
           {
            "colorbar": {
             "outlinewidth": 0,
             "ticks": ""
            },
            "type": "mesh3d"
           }
          ],
          "parcoords": [
           {
            "line": {
             "colorbar": {
              "outlinewidth": 0,
              "ticks": ""
             }
            },
            "type": "parcoords"
           }
          ],
          "pie": [
           {
            "automargin": true,
            "type": "pie"
           }
          ],
          "scatter": [
           {
            "marker": {
             "colorbar": {
              "outlinewidth": 0,
              "ticks": ""
             }
            },
            "type": "scatter"
           }
          ],
          "scatter3d": [
           {
            "line": {
             "colorbar": {
              "outlinewidth": 0,
              "ticks": ""
             }
            },
            "marker": {
             "colorbar": {
              "outlinewidth": 0,
              "ticks": ""
             }
            },
            "type": "scatter3d"
           }
          ],
          "scattercarpet": [
           {
            "marker": {
             "colorbar": {
              "outlinewidth": 0,
              "ticks": ""
             }
            },
            "type": "scattercarpet"
           }
          ],
          "scattergeo": [
           {
            "marker": {
             "colorbar": {
              "outlinewidth": 0,
              "ticks": ""
             }
            },
            "type": "scattergeo"
           }
          ],
          "scattergl": [
           {
            "marker": {
             "colorbar": {
              "outlinewidth": 0,
              "ticks": ""
             }
            },
            "type": "scattergl"
           }
          ],
          "scattermapbox": [
           {
            "marker": {
             "colorbar": {
              "outlinewidth": 0,
              "ticks": ""
             }
            },
            "type": "scattermapbox"
           }
          ],
          "scatterpolar": [
           {
            "marker": {
             "colorbar": {
              "outlinewidth": 0,
              "ticks": ""
             }
            },
            "type": "scatterpolar"
           }
          ],
          "scatterpolargl": [
           {
            "marker": {
             "colorbar": {
              "outlinewidth": 0,
              "ticks": ""
             }
            },
            "type": "scatterpolargl"
           }
          ],
          "scatterternary": [
           {
            "marker": {
             "colorbar": {
              "outlinewidth": 0,
              "ticks": ""
             }
            },
            "type": "scatterternary"
           }
          ],
          "surface": [
           {
            "colorbar": {
             "outlinewidth": 0,
             "ticks": ""
            },
            "colorscale": [
             [
              0,
              "#0d0887"
             ],
             [
              0.1111111111111111,
              "#46039f"
             ],
             [
              0.2222222222222222,
              "#7201a8"
             ],
             [
              0.3333333333333333,
              "#9c179e"
             ],
             [
              0.4444444444444444,
              "#bd3786"
             ],
             [
              0.5555555555555556,
              "#d8576b"
             ],
             [
              0.6666666666666666,
              "#ed7953"
             ],
             [
              0.7777777777777778,
              "#fb9f3a"
             ],
             [
              0.8888888888888888,
              "#fdca26"
             ],
             [
              1,
              "#f0f921"
             ]
            ],
            "type": "surface"
           }
          ],
          "table": [
           {
            "cells": {
             "fill": {
              "color": "#EBF0F8"
             },
             "line": {
              "color": "white"
             }
            },
            "header": {
             "fill": {
              "color": "#C8D4E3"
             },
             "line": {
              "color": "white"
             }
            },
            "type": "table"
           }
          ]
         },
         "layout": {
          "annotationdefaults": {
           "arrowcolor": "#2a3f5f",
           "arrowhead": 0,
           "arrowwidth": 1
          },
          "autotypenumbers": "strict",
          "coloraxis": {
           "colorbar": {
            "outlinewidth": 0,
            "ticks": ""
           }
          },
          "colorscale": {
           "diverging": [
            [
             0,
             "#8e0152"
            ],
            [
             0.1,
             "#c51b7d"
            ],
            [
             0.2,
             "#de77ae"
            ],
            [
             0.3,
             "#f1b6da"
            ],
            [
             0.4,
             "#fde0ef"
            ],
            [
             0.5,
             "#f7f7f7"
            ],
            [
             0.6,
             "#e6f5d0"
            ],
            [
             0.7,
             "#b8e186"
            ],
            [
             0.8,
             "#7fbc41"
            ],
            [
             0.9,
             "#4d9221"
            ],
            [
             1,
             "#276419"
            ]
           ],
           "sequential": [
            [
             0,
             "#0d0887"
            ],
            [
             0.1111111111111111,
             "#46039f"
            ],
            [
             0.2222222222222222,
             "#7201a8"
            ],
            [
             0.3333333333333333,
             "#9c179e"
            ],
            [
             0.4444444444444444,
             "#bd3786"
            ],
            [
             0.5555555555555556,
             "#d8576b"
            ],
            [
             0.6666666666666666,
             "#ed7953"
            ],
            [
             0.7777777777777778,
             "#fb9f3a"
            ],
            [
             0.8888888888888888,
             "#fdca26"
            ],
            [
             1,
             "#f0f921"
            ]
           ],
           "sequentialminus": [
            [
             0,
             "#0d0887"
            ],
            [
             0.1111111111111111,
             "#46039f"
            ],
            [
             0.2222222222222222,
             "#7201a8"
            ],
            [
             0.3333333333333333,
             "#9c179e"
            ],
            [
             0.4444444444444444,
             "#bd3786"
            ],
            [
             0.5555555555555556,
             "#d8576b"
            ],
            [
             0.6666666666666666,
             "#ed7953"
            ],
            [
             0.7777777777777778,
             "#fb9f3a"
            ],
            [
             0.8888888888888888,
             "#fdca26"
            ],
            [
             1,
             "#f0f921"
            ]
           ]
          },
          "colorway": [
           "#636efa",
           "#EF553B",
           "#00cc96",
           "#ab63fa",
           "#FFA15A",
           "#19d3f3",
           "#FF6692",
           "#B6E880",
           "#FF97FF",
           "#FECB52"
          ],
          "font": {
           "color": "#2a3f5f"
          },
          "geo": {
           "bgcolor": "white",
           "lakecolor": "white",
           "landcolor": "#E5ECF6",
           "showlakes": true,
           "showland": true,
           "subunitcolor": "white"
          },
          "hoverlabel": {
           "align": "left"
          },
          "hovermode": "closest",
          "mapbox": {
           "style": "light"
          },
          "paper_bgcolor": "white",
          "plot_bgcolor": "#E5ECF6",
          "polar": {
           "angularaxis": {
            "gridcolor": "white",
            "linecolor": "white",
            "ticks": ""
           },
           "bgcolor": "#E5ECF6",
           "radialaxis": {
            "gridcolor": "white",
            "linecolor": "white",
            "ticks": ""
           }
          },
          "scene": {
           "xaxis": {
            "backgroundcolor": "#E5ECF6",
            "gridcolor": "white",
            "gridwidth": 2,
            "linecolor": "white",
            "showbackground": true,
            "ticks": "",
            "zerolinecolor": "white"
           },
           "yaxis": {
            "backgroundcolor": "#E5ECF6",
            "gridcolor": "white",
            "gridwidth": 2,
            "linecolor": "white",
            "showbackground": true,
            "ticks": "",
            "zerolinecolor": "white"
           },
           "zaxis": {
            "backgroundcolor": "#E5ECF6",
            "gridcolor": "white",
            "gridwidth": 2,
            "linecolor": "white",
            "showbackground": true,
            "ticks": "",
            "zerolinecolor": "white"
           }
          },
          "shapedefaults": {
           "line": {
            "color": "#2a3f5f"
           }
          },
          "ternary": {
           "aaxis": {
            "gridcolor": "white",
            "linecolor": "white",
            "ticks": ""
           },
           "baxis": {
            "gridcolor": "white",
            "linecolor": "white",
            "ticks": ""
           },
           "bgcolor": "#E5ECF6",
           "caxis": {
            "gridcolor": "white",
            "linecolor": "white",
            "ticks": ""
           }
          },
          "title": {
           "x": 0.05
          },
          "xaxis": {
           "automargin": true,
           "gridcolor": "white",
           "linecolor": "white",
           "ticks": "",
           "title": {
            "standoff": 15
           },
           "zerolinecolor": "white",
           "zerolinewidth": 2
          },
          "yaxis": {
           "automargin": true,
           "gridcolor": "white",
           "linecolor": "white",
           "ticks": "",
           "title": {
            "standoff": 15
           },
           "zerolinecolor": "white",
           "zerolinewidth": 2
          }
         }
        },
        "title": {
         "text": "Monthwise Increase in Cured cases"
        },
        "xaxis": {
         "anchor": "y",
         "categoryarray": [
          1580428800000000000,
          1582934400000000000,
          1585612800000000000,
          1588204800000000000,
          1590883200000000000,
          1593475200000000000,
          1596153600000000000,
          1598832000000000000,
          1601424000000000000,
          1604102400000000000,
          1606694400000000000,
          1609372800000000000,
          1612051200000000000,
          1614470400000000000,
          1617148800000000000,
          1619740800000000000
         ],
         "categoryorder": "array",
         "domain": [
          0,
          1
         ],
         "title": {
          "text": "Date(monthwise)"
         }
        },
        "yaxis": {
         "anchor": "x",
         "domain": [
          0,
          1
         ],
         "title": {
          "text": "Cured"
         }
        }
       }
      },
      "text/html": [
       "<div>                            <div id=\"894d9ba6-d15b-4e3d-82c7-e3c17899b1e6\" class=\"plotly-graph-div\" style=\"height:525px; width:100%;\"></div>            <script type=\"text/javascript\">                require([\"plotly\"], function(Plotly) {                    window.PLOTLYENV=window.PLOTLYENV || {};                                    if (document.getElementById(\"894d9ba6-d15b-4e3d-82c7-e3c17899b1e6\")) {                    Plotly.newPlot(                        \"894d9ba6-d15b-4e3d-82c7-e3c17899b1e6\",                        [{\"alignmentgroup\": \"True\", \"customdata\": [[2, 0]], \"hovertemplate\": \"Date(monthwise)=%{x}<br>Cured=%{y}<br>Confirmed=%{customdata[0]}<br>Deaths=%{customdata[1]}<extra></extra>\", \"legendgroup\": \"2020-01-31 00:00:00\", \"marker\": {\"color\": \"#FF6692\"}, \"name\": \"2020-01-31 00:00:00\", \"offsetgroup\": \"2020-01-31 00:00:00\", \"orientation\": \"v\", \"showlegend\": true, \"textposition\": \"auto\", \"type\": \"bar\", \"x\": [\"2020-01-31T00:00:00\"], \"xaxis\": \"x\", \"y\": [0], \"yaxis\": \"y\"}, {\"alignmentgroup\": \"True\", \"customdata\": [[86, 0]], \"hovertemplate\": \"Date(monthwise)=%{x}<br>Cured=%{y}<br>Confirmed=%{customdata[0]}<br>Deaths=%{customdata[1]}<extra></extra>\", \"legendgroup\": \"2020-02-29 00:00:00\", \"marker\": {\"color\": \"#B6E880\"}, \"name\": \"2020-02-29 00:00:00\", \"offsetgroup\": \"2020-02-29 00:00:00\", \"orientation\": \"v\", \"showlegend\": true, \"textposition\": \"auto\", \"type\": \"bar\", \"x\": [\"2020-02-29T00:00:00\"], \"xaxis\": \"x\", \"y\": [0], \"yaxis\": \"y\"}, {\"alignmentgroup\": \"True\", \"customdata\": [[9687, 202]], \"hovertemplate\": \"Date(monthwise)=%{x}<br>Cured=%{y}<br>Confirmed=%{customdata[0]}<br>Deaths=%{customdata[1]}<extra></extra>\", \"legendgroup\": \"2020-03-31 00:00:00\", \"marker\": {\"color\": \"#FF97FF\"}, \"name\": \"2020-03-31 00:00:00\", \"offsetgroup\": \"2020-03-31 00:00:00\", \"orientation\": \"v\", \"showlegend\": true, \"textposition\": \"auto\", \"type\": \"bar\", \"x\": [\"2020-03-31T00:00:00\"], \"xaxis\": \"x\", \"y\": [808], \"yaxis\": \"y\"}, {\"alignmentgroup\": \"True\", \"customdata\": [[422442, 13270]], \"hovertemplate\": \"Date(monthwise)=%{x}<br>Cured=%{y}<br>Confirmed=%{customdata[0]}<br>Deaths=%{customdata[1]}<extra></extra>\", \"legendgroup\": \"2020-04-30 00:00:00\", \"marker\": {\"color\": \"#FECB52\"}, \"name\": \"2020-04-30 00:00:00\", \"offsetgroup\": \"2020-04-30 00:00:00\", \"orientation\": \"v\", \"showlegend\": true, \"textposition\": \"auto\", \"type\": \"bar\", \"x\": [\"2020-04-30T00:00:00\"], \"xaxis\": \"x\", \"y\": [75443], \"yaxis\": \"y\"}, {\"alignmentgroup\": \"True\", \"customdata\": [[2938234, 89834]], \"hovertemplate\": \"Date(monthwise)=%{x}<br>Cured=%{y}<br>Confirmed=%{customdata[0]}<br>Deaths=%{customdata[1]}<extra></extra>\", \"legendgroup\": \"2020-05-31 00:00:00\", \"marker\": {\"color\": \"#636efa\"}, \"name\": \"2020-05-31 00:00:00\", \"offsetgroup\": \"2020-05-31 00:00:00\", \"orientation\": \"v\", \"showlegend\": true, \"textposition\": \"auto\", \"type\": \"bar\", \"x\": [\"2020-05-31T00:00:00\"], \"xaxis\": \"x\", \"y\": [1133341], \"yaxis\": \"y\"}, {\"alignmentgroup\": \"True\", \"customdata\": [[10558374, 319690]], \"hovertemplate\": \"Date(monthwise)=%{x}<br>Cured=%{y}<br>Confirmed=%{customdata[0]}<br>Deaths=%{customdata[1]}<extra></extra>\", \"legendgroup\": \"2020-06-30 00:00:00\", \"marker\": {\"color\": \"#EF553B\"}, \"name\": \"2020-06-30 00:00:00\", \"offsetgroup\": \"2020-06-30 00:00:00\", \"orientation\": \"v\", \"showlegend\": true, \"textposition\": \"auto\", \"type\": \"bar\", \"x\": [\"2020-06-30T00:00:00\"], \"xaxis\": \"x\", \"y\": [5668946], \"yaxis\": \"y\"}, {\"alignmentgroup\": \"True\", \"customdata\": [[31726501, 793511]], \"hovertemplate\": \"Date(monthwise)=%{x}<br>Cured=%{y}<br>Confirmed=%{customdata[0]}<br>Deaths=%{customdata[1]}<extra></extra>\", \"legendgroup\": \"2020-07-31 00:00:00\", \"marker\": {\"color\": \"#00cc96\"}, \"name\": \"2020-07-31 00:00:00\", \"offsetgroup\": \"2020-07-31 00:00:00\", \"orientation\": \"v\", \"showlegend\": true, \"textposition\": \"auto\", \"type\": \"bar\", \"x\": [\"2020-07-31T00:00:00\"], \"xaxis\": \"x\", \"y\": [19980130], \"yaxis\": \"y\"}, {\"alignmentgroup\": \"True\", \"customdata\": [[80749620, 1553468]], \"hovertemplate\": \"Date(monthwise)=%{x}<br>Cured=%{y}<br>Confirmed=%{customdata[0]}<br>Deaths=%{customdata[1]}<extra></extra>\", \"legendgroup\": \"2020-08-31 00:00:00\", \"marker\": {\"color\": \"#ab63fa\"}, \"name\": \"2020-08-31 00:00:00\", \"offsetgroup\": \"2020-08-31 00:00:00\", \"orientation\": \"v\", \"showlegend\": true, \"textposition\": \"auto\", \"type\": \"bar\", \"x\": [\"2020-08-31T00:00:00\"], \"xaxis\": \"x\", \"y\": [58580895], \"yaxis\": \"y\"}, {\"alignmentgroup\": \"True\", \"customdata\": [[149113758, 2443374]], \"hovertemplate\": \"Date(monthwise)=%{x}<br>Cured=%{y}<br>Confirmed=%{customdata[0]}<br>Deaths=%{customdata[1]}<extra></extra>\", \"legendgroup\": \"2020-09-30 00:00:00\", \"marker\": {\"color\": \"#FFA15A\"}, \"name\": \"2020-09-30 00:00:00\", \"offsetgroup\": \"2020-09-30 00:00:00\", \"orientation\": \"v\", \"showlegend\": true, \"textposition\": \"auto\", \"type\": \"bar\", \"x\": [\"2020-09-30T00:00:00\"], \"xaxis\": \"x\", \"y\": [118592934], \"yaxis\": \"y\"}, {\"alignmentgroup\": \"True\", \"customdata\": [[226770312, 3457615]], \"hovertemplate\": \"Date(monthwise)=%{x}<br>Cured=%{y}<br>Confirmed=%{customdata[0]}<br>Deaths=%{customdata[1]}<extra></extra>\", \"legendgroup\": \"2020-10-31 00:00:00\", \"marker\": {\"color\": \"#19d3f3\"}, \"name\": \"2020-10-31 00:00:00\", \"offsetgroup\": \"2020-10-31 00:00:00\", \"orientation\": \"v\", \"showlegend\": true, \"textposition\": \"auto\", \"type\": \"bar\", \"x\": [\"2020-10-31T00:00:00\"], \"xaxis\": \"x\", \"y\": [198824412], \"yaxis\": \"y\"}, {\"alignmentgroup\": \"True\", \"customdata\": [[264556412, 3894165]], \"hovertemplate\": \"Date(monthwise)=%{x}<br>Cured=%{y}<br>Confirmed=%{customdata[0]}<br>Deaths=%{customdata[1]}<extra></extra>\", \"legendgroup\": \"2020-11-30 00:00:00\", \"marker\": {\"color\": \"#FF6692\"}, \"name\": \"2020-11-30 00:00:00\", \"offsetgroup\": \"2020-11-30 00:00:00\", \"orientation\": \"v\", \"showlegend\": true, \"textposition\": \"auto\", \"type\": \"bar\", \"x\": [\"2020-11-30T00:00:00\"], \"xaxis\": \"x\", \"y\": [246213201], \"yaxis\": \"y\"}, {\"alignmentgroup\": \"True\", \"customdata\": [[307177353, 4457379]], \"hovertemplate\": \"Date(monthwise)=%{x}<br>Cured=%{y}<br>Confirmed=%{customdata[0]}<br>Deaths=%{customdata[1]}<extra></extra>\", \"legendgroup\": \"2020-12-31 00:00:00\", \"marker\": {\"color\": \"#B6E880\"}, \"name\": \"2020-12-31 00:00:00\", \"offsetgroup\": \"2020-12-31 00:00:00\", \"orientation\": \"v\", \"showlegend\": true, \"textposition\": \"auto\", \"type\": \"bar\", \"x\": [\"2020-12-31T00:00:00\"], \"xaxis\": \"x\", \"y\": [292244085], \"yaxis\": \"y\"}, {\"alignmentgroup\": \"True\", \"customdata\": [[326469747, 4709167]], \"hovertemplate\": \"Date(monthwise)=%{x}<br>Cured=%{y}<br>Confirmed=%{customdata[0]}<br>Deaths=%{customdata[1]}<extra></extra>\", \"legendgroup\": \"2021-01-31 00:00:00\", \"marker\": {\"color\": \"#FF97FF\"}, \"name\": \"2021-01-31 00:00:00\", \"offsetgroup\": \"2021-01-31 00:00:00\", \"orientation\": \"v\", \"showlegend\": true, \"textposition\": \"auto\", \"type\": \"bar\", \"x\": [\"2021-01-31T00:00:00\"], \"xaxis\": \"x\", \"y\": [315332019], \"yaxis\": \"y\"}, {\"alignmentgroup\": \"True\", \"customdata\": [[305631803, 4359434]], \"hovertemplate\": \"Date(monthwise)=%{x}<br>Cured=%{y}<br>Confirmed=%{customdata[0]}<br>Deaths=%{customdata[1]}<extra></extra>\", \"legendgroup\": \"2021-02-28 00:00:00\", \"marker\": {\"color\": \"#FECB52\"}, \"name\": \"2021-02-28 00:00:00\", \"offsetgroup\": \"2021-02-28 00:00:00\", \"orientation\": \"v\", \"showlegend\": true, \"textposition\": \"auto\", \"type\": \"bar\", \"x\": [\"2021-02-28T00:00:00\"], \"xaxis\": \"x\", \"y\": [297133802], \"yaxis\": \"y\"}, {\"alignmentgroup\": \"True\", \"customdata\": [[356305616, 4935253]], \"hovertemplate\": \"Date(monthwise)=%{x}<br>Cured=%{y}<br>Confirmed=%{customdata[0]}<br>Deaths=%{customdata[1]}<extra></extra>\", \"legendgroup\": \"2021-03-31 00:00:00\", \"marker\": {\"color\": \"#636efa\"}, \"name\": \"2021-03-31 00:00:00\", \"offsetgroup\": \"2021-03-31 00:00:00\", \"orientation\": \"v\", \"showlegend\": true, \"textposition\": \"auto\", \"type\": \"bar\", \"x\": [\"2021-03-31T00:00:00\"], \"xaxis\": \"x\", \"y\": [342610397], \"yaxis\": \"y\"}, {\"alignmentgroup\": \"True\", \"customdata\": [[300740086, 3764157]], \"hovertemplate\": \"Date(monthwise)=%{x}<br>Cured=%{y}<br>Confirmed=%{customdata[0]}<br>Deaths=%{customdata[1]}<extra></extra>\", \"legendgroup\": \"2021-04-30 00:00:00\", \"marker\": {\"color\": \"#EF553B\"}, \"name\": \"2021-04-30 00:00:00\", \"offsetgroup\": \"2021-04-30 00:00:00\", \"orientation\": \"v\", \"showlegend\": true, \"textposition\": \"auto\", \"type\": \"bar\", \"x\": [\"2021-04-30T00:00:00\"], \"xaxis\": \"x\", \"y\": [269239666], \"yaxis\": \"y\"}],                        {\"barmode\": \"relative\", \"legend\": {\"title\": {\"text\": \"Date(monthwise)\"}, \"tracegroupgap\": 0}, \"template\": {\"data\": {\"bar\": [{\"error_x\": {\"color\": \"#2a3f5f\"}, \"error_y\": {\"color\": \"#2a3f5f\"}, \"marker\": {\"line\": {\"color\": \"#E5ECF6\", \"width\": 0.5}}, \"type\": \"bar\"}], \"barpolar\": [{\"marker\": {\"line\": {\"color\": \"#E5ECF6\", \"width\": 0.5}}, \"type\": \"barpolar\"}], \"carpet\": [{\"aaxis\": {\"endlinecolor\": \"#2a3f5f\", \"gridcolor\": \"white\", \"linecolor\": \"white\", \"minorgridcolor\": \"white\", \"startlinecolor\": \"#2a3f5f\"}, \"baxis\": {\"endlinecolor\": \"#2a3f5f\", \"gridcolor\": \"white\", \"linecolor\": \"white\", \"minorgridcolor\": \"white\", \"startlinecolor\": \"#2a3f5f\"}, \"type\": \"carpet\"}], \"choropleth\": [{\"colorbar\": {\"outlinewidth\": 0, \"ticks\": \"\"}, \"type\": \"choropleth\"}], \"contour\": [{\"colorbar\": {\"outlinewidth\": 0, \"ticks\": \"\"}, \"colorscale\": [[0.0, \"#0d0887\"], [0.1111111111111111, \"#46039f\"], [0.2222222222222222, \"#7201a8\"], [0.3333333333333333, \"#9c179e\"], [0.4444444444444444, \"#bd3786\"], [0.5555555555555556, \"#d8576b\"], [0.6666666666666666, \"#ed7953\"], [0.7777777777777778, \"#fb9f3a\"], [0.8888888888888888, \"#fdca26\"], [1.0, \"#f0f921\"]], \"type\": \"contour\"}], \"contourcarpet\": [{\"colorbar\": {\"outlinewidth\": 0, \"ticks\": \"\"}, \"type\": \"contourcarpet\"}], \"heatmap\": [{\"colorbar\": {\"outlinewidth\": 0, \"ticks\": \"\"}, \"colorscale\": [[0.0, \"#0d0887\"], [0.1111111111111111, \"#46039f\"], [0.2222222222222222, \"#7201a8\"], [0.3333333333333333, \"#9c179e\"], [0.4444444444444444, \"#bd3786\"], [0.5555555555555556, \"#d8576b\"], [0.6666666666666666, \"#ed7953\"], [0.7777777777777778, \"#fb9f3a\"], [0.8888888888888888, \"#fdca26\"], [1.0, \"#f0f921\"]], \"type\": \"heatmap\"}], \"heatmapgl\": [{\"colorbar\": {\"outlinewidth\": 0, \"ticks\": \"\"}, \"colorscale\": [[0.0, \"#0d0887\"], [0.1111111111111111, \"#46039f\"], [0.2222222222222222, \"#7201a8\"], [0.3333333333333333, \"#9c179e\"], [0.4444444444444444, \"#bd3786\"], [0.5555555555555556, \"#d8576b\"], [0.6666666666666666, \"#ed7953\"], [0.7777777777777778, \"#fb9f3a\"], [0.8888888888888888, \"#fdca26\"], [1.0, \"#f0f921\"]], \"type\": \"heatmapgl\"}], \"histogram\": [{\"marker\": {\"colorbar\": {\"outlinewidth\": 0, \"ticks\": \"\"}}, \"type\": \"histogram\"}], \"histogram2d\": [{\"colorbar\": {\"outlinewidth\": 0, \"ticks\": \"\"}, \"colorscale\": [[0.0, \"#0d0887\"], [0.1111111111111111, \"#46039f\"], [0.2222222222222222, \"#7201a8\"], [0.3333333333333333, \"#9c179e\"], [0.4444444444444444, \"#bd3786\"], [0.5555555555555556, \"#d8576b\"], [0.6666666666666666, \"#ed7953\"], [0.7777777777777778, \"#fb9f3a\"], [0.8888888888888888, \"#fdca26\"], [1.0, \"#f0f921\"]], \"type\": \"histogram2d\"}], \"histogram2dcontour\": [{\"colorbar\": {\"outlinewidth\": 0, \"ticks\": \"\"}, \"colorscale\": [[0.0, \"#0d0887\"], [0.1111111111111111, \"#46039f\"], [0.2222222222222222, \"#7201a8\"], [0.3333333333333333, \"#9c179e\"], [0.4444444444444444, \"#bd3786\"], [0.5555555555555556, \"#d8576b\"], [0.6666666666666666, \"#ed7953\"], [0.7777777777777778, \"#fb9f3a\"], [0.8888888888888888, \"#fdca26\"], [1.0, \"#f0f921\"]], \"type\": \"histogram2dcontour\"}], \"mesh3d\": [{\"colorbar\": {\"outlinewidth\": 0, \"ticks\": \"\"}, \"type\": \"mesh3d\"}], \"parcoords\": [{\"line\": {\"colorbar\": {\"outlinewidth\": 0, \"ticks\": \"\"}}, \"type\": \"parcoords\"}], \"pie\": [{\"automargin\": true, \"type\": \"pie\"}], \"scatter\": [{\"marker\": {\"colorbar\": {\"outlinewidth\": 0, \"ticks\": \"\"}}, \"type\": \"scatter\"}], \"scatter3d\": [{\"line\": {\"colorbar\": {\"outlinewidth\": 0, \"ticks\": \"\"}}, \"marker\": {\"colorbar\": {\"outlinewidth\": 0, \"ticks\": \"\"}}, \"type\": \"scatter3d\"}], \"scattercarpet\": [{\"marker\": {\"colorbar\": {\"outlinewidth\": 0, \"ticks\": \"\"}}, \"type\": \"scattercarpet\"}], \"scattergeo\": [{\"marker\": {\"colorbar\": {\"outlinewidth\": 0, \"ticks\": \"\"}}, \"type\": \"scattergeo\"}], \"scattergl\": [{\"marker\": {\"colorbar\": {\"outlinewidth\": 0, \"ticks\": \"\"}}, \"type\": \"scattergl\"}], \"scattermapbox\": [{\"marker\": {\"colorbar\": {\"outlinewidth\": 0, \"ticks\": \"\"}}, \"type\": \"scattermapbox\"}], \"scatterpolar\": [{\"marker\": {\"colorbar\": {\"outlinewidth\": 0, \"ticks\": \"\"}}, \"type\": \"scatterpolar\"}], \"scatterpolargl\": [{\"marker\": {\"colorbar\": {\"outlinewidth\": 0, \"ticks\": \"\"}}, \"type\": \"scatterpolargl\"}], \"scatterternary\": [{\"marker\": {\"colorbar\": {\"outlinewidth\": 0, \"ticks\": \"\"}}, \"type\": \"scatterternary\"}], \"surface\": [{\"colorbar\": {\"outlinewidth\": 0, \"ticks\": \"\"}, \"colorscale\": [[0.0, \"#0d0887\"], [0.1111111111111111, \"#46039f\"], [0.2222222222222222, \"#7201a8\"], [0.3333333333333333, \"#9c179e\"], [0.4444444444444444, \"#bd3786\"], [0.5555555555555556, \"#d8576b\"], [0.6666666666666666, \"#ed7953\"], [0.7777777777777778, \"#fb9f3a\"], [0.8888888888888888, \"#fdca26\"], [1.0, \"#f0f921\"]], \"type\": \"surface\"}], \"table\": [{\"cells\": {\"fill\": {\"color\": \"#EBF0F8\"}, \"line\": {\"color\": \"white\"}}, \"header\": {\"fill\": {\"color\": \"#C8D4E3\"}, \"line\": {\"color\": \"white\"}}, \"type\": \"table\"}]}, \"layout\": {\"annotationdefaults\": {\"arrowcolor\": \"#2a3f5f\", \"arrowhead\": 0, \"arrowwidth\": 1}, \"autotypenumbers\": \"strict\", \"coloraxis\": {\"colorbar\": {\"outlinewidth\": 0, \"ticks\": \"\"}}, \"colorscale\": {\"diverging\": [[0, \"#8e0152\"], [0.1, \"#c51b7d\"], [0.2, \"#de77ae\"], [0.3, \"#f1b6da\"], [0.4, \"#fde0ef\"], [0.5, \"#f7f7f7\"], [0.6, \"#e6f5d0\"], [0.7, \"#b8e186\"], [0.8, \"#7fbc41\"], [0.9, \"#4d9221\"], [1, \"#276419\"]], \"sequential\": [[0.0, \"#0d0887\"], [0.1111111111111111, \"#46039f\"], [0.2222222222222222, \"#7201a8\"], [0.3333333333333333, \"#9c179e\"], [0.4444444444444444, \"#bd3786\"], [0.5555555555555556, \"#d8576b\"], [0.6666666666666666, \"#ed7953\"], [0.7777777777777778, \"#fb9f3a\"], [0.8888888888888888, \"#fdca26\"], [1.0, \"#f0f921\"]], \"sequentialminus\": [[0.0, \"#0d0887\"], [0.1111111111111111, \"#46039f\"], [0.2222222222222222, \"#7201a8\"], [0.3333333333333333, \"#9c179e\"], [0.4444444444444444, \"#bd3786\"], [0.5555555555555556, \"#d8576b\"], [0.6666666666666666, \"#ed7953\"], [0.7777777777777778, \"#fb9f3a\"], [0.8888888888888888, \"#fdca26\"], [1.0, \"#f0f921\"]]}, \"colorway\": [\"#636efa\", \"#EF553B\", \"#00cc96\", \"#ab63fa\", \"#FFA15A\", \"#19d3f3\", \"#FF6692\", \"#B6E880\", \"#FF97FF\", \"#FECB52\"], \"font\": {\"color\": \"#2a3f5f\"}, \"geo\": {\"bgcolor\": \"white\", \"lakecolor\": \"white\", \"landcolor\": \"#E5ECF6\", \"showlakes\": true, \"showland\": true, \"subunitcolor\": \"white\"}, \"hoverlabel\": {\"align\": \"left\"}, \"hovermode\": \"closest\", \"mapbox\": {\"style\": \"light\"}, \"paper_bgcolor\": \"white\", \"plot_bgcolor\": \"#E5ECF6\", \"polar\": {\"angularaxis\": {\"gridcolor\": \"white\", \"linecolor\": \"white\", \"ticks\": \"\"}, \"bgcolor\": \"#E5ECF6\", \"radialaxis\": {\"gridcolor\": \"white\", \"linecolor\": \"white\", \"ticks\": \"\"}}, \"scene\": {\"xaxis\": {\"backgroundcolor\": \"#E5ECF6\", \"gridcolor\": \"white\", \"gridwidth\": 2, \"linecolor\": \"white\", \"showbackground\": true, \"ticks\": \"\", \"zerolinecolor\": \"white\"}, \"yaxis\": {\"backgroundcolor\": \"#E5ECF6\", \"gridcolor\": \"white\", \"gridwidth\": 2, \"linecolor\": \"white\", \"showbackground\": true, \"ticks\": \"\", \"zerolinecolor\": \"white\"}, \"zaxis\": {\"backgroundcolor\": \"#E5ECF6\", \"gridcolor\": \"white\", \"gridwidth\": 2, \"linecolor\": \"white\", \"showbackground\": true, \"ticks\": \"\", \"zerolinecolor\": \"white\"}}, \"shapedefaults\": {\"line\": {\"color\": \"#2a3f5f\"}}, \"ternary\": {\"aaxis\": {\"gridcolor\": \"white\", \"linecolor\": \"white\", \"ticks\": \"\"}, \"baxis\": {\"gridcolor\": \"white\", \"linecolor\": \"white\", \"ticks\": \"\"}, \"bgcolor\": \"#E5ECF6\", \"caxis\": {\"gridcolor\": \"white\", \"linecolor\": \"white\", \"ticks\": \"\"}}, \"title\": {\"x\": 0.05}, \"xaxis\": {\"automargin\": true, \"gridcolor\": \"white\", \"linecolor\": \"white\", \"ticks\": \"\", \"title\": {\"standoff\": 15}, \"zerolinecolor\": \"white\", \"zerolinewidth\": 2}, \"yaxis\": {\"automargin\": true, \"gridcolor\": \"white\", \"linecolor\": \"white\", \"ticks\": \"\", \"title\": {\"standoff\": 15}, \"zerolinecolor\": \"white\", \"zerolinewidth\": 2}}}, \"title\": {\"text\": \"Monthwise Increase in Cured cases\"}, \"xaxis\": {\"anchor\": \"y\", \"categoryarray\": [1580428800000000000, 1582934400000000000, 1585612800000000000, 1588204800000000000, 1590883200000000000, 1593475200000000000, 1596153600000000000, 1598832000000000000, 1601424000000000000, 1604102400000000000, 1606694400000000000, 1609372800000000000, 1612051200000000000, 1614470400000000000, 1617148800000000000, 1619740800000000000], \"categoryorder\": \"array\", \"domain\": [0.0, 1.0], \"title\": {\"text\": \"Date(monthwise)\"}}, \"yaxis\": {\"anchor\": \"x\", \"domain\": [0.0, 1.0], \"title\": {\"text\": \"Cured\"}}},                        {\"responsive\": true}                    ).then(function(){\n",
       "                            \n",
       "var gd = document.getElementById('894d9ba6-d15b-4e3d-82c7-e3c17899b1e6');\n",
       "var x = new MutationObserver(function (mutations, observer) {{\n",
       "        var display = window.getComputedStyle(gd).display;\n",
       "        if (!display || display === 'none') {{\n",
       "            console.log([gd, 'removed!']);\n",
       "            Plotly.purge(gd);\n",
       "            observer.disconnect();\n",
       "        }}\n",
       "}});\n",
       "\n",
       "// Listen for the removal of the full notebook cells\n",
       "var notebookContainer = gd.closest('#notebook-container');\n",
       "if (notebookContainer) {{\n",
       "    x.observe(notebookContainer, {childList: true});\n",
       "}}\n",
       "\n",
       "// Listen for the clearing of the current output cell\n",
       "var outputEl = gd.closest('.output');\n",
       "if (outputEl) {{\n",
       "    x.observe(outputEl, {childList: true});\n",
       "}}\n",
       "\n",
       "                        })                };                });            </script>        </div>"
      ]
     },
     "metadata": {},
     "output_type": "display_data"
    }
   ],
   "source": [
    "fig = px.bar(month_wise, x='Date', y='Cured',\n",
    "             hover_data=['Confirmed','Deaths'], color='Date',\n",
    "             labels={'Date':'Date(monthwise)'},\n",
    "             title=\"Monthwise Increase in Cured cases\")\n",
    "fig.show()"
   ]
  },
  {
   "cell_type": "code",
   "execution_count": 215,
   "metadata": {},
   "outputs": [
    {
     "data": {
      "application/vnd.plotly.v1+json": {
       "config": {
        "plotlyServerURL": "https://plot.ly"
       },
       "data": [
        {
         "alignmentgroup": "True",
         "customdata": [
          [
           2,
           0
          ]
         ],
         "hovertemplate": "Date(monthwise)=%{x}<br>Deaths=%{y}<br>Confirmed=%{customdata[0]}<br>Cured=%{customdata[1]}<extra></extra>",
         "legendgroup": "2020-01-31 00:00:00",
         "marker": {
          "color": "#FF6692"
         },
         "name": "2020-01-31 00:00:00",
         "offsetgroup": "2020-01-31 00:00:00",
         "orientation": "v",
         "showlegend": true,
         "textposition": "auto",
         "type": "bar",
         "x": [
          "2020-01-31T00:00:00"
         ],
         "xaxis": "x",
         "y": [
          0
         ],
         "yaxis": "y"
        },
        {
         "alignmentgroup": "True",
         "customdata": [
          [
           86,
           0
          ]
         ],
         "hovertemplate": "Date(monthwise)=%{x}<br>Deaths=%{y}<br>Confirmed=%{customdata[0]}<br>Cured=%{customdata[1]}<extra></extra>",
         "legendgroup": "2020-02-29 00:00:00",
         "marker": {
          "color": "#B6E880"
         },
         "name": "2020-02-29 00:00:00",
         "offsetgroup": "2020-02-29 00:00:00",
         "orientation": "v",
         "showlegend": true,
         "textposition": "auto",
         "type": "bar",
         "x": [
          "2020-02-29T00:00:00"
         ],
         "xaxis": "x",
         "y": [
          0
         ],
         "yaxis": "y"
        },
        {
         "alignmentgroup": "True",
         "customdata": [
          [
           9687,
           808
          ]
         ],
         "hovertemplate": "Date(monthwise)=%{x}<br>Deaths=%{y}<br>Confirmed=%{customdata[0]}<br>Cured=%{customdata[1]}<extra></extra>",
         "legendgroup": "2020-03-31 00:00:00",
         "marker": {
          "color": "#FF97FF"
         },
         "name": "2020-03-31 00:00:00",
         "offsetgroup": "2020-03-31 00:00:00",
         "orientation": "v",
         "showlegend": true,
         "textposition": "auto",
         "type": "bar",
         "x": [
          "2020-03-31T00:00:00"
         ],
         "xaxis": "x",
         "y": [
          202
         ],
         "yaxis": "y"
        },
        {
         "alignmentgroup": "True",
         "customdata": [
          [
           422442,
           75443
          ]
         ],
         "hovertemplate": "Date(monthwise)=%{x}<br>Deaths=%{y}<br>Confirmed=%{customdata[0]}<br>Cured=%{customdata[1]}<extra></extra>",
         "legendgroup": "2020-04-30 00:00:00",
         "marker": {
          "color": "#FECB52"
         },
         "name": "2020-04-30 00:00:00",
         "offsetgroup": "2020-04-30 00:00:00",
         "orientation": "v",
         "showlegend": true,
         "textposition": "auto",
         "type": "bar",
         "x": [
          "2020-04-30T00:00:00"
         ],
         "xaxis": "x",
         "y": [
          13270
         ],
         "yaxis": "y"
        },
        {
         "alignmentgroup": "True",
         "customdata": [
          [
           2938234,
           1133341
          ]
         ],
         "hovertemplate": "Date(monthwise)=%{x}<br>Deaths=%{y}<br>Confirmed=%{customdata[0]}<br>Cured=%{customdata[1]}<extra></extra>",
         "legendgroup": "2020-05-31 00:00:00",
         "marker": {
          "color": "#636efa"
         },
         "name": "2020-05-31 00:00:00",
         "offsetgroup": "2020-05-31 00:00:00",
         "orientation": "v",
         "showlegend": true,
         "textposition": "auto",
         "type": "bar",
         "x": [
          "2020-05-31T00:00:00"
         ],
         "xaxis": "x",
         "y": [
          89834
         ],
         "yaxis": "y"
        },
        {
         "alignmentgroup": "True",
         "customdata": [
          [
           10558374,
           5668946
          ]
         ],
         "hovertemplate": "Date(monthwise)=%{x}<br>Deaths=%{y}<br>Confirmed=%{customdata[0]}<br>Cured=%{customdata[1]}<extra></extra>",
         "legendgroup": "2020-06-30 00:00:00",
         "marker": {
          "color": "#EF553B"
         },
         "name": "2020-06-30 00:00:00",
         "offsetgroup": "2020-06-30 00:00:00",
         "orientation": "v",
         "showlegend": true,
         "textposition": "auto",
         "type": "bar",
         "x": [
          "2020-06-30T00:00:00"
         ],
         "xaxis": "x",
         "y": [
          319690
         ],
         "yaxis": "y"
        },
        {
         "alignmentgroup": "True",
         "customdata": [
          [
           31726501,
           19980130
          ]
         ],
         "hovertemplate": "Date(monthwise)=%{x}<br>Deaths=%{y}<br>Confirmed=%{customdata[0]}<br>Cured=%{customdata[1]}<extra></extra>",
         "legendgroup": "2020-07-31 00:00:00",
         "marker": {
          "color": "#00cc96"
         },
         "name": "2020-07-31 00:00:00",
         "offsetgroup": "2020-07-31 00:00:00",
         "orientation": "v",
         "showlegend": true,
         "textposition": "auto",
         "type": "bar",
         "x": [
          "2020-07-31T00:00:00"
         ],
         "xaxis": "x",
         "y": [
          793511
         ],
         "yaxis": "y"
        },
        {
         "alignmentgroup": "True",
         "customdata": [
          [
           80749620,
           58580895
          ]
         ],
         "hovertemplate": "Date(monthwise)=%{x}<br>Deaths=%{y}<br>Confirmed=%{customdata[0]}<br>Cured=%{customdata[1]}<extra></extra>",
         "legendgroup": "2020-08-31 00:00:00",
         "marker": {
          "color": "#ab63fa"
         },
         "name": "2020-08-31 00:00:00",
         "offsetgroup": "2020-08-31 00:00:00",
         "orientation": "v",
         "showlegend": true,
         "textposition": "auto",
         "type": "bar",
         "x": [
          "2020-08-31T00:00:00"
         ],
         "xaxis": "x",
         "y": [
          1553468
         ],
         "yaxis": "y"
        },
        {
         "alignmentgroup": "True",
         "customdata": [
          [
           149113758,
           118592934
          ]
         ],
         "hovertemplate": "Date(monthwise)=%{x}<br>Deaths=%{y}<br>Confirmed=%{customdata[0]}<br>Cured=%{customdata[1]}<extra></extra>",
         "legendgroup": "2020-09-30 00:00:00",
         "marker": {
          "color": "#FFA15A"
         },
         "name": "2020-09-30 00:00:00",
         "offsetgroup": "2020-09-30 00:00:00",
         "orientation": "v",
         "showlegend": true,
         "textposition": "auto",
         "type": "bar",
         "x": [
          "2020-09-30T00:00:00"
         ],
         "xaxis": "x",
         "y": [
          2443374
         ],
         "yaxis": "y"
        },
        {
         "alignmentgroup": "True",
         "customdata": [
          [
           226770312,
           198824412
          ]
         ],
         "hovertemplate": "Date(monthwise)=%{x}<br>Deaths=%{y}<br>Confirmed=%{customdata[0]}<br>Cured=%{customdata[1]}<extra></extra>",
         "legendgroup": "2020-10-31 00:00:00",
         "marker": {
          "color": "#19d3f3"
         },
         "name": "2020-10-31 00:00:00",
         "offsetgroup": "2020-10-31 00:00:00",
         "orientation": "v",
         "showlegend": true,
         "textposition": "auto",
         "type": "bar",
         "x": [
          "2020-10-31T00:00:00"
         ],
         "xaxis": "x",
         "y": [
          3457615
         ],
         "yaxis": "y"
        },
        {
         "alignmentgroup": "True",
         "customdata": [
          [
           264556412,
           246213201
          ]
         ],
         "hovertemplate": "Date(monthwise)=%{x}<br>Deaths=%{y}<br>Confirmed=%{customdata[0]}<br>Cured=%{customdata[1]}<extra></extra>",
         "legendgroup": "2020-11-30 00:00:00",
         "marker": {
          "color": "#FF6692"
         },
         "name": "2020-11-30 00:00:00",
         "offsetgroup": "2020-11-30 00:00:00",
         "orientation": "v",
         "showlegend": true,
         "textposition": "auto",
         "type": "bar",
         "x": [
          "2020-11-30T00:00:00"
         ],
         "xaxis": "x",
         "y": [
          3894165
         ],
         "yaxis": "y"
        },
        {
         "alignmentgroup": "True",
         "customdata": [
          [
           307177353,
           292244085
          ]
         ],
         "hovertemplate": "Date(monthwise)=%{x}<br>Deaths=%{y}<br>Confirmed=%{customdata[0]}<br>Cured=%{customdata[1]}<extra></extra>",
         "legendgroup": "2020-12-31 00:00:00",
         "marker": {
          "color": "#B6E880"
         },
         "name": "2020-12-31 00:00:00",
         "offsetgroup": "2020-12-31 00:00:00",
         "orientation": "v",
         "showlegend": true,
         "textposition": "auto",
         "type": "bar",
         "x": [
          "2020-12-31T00:00:00"
         ],
         "xaxis": "x",
         "y": [
          4457379
         ],
         "yaxis": "y"
        },
        {
         "alignmentgroup": "True",
         "customdata": [
          [
           326469747,
           315332019
          ]
         ],
         "hovertemplate": "Date(monthwise)=%{x}<br>Deaths=%{y}<br>Confirmed=%{customdata[0]}<br>Cured=%{customdata[1]}<extra></extra>",
         "legendgroup": "2021-01-31 00:00:00",
         "marker": {
          "color": "#FF97FF"
         },
         "name": "2021-01-31 00:00:00",
         "offsetgroup": "2021-01-31 00:00:00",
         "orientation": "v",
         "showlegend": true,
         "textposition": "auto",
         "type": "bar",
         "x": [
          "2021-01-31T00:00:00"
         ],
         "xaxis": "x",
         "y": [
          4709167
         ],
         "yaxis": "y"
        },
        {
         "alignmentgroup": "True",
         "customdata": [
          [
           305631803,
           297133802
          ]
         ],
         "hovertemplate": "Date(monthwise)=%{x}<br>Deaths=%{y}<br>Confirmed=%{customdata[0]}<br>Cured=%{customdata[1]}<extra></extra>",
         "legendgroup": "2021-02-28 00:00:00",
         "marker": {
          "color": "#FECB52"
         },
         "name": "2021-02-28 00:00:00",
         "offsetgroup": "2021-02-28 00:00:00",
         "orientation": "v",
         "showlegend": true,
         "textposition": "auto",
         "type": "bar",
         "x": [
          "2021-02-28T00:00:00"
         ],
         "xaxis": "x",
         "y": [
          4359434
         ],
         "yaxis": "y"
        },
        {
         "alignmentgroup": "True",
         "customdata": [
          [
           356305616,
           342610397
          ]
         ],
         "hovertemplate": "Date(monthwise)=%{x}<br>Deaths=%{y}<br>Confirmed=%{customdata[0]}<br>Cured=%{customdata[1]}<extra></extra>",
         "legendgroup": "2021-03-31 00:00:00",
         "marker": {
          "color": "#636efa"
         },
         "name": "2021-03-31 00:00:00",
         "offsetgroup": "2021-03-31 00:00:00",
         "orientation": "v",
         "showlegend": true,
         "textposition": "auto",
         "type": "bar",
         "x": [
          "2021-03-31T00:00:00"
         ],
         "xaxis": "x",
         "y": [
          4935253
         ],
         "yaxis": "y"
        },
        {
         "alignmentgroup": "True",
         "customdata": [
          [
           300740086,
           269239666
          ]
         ],
         "hovertemplate": "Date(monthwise)=%{x}<br>Deaths=%{y}<br>Confirmed=%{customdata[0]}<br>Cured=%{customdata[1]}<extra></extra>",
         "legendgroup": "2021-04-30 00:00:00",
         "marker": {
          "color": "#EF553B"
         },
         "name": "2021-04-30 00:00:00",
         "offsetgroup": "2021-04-30 00:00:00",
         "orientation": "v",
         "showlegend": true,
         "textposition": "auto",
         "type": "bar",
         "x": [
          "2021-04-30T00:00:00"
         ],
         "xaxis": "x",
         "y": [
          3764157
         ],
         "yaxis": "y"
        }
       ],
       "layout": {
        "barmode": "relative",
        "legend": {
         "title": {
          "text": "Date(monthwise)"
         },
         "tracegroupgap": 0
        },
        "template": {
         "data": {
          "bar": [
           {
            "error_x": {
             "color": "#2a3f5f"
            },
            "error_y": {
             "color": "#2a3f5f"
            },
            "marker": {
             "line": {
              "color": "#E5ECF6",
              "width": 0.5
             }
            },
            "type": "bar"
           }
          ],
          "barpolar": [
           {
            "marker": {
             "line": {
              "color": "#E5ECF6",
              "width": 0.5
             }
            },
            "type": "barpolar"
           }
          ],
          "carpet": [
           {
            "aaxis": {
             "endlinecolor": "#2a3f5f",
             "gridcolor": "white",
             "linecolor": "white",
             "minorgridcolor": "white",
             "startlinecolor": "#2a3f5f"
            },
            "baxis": {
             "endlinecolor": "#2a3f5f",
             "gridcolor": "white",
             "linecolor": "white",
             "minorgridcolor": "white",
             "startlinecolor": "#2a3f5f"
            },
            "type": "carpet"
           }
          ],
          "choropleth": [
           {
            "colorbar": {
             "outlinewidth": 0,
             "ticks": ""
            },
            "type": "choropleth"
           }
          ],
          "contour": [
           {
            "colorbar": {
             "outlinewidth": 0,
             "ticks": ""
            },
            "colorscale": [
             [
              0,
              "#0d0887"
             ],
             [
              0.1111111111111111,
              "#46039f"
             ],
             [
              0.2222222222222222,
              "#7201a8"
             ],
             [
              0.3333333333333333,
              "#9c179e"
             ],
             [
              0.4444444444444444,
              "#bd3786"
             ],
             [
              0.5555555555555556,
              "#d8576b"
             ],
             [
              0.6666666666666666,
              "#ed7953"
             ],
             [
              0.7777777777777778,
              "#fb9f3a"
             ],
             [
              0.8888888888888888,
              "#fdca26"
             ],
             [
              1,
              "#f0f921"
             ]
            ],
            "type": "contour"
           }
          ],
          "contourcarpet": [
           {
            "colorbar": {
             "outlinewidth": 0,
             "ticks": ""
            },
            "type": "contourcarpet"
           }
          ],
          "heatmap": [
           {
            "colorbar": {
             "outlinewidth": 0,
             "ticks": ""
            },
            "colorscale": [
             [
              0,
              "#0d0887"
             ],
             [
              0.1111111111111111,
              "#46039f"
             ],
             [
              0.2222222222222222,
              "#7201a8"
             ],
             [
              0.3333333333333333,
              "#9c179e"
             ],
             [
              0.4444444444444444,
              "#bd3786"
             ],
             [
              0.5555555555555556,
              "#d8576b"
             ],
             [
              0.6666666666666666,
              "#ed7953"
             ],
             [
              0.7777777777777778,
              "#fb9f3a"
             ],
             [
              0.8888888888888888,
              "#fdca26"
             ],
             [
              1,
              "#f0f921"
             ]
            ],
            "type": "heatmap"
           }
          ],
          "heatmapgl": [
           {
            "colorbar": {
             "outlinewidth": 0,
             "ticks": ""
            },
            "colorscale": [
             [
              0,
              "#0d0887"
             ],
             [
              0.1111111111111111,
              "#46039f"
             ],
             [
              0.2222222222222222,
              "#7201a8"
             ],
             [
              0.3333333333333333,
              "#9c179e"
             ],
             [
              0.4444444444444444,
              "#bd3786"
             ],
             [
              0.5555555555555556,
              "#d8576b"
             ],
             [
              0.6666666666666666,
              "#ed7953"
             ],
             [
              0.7777777777777778,
              "#fb9f3a"
             ],
             [
              0.8888888888888888,
              "#fdca26"
             ],
             [
              1,
              "#f0f921"
             ]
            ],
            "type": "heatmapgl"
           }
          ],
          "histogram": [
           {
            "marker": {
             "colorbar": {
              "outlinewidth": 0,
              "ticks": ""
             }
            },
            "type": "histogram"
           }
          ],
          "histogram2d": [
           {
            "colorbar": {
             "outlinewidth": 0,
             "ticks": ""
            },
            "colorscale": [
             [
              0,
              "#0d0887"
             ],
             [
              0.1111111111111111,
              "#46039f"
             ],
             [
              0.2222222222222222,
              "#7201a8"
             ],
             [
              0.3333333333333333,
              "#9c179e"
             ],
             [
              0.4444444444444444,
              "#bd3786"
             ],
             [
              0.5555555555555556,
              "#d8576b"
             ],
             [
              0.6666666666666666,
              "#ed7953"
             ],
             [
              0.7777777777777778,
              "#fb9f3a"
             ],
             [
              0.8888888888888888,
              "#fdca26"
             ],
             [
              1,
              "#f0f921"
             ]
            ],
            "type": "histogram2d"
           }
          ],
          "histogram2dcontour": [
           {
            "colorbar": {
             "outlinewidth": 0,
             "ticks": ""
            },
            "colorscale": [
             [
              0,
              "#0d0887"
             ],
             [
              0.1111111111111111,
              "#46039f"
             ],
             [
              0.2222222222222222,
              "#7201a8"
             ],
             [
              0.3333333333333333,
              "#9c179e"
             ],
             [
              0.4444444444444444,
              "#bd3786"
             ],
             [
              0.5555555555555556,
              "#d8576b"
             ],
             [
              0.6666666666666666,
              "#ed7953"
             ],
             [
              0.7777777777777778,
              "#fb9f3a"
             ],
             [
              0.8888888888888888,
              "#fdca26"
             ],
             [
              1,
              "#f0f921"
             ]
            ],
            "type": "histogram2dcontour"
           }
          ],
          "mesh3d": [
           {
            "colorbar": {
             "outlinewidth": 0,
             "ticks": ""
            },
            "type": "mesh3d"
           }
          ],
          "parcoords": [
           {
            "line": {
             "colorbar": {
              "outlinewidth": 0,
              "ticks": ""
             }
            },
            "type": "parcoords"
           }
          ],
          "pie": [
           {
            "automargin": true,
            "type": "pie"
           }
          ],
          "scatter": [
           {
            "marker": {
             "colorbar": {
              "outlinewidth": 0,
              "ticks": ""
             }
            },
            "type": "scatter"
           }
          ],
          "scatter3d": [
           {
            "line": {
             "colorbar": {
              "outlinewidth": 0,
              "ticks": ""
             }
            },
            "marker": {
             "colorbar": {
              "outlinewidth": 0,
              "ticks": ""
             }
            },
            "type": "scatter3d"
           }
          ],
          "scattercarpet": [
           {
            "marker": {
             "colorbar": {
              "outlinewidth": 0,
              "ticks": ""
             }
            },
            "type": "scattercarpet"
           }
          ],
          "scattergeo": [
           {
            "marker": {
             "colorbar": {
              "outlinewidth": 0,
              "ticks": ""
             }
            },
            "type": "scattergeo"
           }
          ],
          "scattergl": [
           {
            "marker": {
             "colorbar": {
              "outlinewidth": 0,
              "ticks": ""
             }
            },
            "type": "scattergl"
           }
          ],
          "scattermapbox": [
           {
            "marker": {
             "colorbar": {
              "outlinewidth": 0,
              "ticks": ""
             }
            },
            "type": "scattermapbox"
           }
          ],
          "scatterpolar": [
           {
            "marker": {
             "colorbar": {
              "outlinewidth": 0,
              "ticks": ""
             }
            },
            "type": "scatterpolar"
           }
          ],
          "scatterpolargl": [
           {
            "marker": {
             "colorbar": {
              "outlinewidth": 0,
              "ticks": ""
             }
            },
            "type": "scatterpolargl"
           }
          ],
          "scatterternary": [
           {
            "marker": {
             "colorbar": {
              "outlinewidth": 0,
              "ticks": ""
             }
            },
            "type": "scatterternary"
           }
          ],
          "surface": [
           {
            "colorbar": {
             "outlinewidth": 0,
             "ticks": ""
            },
            "colorscale": [
             [
              0,
              "#0d0887"
             ],
             [
              0.1111111111111111,
              "#46039f"
             ],
             [
              0.2222222222222222,
              "#7201a8"
             ],
             [
              0.3333333333333333,
              "#9c179e"
             ],
             [
              0.4444444444444444,
              "#bd3786"
             ],
             [
              0.5555555555555556,
              "#d8576b"
             ],
             [
              0.6666666666666666,
              "#ed7953"
             ],
             [
              0.7777777777777778,
              "#fb9f3a"
             ],
             [
              0.8888888888888888,
              "#fdca26"
             ],
             [
              1,
              "#f0f921"
             ]
            ],
            "type": "surface"
           }
          ],
          "table": [
           {
            "cells": {
             "fill": {
              "color": "#EBF0F8"
             },
             "line": {
              "color": "white"
             }
            },
            "header": {
             "fill": {
              "color": "#C8D4E3"
             },
             "line": {
              "color": "white"
             }
            },
            "type": "table"
           }
          ]
         },
         "layout": {
          "annotationdefaults": {
           "arrowcolor": "#2a3f5f",
           "arrowhead": 0,
           "arrowwidth": 1
          },
          "autotypenumbers": "strict",
          "coloraxis": {
           "colorbar": {
            "outlinewidth": 0,
            "ticks": ""
           }
          },
          "colorscale": {
           "diverging": [
            [
             0,
             "#8e0152"
            ],
            [
             0.1,
             "#c51b7d"
            ],
            [
             0.2,
             "#de77ae"
            ],
            [
             0.3,
             "#f1b6da"
            ],
            [
             0.4,
             "#fde0ef"
            ],
            [
             0.5,
             "#f7f7f7"
            ],
            [
             0.6,
             "#e6f5d0"
            ],
            [
             0.7,
             "#b8e186"
            ],
            [
             0.8,
             "#7fbc41"
            ],
            [
             0.9,
             "#4d9221"
            ],
            [
             1,
             "#276419"
            ]
           ],
           "sequential": [
            [
             0,
             "#0d0887"
            ],
            [
             0.1111111111111111,
             "#46039f"
            ],
            [
             0.2222222222222222,
             "#7201a8"
            ],
            [
             0.3333333333333333,
             "#9c179e"
            ],
            [
             0.4444444444444444,
             "#bd3786"
            ],
            [
             0.5555555555555556,
             "#d8576b"
            ],
            [
             0.6666666666666666,
             "#ed7953"
            ],
            [
             0.7777777777777778,
             "#fb9f3a"
            ],
            [
             0.8888888888888888,
             "#fdca26"
            ],
            [
             1,
             "#f0f921"
            ]
           ],
           "sequentialminus": [
            [
             0,
             "#0d0887"
            ],
            [
             0.1111111111111111,
             "#46039f"
            ],
            [
             0.2222222222222222,
             "#7201a8"
            ],
            [
             0.3333333333333333,
             "#9c179e"
            ],
            [
             0.4444444444444444,
             "#bd3786"
            ],
            [
             0.5555555555555556,
             "#d8576b"
            ],
            [
             0.6666666666666666,
             "#ed7953"
            ],
            [
             0.7777777777777778,
             "#fb9f3a"
            ],
            [
             0.8888888888888888,
             "#fdca26"
            ],
            [
             1,
             "#f0f921"
            ]
           ]
          },
          "colorway": [
           "#636efa",
           "#EF553B",
           "#00cc96",
           "#ab63fa",
           "#FFA15A",
           "#19d3f3",
           "#FF6692",
           "#B6E880",
           "#FF97FF",
           "#FECB52"
          ],
          "font": {
           "color": "#2a3f5f"
          },
          "geo": {
           "bgcolor": "white",
           "lakecolor": "white",
           "landcolor": "#E5ECF6",
           "showlakes": true,
           "showland": true,
           "subunitcolor": "white"
          },
          "hoverlabel": {
           "align": "left"
          },
          "hovermode": "closest",
          "mapbox": {
           "style": "light"
          },
          "paper_bgcolor": "white",
          "plot_bgcolor": "#E5ECF6",
          "polar": {
           "angularaxis": {
            "gridcolor": "white",
            "linecolor": "white",
            "ticks": ""
           },
           "bgcolor": "#E5ECF6",
           "radialaxis": {
            "gridcolor": "white",
            "linecolor": "white",
            "ticks": ""
           }
          },
          "scene": {
           "xaxis": {
            "backgroundcolor": "#E5ECF6",
            "gridcolor": "white",
            "gridwidth": 2,
            "linecolor": "white",
            "showbackground": true,
            "ticks": "",
            "zerolinecolor": "white"
           },
           "yaxis": {
            "backgroundcolor": "#E5ECF6",
            "gridcolor": "white",
            "gridwidth": 2,
            "linecolor": "white",
            "showbackground": true,
            "ticks": "",
            "zerolinecolor": "white"
           },
           "zaxis": {
            "backgroundcolor": "#E5ECF6",
            "gridcolor": "white",
            "gridwidth": 2,
            "linecolor": "white",
            "showbackground": true,
            "ticks": "",
            "zerolinecolor": "white"
           }
          },
          "shapedefaults": {
           "line": {
            "color": "#2a3f5f"
           }
          },
          "ternary": {
           "aaxis": {
            "gridcolor": "white",
            "linecolor": "white",
            "ticks": ""
           },
           "baxis": {
            "gridcolor": "white",
            "linecolor": "white",
            "ticks": ""
           },
           "bgcolor": "#E5ECF6",
           "caxis": {
            "gridcolor": "white",
            "linecolor": "white",
            "ticks": ""
           }
          },
          "title": {
           "x": 0.05
          },
          "xaxis": {
           "automargin": true,
           "gridcolor": "white",
           "linecolor": "white",
           "ticks": "",
           "title": {
            "standoff": 15
           },
           "zerolinecolor": "white",
           "zerolinewidth": 2
          },
          "yaxis": {
           "automargin": true,
           "gridcolor": "white",
           "linecolor": "white",
           "ticks": "",
           "title": {
            "standoff": 15
           },
           "zerolinecolor": "white",
           "zerolinewidth": 2
          }
         }
        },
        "title": {
         "text": "Monthwise Increase in Deaths cases"
        },
        "xaxis": {
         "anchor": "y",
         "categoryarray": [
          1580428800000000000,
          1582934400000000000,
          1585612800000000000,
          1588204800000000000,
          1590883200000000000,
          1593475200000000000,
          1596153600000000000,
          1598832000000000000,
          1601424000000000000,
          1604102400000000000,
          1606694400000000000,
          1609372800000000000,
          1612051200000000000,
          1614470400000000000,
          1617148800000000000,
          1619740800000000000
         ],
         "categoryorder": "array",
         "domain": [
          0,
          1
         ],
         "title": {
          "text": "Date(monthwise)"
         }
        },
        "yaxis": {
         "anchor": "x",
         "domain": [
          0,
          1
         ],
         "title": {
          "text": "Deaths"
         }
        }
       }
      },
      "text/html": [
       "<div>                            <div id=\"052ff04d-d81b-499e-91ca-0911e8f585a3\" class=\"plotly-graph-div\" style=\"height:525px; width:100%;\"></div>            <script type=\"text/javascript\">                require([\"plotly\"], function(Plotly) {                    window.PLOTLYENV=window.PLOTLYENV || {};                                    if (document.getElementById(\"052ff04d-d81b-499e-91ca-0911e8f585a3\")) {                    Plotly.newPlot(                        \"052ff04d-d81b-499e-91ca-0911e8f585a3\",                        [{\"alignmentgroup\": \"True\", \"customdata\": [[2, 0]], \"hovertemplate\": \"Date(monthwise)=%{x}<br>Deaths=%{y}<br>Confirmed=%{customdata[0]}<br>Cured=%{customdata[1]}<extra></extra>\", \"legendgroup\": \"2020-01-31 00:00:00\", \"marker\": {\"color\": \"#FF6692\"}, \"name\": \"2020-01-31 00:00:00\", \"offsetgroup\": \"2020-01-31 00:00:00\", \"orientation\": \"v\", \"showlegend\": true, \"textposition\": \"auto\", \"type\": \"bar\", \"x\": [\"2020-01-31T00:00:00\"], \"xaxis\": \"x\", \"y\": [0], \"yaxis\": \"y\"}, {\"alignmentgroup\": \"True\", \"customdata\": [[86, 0]], \"hovertemplate\": \"Date(monthwise)=%{x}<br>Deaths=%{y}<br>Confirmed=%{customdata[0]}<br>Cured=%{customdata[1]}<extra></extra>\", \"legendgroup\": \"2020-02-29 00:00:00\", \"marker\": {\"color\": \"#B6E880\"}, \"name\": \"2020-02-29 00:00:00\", \"offsetgroup\": \"2020-02-29 00:00:00\", \"orientation\": \"v\", \"showlegend\": true, \"textposition\": \"auto\", \"type\": \"bar\", \"x\": [\"2020-02-29T00:00:00\"], \"xaxis\": \"x\", \"y\": [0], \"yaxis\": \"y\"}, {\"alignmentgroup\": \"True\", \"customdata\": [[9687, 808]], \"hovertemplate\": \"Date(monthwise)=%{x}<br>Deaths=%{y}<br>Confirmed=%{customdata[0]}<br>Cured=%{customdata[1]}<extra></extra>\", \"legendgroup\": \"2020-03-31 00:00:00\", \"marker\": {\"color\": \"#FF97FF\"}, \"name\": \"2020-03-31 00:00:00\", \"offsetgroup\": \"2020-03-31 00:00:00\", \"orientation\": \"v\", \"showlegend\": true, \"textposition\": \"auto\", \"type\": \"bar\", \"x\": [\"2020-03-31T00:00:00\"], \"xaxis\": \"x\", \"y\": [202], \"yaxis\": \"y\"}, {\"alignmentgroup\": \"True\", \"customdata\": [[422442, 75443]], \"hovertemplate\": \"Date(monthwise)=%{x}<br>Deaths=%{y}<br>Confirmed=%{customdata[0]}<br>Cured=%{customdata[1]}<extra></extra>\", \"legendgroup\": \"2020-04-30 00:00:00\", \"marker\": {\"color\": \"#FECB52\"}, \"name\": \"2020-04-30 00:00:00\", \"offsetgroup\": \"2020-04-30 00:00:00\", \"orientation\": \"v\", \"showlegend\": true, \"textposition\": \"auto\", \"type\": \"bar\", \"x\": [\"2020-04-30T00:00:00\"], \"xaxis\": \"x\", \"y\": [13270], \"yaxis\": \"y\"}, {\"alignmentgroup\": \"True\", \"customdata\": [[2938234, 1133341]], \"hovertemplate\": \"Date(monthwise)=%{x}<br>Deaths=%{y}<br>Confirmed=%{customdata[0]}<br>Cured=%{customdata[1]}<extra></extra>\", \"legendgroup\": \"2020-05-31 00:00:00\", \"marker\": {\"color\": \"#636efa\"}, \"name\": \"2020-05-31 00:00:00\", \"offsetgroup\": \"2020-05-31 00:00:00\", \"orientation\": \"v\", \"showlegend\": true, \"textposition\": \"auto\", \"type\": \"bar\", \"x\": [\"2020-05-31T00:00:00\"], \"xaxis\": \"x\", \"y\": [89834], \"yaxis\": \"y\"}, {\"alignmentgroup\": \"True\", \"customdata\": [[10558374, 5668946]], \"hovertemplate\": \"Date(monthwise)=%{x}<br>Deaths=%{y}<br>Confirmed=%{customdata[0]}<br>Cured=%{customdata[1]}<extra></extra>\", \"legendgroup\": \"2020-06-30 00:00:00\", \"marker\": {\"color\": \"#EF553B\"}, \"name\": \"2020-06-30 00:00:00\", \"offsetgroup\": \"2020-06-30 00:00:00\", \"orientation\": \"v\", \"showlegend\": true, \"textposition\": \"auto\", \"type\": \"bar\", \"x\": [\"2020-06-30T00:00:00\"], \"xaxis\": \"x\", \"y\": [319690], \"yaxis\": \"y\"}, {\"alignmentgroup\": \"True\", \"customdata\": [[31726501, 19980130]], \"hovertemplate\": \"Date(monthwise)=%{x}<br>Deaths=%{y}<br>Confirmed=%{customdata[0]}<br>Cured=%{customdata[1]}<extra></extra>\", \"legendgroup\": \"2020-07-31 00:00:00\", \"marker\": {\"color\": \"#00cc96\"}, \"name\": \"2020-07-31 00:00:00\", \"offsetgroup\": \"2020-07-31 00:00:00\", \"orientation\": \"v\", \"showlegend\": true, \"textposition\": \"auto\", \"type\": \"bar\", \"x\": [\"2020-07-31T00:00:00\"], \"xaxis\": \"x\", \"y\": [793511], \"yaxis\": \"y\"}, {\"alignmentgroup\": \"True\", \"customdata\": [[80749620, 58580895]], \"hovertemplate\": \"Date(monthwise)=%{x}<br>Deaths=%{y}<br>Confirmed=%{customdata[0]}<br>Cured=%{customdata[1]}<extra></extra>\", \"legendgroup\": \"2020-08-31 00:00:00\", \"marker\": {\"color\": \"#ab63fa\"}, \"name\": \"2020-08-31 00:00:00\", \"offsetgroup\": \"2020-08-31 00:00:00\", \"orientation\": \"v\", \"showlegend\": true, \"textposition\": \"auto\", \"type\": \"bar\", \"x\": [\"2020-08-31T00:00:00\"], \"xaxis\": \"x\", \"y\": [1553468], \"yaxis\": \"y\"}, {\"alignmentgroup\": \"True\", \"customdata\": [[149113758, 118592934]], \"hovertemplate\": \"Date(monthwise)=%{x}<br>Deaths=%{y}<br>Confirmed=%{customdata[0]}<br>Cured=%{customdata[1]}<extra></extra>\", \"legendgroup\": \"2020-09-30 00:00:00\", \"marker\": {\"color\": \"#FFA15A\"}, \"name\": \"2020-09-30 00:00:00\", \"offsetgroup\": \"2020-09-30 00:00:00\", \"orientation\": \"v\", \"showlegend\": true, \"textposition\": \"auto\", \"type\": \"bar\", \"x\": [\"2020-09-30T00:00:00\"], \"xaxis\": \"x\", \"y\": [2443374], \"yaxis\": \"y\"}, {\"alignmentgroup\": \"True\", \"customdata\": [[226770312, 198824412]], \"hovertemplate\": \"Date(monthwise)=%{x}<br>Deaths=%{y}<br>Confirmed=%{customdata[0]}<br>Cured=%{customdata[1]}<extra></extra>\", \"legendgroup\": \"2020-10-31 00:00:00\", \"marker\": {\"color\": \"#19d3f3\"}, \"name\": \"2020-10-31 00:00:00\", \"offsetgroup\": \"2020-10-31 00:00:00\", \"orientation\": \"v\", \"showlegend\": true, \"textposition\": \"auto\", \"type\": \"bar\", \"x\": [\"2020-10-31T00:00:00\"], \"xaxis\": \"x\", \"y\": [3457615], \"yaxis\": \"y\"}, {\"alignmentgroup\": \"True\", \"customdata\": [[264556412, 246213201]], \"hovertemplate\": \"Date(monthwise)=%{x}<br>Deaths=%{y}<br>Confirmed=%{customdata[0]}<br>Cured=%{customdata[1]}<extra></extra>\", \"legendgroup\": \"2020-11-30 00:00:00\", \"marker\": {\"color\": \"#FF6692\"}, \"name\": \"2020-11-30 00:00:00\", \"offsetgroup\": \"2020-11-30 00:00:00\", \"orientation\": \"v\", \"showlegend\": true, \"textposition\": \"auto\", \"type\": \"bar\", \"x\": [\"2020-11-30T00:00:00\"], \"xaxis\": \"x\", \"y\": [3894165], \"yaxis\": \"y\"}, {\"alignmentgroup\": \"True\", \"customdata\": [[307177353, 292244085]], \"hovertemplate\": \"Date(monthwise)=%{x}<br>Deaths=%{y}<br>Confirmed=%{customdata[0]}<br>Cured=%{customdata[1]}<extra></extra>\", \"legendgroup\": \"2020-12-31 00:00:00\", \"marker\": {\"color\": \"#B6E880\"}, \"name\": \"2020-12-31 00:00:00\", \"offsetgroup\": \"2020-12-31 00:00:00\", \"orientation\": \"v\", \"showlegend\": true, \"textposition\": \"auto\", \"type\": \"bar\", \"x\": [\"2020-12-31T00:00:00\"], \"xaxis\": \"x\", \"y\": [4457379], \"yaxis\": \"y\"}, {\"alignmentgroup\": \"True\", \"customdata\": [[326469747, 315332019]], \"hovertemplate\": \"Date(monthwise)=%{x}<br>Deaths=%{y}<br>Confirmed=%{customdata[0]}<br>Cured=%{customdata[1]}<extra></extra>\", \"legendgroup\": \"2021-01-31 00:00:00\", \"marker\": {\"color\": \"#FF97FF\"}, \"name\": \"2021-01-31 00:00:00\", \"offsetgroup\": \"2021-01-31 00:00:00\", \"orientation\": \"v\", \"showlegend\": true, \"textposition\": \"auto\", \"type\": \"bar\", \"x\": [\"2021-01-31T00:00:00\"], \"xaxis\": \"x\", \"y\": [4709167], \"yaxis\": \"y\"}, {\"alignmentgroup\": \"True\", \"customdata\": [[305631803, 297133802]], \"hovertemplate\": \"Date(monthwise)=%{x}<br>Deaths=%{y}<br>Confirmed=%{customdata[0]}<br>Cured=%{customdata[1]}<extra></extra>\", \"legendgroup\": \"2021-02-28 00:00:00\", \"marker\": {\"color\": \"#FECB52\"}, \"name\": \"2021-02-28 00:00:00\", \"offsetgroup\": \"2021-02-28 00:00:00\", \"orientation\": \"v\", \"showlegend\": true, \"textposition\": \"auto\", \"type\": \"bar\", \"x\": [\"2021-02-28T00:00:00\"], \"xaxis\": \"x\", \"y\": [4359434], \"yaxis\": \"y\"}, {\"alignmentgroup\": \"True\", \"customdata\": [[356305616, 342610397]], \"hovertemplate\": \"Date(monthwise)=%{x}<br>Deaths=%{y}<br>Confirmed=%{customdata[0]}<br>Cured=%{customdata[1]}<extra></extra>\", \"legendgroup\": \"2021-03-31 00:00:00\", \"marker\": {\"color\": \"#636efa\"}, \"name\": \"2021-03-31 00:00:00\", \"offsetgroup\": \"2021-03-31 00:00:00\", \"orientation\": \"v\", \"showlegend\": true, \"textposition\": \"auto\", \"type\": \"bar\", \"x\": [\"2021-03-31T00:00:00\"], \"xaxis\": \"x\", \"y\": [4935253], \"yaxis\": \"y\"}, {\"alignmentgroup\": \"True\", \"customdata\": [[300740086, 269239666]], \"hovertemplate\": \"Date(monthwise)=%{x}<br>Deaths=%{y}<br>Confirmed=%{customdata[0]}<br>Cured=%{customdata[1]}<extra></extra>\", \"legendgroup\": \"2021-04-30 00:00:00\", \"marker\": {\"color\": \"#EF553B\"}, \"name\": \"2021-04-30 00:00:00\", \"offsetgroup\": \"2021-04-30 00:00:00\", \"orientation\": \"v\", \"showlegend\": true, \"textposition\": \"auto\", \"type\": \"bar\", \"x\": [\"2021-04-30T00:00:00\"], \"xaxis\": \"x\", \"y\": [3764157], \"yaxis\": \"y\"}],                        {\"barmode\": \"relative\", \"legend\": {\"title\": {\"text\": \"Date(monthwise)\"}, \"tracegroupgap\": 0}, \"template\": {\"data\": {\"bar\": [{\"error_x\": {\"color\": \"#2a3f5f\"}, \"error_y\": {\"color\": \"#2a3f5f\"}, \"marker\": {\"line\": {\"color\": \"#E5ECF6\", \"width\": 0.5}}, \"type\": \"bar\"}], \"barpolar\": [{\"marker\": {\"line\": {\"color\": \"#E5ECF6\", \"width\": 0.5}}, \"type\": \"barpolar\"}], \"carpet\": [{\"aaxis\": {\"endlinecolor\": \"#2a3f5f\", \"gridcolor\": \"white\", \"linecolor\": \"white\", \"minorgridcolor\": \"white\", \"startlinecolor\": \"#2a3f5f\"}, \"baxis\": {\"endlinecolor\": \"#2a3f5f\", \"gridcolor\": \"white\", \"linecolor\": \"white\", \"minorgridcolor\": \"white\", \"startlinecolor\": \"#2a3f5f\"}, \"type\": \"carpet\"}], \"choropleth\": [{\"colorbar\": {\"outlinewidth\": 0, \"ticks\": \"\"}, \"type\": \"choropleth\"}], \"contour\": [{\"colorbar\": {\"outlinewidth\": 0, \"ticks\": \"\"}, \"colorscale\": [[0.0, \"#0d0887\"], [0.1111111111111111, \"#46039f\"], [0.2222222222222222, \"#7201a8\"], [0.3333333333333333, \"#9c179e\"], [0.4444444444444444, \"#bd3786\"], [0.5555555555555556, \"#d8576b\"], [0.6666666666666666, \"#ed7953\"], [0.7777777777777778, \"#fb9f3a\"], [0.8888888888888888, \"#fdca26\"], [1.0, \"#f0f921\"]], \"type\": \"contour\"}], \"contourcarpet\": [{\"colorbar\": {\"outlinewidth\": 0, \"ticks\": \"\"}, \"type\": \"contourcarpet\"}], \"heatmap\": [{\"colorbar\": {\"outlinewidth\": 0, \"ticks\": \"\"}, \"colorscale\": [[0.0, \"#0d0887\"], [0.1111111111111111, \"#46039f\"], [0.2222222222222222, \"#7201a8\"], [0.3333333333333333, \"#9c179e\"], [0.4444444444444444, \"#bd3786\"], [0.5555555555555556, \"#d8576b\"], [0.6666666666666666, \"#ed7953\"], [0.7777777777777778, \"#fb9f3a\"], [0.8888888888888888, \"#fdca26\"], [1.0, \"#f0f921\"]], \"type\": \"heatmap\"}], \"heatmapgl\": [{\"colorbar\": {\"outlinewidth\": 0, \"ticks\": \"\"}, \"colorscale\": [[0.0, \"#0d0887\"], [0.1111111111111111, \"#46039f\"], [0.2222222222222222, \"#7201a8\"], [0.3333333333333333, \"#9c179e\"], [0.4444444444444444, \"#bd3786\"], [0.5555555555555556, \"#d8576b\"], [0.6666666666666666, \"#ed7953\"], [0.7777777777777778, \"#fb9f3a\"], [0.8888888888888888, \"#fdca26\"], [1.0, \"#f0f921\"]], \"type\": \"heatmapgl\"}], \"histogram\": [{\"marker\": {\"colorbar\": {\"outlinewidth\": 0, \"ticks\": \"\"}}, \"type\": \"histogram\"}], \"histogram2d\": [{\"colorbar\": {\"outlinewidth\": 0, \"ticks\": \"\"}, \"colorscale\": [[0.0, \"#0d0887\"], [0.1111111111111111, \"#46039f\"], [0.2222222222222222, \"#7201a8\"], [0.3333333333333333, \"#9c179e\"], [0.4444444444444444, \"#bd3786\"], [0.5555555555555556, \"#d8576b\"], [0.6666666666666666, \"#ed7953\"], [0.7777777777777778, \"#fb9f3a\"], [0.8888888888888888, \"#fdca26\"], [1.0, \"#f0f921\"]], \"type\": \"histogram2d\"}], \"histogram2dcontour\": [{\"colorbar\": {\"outlinewidth\": 0, \"ticks\": \"\"}, \"colorscale\": [[0.0, \"#0d0887\"], [0.1111111111111111, \"#46039f\"], [0.2222222222222222, \"#7201a8\"], [0.3333333333333333, \"#9c179e\"], [0.4444444444444444, \"#bd3786\"], [0.5555555555555556, \"#d8576b\"], [0.6666666666666666, \"#ed7953\"], [0.7777777777777778, \"#fb9f3a\"], [0.8888888888888888, \"#fdca26\"], [1.0, \"#f0f921\"]], \"type\": \"histogram2dcontour\"}], \"mesh3d\": [{\"colorbar\": {\"outlinewidth\": 0, \"ticks\": \"\"}, \"type\": \"mesh3d\"}], \"parcoords\": [{\"line\": {\"colorbar\": {\"outlinewidth\": 0, \"ticks\": \"\"}}, \"type\": \"parcoords\"}], \"pie\": [{\"automargin\": true, \"type\": \"pie\"}], \"scatter\": [{\"marker\": {\"colorbar\": {\"outlinewidth\": 0, \"ticks\": \"\"}}, \"type\": \"scatter\"}], \"scatter3d\": [{\"line\": {\"colorbar\": {\"outlinewidth\": 0, \"ticks\": \"\"}}, \"marker\": {\"colorbar\": {\"outlinewidth\": 0, \"ticks\": \"\"}}, \"type\": \"scatter3d\"}], \"scattercarpet\": [{\"marker\": {\"colorbar\": {\"outlinewidth\": 0, \"ticks\": \"\"}}, \"type\": \"scattercarpet\"}], \"scattergeo\": [{\"marker\": {\"colorbar\": {\"outlinewidth\": 0, \"ticks\": \"\"}}, \"type\": \"scattergeo\"}], \"scattergl\": [{\"marker\": {\"colorbar\": {\"outlinewidth\": 0, \"ticks\": \"\"}}, \"type\": \"scattergl\"}], \"scattermapbox\": [{\"marker\": {\"colorbar\": {\"outlinewidth\": 0, \"ticks\": \"\"}}, \"type\": \"scattermapbox\"}], \"scatterpolar\": [{\"marker\": {\"colorbar\": {\"outlinewidth\": 0, \"ticks\": \"\"}}, \"type\": \"scatterpolar\"}], \"scatterpolargl\": [{\"marker\": {\"colorbar\": {\"outlinewidth\": 0, \"ticks\": \"\"}}, \"type\": \"scatterpolargl\"}], \"scatterternary\": [{\"marker\": {\"colorbar\": {\"outlinewidth\": 0, \"ticks\": \"\"}}, \"type\": \"scatterternary\"}], \"surface\": [{\"colorbar\": {\"outlinewidth\": 0, \"ticks\": \"\"}, \"colorscale\": [[0.0, \"#0d0887\"], [0.1111111111111111, \"#46039f\"], [0.2222222222222222, \"#7201a8\"], [0.3333333333333333, \"#9c179e\"], [0.4444444444444444, \"#bd3786\"], [0.5555555555555556, \"#d8576b\"], [0.6666666666666666, \"#ed7953\"], [0.7777777777777778, \"#fb9f3a\"], [0.8888888888888888, \"#fdca26\"], [1.0, \"#f0f921\"]], \"type\": \"surface\"}], \"table\": [{\"cells\": {\"fill\": {\"color\": \"#EBF0F8\"}, \"line\": {\"color\": \"white\"}}, \"header\": {\"fill\": {\"color\": \"#C8D4E3\"}, \"line\": {\"color\": \"white\"}}, \"type\": \"table\"}]}, \"layout\": {\"annotationdefaults\": {\"arrowcolor\": \"#2a3f5f\", \"arrowhead\": 0, \"arrowwidth\": 1}, \"autotypenumbers\": \"strict\", \"coloraxis\": {\"colorbar\": {\"outlinewidth\": 0, \"ticks\": \"\"}}, \"colorscale\": {\"diverging\": [[0, \"#8e0152\"], [0.1, \"#c51b7d\"], [0.2, \"#de77ae\"], [0.3, \"#f1b6da\"], [0.4, \"#fde0ef\"], [0.5, \"#f7f7f7\"], [0.6, \"#e6f5d0\"], [0.7, \"#b8e186\"], [0.8, \"#7fbc41\"], [0.9, \"#4d9221\"], [1, \"#276419\"]], \"sequential\": [[0.0, \"#0d0887\"], [0.1111111111111111, \"#46039f\"], [0.2222222222222222, \"#7201a8\"], [0.3333333333333333, \"#9c179e\"], [0.4444444444444444, \"#bd3786\"], [0.5555555555555556, \"#d8576b\"], [0.6666666666666666, \"#ed7953\"], [0.7777777777777778, \"#fb9f3a\"], [0.8888888888888888, \"#fdca26\"], [1.0, \"#f0f921\"]], \"sequentialminus\": [[0.0, \"#0d0887\"], [0.1111111111111111, \"#46039f\"], [0.2222222222222222, \"#7201a8\"], [0.3333333333333333, \"#9c179e\"], [0.4444444444444444, \"#bd3786\"], [0.5555555555555556, \"#d8576b\"], [0.6666666666666666, \"#ed7953\"], [0.7777777777777778, \"#fb9f3a\"], [0.8888888888888888, \"#fdca26\"], [1.0, \"#f0f921\"]]}, \"colorway\": [\"#636efa\", \"#EF553B\", \"#00cc96\", \"#ab63fa\", \"#FFA15A\", \"#19d3f3\", \"#FF6692\", \"#B6E880\", \"#FF97FF\", \"#FECB52\"], \"font\": {\"color\": \"#2a3f5f\"}, \"geo\": {\"bgcolor\": \"white\", \"lakecolor\": \"white\", \"landcolor\": \"#E5ECF6\", \"showlakes\": true, \"showland\": true, \"subunitcolor\": \"white\"}, \"hoverlabel\": {\"align\": \"left\"}, \"hovermode\": \"closest\", \"mapbox\": {\"style\": \"light\"}, \"paper_bgcolor\": \"white\", \"plot_bgcolor\": \"#E5ECF6\", \"polar\": {\"angularaxis\": {\"gridcolor\": \"white\", \"linecolor\": \"white\", \"ticks\": \"\"}, \"bgcolor\": \"#E5ECF6\", \"radialaxis\": {\"gridcolor\": \"white\", \"linecolor\": \"white\", \"ticks\": \"\"}}, \"scene\": {\"xaxis\": {\"backgroundcolor\": \"#E5ECF6\", \"gridcolor\": \"white\", \"gridwidth\": 2, \"linecolor\": \"white\", \"showbackground\": true, \"ticks\": \"\", \"zerolinecolor\": \"white\"}, \"yaxis\": {\"backgroundcolor\": \"#E5ECF6\", \"gridcolor\": \"white\", \"gridwidth\": 2, \"linecolor\": \"white\", \"showbackground\": true, \"ticks\": \"\", \"zerolinecolor\": \"white\"}, \"zaxis\": {\"backgroundcolor\": \"#E5ECF6\", \"gridcolor\": \"white\", \"gridwidth\": 2, \"linecolor\": \"white\", \"showbackground\": true, \"ticks\": \"\", \"zerolinecolor\": \"white\"}}, \"shapedefaults\": {\"line\": {\"color\": \"#2a3f5f\"}}, \"ternary\": {\"aaxis\": {\"gridcolor\": \"white\", \"linecolor\": \"white\", \"ticks\": \"\"}, \"baxis\": {\"gridcolor\": \"white\", \"linecolor\": \"white\", \"ticks\": \"\"}, \"bgcolor\": \"#E5ECF6\", \"caxis\": {\"gridcolor\": \"white\", \"linecolor\": \"white\", \"ticks\": \"\"}}, \"title\": {\"x\": 0.05}, \"xaxis\": {\"automargin\": true, \"gridcolor\": \"white\", \"linecolor\": \"white\", \"ticks\": \"\", \"title\": {\"standoff\": 15}, \"zerolinecolor\": \"white\", \"zerolinewidth\": 2}, \"yaxis\": {\"automargin\": true, \"gridcolor\": \"white\", \"linecolor\": \"white\", \"ticks\": \"\", \"title\": {\"standoff\": 15}, \"zerolinecolor\": \"white\", \"zerolinewidth\": 2}}}, \"title\": {\"text\": \"Monthwise Increase in Deaths cases\"}, \"xaxis\": {\"anchor\": \"y\", \"categoryarray\": [1580428800000000000, 1582934400000000000, 1585612800000000000, 1588204800000000000, 1590883200000000000, 1593475200000000000, 1596153600000000000, 1598832000000000000, 1601424000000000000, 1604102400000000000, 1606694400000000000, 1609372800000000000, 1612051200000000000, 1614470400000000000, 1617148800000000000, 1619740800000000000], \"categoryorder\": \"array\", \"domain\": [0.0, 1.0], \"title\": {\"text\": \"Date(monthwise)\"}}, \"yaxis\": {\"anchor\": \"x\", \"domain\": [0.0, 1.0], \"title\": {\"text\": \"Deaths\"}}},                        {\"responsive\": true}                    ).then(function(){\n",
       "                            \n",
       "var gd = document.getElementById('052ff04d-d81b-499e-91ca-0911e8f585a3');\n",
       "var x = new MutationObserver(function (mutations, observer) {{\n",
       "        var display = window.getComputedStyle(gd).display;\n",
       "        if (!display || display === 'none') {{\n",
       "            console.log([gd, 'removed!']);\n",
       "            Plotly.purge(gd);\n",
       "            observer.disconnect();\n",
       "        }}\n",
       "}});\n",
       "\n",
       "// Listen for the removal of the full notebook cells\n",
       "var notebookContainer = gd.closest('#notebook-container');\n",
       "if (notebookContainer) {{\n",
       "    x.observe(notebookContainer, {childList: true});\n",
       "}}\n",
       "\n",
       "// Listen for the clearing of the current output cell\n",
       "var outputEl = gd.closest('.output');\n",
       "if (outputEl) {{\n",
       "    x.observe(outputEl, {childList: true});\n",
       "}}\n",
       "\n",
       "                        })                };                });            </script>        </div>"
      ]
     },
     "metadata": {},
     "output_type": "display_data"
    }
   ],
   "source": [
    "fig = px.bar(month_wise, x='Date', y='Deaths',\n",
    "             hover_data=['Confirmed','Cured'], color='Date',\n",
    "             labels={'Date':'Date(monthwise)'},\n",
    "             title=\"Monthwise Increase in Deaths cases\")\n",
    "fig.show()"
   ]
  },
  {
   "cell_type": "code",
   "execution_count": 216,
   "metadata": {},
   "outputs": [
    {
     "data": {
      "application/vnd.plotly.v1+json": {
       "config": {
        "plotlyServerURL": "https://plot.ly"
       },
       "data": [
        {
         "alignmentgroup": "True",
         "customdata": [
          [
           2,
           0
          ]
         ],
         "hovertemplate": "Date=%{x}<br>Death percentage=%{y}<br>Confirmed=%{customdata[0]}<br>Deaths=%{customdata[1]}<extra></extra>",
         "legendgroup": "2020-01-31 00:00:00",
         "marker": {
          "color": "#FF6692"
         },
         "name": "2020-01-31 00:00:00",
         "offsetgroup": "2020-01-31 00:00:00",
         "orientation": "v",
         "showlegend": true,
         "textposition": "auto",
         "type": "bar",
         "x": [
          "2020-01-31T00:00:00"
         ],
         "xaxis": "x",
         "y": [
          0
         ],
         "yaxis": "y"
        },
        {
         "alignmentgroup": "True",
         "customdata": [
          [
           86,
           0
          ]
         ],
         "hovertemplate": "Date=%{x}<br>Death percentage=%{y}<br>Confirmed=%{customdata[0]}<br>Deaths=%{customdata[1]}<extra></extra>",
         "legendgroup": "2020-02-29 00:00:00",
         "marker": {
          "color": "#B6E880"
         },
         "name": "2020-02-29 00:00:00",
         "offsetgroup": "2020-02-29 00:00:00",
         "orientation": "v",
         "showlegend": true,
         "textposition": "auto",
         "type": "bar",
         "x": [
          "2020-02-29T00:00:00"
         ],
         "xaxis": "x",
         "y": [
          0
         ],
         "yaxis": "y"
        },
        {
         "alignmentgroup": "True",
         "customdata": [
          [
           9687,
           202
          ]
         ],
         "hovertemplate": "Date=%{x}<br>Death percentage=%{y}<br>Confirmed=%{customdata[0]}<br>Deaths=%{customdata[1]}<extra></extra>",
         "legendgroup": "2020-03-31 00:00:00",
         "marker": {
          "color": "#FF97FF"
         },
         "name": "2020-03-31 00:00:00",
         "offsetgroup": "2020-03-31 00:00:00",
         "orientation": "v",
         "showlegend": true,
         "textposition": "auto",
         "type": "bar",
         "x": [
          "2020-03-31T00:00:00"
         ],
         "xaxis": "x",
         "y": [
          2.0852689171053993
         ],
         "yaxis": "y"
        },
        {
         "alignmentgroup": "True",
         "customdata": [
          [
           422442,
           13270
          ]
         ],
         "hovertemplate": "Date=%{x}<br>Death percentage=%{y}<br>Confirmed=%{customdata[0]}<br>Deaths=%{customdata[1]}<extra></extra>",
         "legendgroup": "2020-04-30 00:00:00",
         "marker": {
          "color": "#FECB52"
         },
         "name": "2020-04-30 00:00:00",
         "offsetgroup": "2020-04-30 00:00:00",
         "orientation": "v",
         "showlegend": true,
         "textposition": "auto",
         "type": "bar",
         "x": [
          "2020-04-30T00:00:00"
         ],
         "xaxis": "x",
         "y": [
          3.141259628540723
         ],
         "yaxis": "y"
        },
        {
         "alignmentgroup": "True",
         "customdata": [
          [
           2938234,
           89834
          ]
         ],
         "hovertemplate": "Date=%{x}<br>Death percentage=%{y}<br>Confirmed=%{customdata[0]}<br>Deaths=%{customdata[1]}<extra></extra>",
         "legendgroup": "2020-05-31 00:00:00",
         "marker": {
          "color": "#636efa"
         },
         "name": "2020-05-31 00:00:00",
         "offsetgroup": "2020-05-31 00:00:00",
         "orientation": "v",
         "showlegend": true,
         "textposition": "auto",
         "type": "bar",
         "x": [
          "2020-05-31T00:00:00"
         ],
         "xaxis": "x",
         "y": [
          3.0574147600225166
         ],
         "yaxis": "y"
        },
        {
         "alignmentgroup": "True",
         "customdata": [
          [
           10558374,
           319690
          ]
         ],
         "hovertemplate": "Date=%{x}<br>Death percentage=%{y}<br>Confirmed=%{customdata[0]}<br>Deaths=%{customdata[1]}<extra></extra>",
         "legendgroup": "2020-06-30 00:00:00",
         "marker": {
          "color": "#EF553B"
         },
         "name": "2020-06-30 00:00:00",
         "offsetgroup": "2020-06-30 00:00:00",
         "orientation": "v",
         "showlegend": true,
         "textposition": "auto",
         "type": "bar",
         "x": [
          "2020-06-30T00:00:00"
         ],
         "xaxis": "x",
         "y": [
          3.027833641808862
         ],
         "yaxis": "y"
        },
        {
         "alignmentgroup": "True",
         "customdata": [
          [
           31726501,
           793511
          ]
         ],
         "hovertemplate": "Date=%{x}<br>Death percentage=%{y}<br>Confirmed=%{customdata[0]}<br>Deaths=%{customdata[1]}<extra></extra>",
         "legendgroup": "2020-07-31 00:00:00",
         "marker": {
          "color": "#00cc96"
         },
         "name": "2020-07-31 00:00:00",
         "offsetgroup": "2020-07-31 00:00:00",
         "orientation": "v",
         "showlegend": true,
         "textposition": "auto",
         "type": "bar",
         "x": [
          "2020-07-31T00:00:00"
         ],
         "xaxis": "x",
         "y": [
          2.5010983719887676
         ],
         "yaxis": "y"
        },
        {
         "alignmentgroup": "True",
         "customdata": [
          [
           80749620,
           1553468
          ]
         ],
         "hovertemplate": "Date=%{x}<br>Death percentage=%{y}<br>Confirmed=%{customdata[0]}<br>Deaths=%{customdata[1]}<extra></extra>",
         "legendgroup": "2020-08-31 00:00:00",
         "marker": {
          "color": "#ab63fa"
         },
         "name": "2020-08-31 00:00:00",
         "offsetgroup": "2020-08-31 00:00:00",
         "orientation": "v",
         "showlegend": true,
         "textposition": "auto",
         "type": "bar",
         "x": [
          "2020-08-31T00:00:00"
         ],
         "xaxis": "x",
         "y": [
          1.9238084340211137
         ],
         "yaxis": "y"
        },
        {
         "alignmentgroup": "True",
         "customdata": [
          [
           149113758,
           2443374
          ]
         ],
         "hovertemplate": "Date=%{x}<br>Death percentage=%{y}<br>Confirmed=%{customdata[0]}<br>Deaths=%{customdata[1]}<extra></extra>",
         "legendgroup": "2020-09-30 00:00:00",
         "marker": {
          "color": "#FFA15A"
         },
         "name": "2020-09-30 00:00:00",
         "offsetgroup": "2020-09-30 00:00:00",
         "orientation": "v",
         "showlegend": true,
         "textposition": "auto",
         "type": "bar",
         "x": [
          "2020-09-30T00:00:00"
         ],
         "xaxis": "x",
         "y": [
          1.63859729160605
         ],
         "yaxis": "y"
        },
        {
         "alignmentgroup": "True",
         "customdata": [
          [
           226770312,
           3457615
          ]
         ],
         "hovertemplate": "Date=%{x}<br>Death percentage=%{y}<br>Confirmed=%{customdata[0]}<br>Deaths=%{customdata[1]}<extra></extra>",
         "legendgroup": "2020-10-31 00:00:00",
         "marker": {
          "color": "#19d3f3"
         },
         "name": "2020-10-31 00:00:00",
         "offsetgroup": "2020-10-31 00:00:00",
         "orientation": "v",
         "showlegend": true,
         "textposition": "auto",
         "type": "bar",
         "x": [
          "2020-10-31T00:00:00"
         ],
         "xaxis": "x",
         "y": [
          1.5247211901353297
         ],
         "yaxis": "y"
        },
        {
         "alignmentgroup": "True",
         "customdata": [
          [
           264556412,
           3894165
          ]
         ],
         "hovertemplate": "Date=%{x}<br>Death percentage=%{y}<br>Confirmed=%{customdata[0]}<br>Deaths=%{customdata[1]}<extra></extra>",
         "legendgroup": "2020-11-30 00:00:00",
         "marker": {
          "color": "#FF6692"
         },
         "name": "2020-11-30 00:00:00",
         "offsetgroup": "2020-11-30 00:00:00",
         "orientation": "v",
         "showlegend": true,
         "textposition": "auto",
         "type": "bar",
         "x": [
          "2020-11-30T00:00:00"
         ],
         "xaxis": "x",
         "y": [
          1.4719601655317278
         ],
         "yaxis": "y"
        },
        {
         "alignmentgroup": "True",
         "customdata": [
          [
           307177353,
           4457379
          ]
         ],
         "hovertemplate": "Date=%{x}<br>Death percentage=%{y}<br>Confirmed=%{customdata[0]}<br>Deaths=%{customdata[1]}<extra></extra>",
         "legendgroup": "2020-12-31 00:00:00",
         "marker": {
          "color": "#B6E880"
         },
         "name": "2020-12-31 00:00:00",
         "offsetgroup": "2020-12-31 00:00:00",
         "orientation": "v",
         "showlegend": true,
         "textposition": "auto",
         "type": "bar",
         "x": [
          "2020-12-31T00:00:00"
         ],
         "xaxis": "x",
         "y": [
          1.4510767009571828
         ],
         "yaxis": "y"
        },
        {
         "alignmentgroup": "True",
         "customdata": [
          [
           326469747,
           4709167
          ]
         ],
         "hovertemplate": "Date=%{x}<br>Death percentage=%{y}<br>Confirmed=%{customdata[0]}<br>Deaths=%{customdata[1]}<extra></extra>",
         "legendgroup": "2021-01-31 00:00:00",
         "marker": {
          "color": "#FF97FF"
         },
         "name": "2021-01-31 00:00:00",
         "offsetgroup": "2021-01-31 00:00:00",
         "orientation": "v",
         "showlegend": true,
         "textposition": "auto",
         "type": "bar",
         "x": [
          "2021-01-31T00:00:00"
         ],
         "xaxis": "x",
         "y": [
          1.4424512663955966
         ],
         "yaxis": "y"
        },
        {
         "alignmentgroup": "True",
         "customdata": [
          [
           305631803,
           4359434
          ]
         ],
         "hovertemplate": "Date=%{x}<br>Death percentage=%{y}<br>Confirmed=%{customdata[0]}<br>Deaths=%{customdata[1]}<extra></extra>",
         "legendgroup": "2021-02-28 00:00:00",
         "marker": {
          "color": "#FECB52"
         },
         "name": "2021-02-28 00:00:00",
         "offsetgroup": "2021-02-28 00:00:00",
         "orientation": "v",
         "showlegend": true,
         "textposition": "auto",
         "type": "bar",
         "x": [
          "2021-02-28T00:00:00"
         ],
         "xaxis": "x",
         "y": [
          1.426367922843422
         ],
         "yaxis": "y"
        },
        {
         "alignmentgroup": "True",
         "customdata": [
          [
           356305616,
           4935253
          ]
         ],
         "hovertemplate": "Date=%{x}<br>Death percentage=%{y}<br>Confirmed=%{customdata[0]}<br>Deaths=%{customdata[1]}<extra></extra>",
         "legendgroup": "2021-03-31 00:00:00",
         "marker": {
          "color": "#636efa"
         },
         "name": "2021-03-31 00:00:00",
         "offsetgroup": "2021-03-31 00:00:00",
         "orientation": "v",
         "showlegend": true,
         "textposition": "auto",
         "type": "bar",
         "x": [
          "2021-03-31T00:00:00"
         ],
         "xaxis": "x",
         "y": [
          1.3851179376302618
         ],
         "yaxis": "y"
        },
        {
         "alignmentgroup": "True",
         "customdata": [
          [
           300740086,
           3764157
          ]
         ],
         "hovertemplate": "Date=%{x}<br>Death percentage=%{y}<br>Confirmed=%{customdata[0]}<br>Deaths=%{customdata[1]}<extra></extra>",
         "legendgroup": "2021-04-30 00:00:00",
         "marker": {
          "color": "#EF553B"
         },
         "name": "2021-04-30 00:00:00",
         "offsetgroup": "2021-04-30 00:00:00",
         "orientation": "v",
         "showlegend": true,
         "textposition": "auto",
         "type": "bar",
         "x": [
          "2021-04-30T00:00:00"
         ],
         "xaxis": "x",
         "y": [
          1.2516312840317536
         ],
         "yaxis": "y"
        }
       ],
       "layout": {
        "barmode": "relative",
        "legend": {
         "title": {
          "text": "Date"
         },
         "tracegroupgap": 0
        },
        "template": {
         "data": {
          "bar": [
           {
            "error_x": {
             "color": "#2a3f5f"
            },
            "error_y": {
             "color": "#2a3f5f"
            },
            "marker": {
             "line": {
              "color": "#E5ECF6",
              "width": 0.5
             }
            },
            "type": "bar"
           }
          ],
          "barpolar": [
           {
            "marker": {
             "line": {
              "color": "#E5ECF6",
              "width": 0.5
             }
            },
            "type": "barpolar"
           }
          ],
          "carpet": [
           {
            "aaxis": {
             "endlinecolor": "#2a3f5f",
             "gridcolor": "white",
             "linecolor": "white",
             "minorgridcolor": "white",
             "startlinecolor": "#2a3f5f"
            },
            "baxis": {
             "endlinecolor": "#2a3f5f",
             "gridcolor": "white",
             "linecolor": "white",
             "minorgridcolor": "white",
             "startlinecolor": "#2a3f5f"
            },
            "type": "carpet"
           }
          ],
          "choropleth": [
           {
            "colorbar": {
             "outlinewidth": 0,
             "ticks": ""
            },
            "type": "choropleth"
           }
          ],
          "contour": [
           {
            "colorbar": {
             "outlinewidth": 0,
             "ticks": ""
            },
            "colorscale": [
             [
              0,
              "#0d0887"
             ],
             [
              0.1111111111111111,
              "#46039f"
             ],
             [
              0.2222222222222222,
              "#7201a8"
             ],
             [
              0.3333333333333333,
              "#9c179e"
             ],
             [
              0.4444444444444444,
              "#bd3786"
             ],
             [
              0.5555555555555556,
              "#d8576b"
             ],
             [
              0.6666666666666666,
              "#ed7953"
             ],
             [
              0.7777777777777778,
              "#fb9f3a"
             ],
             [
              0.8888888888888888,
              "#fdca26"
             ],
             [
              1,
              "#f0f921"
             ]
            ],
            "type": "contour"
           }
          ],
          "contourcarpet": [
           {
            "colorbar": {
             "outlinewidth": 0,
             "ticks": ""
            },
            "type": "contourcarpet"
           }
          ],
          "heatmap": [
           {
            "colorbar": {
             "outlinewidth": 0,
             "ticks": ""
            },
            "colorscale": [
             [
              0,
              "#0d0887"
             ],
             [
              0.1111111111111111,
              "#46039f"
             ],
             [
              0.2222222222222222,
              "#7201a8"
             ],
             [
              0.3333333333333333,
              "#9c179e"
             ],
             [
              0.4444444444444444,
              "#bd3786"
             ],
             [
              0.5555555555555556,
              "#d8576b"
             ],
             [
              0.6666666666666666,
              "#ed7953"
             ],
             [
              0.7777777777777778,
              "#fb9f3a"
             ],
             [
              0.8888888888888888,
              "#fdca26"
             ],
             [
              1,
              "#f0f921"
             ]
            ],
            "type": "heatmap"
           }
          ],
          "heatmapgl": [
           {
            "colorbar": {
             "outlinewidth": 0,
             "ticks": ""
            },
            "colorscale": [
             [
              0,
              "#0d0887"
             ],
             [
              0.1111111111111111,
              "#46039f"
             ],
             [
              0.2222222222222222,
              "#7201a8"
             ],
             [
              0.3333333333333333,
              "#9c179e"
             ],
             [
              0.4444444444444444,
              "#bd3786"
             ],
             [
              0.5555555555555556,
              "#d8576b"
             ],
             [
              0.6666666666666666,
              "#ed7953"
             ],
             [
              0.7777777777777778,
              "#fb9f3a"
             ],
             [
              0.8888888888888888,
              "#fdca26"
             ],
             [
              1,
              "#f0f921"
             ]
            ],
            "type": "heatmapgl"
           }
          ],
          "histogram": [
           {
            "marker": {
             "colorbar": {
              "outlinewidth": 0,
              "ticks": ""
             }
            },
            "type": "histogram"
           }
          ],
          "histogram2d": [
           {
            "colorbar": {
             "outlinewidth": 0,
             "ticks": ""
            },
            "colorscale": [
             [
              0,
              "#0d0887"
             ],
             [
              0.1111111111111111,
              "#46039f"
             ],
             [
              0.2222222222222222,
              "#7201a8"
             ],
             [
              0.3333333333333333,
              "#9c179e"
             ],
             [
              0.4444444444444444,
              "#bd3786"
             ],
             [
              0.5555555555555556,
              "#d8576b"
             ],
             [
              0.6666666666666666,
              "#ed7953"
             ],
             [
              0.7777777777777778,
              "#fb9f3a"
             ],
             [
              0.8888888888888888,
              "#fdca26"
             ],
             [
              1,
              "#f0f921"
             ]
            ],
            "type": "histogram2d"
           }
          ],
          "histogram2dcontour": [
           {
            "colorbar": {
             "outlinewidth": 0,
             "ticks": ""
            },
            "colorscale": [
             [
              0,
              "#0d0887"
             ],
             [
              0.1111111111111111,
              "#46039f"
             ],
             [
              0.2222222222222222,
              "#7201a8"
             ],
             [
              0.3333333333333333,
              "#9c179e"
             ],
             [
              0.4444444444444444,
              "#bd3786"
             ],
             [
              0.5555555555555556,
              "#d8576b"
             ],
             [
              0.6666666666666666,
              "#ed7953"
             ],
             [
              0.7777777777777778,
              "#fb9f3a"
             ],
             [
              0.8888888888888888,
              "#fdca26"
             ],
             [
              1,
              "#f0f921"
             ]
            ],
            "type": "histogram2dcontour"
           }
          ],
          "mesh3d": [
           {
            "colorbar": {
             "outlinewidth": 0,
             "ticks": ""
            },
            "type": "mesh3d"
           }
          ],
          "parcoords": [
           {
            "line": {
             "colorbar": {
              "outlinewidth": 0,
              "ticks": ""
             }
            },
            "type": "parcoords"
           }
          ],
          "pie": [
           {
            "automargin": true,
            "type": "pie"
           }
          ],
          "scatter": [
           {
            "marker": {
             "colorbar": {
              "outlinewidth": 0,
              "ticks": ""
             }
            },
            "type": "scatter"
           }
          ],
          "scatter3d": [
           {
            "line": {
             "colorbar": {
              "outlinewidth": 0,
              "ticks": ""
             }
            },
            "marker": {
             "colorbar": {
              "outlinewidth": 0,
              "ticks": ""
             }
            },
            "type": "scatter3d"
           }
          ],
          "scattercarpet": [
           {
            "marker": {
             "colorbar": {
              "outlinewidth": 0,
              "ticks": ""
             }
            },
            "type": "scattercarpet"
           }
          ],
          "scattergeo": [
           {
            "marker": {
             "colorbar": {
              "outlinewidth": 0,
              "ticks": ""
             }
            },
            "type": "scattergeo"
           }
          ],
          "scattergl": [
           {
            "marker": {
             "colorbar": {
              "outlinewidth": 0,
              "ticks": ""
             }
            },
            "type": "scattergl"
           }
          ],
          "scattermapbox": [
           {
            "marker": {
             "colorbar": {
              "outlinewidth": 0,
              "ticks": ""
             }
            },
            "type": "scattermapbox"
           }
          ],
          "scatterpolar": [
           {
            "marker": {
             "colorbar": {
              "outlinewidth": 0,
              "ticks": ""
             }
            },
            "type": "scatterpolar"
           }
          ],
          "scatterpolargl": [
           {
            "marker": {
             "colorbar": {
              "outlinewidth": 0,
              "ticks": ""
             }
            },
            "type": "scatterpolargl"
           }
          ],
          "scatterternary": [
           {
            "marker": {
             "colorbar": {
              "outlinewidth": 0,
              "ticks": ""
             }
            },
            "type": "scatterternary"
           }
          ],
          "surface": [
           {
            "colorbar": {
             "outlinewidth": 0,
             "ticks": ""
            },
            "colorscale": [
             [
              0,
              "#0d0887"
             ],
             [
              0.1111111111111111,
              "#46039f"
             ],
             [
              0.2222222222222222,
              "#7201a8"
             ],
             [
              0.3333333333333333,
              "#9c179e"
             ],
             [
              0.4444444444444444,
              "#bd3786"
             ],
             [
              0.5555555555555556,
              "#d8576b"
             ],
             [
              0.6666666666666666,
              "#ed7953"
             ],
             [
              0.7777777777777778,
              "#fb9f3a"
             ],
             [
              0.8888888888888888,
              "#fdca26"
             ],
             [
              1,
              "#f0f921"
             ]
            ],
            "type": "surface"
           }
          ],
          "table": [
           {
            "cells": {
             "fill": {
              "color": "#EBF0F8"
             },
             "line": {
              "color": "white"
             }
            },
            "header": {
             "fill": {
              "color": "#C8D4E3"
             },
             "line": {
              "color": "white"
             }
            },
            "type": "table"
           }
          ]
         },
         "layout": {
          "annotationdefaults": {
           "arrowcolor": "#2a3f5f",
           "arrowhead": 0,
           "arrowwidth": 1
          },
          "autotypenumbers": "strict",
          "coloraxis": {
           "colorbar": {
            "outlinewidth": 0,
            "ticks": ""
           }
          },
          "colorscale": {
           "diverging": [
            [
             0,
             "#8e0152"
            ],
            [
             0.1,
             "#c51b7d"
            ],
            [
             0.2,
             "#de77ae"
            ],
            [
             0.3,
             "#f1b6da"
            ],
            [
             0.4,
             "#fde0ef"
            ],
            [
             0.5,
             "#f7f7f7"
            ],
            [
             0.6,
             "#e6f5d0"
            ],
            [
             0.7,
             "#b8e186"
            ],
            [
             0.8,
             "#7fbc41"
            ],
            [
             0.9,
             "#4d9221"
            ],
            [
             1,
             "#276419"
            ]
           ],
           "sequential": [
            [
             0,
             "#0d0887"
            ],
            [
             0.1111111111111111,
             "#46039f"
            ],
            [
             0.2222222222222222,
             "#7201a8"
            ],
            [
             0.3333333333333333,
             "#9c179e"
            ],
            [
             0.4444444444444444,
             "#bd3786"
            ],
            [
             0.5555555555555556,
             "#d8576b"
            ],
            [
             0.6666666666666666,
             "#ed7953"
            ],
            [
             0.7777777777777778,
             "#fb9f3a"
            ],
            [
             0.8888888888888888,
             "#fdca26"
            ],
            [
             1,
             "#f0f921"
            ]
           ],
           "sequentialminus": [
            [
             0,
             "#0d0887"
            ],
            [
             0.1111111111111111,
             "#46039f"
            ],
            [
             0.2222222222222222,
             "#7201a8"
            ],
            [
             0.3333333333333333,
             "#9c179e"
            ],
            [
             0.4444444444444444,
             "#bd3786"
            ],
            [
             0.5555555555555556,
             "#d8576b"
            ],
            [
             0.6666666666666666,
             "#ed7953"
            ],
            [
             0.7777777777777778,
             "#fb9f3a"
            ],
            [
             0.8888888888888888,
             "#fdca26"
            ],
            [
             1,
             "#f0f921"
            ]
           ]
          },
          "colorway": [
           "#636efa",
           "#EF553B",
           "#00cc96",
           "#ab63fa",
           "#FFA15A",
           "#19d3f3",
           "#FF6692",
           "#B6E880",
           "#FF97FF",
           "#FECB52"
          ],
          "font": {
           "color": "#2a3f5f"
          },
          "geo": {
           "bgcolor": "white",
           "lakecolor": "white",
           "landcolor": "#E5ECF6",
           "showlakes": true,
           "showland": true,
           "subunitcolor": "white"
          },
          "hoverlabel": {
           "align": "left"
          },
          "hovermode": "closest",
          "mapbox": {
           "style": "light"
          },
          "paper_bgcolor": "white",
          "plot_bgcolor": "#E5ECF6",
          "polar": {
           "angularaxis": {
            "gridcolor": "white",
            "linecolor": "white",
            "ticks": ""
           },
           "bgcolor": "#E5ECF6",
           "radialaxis": {
            "gridcolor": "white",
            "linecolor": "white",
            "ticks": ""
           }
          },
          "scene": {
           "xaxis": {
            "backgroundcolor": "#E5ECF6",
            "gridcolor": "white",
            "gridwidth": 2,
            "linecolor": "white",
            "showbackground": true,
            "ticks": "",
            "zerolinecolor": "white"
           },
           "yaxis": {
            "backgroundcolor": "#E5ECF6",
            "gridcolor": "white",
            "gridwidth": 2,
            "linecolor": "white",
            "showbackground": true,
            "ticks": "",
            "zerolinecolor": "white"
           },
           "zaxis": {
            "backgroundcolor": "#E5ECF6",
            "gridcolor": "white",
            "gridwidth": 2,
            "linecolor": "white",
            "showbackground": true,
            "ticks": "",
            "zerolinecolor": "white"
           }
          },
          "shapedefaults": {
           "line": {
            "color": "#2a3f5f"
           }
          },
          "ternary": {
           "aaxis": {
            "gridcolor": "white",
            "linecolor": "white",
            "ticks": ""
           },
           "baxis": {
            "gridcolor": "white",
            "linecolor": "white",
            "ticks": ""
           },
           "bgcolor": "#E5ECF6",
           "caxis": {
            "gridcolor": "white",
            "linecolor": "white",
            "ticks": ""
           }
          },
          "title": {
           "x": 0.05
          },
          "xaxis": {
           "automargin": true,
           "gridcolor": "white",
           "linecolor": "white",
           "ticks": "",
           "title": {
            "standoff": 15
           },
           "zerolinecolor": "white",
           "zerolinewidth": 2
          },
          "yaxis": {
           "automargin": true,
           "gridcolor": "white",
           "linecolor": "white",
           "ticks": "",
           "title": {
            "standoff": 15
           },
           "zerolinecolor": "white",
           "zerolinewidth": 2
          }
         }
        },
        "title": {
         "text": "Top 10 states with highest of Death percentage"
        },
        "xaxis": {
         "anchor": "y",
         "categoryarray": [
          1580428800000000000,
          1582934400000000000,
          1585612800000000000,
          1588204800000000000,
          1590883200000000000,
          1593475200000000000,
          1596153600000000000,
          1598832000000000000,
          1601424000000000000,
          1604102400000000000,
          1606694400000000000,
          1609372800000000000,
          1612051200000000000,
          1614470400000000000,
          1617148800000000000,
          1619740800000000000
         ],
         "categoryorder": "array",
         "domain": [
          0,
          1
         ],
         "title": {
          "text": "Date"
         }
        },
        "yaxis": {
         "anchor": "x",
         "domain": [
          0,
          1
         ],
         "title": {
          "text": "Death percentage"
         }
        }
       }
      },
      "text/html": [
       "<div>                            <div id=\"e3729ce1-f3ba-42a2-a620-6a23fe574c2e\" class=\"plotly-graph-div\" style=\"height:525px; width:100%;\"></div>            <script type=\"text/javascript\">                require([\"plotly\"], function(Plotly) {                    window.PLOTLYENV=window.PLOTLYENV || {};                                    if (document.getElementById(\"e3729ce1-f3ba-42a2-a620-6a23fe574c2e\")) {                    Plotly.newPlot(                        \"e3729ce1-f3ba-42a2-a620-6a23fe574c2e\",                        [{\"alignmentgroup\": \"True\", \"customdata\": [[2, 0]], \"hovertemplate\": \"Date=%{x}<br>Death percentage=%{y}<br>Confirmed=%{customdata[0]}<br>Deaths=%{customdata[1]}<extra></extra>\", \"legendgroup\": \"2020-01-31 00:00:00\", \"marker\": {\"color\": \"#FF6692\"}, \"name\": \"2020-01-31 00:00:00\", \"offsetgroup\": \"2020-01-31 00:00:00\", \"orientation\": \"v\", \"showlegend\": true, \"textposition\": \"auto\", \"type\": \"bar\", \"x\": [\"2020-01-31T00:00:00\"], \"xaxis\": \"x\", \"y\": [0.0], \"yaxis\": \"y\"}, {\"alignmentgroup\": \"True\", \"customdata\": [[86, 0]], \"hovertemplate\": \"Date=%{x}<br>Death percentage=%{y}<br>Confirmed=%{customdata[0]}<br>Deaths=%{customdata[1]}<extra></extra>\", \"legendgroup\": \"2020-02-29 00:00:00\", \"marker\": {\"color\": \"#B6E880\"}, \"name\": \"2020-02-29 00:00:00\", \"offsetgroup\": \"2020-02-29 00:00:00\", \"orientation\": \"v\", \"showlegend\": true, \"textposition\": \"auto\", \"type\": \"bar\", \"x\": [\"2020-02-29T00:00:00\"], \"xaxis\": \"x\", \"y\": [0.0], \"yaxis\": \"y\"}, {\"alignmentgroup\": \"True\", \"customdata\": [[9687, 202]], \"hovertemplate\": \"Date=%{x}<br>Death percentage=%{y}<br>Confirmed=%{customdata[0]}<br>Deaths=%{customdata[1]}<extra></extra>\", \"legendgroup\": \"2020-03-31 00:00:00\", \"marker\": {\"color\": \"#FF97FF\"}, \"name\": \"2020-03-31 00:00:00\", \"offsetgroup\": \"2020-03-31 00:00:00\", \"orientation\": \"v\", \"showlegend\": true, \"textposition\": \"auto\", \"type\": \"bar\", \"x\": [\"2020-03-31T00:00:00\"], \"xaxis\": \"x\", \"y\": [2.0852689171053993], \"yaxis\": \"y\"}, {\"alignmentgroup\": \"True\", \"customdata\": [[422442, 13270]], \"hovertemplate\": \"Date=%{x}<br>Death percentage=%{y}<br>Confirmed=%{customdata[0]}<br>Deaths=%{customdata[1]}<extra></extra>\", \"legendgroup\": \"2020-04-30 00:00:00\", \"marker\": {\"color\": \"#FECB52\"}, \"name\": \"2020-04-30 00:00:00\", \"offsetgroup\": \"2020-04-30 00:00:00\", \"orientation\": \"v\", \"showlegend\": true, \"textposition\": \"auto\", \"type\": \"bar\", \"x\": [\"2020-04-30T00:00:00\"], \"xaxis\": \"x\", \"y\": [3.141259628540723], \"yaxis\": \"y\"}, {\"alignmentgroup\": \"True\", \"customdata\": [[2938234, 89834]], \"hovertemplate\": \"Date=%{x}<br>Death percentage=%{y}<br>Confirmed=%{customdata[0]}<br>Deaths=%{customdata[1]}<extra></extra>\", \"legendgroup\": \"2020-05-31 00:00:00\", \"marker\": {\"color\": \"#636efa\"}, \"name\": \"2020-05-31 00:00:00\", \"offsetgroup\": \"2020-05-31 00:00:00\", \"orientation\": \"v\", \"showlegend\": true, \"textposition\": \"auto\", \"type\": \"bar\", \"x\": [\"2020-05-31T00:00:00\"], \"xaxis\": \"x\", \"y\": [3.0574147600225166], \"yaxis\": \"y\"}, {\"alignmentgroup\": \"True\", \"customdata\": [[10558374, 319690]], \"hovertemplate\": \"Date=%{x}<br>Death percentage=%{y}<br>Confirmed=%{customdata[0]}<br>Deaths=%{customdata[1]}<extra></extra>\", \"legendgroup\": \"2020-06-30 00:00:00\", \"marker\": {\"color\": \"#EF553B\"}, \"name\": \"2020-06-30 00:00:00\", \"offsetgroup\": \"2020-06-30 00:00:00\", \"orientation\": \"v\", \"showlegend\": true, \"textposition\": \"auto\", \"type\": \"bar\", \"x\": [\"2020-06-30T00:00:00\"], \"xaxis\": \"x\", \"y\": [3.027833641808862], \"yaxis\": \"y\"}, {\"alignmentgroup\": \"True\", \"customdata\": [[31726501, 793511]], \"hovertemplate\": \"Date=%{x}<br>Death percentage=%{y}<br>Confirmed=%{customdata[0]}<br>Deaths=%{customdata[1]}<extra></extra>\", \"legendgroup\": \"2020-07-31 00:00:00\", \"marker\": {\"color\": \"#00cc96\"}, \"name\": \"2020-07-31 00:00:00\", \"offsetgroup\": \"2020-07-31 00:00:00\", \"orientation\": \"v\", \"showlegend\": true, \"textposition\": \"auto\", \"type\": \"bar\", \"x\": [\"2020-07-31T00:00:00\"], \"xaxis\": \"x\", \"y\": [2.5010983719887676], \"yaxis\": \"y\"}, {\"alignmentgroup\": \"True\", \"customdata\": [[80749620, 1553468]], \"hovertemplate\": \"Date=%{x}<br>Death percentage=%{y}<br>Confirmed=%{customdata[0]}<br>Deaths=%{customdata[1]}<extra></extra>\", \"legendgroup\": \"2020-08-31 00:00:00\", \"marker\": {\"color\": \"#ab63fa\"}, \"name\": \"2020-08-31 00:00:00\", \"offsetgroup\": \"2020-08-31 00:00:00\", \"orientation\": \"v\", \"showlegend\": true, \"textposition\": \"auto\", \"type\": \"bar\", \"x\": [\"2020-08-31T00:00:00\"], \"xaxis\": \"x\", \"y\": [1.9238084340211137], \"yaxis\": \"y\"}, {\"alignmentgroup\": \"True\", \"customdata\": [[149113758, 2443374]], \"hovertemplate\": \"Date=%{x}<br>Death percentage=%{y}<br>Confirmed=%{customdata[0]}<br>Deaths=%{customdata[1]}<extra></extra>\", \"legendgroup\": \"2020-09-30 00:00:00\", \"marker\": {\"color\": \"#FFA15A\"}, \"name\": \"2020-09-30 00:00:00\", \"offsetgroup\": \"2020-09-30 00:00:00\", \"orientation\": \"v\", \"showlegend\": true, \"textposition\": \"auto\", \"type\": \"bar\", \"x\": [\"2020-09-30T00:00:00\"], \"xaxis\": \"x\", \"y\": [1.63859729160605], \"yaxis\": \"y\"}, {\"alignmentgroup\": \"True\", \"customdata\": [[226770312, 3457615]], \"hovertemplate\": \"Date=%{x}<br>Death percentage=%{y}<br>Confirmed=%{customdata[0]}<br>Deaths=%{customdata[1]}<extra></extra>\", \"legendgroup\": \"2020-10-31 00:00:00\", \"marker\": {\"color\": \"#19d3f3\"}, \"name\": \"2020-10-31 00:00:00\", \"offsetgroup\": \"2020-10-31 00:00:00\", \"orientation\": \"v\", \"showlegend\": true, \"textposition\": \"auto\", \"type\": \"bar\", \"x\": [\"2020-10-31T00:00:00\"], \"xaxis\": \"x\", \"y\": [1.5247211901353297], \"yaxis\": \"y\"}, {\"alignmentgroup\": \"True\", \"customdata\": [[264556412, 3894165]], \"hovertemplate\": \"Date=%{x}<br>Death percentage=%{y}<br>Confirmed=%{customdata[0]}<br>Deaths=%{customdata[1]}<extra></extra>\", \"legendgroup\": \"2020-11-30 00:00:00\", \"marker\": {\"color\": \"#FF6692\"}, \"name\": \"2020-11-30 00:00:00\", \"offsetgroup\": \"2020-11-30 00:00:00\", \"orientation\": \"v\", \"showlegend\": true, \"textposition\": \"auto\", \"type\": \"bar\", \"x\": [\"2020-11-30T00:00:00\"], \"xaxis\": \"x\", \"y\": [1.4719601655317278], \"yaxis\": \"y\"}, {\"alignmentgroup\": \"True\", \"customdata\": [[307177353, 4457379]], \"hovertemplate\": \"Date=%{x}<br>Death percentage=%{y}<br>Confirmed=%{customdata[0]}<br>Deaths=%{customdata[1]}<extra></extra>\", \"legendgroup\": \"2020-12-31 00:00:00\", \"marker\": {\"color\": \"#B6E880\"}, \"name\": \"2020-12-31 00:00:00\", \"offsetgroup\": \"2020-12-31 00:00:00\", \"orientation\": \"v\", \"showlegend\": true, \"textposition\": \"auto\", \"type\": \"bar\", \"x\": [\"2020-12-31T00:00:00\"], \"xaxis\": \"x\", \"y\": [1.4510767009571828], \"yaxis\": \"y\"}, {\"alignmentgroup\": \"True\", \"customdata\": [[326469747, 4709167]], \"hovertemplate\": \"Date=%{x}<br>Death percentage=%{y}<br>Confirmed=%{customdata[0]}<br>Deaths=%{customdata[1]}<extra></extra>\", \"legendgroup\": \"2021-01-31 00:00:00\", \"marker\": {\"color\": \"#FF97FF\"}, \"name\": \"2021-01-31 00:00:00\", \"offsetgroup\": \"2021-01-31 00:00:00\", \"orientation\": \"v\", \"showlegend\": true, \"textposition\": \"auto\", \"type\": \"bar\", \"x\": [\"2021-01-31T00:00:00\"], \"xaxis\": \"x\", \"y\": [1.4424512663955966], \"yaxis\": \"y\"}, {\"alignmentgroup\": \"True\", \"customdata\": [[305631803, 4359434]], \"hovertemplate\": \"Date=%{x}<br>Death percentage=%{y}<br>Confirmed=%{customdata[0]}<br>Deaths=%{customdata[1]}<extra></extra>\", \"legendgroup\": \"2021-02-28 00:00:00\", \"marker\": {\"color\": \"#FECB52\"}, \"name\": \"2021-02-28 00:00:00\", \"offsetgroup\": \"2021-02-28 00:00:00\", \"orientation\": \"v\", \"showlegend\": true, \"textposition\": \"auto\", \"type\": \"bar\", \"x\": [\"2021-02-28T00:00:00\"], \"xaxis\": \"x\", \"y\": [1.426367922843422], \"yaxis\": \"y\"}, {\"alignmentgroup\": \"True\", \"customdata\": [[356305616, 4935253]], \"hovertemplate\": \"Date=%{x}<br>Death percentage=%{y}<br>Confirmed=%{customdata[0]}<br>Deaths=%{customdata[1]}<extra></extra>\", \"legendgroup\": \"2021-03-31 00:00:00\", \"marker\": {\"color\": \"#636efa\"}, \"name\": \"2021-03-31 00:00:00\", \"offsetgroup\": \"2021-03-31 00:00:00\", \"orientation\": \"v\", \"showlegend\": true, \"textposition\": \"auto\", \"type\": \"bar\", \"x\": [\"2021-03-31T00:00:00\"], \"xaxis\": \"x\", \"y\": [1.3851179376302618], \"yaxis\": \"y\"}, {\"alignmentgroup\": \"True\", \"customdata\": [[300740086, 3764157]], \"hovertemplate\": \"Date=%{x}<br>Death percentage=%{y}<br>Confirmed=%{customdata[0]}<br>Deaths=%{customdata[1]}<extra></extra>\", \"legendgroup\": \"2021-04-30 00:00:00\", \"marker\": {\"color\": \"#EF553B\"}, \"name\": \"2021-04-30 00:00:00\", \"offsetgroup\": \"2021-04-30 00:00:00\", \"orientation\": \"v\", \"showlegend\": true, \"textposition\": \"auto\", \"type\": \"bar\", \"x\": [\"2021-04-30T00:00:00\"], \"xaxis\": \"x\", \"y\": [1.2516312840317536], \"yaxis\": \"y\"}],                        {\"barmode\": \"relative\", \"legend\": {\"title\": {\"text\": \"Date\"}, \"tracegroupgap\": 0}, \"template\": {\"data\": {\"bar\": [{\"error_x\": {\"color\": \"#2a3f5f\"}, \"error_y\": {\"color\": \"#2a3f5f\"}, \"marker\": {\"line\": {\"color\": \"#E5ECF6\", \"width\": 0.5}}, \"type\": \"bar\"}], \"barpolar\": [{\"marker\": {\"line\": {\"color\": \"#E5ECF6\", \"width\": 0.5}}, \"type\": \"barpolar\"}], \"carpet\": [{\"aaxis\": {\"endlinecolor\": \"#2a3f5f\", \"gridcolor\": \"white\", \"linecolor\": \"white\", \"minorgridcolor\": \"white\", \"startlinecolor\": \"#2a3f5f\"}, \"baxis\": {\"endlinecolor\": \"#2a3f5f\", \"gridcolor\": \"white\", \"linecolor\": \"white\", \"minorgridcolor\": \"white\", \"startlinecolor\": \"#2a3f5f\"}, \"type\": \"carpet\"}], \"choropleth\": [{\"colorbar\": {\"outlinewidth\": 0, \"ticks\": \"\"}, \"type\": \"choropleth\"}], \"contour\": [{\"colorbar\": {\"outlinewidth\": 0, \"ticks\": \"\"}, \"colorscale\": [[0.0, \"#0d0887\"], [0.1111111111111111, \"#46039f\"], [0.2222222222222222, \"#7201a8\"], [0.3333333333333333, \"#9c179e\"], [0.4444444444444444, \"#bd3786\"], [0.5555555555555556, \"#d8576b\"], [0.6666666666666666, \"#ed7953\"], [0.7777777777777778, \"#fb9f3a\"], [0.8888888888888888, \"#fdca26\"], [1.0, \"#f0f921\"]], \"type\": \"contour\"}], \"contourcarpet\": [{\"colorbar\": {\"outlinewidth\": 0, \"ticks\": \"\"}, \"type\": \"contourcarpet\"}], \"heatmap\": [{\"colorbar\": {\"outlinewidth\": 0, \"ticks\": \"\"}, \"colorscale\": [[0.0, \"#0d0887\"], [0.1111111111111111, \"#46039f\"], [0.2222222222222222, \"#7201a8\"], [0.3333333333333333, \"#9c179e\"], [0.4444444444444444, \"#bd3786\"], [0.5555555555555556, \"#d8576b\"], [0.6666666666666666, \"#ed7953\"], [0.7777777777777778, \"#fb9f3a\"], [0.8888888888888888, \"#fdca26\"], [1.0, \"#f0f921\"]], \"type\": \"heatmap\"}], \"heatmapgl\": [{\"colorbar\": {\"outlinewidth\": 0, \"ticks\": \"\"}, \"colorscale\": [[0.0, \"#0d0887\"], [0.1111111111111111, \"#46039f\"], [0.2222222222222222, \"#7201a8\"], [0.3333333333333333, \"#9c179e\"], [0.4444444444444444, \"#bd3786\"], [0.5555555555555556, \"#d8576b\"], [0.6666666666666666, \"#ed7953\"], [0.7777777777777778, \"#fb9f3a\"], [0.8888888888888888, \"#fdca26\"], [1.0, \"#f0f921\"]], \"type\": \"heatmapgl\"}], \"histogram\": [{\"marker\": {\"colorbar\": {\"outlinewidth\": 0, \"ticks\": \"\"}}, \"type\": \"histogram\"}], \"histogram2d\": [{\"colorbar\": {\"outlinewidth\": 0, \"ticks\": \"\"}, \"colorscale\": [[0.0, \"#0d0887\"], [0.1111111111111111, \"#46039f\"], [0.2222222222222222, \"#7201a8\"], [0.3333333333333333, \"#9c179e\"], [0.4444444444444444, \"#bd3786\"], [0.5555555555555556, \"#d8576b\"], [0.6666666666666666, \"#ed7953\"], [0.7777777777777778, \"#fb9f3a\"], [0.8888888888888888, \"#fdca26\"], [1.0, \"#f0f921\"]], \"type\": \"histogram2d\"}], \"histogram2dcontour\": [{\"colorbar\": {\"outlinewidth\": 0, \"ticks\": \"\"}, \"colorscale\": [[0.0, \"#0d0887\"], [0.1111111111111111, \"#46039f\"], [0.2222222222222222, \"#7201a8\"], [0.3333333333333333, \"#9c179e\"], [0.4444444444444444, \"#bd3786\"], [0.5555555555555556, \"#d8576b\"], [0.6666666666666666, \"#ed7953\"], [0.7777777777777778, \"#fb9f3a\"], [0.8888888888888888, \"#fdca26\"], [1.0, \"#f0f921\"]], \"type\": \"histogram2dcontour\"}], \"mesh3d\": [{\"colorbar\": {\"outlinewidth\": 0, \"ticks\": \"\"}, \"type\": \"mesh3d\"}], \"parcoords\": [{\"line\": {\"colorbar\": {\"outlinewidth\": 0, \"ticks\": \"\"}}, \"type\": \"parcoords\"}], \"pie\": [{\"automargin\": true, \"type\": \"pie\"}], \"scatter\": [{\"marker\": {\"colorbar\": {\"outlinewidth\": 0, \"ticks\": \"\"}}, \"type\": \"scatter\"}], \"scatter3d\": [{\"line\": {\"colorbar\": {\"outlinewidth\": 0, \"ticks\": \"\"}}, \"marker\": {\"colorbar\": {\"outlinewidth\": 0, \"ticks\": \"\"}}, \"type\": \"scatter3d\"}], \"scattercarpet\": [{\"marker\": {\"colorbar\": {\"outlinewidth\": 0, \"ticks\": \"\"}}, \"type\": \"scattercarpet\"}], \"scattergeo\": [{\"marker\": {\"colorbar\": {\"outlinewidth\": 0, \"ticks\": \"\"}}, \"type\": \"scattergeo\"}], \"scattergl\": [{\"marker\": {\"colorbar\": {\"outlinewidth\": 0, \"ticks\": \"\"}}, \"type\": \"scattergl\"}], \"scattermapbox\": [{\"marker\": {\"colorbar\": {\"outlinewidth\": 0, \"ticks\": \"\"}}, \"type\": \"scattermapbox\"}], \"scatterpolar\": [{\"marker\": {\"colorbar\": {\"outlinewidth\": 0, \"ticks\": \"\"}}, \"type\": \"scatterpolar\"}], \"scatterpolargl\": [{\"marker\": {\"colorbar\": {\"outlinewidth\": 0, \"ticks\": \"\"}}, \"type\": \"scatterpolargl\"}], \"scatterternary\": [{\"marker\": {\"colorbar\": {\"outlinewidth\": 0, \"ticks\": \"\"}}, \"type\": \"scatterternary\"}], \"surface\": [{\"colorbar\": {\"outlinewidth\": 0, \"ticks\": \"\"}, \"colorscale\": [[0.0, \"#0d0887\"], [0.1111111111111111, \"#46039f\"], [0.2222222222222222, \"#7201a8\"], [0.3333333333333333, \"#9c179e\"], [0.4444444444444444, \"#bd3786\"], [0.5555555555555556, \"#d8576b\"], [0.6666666666666666, \"#ed7953\"], [0.7777777777777778, \"#fb9f3a\"], [0.8888888888888888, \"#fdca26\"], [1.0, \"#f0f921\"]], \"type\": \"surface\"}], \"table\": [{\"cells\": {\"fill\": {\"color\": \"#EBF0F8\"}, \"line\": {\"color\": \"white\"}}, \"header\": {\"fill\": {\"color\": \"#C8D4E3\"}, \"line\": {\"color\": \"white\"}}, \"type\": \"table\"}]}, \"layout\": {\"annotationdefaults\": {\"arrowcolor\": \"#2a3f5f\", \"arrowhead\": 0, \"arrowwidth\": 1}, \"autotypenumbers\": \"strict\", \"coloraxis\": {\"colorbar\": {\"outlinewidth\": 0, \"ticks\": \"\"}}, \"colorscale\": {\"diverging\": [[0, \"#8e0152\"], [0.1, \"#c51b7d\"], [0.2, \"#de77ae\"], [0.3, \"#f1b6da\"], [0.4, \"#fde0ef\"], [0.5, \"#f7f7f7\"], [0.6, \"#e6f5d0\"], [0.7, \"#b8e186\"], [0.8, \"#7fbc41\"], [0.9, \"#4d9221\"], [1, \"#276419\"]], \"sequential\": [[0.0, \"#0d0887\"], [0.1111111111111111, \"#46039f\"], [0.2222222222222222, \"#7201a8\"], [0.3333333333333333, \"#9c179e\"], [0.4444444444444444, \"#bd3786\"], [0.5555555555555556, \"#d8576b\"], [0.6666666666666666, \"#ed7953\"], [0.7777777777777778, \"#fb9f3a\"], [0.8888888888888888, \"#fdca26\"], [1.0, \"#f0f921\"]], \"sequentialminus\": [[0.0, \"#0d0887\"], [0.1111111111111111, \"#46039f\"], [0.2222222222222222, \"#7201a8\"], [0.3333333333333333, \"#9c179e\"], [0.4444444444444444, \"#bd3786\"], [0.5555555555555556, \"#d8576b\"], [0.6666666666666666, \"#ed7953\"], [0.7777777777777778, \"#fb9f3a\"], [0.8888888888888888, \"#fdca26\"], [1.0, \"#f0f921\"]]}, \"colorway\": [\"#636efa\", \"#EF553B\", \"#00cc96\", \"#ab63fa\", \"#FFA15A\", \"#19d3f3\", \"#FF6692\", \"#B6E880\", \"#FF97FF\", \"#FECB52\"], \"font\": {\"color\": \"#2a3f5f\"}, \"geo\": {\"bgcolor\": \"white\", \"lakecolor\": \"white\", \"landcolor\": \"#E5ECF6\", \"showlakes\": true, \"showland\": true, \"subunitcolor\": \"white\"}, \"hoverlabel\": {\"align\": \"left\"}, \"hovermode\": \"closest\", \"mapbox\": {\"style\": \"light\"}, \"paper_bgcolor\": \"white\", \"plot_bgcolor\": \"#E5ECF6\", \"polar\": {\"angularaxis\": {\"gridcolor\": \"white\", \"linecolor\": \"white\", \"ticks\": \"\"}, \"bgcolor\": \"#E5ECF6\", \"radialaxis\": {\"gridcolor\": \"white\", \"linecolor\": \"white\", \"ticks\": \"\"}}, \"scene\": {\"xaxis\": {\"backgroundcolor\": \"#E5ECF6\", \"gridcolor\": \"white\", \"gridwidth\": 2, \"linecolor\": \"white\", \"showbackground\": true, \"ticks\": \"\", \"zerolinecolor\": \"white\"}, \"yaxis\": {\"backgroundcolor\": \"#E5ECF6\", \"gridcolor\": \"white\", \"gridwidth\": 2, \"linecolor\": \"white\", \"showbackground\": true, \"ticks\": \"\", \"zerolinecolor\": \"white\"}, \"zaxis\": {\"backgroundcolor\": \"#E5ECF6\", \"gridcolor\": \"white\", \"gridwidth\": 2, \"linecolor\": \"white\", \"showbackground\": true, \"ticks\": \"\", \"zerolinecolor\": \"white\"}}, \"shapedefaults\": {\"line\": {\"color\": \"#2a3f5f\"}}, \"ternary\": {\"aaxis\": {\"gridcolor\": \"white\", \"linecolor\": \"white\", \"ticks\": \"\"}, \"baxis\": {\"gridcolor\": \"white\", \"linecolor\": \"white\", \"ticks\": \"\"}, \"bgcolor\": \"#E5ECF6\", \"caxis\": {\"gridcolor\": \"white\", \"linecolor\": \"white\", \"ticks\": \"\"}}, \"title\": {\"x\": 0.05}, \"xaxis\": {\"automargin\": true, \"gridcolor\": \"white\", \"linecolor\": \"white\", \"ticks\": \"\", \"title\": {\"standoff\": 15}, \"zerolinecolor\": \"white\", \"zerolinewidth\": 2}, \"yaxis\": {\"automargin\": true, \"gridcolor\": \"white\", \"linecolor\": \"white\", \"ticks\": \"\", \"title\": {\"standoff\": 15}, \"zerolinecolor\": \"white\", \"zerolinewidth\": 2}}}, \"title\": {\"text\": \"Top 10 states with highest of Death percentage\"}, \"xaxis\": {\"anchor\": \"y\", \"categoryarray\": [1580428800000000000, 1582934400000000000, 1585612800000000000, 1588204800000000000, 1590883200000000000, 1593475200000000000, 1596153600000000000, 1598832000000000000, 1601424000000000000, 1604102400000000000, 1606694400000000000, 1609372800000000000, 1612051200000000000, 1614470400000000000, 1617148800000000000, 1619740800000000000], \"categoryorder\": \"array\", \"domain\": [0.0, 1.0], \"title\": {\"text\": \"Date\"}}, \"yaxis\": {\"anchor\": \"x\", \"domain\": [0.0, 1.0], \"title\": {\"text\": \"Death percentage\"}}},                        {\"responsive\": true}                    ).then(function(){\n",
       "                            \n",
       "var gd = document.getElementById('e3729ce1-f3ba-42a2-a620-6a23fe574c2e');\n",
       "var x = new MutationObserver(function (mutations, observer) {{\n",
       "        var display = window.getComputedStyle(gd).display;\n",
       "        if (!display || display === 'none') {{\n",
       "            console.log([gd, 'removed!']);\n",
       "            Plotly.purge(gd);\n",
       "            observer.disconnect();\n",
       "        }}\n",
       "}});\n",
       "\n",
       "// Listen for the removal of the full notebook cells\n",
       "var notebookContainer = gd.closest('#notebook-container');\n",
       "if (notebookContainer) {{\n",
       "    x.observe(notebookContainer, {childList: true});\n",
       "}}\n",
       "\n",
       "// Listen for the clearing of the current output cell\n",
       "var outputEl = gd.closest('.output');\n",
       "if (outputEl) {{\n",
       "    x.observe(outputEl, {childList: true});\n",
       "}}\n",
       "\n",
       "                        })                };                });            </script>        </div>"
      ]
     },
     "metadata": {},
     "output_type": "display_data"
    }
   ],
   "source": [
    "fig = px.bar(month_wise , \n",
    "             x='Date', \n",
    "             y='Death_percentage' ,\n",
    "             hover_data=['Confirmed','Deaths'],color='Date',\n",
    "             labels={'Death_percentage':'Death percentage'},\n",
    "             title=\"Top 10 states with highest of Death percentage\")\n",
    "fig.show()"
   ]
  },
  {
   "cell_type": "markdown",
   "metadata": {},
   "source": [
    "## Exploratory Data Analysis of StatewiseTestingDetails Dataset"
   ]
  },
  {
   "cell_type": "code",
   "execution_count": 217,
   "metadata": {},
   "outputs": [
    {
     "data": {
      "text/html": [
       "<div>\n",
       "<style scoped>\n",
       "    .dataframe tbody tr th:only-of-type {\n",
       "        vertical-align: middle;\n",
       "    }\n",
       "\n",
       "    .dataframe tbody tr th {\n",
       "        vertical-align: top;\n",
       "    }\n",
       "\n",
       "    .dataframe thead th {\n",
       "        text-align: right;\n",
       "    }\n",
       "</style>\n",
       "<table border=\"1\" class=\"dataframe\">\n",
       "  <thead>\n",
       "    <tr style=\"text-align: right;\">\n",
       "      <th></th>\n",
       "      <th>Date</th>\n",
       "      <th>State</th>\n",
       "      <th>TotalSamples</th>\n",
       "      <th>Negative</th>\n",
       "      <th>Positive</th>\n",
       "    </tr>\n",
       "  </thead>\n",
       "  <tbody>\n",
       "    <tr>\n",
       "      <th>0</th>\n",
       "      <td>2020-04-17</td>\n",
       "      <td>Andaman and Nicobar Islands</td>\n",
       "      <td>1403.0</td>\n",
       "      <td>1210.0</td>\n",
       "      <td>12.0</td>\n",
       "    </tr>\n",
       "    <tr>\n",
       "      <th>1</th>\n",
       "      <td>2020-04-24</td>\n",
       "      <td>Andaman and Nicobar Islands</td>\n",
       "      <td>2679.0</td>\n",
       "      <td>NaN</td>\n",
       "      <td>27.0</td>\n",
       "    </tr>\n",
       "    <tr>\n",
       "      <th>2</th>\n",
       "      <td>2020-04-27</td>\n",
       "      <td>Andaman and Nicobar Islands</td>\n",
       "      <td>2848.0</td>\n",
       "      <td>NaN</td>\n",
       "      <td>33.0</td>\n",
       "    </tr>\n",
       "    <tr>\n",
       "      <th>3</th>\n",
       "      <td>2020-05-01</td>\n",
       "      <td>Andaman and Nicobar Islands</td>\n",
       "      <td>3754.0</td>\n",
       "      <td>NaN</td>\n",
       "      <td>33.0</td>\n",
       "    </tr>\n",
       "    <tr>\n",
       "      <th>4</th>\n",
       "      <td>2020-04-02</td>\n",
       "      <td>Andhra Pradesh</td>\n",
       "      <td>1800.0</td>\n",
       "      <td>1175.0</td>\n",
       "      <td>132.0</td>\n",
       "    </tr>\n",
       "  </tbody>\n",
       "</table>\n",
       "</div>"
      ],
      "text/plain": [
       "        Date                        State  TotalSamples  Negative  Positive\n",
       "0 2020-04-17  Andaman and Nicobar Islands        1403.0    1210.0      12.0\n",
       "1 2020-04-24  Andaman and Nicobar Islands        2679.0       NaN      27.0\n",
       "2 2020-04-27  Andaman and Nicobar Islands        2848.0       NaN      33.0\n",
       "3 2020-05-01  Andaman and Nicobar Islands        3754.0       NaN      33.0\n",
       "4 2020-04-02               Andhra Pradesh        1800.0    1175.0     132.0"
      ]
     },
     "execution_count": 217,
     "metadata": {},
     "output_type": "execute_result"
    }
   ],
   "source": [
    "covid_testing = pd.read_csv(\"StatewiseTestingDetails.csv\")\n",
    "covid_testing['Date'] = covid_testing['Date'].astype('datetime64[ns]')\n",
    "covid_testing.head()"
   ]
  },
  {
   "cell_type": "code",
   "execution_count": 218,
   "metadata": {},
   "outputs": [
    {
     "data": {
      "text/plain": [
       "(926, 5)"
      ]
     },
     "execution_count": 218,
     "metadata": {},
     "output_type": "execute_result"
    }
   ],
   "source": [
    "covid_testing.shape"
   ]
  },
  {
   "cell_type": "code",
   "execution_count": 219,
   "metadata": {},
   "outputs": [
    {
     "name": "stdout",
     "output_type": "stream",
     "text": [
      "<class 'pandas.core.frame.DataFrame'>\n",
      "RangeIndex: 926 entries, 0 to 925\n",
      "Data columns (total 5 columns):\n",
      " #   Column        Non-Null Count  Dtype         \n",
      "---  ------        --------------  -----         \n",
      " 0   Date          926 non-null    datetime64[ns]\n",
      " 1   State         926 non-null    object        \n",
      " 2   TotalSamples  926 non-null    float64       \n",
      " 3   Negative      756 non-null    float64       \n",
      " 4   Positive      918 non-null    float64       \n",
      "dtypes: datetime64[ns](1), float64(3), object(1)\n",
      "memory usage: 36.3+ KB\n"
     ]
    }
   ],
   "source": [
    "covid_testing.info()"
   ]
  },
  {
   "cell_type": "code",
   "execution_count": 220,
   "metadata": {},
   "outputs": [
    {
     "name": "stdout",
     "output_type": "stream",
     "text": [
      "<class 'pandas.core.frame.DataFrame'>\n",
      "Int64Index: 918 entries, 0 to 925\n",
      "Data columns (total 5 columns):\n",
      " #   Column        Non-Null Count  Dtype         \n",
      "---  ------        --------------  -----         \n",
      " 0   Date          918 non-null    datetime64[ns]\n",
      " 1   State         918 non-null    object        \n",
      " 2   TotalSamples  918 non-null    float64       \n",
      " 3   Negative      918 non-null    float64       \n",
      " 4   Positive      918 non-null    float64       \n",
      "dtypes: datetime64[ns](1), float64(3), object(1)\n",
      "memory usage: 43.0+ KB\n"
     ]
    }
   ],
   "source": [
    "covid_testing['Negative'] = covid_testing['TotalSamples'] - covid_testing['Positive']\n",
    "covid_testing = covid_testing.dropna()\n",
    "covid_testing.info()"
   ]
  },
  {
   "cell_type": "markdown",
   "metadata": {},
   "source": [
    "## Statewise Analysis"
   ]
  },
  {
   "cell_type": "code",
   "execution_count": 221,
   "metadata": {},
   "outputs": [
    {
     "name": "stderr",
     "output_type": "stream",
     "text": [
      "C:\\Users\\DIPTARAJ SEN\\anaconda3\\lib\\site-packages\\ipykernel_launcher.py:1: FutureWarning:\n",
      "\n",
      "Indexing with multiple keys (implicitly converted to a tuple of keys) will be deprecated, use a list instead.\n",
      "\n"
     ]
    },
    {
     "data": {
      "text/html": [
       "<style  type=\"text/css\" >\n",
       "    #T_50aa775a_a4ce_11eb_b6ae_8091333da24arow0_col1 {\n",
       "            background-color:  #faf2f2;\n",
       "            color:  #000000;\n",
       "        }    #T_50aa775a_a4ce_11eb_b6ae_8091333da24arow0_col2 {\n",
       "            background-color:  #faf2f2;\n",
       "            color:  #000000;\n",
       "        }    #T_50aa775a_a4ce_11eb_b6ae_8091333da24arow0_col3 {\n",
       "            background-color:  #fdfbfb;\n",
       "            color:  #000000;\n",
       "        }    #T_50aa775a_a4ce_11eb_b6ae_8091333da24arow0_col4 {\n",
       "            background-color:  #fdfbfb;\n",
       "            color:  #000000;\n",
       "        }    #T_50aa775a_a4ce_11eb_b6ae_8091333da24arow1_col1 {\n",
       "            background-color:  #30817e;\n",
       "            color:  #000000;\n",
       "        }    #T_50aa775a_a4ce_11eb_b6ae_8091333da24arow1_col2 {\n",
       "            background-color:  #2e7b7f;\n",
       "            color:  #000000;\n",
       "        }    #T_50aa775a_a4ce_11eb_b6ae_8091333da24arow1_col3 {\n",
       "            background-color:  #e1bfb0;\n",
       "            color:  #000000;\n",
       "        }    #T_50aa775a_a4ce_11eb_b6ae_8091333da24arow1_col4 {\n",
       "            background-color:  #f6eae9;\n",
       "            color:  #000000;\n",
       "        }    #T_50aa775a_a4ce_11eb_b6ae_8091333da24arow2_col1 {\n",
       "            background-color:  #fcf8f8;\n",
       "            color:  #000000;\n",
       "        }    #T_50aa775a_a4ce_11eb_b6ae_8091333da24arow2_col2 {\n",
       "            background-color:  #fcf8f8;\n",
       "            color:  #000000;\n",
       "        }    #T_50aa775a_a4ce_11eb_b6ae_8091333da24arow2_col3 {\n",
       "            background-color:  #fdfbfb;\n",
       "            color:  #000000;\n",
       "        }    #T_50aa775a_a4ce_11eb_b6ae_8091333da24arow2_col4 {\n",
       "            background-color:  #f1dcda;\n",
       "            color:  #000000;\n",
       "        }    #T_50aa775a_a4ce_11eb_b6ae_8091333da24arow3_col1 {\n",
       "            background-color:  #e9cdc5;\n",
       "            color:  #000000;\n",
       "        }    #T_50aa775a_a4ce_11eb_b6ae_8091333da24arow3_col2 {\n",
       "            background-color:  #e8cbc2;\n",
       "            color:  #000000;\n",
       "        }    #T_50aa775a_a4ce_11eb_b6ae_8091333da24arow3_col3 {\n",
       "            background-color:  #fdfbfb;\n",
       "            color:  #000000;\n",
       "        }    #T_50aa775a_a4ce_11eb_b6ae_8091333da24arow3_col4 {\n",
       "            background-color:  #fdfbfb;\n",
       "            color:  #000000;\n",
       "        }    #T_50aa775a_a4ce_11eb_b6ae_8091333da24arow4_col1 {\n",
       "            background-color:  #d4b091;\n",
       "            color:  #000000;\n",
       "        }    #T_50aa775a_a4ce_11eb_b6ae_8091333da24arow4_col2 {\n",
       "            background-color:  #d3af8f;\n",
       "            color:  #000000;\n",
       "        }    #T_50aa775a_a4ce_11eb_b6ae_8091333da24arow4_col3 {\n",
       "            background-color:  #f4e4e3;\n",
       "            color:  #000000;\n",
       "        }    #T_50aa775a_a4ce_11eb_b6ae_8091333da24arow4_col4 {\n",
       "            background-color:  #000000;\n",
       "            color:  #f1f1f1;\n",
       "        }    #T_50aa775a_a4ce_11eb_b6ae_8091333da24arow5_col1 {\n",
       "            background-color:  #fbf5f5;\n",
       "            color:  #000000;\n",
       "        }    #T_50aa775a_a4ce_11eb_b6ae_8091333da24arow5_col2 {\n",
       "            background-color:  #fcf8f8;\n",
       "            color:  #000000;\n",
       "        }    #T_50aa775a_a4ce_11eb_b6ae_8091333da24arow5_col3 {\n",
       "            background-color:  #fbf5f5;\n",
       "            color:  #000000;\n",
       "        }    #T_50aa775a_a4ce_11eb_b6ae_8091333da24arow5_col4 {\n",
       "            background-color:  #2a727e;\n",
       "            color:  #f1f1f1;\n",
       "        }    #T_50aa775a_a4ce_11eb_b6ae_8091333da24arow6_col1 {\n",
       "            background-color:  #e0bdad;\n",
       "            color:  #000000;\n",
       "        }    #T_50aa775a_a4ce_11eb_b6ae_8091333da24arow6_col2 {\n",
       "            background-color:  #dfbcaa;\n",
       "            color:  #000000;\n",
       "        }    #T_50aa775a_a4ce_11eb_b6ae_8091333da24arow6_col3 {\n",
       "            background-color:  #fdfbfb;\n",
       "            color:  #000000;\n",
       "        }    #T_50aa775a_a4ce_11eb_b6ae_8091333da24arow6_col4 {\n",
       "            background-color:  #30817e;\n",
       "            color:  #000000;\n",
       "        }    #T_50aa775a_a4ce_11eb_b6ae_8091333da24arow7_col1 {\n",
       "            background-color:  #8eac56;\n",
       "            color:  #000000;\n",
       "        }    #T_50aa775a_a4ce_11eb_b6ae_8091333da24arow7_col2 {\n",
       "            background-color:  #94ae57;\n",
       "            color:  #000000;\n",
       "        }    #T_50aa775a_a4ce_11eb_b6ae_8091333da24arow7_col3 {\n",
       "            background-color:  #a0b15a;\n",
       "            color:  #000000;\n",
       "        }    #T_50aa775a_a4ce_11eb_b6ae_8091333da24arow7_col4 {\n",
       "            background-color:  #276b7d;\n",
       "            color:  #f1f1f1;\n",
       "        }    #T_50aa775a_a4ce_11eb_b6ae_8091333da24arow8_col1 {\n",
       "            background-color:  #f9efef;\n",
       "            color:  #000000;\n",
       "        }    #T_50aa775a_a4ce_11eb_b6ae_8091333da24arow8_col2 {\n",
       "            background-color:  #f7ecec;\n",
       "            color:  #000000;\n",
       "        }    #T_50aa775a_a4ce_11eb_b6ae_8091333da24arow8_col3 {\n",
       "            background-color:  #fdfbfb;\n",
       "            color:  #000000;\n",
       "        }    #T_50aa775a_a4ce_11eb_b6ae_8091333da24arow8_col4 {\n",
       "            background-color:  #3a8d65;\n",
       "            color:  #000000;\n",
       "        }    #T_50aa775a_a4ce_11eb_b6ae_8091333da24arow9_col1 {\n",
       "            background-color:  #6fa450;\n",
       "            color:  #000000;\n",
       "        }    #T_50aa775a_a4ce_11eb_b6ae_8091333da24arow9_col2 {\n",
       "            background-color:  #7aa752;\n",
       "            color:  #000000;\n",
       "        }    #T_50aa775a_a4ce_11eb_b6ae_8091333da24arow9_col3 {\n",
       "            background-color:  #8cab56;\n",
       "            color:  #000000;\n",
       "        }    #T_50aa775a_a4ce_11eb_b6ae_8091333da24arow9_col4 {\n",
       "            background-color:  #429650;\n",
       "            color:  #000000;\n",
       "        }    #T_50aa775a_a4ce_11eb_b6ae_8091333da24arow10_col1 {\n",
       "            background-color:  #bfa764;\n",
       "            color:  #000000;\n",
       "        }    #T_50aa775a_a4ce_11eb_b6ae_8091333da24arow10_col2 {\n",
       "            background-color:  #bea863;\n",
       "            color:  #000000;\n",
       "        }    #T_50aa775a_a4ce_11eb_b6ae_8091333da24arow10_col3 {\n",
       "            background-color:  #f4e4e3;\n",
       "            color:  #000000;\n",
       "        }    #T_50aa775a_a4ce_11eb_b6ae_8091333da24arow10_col4 {\n",
       "            background-color:  #429650;\n",
       "            color:  #000000;\n",
       "        }    #T_50aa775a_a4ce_11eb_b6ae_8091333da24arow11_col1 {\n",
       "            background-color:  #f1dcda;\n",
       "            color:  #000000;\n",
       "        }    #T_50aa775a_a4ce_11eb_b6ae_8091333da24arow11_col2 {\n",
       "            background-color:  #f1dcda;\n",
       "            color:  #000000;\n",
       "        }    #T_50aa775a_a4ce_11eb_b6ae_8091333da24arow11_col3 {\n",
       "            background-color:  #fdfbfb;\n",
       "            color:  #000000;\n",
       "        }    #T_50aa775a_a4ce_11eb_b6ae_8091333da24arow11_col4 {\n",
       "            background-color:  #bab160;\n",
       "            color:  #000000;\n",
       "        }    #T_50aa775a_a4ce_11eb_b6ae_8091333da24arow12_col1 {\n",
       "            background-color:  #c6a574;\n",
       "            color:  #000000;\n",
       "        }    #T_50aa775a_a4ce_11eb_b6ae_8091333da24arow12_col2 {\n",
       "            background-color:  #c6a574;\n",
       "            color:  #000000;\n",
       "        }    #T_50aa775a_a4ce_11eb_b6ae_8091333da24arow12_col3 {\n",
       "            background-color:  #f2dedd;\n",
       "            color:  #000000;\n",
       "        }    #T_50aa775a_a4ce_11eb_b6ae_8091333da24arow12_col4 {\n",
       "            background-color:  #b7b75e;\n",
       "            color:  #000000;\n",
       "        }    #T_50aa775a_a4ce_11eb_b6ae_8091333da24arow13_col1 {\n",
       "            background-color:  #e6c7bc;\n",
       "            color:  #000000;\n",
       "        }    #T_50aa775a_a4ce_11eb_b6ae_8091333da24arow13_col2 {\n",
       "            background-color:  #e4c5b9;\n",
       "            color:  #000000;\n",
       "        }    #T_50aa775a_a4ce_11eb_b6ae_8091333da24arow13_col3 {\n",
       "            background-color:  #fcf8f8;\n",
       "            color:  #000000;\n",
       "        }    #T_50aa775a_a4ce_11eb_b6ae_8091333da24arow13_col4 {\n",
       "            background-color:  #b7b75e;\n",
       "            color:  #000000;\n",
       "        }    #T_50aa775a_a4ce_11eb_b6ae_8091333da24arow14_col1 {\n",
       "            background-color:  #7da853;\n",
       "            color:  #000000;\n",
       "        }    #T_50aa775a_a4ce_11eb_b6ae_8091333da24arow14_col2 {\n",
       "            background-color:  #78a652;\n",
       "            color:  #000000;\n",
       "        }    #T_50aa775a_a4ce_11eb_b6ae_8091333da24arow14_col3 {\n",
       "            background-color:  #f2dedd;\n",
       "            color:  #000000;\n",
       "        }    #T_50aa775a_a4ce_11eb_b6ae_8091333da24arow14_col4 {\n",
       "            background-color:  #bea963;\n",
       "            color:  #000000;\n",
       "        }    #T_50aa775a_a4ce_11eb_b6ae_8091333da24arow15_col1 {\n",
       "            background-color:  #d1ae8c;\n",
       "            color:  #000000;\n",
       "        }    #T_50aa775a_a4ce_11eb_b6ae_8091333da24arow15_col2 {\n",
       "            background-color:  #d1ae8c;\n",
       "            color:  #000000;\n",
       "        }    #T_50aa775a_a4ce_11eb_b6ae_8091333da24arow15_col3 {\n",
       "            background-color:  #f6eae9;\n",
       "            color:  #000000;\n",
       "        }    #T_50aa775a_a4ce_11eb_b6ae_8091333da24arow15_col4 {\n",
       "            background-color:  #bfa764;\n",
       "            color:  #000000;\n",
       "        }    #T_50aa775a_a4ce_11eb_b6ae_8091333da24arow16_col1 {\n",
       "            background-color:  #faf2f2;\n",
       "            color:  #000000;\n",
       "        }    #T_50aa775a_a4ce_11eb_b6ae_8091333da24arow16_col2 {\n",
       "            background-color:  #faf2f2;\n",
       "            color:  #000000;\n",
       "        }    #T_50aa775a_a4ce_11eb_b6ae_8091333da24arow16_col3 {\n",
       "            background-color:  #fdfbfb;\n",
       "            color:  #000000;\n",
       "        }    #T_50aa775a_a4ce_11eb_b6ae_8091333da24arow16_col4 {\n",
       "            background-color:  #c6a574;\n",
       "            color:  #000000;\n",
       "        }    #T_50aa775a_a4ce_11eb_b6ae_8091333da24arow17_col1 {\n",
       "            background-color:  #b8b55f;\n",
       "            color:  #000000;\n",
       "        }    #T_50aa775a_a4ce_11eb_b6ae_8091333da24arow17_col2 {\n",
       "            background-color:  #b8b45f;\n",
       "            color:  #000000;\n",
       "        }    #T_50aa775a_a4ce_11eb_b6ae_8091333da24arow17_col3 {\n",
       "            background-color:  #cba97e;\n",
       "            color:  #000000;\n",
       "        }    #T_50aa775a_a4ce_11eb_b6ae_8091333da24arow17_col4 {\n",
       "            background-color:  #cdaa82;\n",
       "            color:  #000000;\n",
       "        }    #T_50aa775a_a4ce_11eb_b6ae_8091333da24arow18_col1 {\n",
       "            background-color:  #0c1976;\n",
       "            color:  #f1f1f1;\n",
       "        }    #T_50aa775a_a4ce_11eb_b6ae_8091333da24arow18_col2 {\n",
       "            background-color:  #163b79;\n",
       "            color:  #f1f1f1;\n",
       "        }    #T_50aa775a_a4ce_11eb_b6ae_8091333da24arow18_col3 {\n",
       "            background-color:  #000000;\n",
       "            color:  #f1f1f1;\n",
       "        }    #T_50aa775a_a4ce_11eb_b6ae_8091333da24arow18_col4 {\n",
       "            background-color:  #d1ae8c;\n",
       "            color:  #000000;\n",
       "        }    #T_50aa775a_a4ce_11eb_b6ae_8091333da24arow19_col1 {\n",
       "            background-color:  #fbf5f5;\n",
       "            color:  #000000;\n",
       "        }    #T_50aa775a_a4ce_11eb_b6ae_8091333da24arow19_col2 {\n",
       "            background-color:  #fbf5f5;\n",
       "            color:  #000000;\n",
       "        }    #T_50aa775a_a4ce_11eb_b6ae_8091333da24arow19_col3 {\n",
       "            background-color:  #fdfbfb;\n",
       "            color:  #000000;\n",
       "        }    #T_50aa775a_a4ce_11eb_b6ae_8091333da24arow19_col4 {\n",
       "            background-color:  #d6b196;\n",
       "            color:  #000000;\n",
       "        }    #T_50aa775a_a4ce_11eb_b6ae_8091333da24arow20_col1 {\n",
       "            background-color:  #fdfbfb;\n",
       "            color:  #000000;\n",
       "        }    #T_50aa775a_a4ce_11eb_b6ae_8091333da24arow20_col2 {\n",
       "            background-color:  #fdfbfb;\n",
       "            color:  #000000;\n",
       "        }    #T_50aa775a_a4ce_11eb_b6ae_8091333da24arow20_col3 {\n",
       "            background-color:  #fdfbfb;\n",
       "            color:  #000000;\n",
       "        }    #T_50aa775a_a4ce_11eb_b6ae_8091333da24arow20_col4 {\n",
       "            background-color:  #dab7a0;\n",
       "            color:  #000000;\n",
       "        }    #T_50aa775a_a4ce_11eb_b6ae_8091333da24arow21_col1 {\n",
       "            background-color:  #fdfbfb;\n",
       "            color:  #000000;\n",
       "        }    #T_50aa775a_a4ce_11eb_b6ae_8091333da24arow21_col2 {\n",
       "            background-color:  #fdfbfb;\n",
       "            color:  #000000;\n",
       "        }    #T_50aa775a_a4ce_11eb_b6ae_8091333da24arow21_col3 {\n",
       "            background-color:  #fdfbfb;\n",
       "            color:  #000000;\n",
       "        }    #T_50aa775a_a4ce_11eb_b6ae_8091333da24arow21_col4 {\n",
       "            background-color:  #ddb9a5;\n",
       "            color:  #000000;\n",
       "        }    #T_50aa775a_a4ce_11eb_b6ae_8091333da24arow22_col1 {\n",
       "            background-color:  #bdaa63;\n",
       "            color:  #000000;\n",
       "        }    #T_50aa775a_a4ce_11eb_b6ae_8091333da24arow22_col2 {\n",
       "            background-color:  #bcac62;\n",
       "            color:  #000000;\n",
       "        }    #T_50aa775a_a4ce_11eb_b6ae_8091333da24arow22_col3 {\n",
       "            background-color:  #f9efef;\n",
       "            color:  #000000;\n",
       "        }    #T_50aa775a_a4ce_11eb_b6ae_8091333da24arow22_col4 {\n",
       "            background-color:  #debba7;\n",
       "            color:  #000000;\n",
       "        }    #T_50aa775a_a4ce_11eb_b6ae_8091333da24arow23_col1 {\n",
       "            background-color:  #f9efef;\n",
       "            color:  #000000;\n",
       "        }    #T_50aa775a_a4ce_11eb_b6ae_8091333da24arow23_col2 {\n",
       "            background-color:  #f9efef;\n",
       "            color:  #000000;\n",
       "        }    #T_50aa775a_a4ce_11eb_b6ae_8091333da24arow23_col3 {\n",
       "            background-color:  #fdfbfb;\n",
       "            color:  #000000;\n",
       "        }    #T_50aa775a_a4ce_11eb_b6ae_8091333da24arow23_col4 {\n",
       "            background-color:  #debba7;\n",
       "            color:  #000000;\n",
       "        }    #T_50aa775a_a4ce_11eb_b6ae_8091333da24arow24_col1 {\n",
       "            background-color:  #ceab85;\n",
       "            color:  #000000;\n",
       "        }    #T_50aa775a_a4ce_11eb_b6ae_8091333da24arow24_col2 {\n",
       "            background-color:  #ceab85;\n",
       "            color:  #000000;\n",
       "        }    #T_50aa775a_a4ce_11eb_b6ae_8091333da24arow24_col3 {\n",
       "            background-color:  #e3c3b6;\n",
       "            color:  #000000;\n",
       "        }    #T_50aa775a_a4ce_11eb_b6ae_8091333da24arow24_col4 {\n",
       "            background-color:  #e1bfb0;\n",
       "            color:  #000000;\n",
       "        }    #T_50aa775a_a4ce_11eb_b6ae_8091333da24arow25_col1 {\n",
       "            background-color:  #348576;\n",
       "            color:  #000000;\n",
       "        }    #T_50aa775a_a4ce_11eb_b6ae_8091333da24arow25_col2 {\n",
       "            background-color:  #338477;\n",
       "            color:  #000000;\n",
       "        }    #T_50aa775a_a4ce_11eb_b6ae_8091333da24arow25_col3 {\n",
       "            background-color:  #c7a676;\n",
       "            color:  #000000;\n",
       "        }    #T_50aa775a_a4ce_11eb_b6ae_8091333da24arow25_col4 {\n",
       "            background-color:  #e2c1b3;\n",
       "            color:  #000000;\n",
       "        }    #T_50aa775a_a4ce_11eb_b6ae_8091333da24arow26_col1 {\n",
       "            background-color:  #fdfbfb;\n",
       "            color:  #000000;\n",
       "        }    #T_50aa775a_a4ce_11eb_b6ae_8091333da24arow26_col2 {\n",
       "            background-color:  #fdfbfb;\n",
       "            color:  #000000;\n",
       "        }    #T_50aa775a_a4ce_11eb_b6ae_8091333da24arow26_col3 {\n",
       "            background-color:  #fdfbfb;\n",
       "            color:  #000000;\n",
       "        }    #T_50aa775a_a4ce_11eb_b6ae_8091333da24arow26_col4 {\n",
       "            background-color:  #e4c5b9;\n",
       "            color:  #000000;\n",
       "        }    #T_50aa775a_a4ce_11eb_b6ae_8091333da24arow27_col1 {\n",
       "            background-color:  #000000;\n",
       "            color:  #f1f1f1;\n",
       "        }    #T_50aa775a_a4ce_11eb_b6ae_8091333da24arow27_col2 {\n",
       "            background-color:  #000000;\n",
       "            color:  #f1f1f1;\n",
       "        }    #T_50aa775a_a4ce_11eb_b6ae_8091333da24arow27_col3 {\n",
       "            background-color:  #a0b15a;\n",
       "            color:  #000000;\n",
       "        }    #T_50aa775a_a4ce_11eb_b6ae_8091333da24arow27_col4 {\n",
       "            background-color:  #e6c7bc;\n",
       "            color:  #000000;\n",
       "        }    #T_50aa775a_a4ce_11eb_b6ae_8091333da24arow28_col1 {\n",
       "            background-color:  #e7c9bf;\n",
       "            color:  #000000;\n",
       "        }    #T_50aa775a_a4ce_11eb_b6ae_8091333da24arow28_col2 {\n",
       "            background-color:  #e8cbc2;\n",
       "            color:  #000000;\n",
       "        }    #T_50aa775a_a4ce_11eb_b6ae_8091333da24arow28_col3 {\n",
       "            background-color:  #f0dad7;\n",
       "            color:  #000000;\n",
       "        }    #T_50aa775a_a4ce_11eb_b6ae_8091333da24arow28_col4 {\n",
       "            background-color:  #e7c9bf;\n",
       "            color:  #000000;\n",
       "        }    #T_50aa775a_a4ce_11eb_b6ae_8091333da24arow29_col1 {\n",
       "            background-color:  #f3e1e0;\n",
       "            color:  #000000;\n",
       "        }    #T_50aa775a_a4ce_11eb_b6ae_8091333da24arow29_col2 {\n",
       "            background-color:  #f3e1e0;\n",
       "            color:  #000000;\n",
       "        }    #T_50aa775a_a4ce_11eb_b6ae_8091333da24arow29_col3 {\n",
       "            background-color:  #fcf8f8;\n",
       "            color:  #000000;\n",
       "        }    #T_50aa775a_a4ce_11eb_b6ae_8091333da24arow29_col4 {\n",
       "            background-color:  #e9cdc5;\n",
       "            color:  #000000;\n",
       "        }    #T_50aa775a_a4ce_11eb_b6ae_8091333da24arow30_col1 {\n",
       "            background-color:  #4a9b46;\n",
       "            color:  #000000;\n",
       "        }    #T_50aa775a_a4ce_11eb_b6ae_8091333da24arow30_col2 {\n",
       "            background-color:  #479a47;\n",
       "            color:  #000000;\n",
       "        }    #T_50aa775a_a4ce_11eb_b6ae_8091333da24arow30_col3 {\n",
       "            background-color:  #cdaa82;\n",
       "            color:  #000000;\n",
       "        }    #T_50aa775a_a4ce_11eb_b6ae_8091333da24arow30_col4 {\n",
       "            background-color:  #eacfc8;\n",
       "            color:  #000000;\n",
       "        }    #T_50aa775a_a4ce_11eb_b6ae_8091333da24arow31_col1 {\n",
       "            background-color:  #f3e1e0;\n",
       "            color:  #000000;\n",
       "        }    #T_50aa775a_a4ce_11eb_b6ae_8091333da24arow31_col2 {\n",
       "            background-color:  #f2dedd;\n",
       "            color:  #000000;\n",
       "        }    #T_50aa775a_a4ce_11eb_b6ae_8091333da24arow31_col3 {\n",
       "            background-color:  #fdfbfb;\n",
       "            color:  #000000;\n",
       "        }    #T_50aa775a_a4ce_11eb_b6ae_8091333da24arow31_col4 {\n",
       "            background-color:  #ecd3ce;\n",
       "            color:  #000000;\n",
       "        }    #T_50aa775a_a4ce_11eb_b6ae_8091333da24arow32_col1 {\n",
       "            background-color:  #cba97e;\n",
       "            color:  #000000;\n",
       "        }    #T_50aa775a_a4ce_11eb_b6ae_8091333da24arow32_col2 {\n",
       "            background-color:  #ccaa80;\n",
       "            color:  #000000;\n",
       "        }    #T_50aa775a_a4ce_11eb_b6ae_8091333da24arow32_col3 {\n",
       "            background-color:  #e2c1b3;\n",
       "            color:  #000000;\n",
       "        }    #T_50aa775a_a4ce_11eb_b6ae_8091333da24arow32_col4 {\n",
       "            background-color:  #edd5d1;\n",
       "            color:  #000000;\n",
       "        }</style><table id=\"T_50aa775a_a4ce_11eb_b6ae_8091333da24a\" ><thead>    <tr>        <th class=\"blank level0\" ></th>        <th class=\"col_heading level0 col0\" >State</th>        <th class=\"col_heading level0 col1\" >TotalSamples</th>        <th class=\"col_heading level0 col2\" >Negative</th>        <th class=\"col_heading level0 col3\" >Positive</th>        <th class=\"col_heading level0 col4\" >Positive_percentage</th>    </tr></thead><tbody>\n",
       "                <tr>\n",
       "                        <th id=\"T_50aa775a_a4ce_11eb_b6ae_8091333da24alevel0_row0\" class=\"row_heading level0 row0\" >0</th>\n",
       "                        <td id=\"T_50aa775a_a4ce_11eb_b6ae_8091333da24arow0_col0\" class=\"data row0 col0\" >Andaman and Nicobar Islands</td>\n",
       "                        <td id=\"T_50aa775a_a4ce_11eb_b6ae_8091333da24arow0_col1\" class=\"data row0 col1\" >3754.000000</td>\n",
       "                        <td id=\"T_50aa775a_a4ce_11eb_b6ae_8091333da24arow0_col2\" class=\"data row0 col2\" >3721.000000</td>\n",
       "                        <td id=\"T_50aa775a_a4ce_11eb_b6ae_8091333da24arow0_col3\" class=\"data row0 col3\" >33.000000</td>\n",
       "                        <td id=\"T_50aa775a_a4ce_11eb_b6ae_8091333da24arow0_col4\" class=\"data row0 col4\" >0.855310</td>\n",
       "            </tr>\n",
       "            <tr>\n",
       "                        <th id=\"T_50aa775a_a4ce_11eb_b6ae_8091333da24alevel0_row1\" class=\"row_heading level0 row1\" >1</th>\n",
       "                        <td id=\"T_50aa775a_a4ce_11eb_b6ae_8091333da24arow1_col0\" class=\"data row1 col0\" >Andhra Pradesh</td>\n",
       "                        <td id=\"T_50aa775a_a4ce_11eb_b6ae_8091333da24arow1_col1\" class=\"data row1 col1\" >173735.000000</td>\n",
       "                        <td id=\"T_50aa775a_a4ce_11eb_b6ae_8091333da24arow1_col2\" class=\"data row1 col2\" >171755.000000</td>\n",
       "                        <td id=\"T_50aa775a_a4ce_11eb_b6ae_8091333da24arow1_col3\" class=\"data row1 col3\" >1980.000000</td>\n",
       "                        <td id=\"T_50aa775a_a4ce_11eb_b6ae_8091333da24arow1_col4\" class=\"data row1 col4\" >1.007839</td>\n",
       "            </tr>\n",
       "            <tr>\n",
       "                        <th id=\"T_50aa775a_a4ce_11eb_b6ae_8091333da24alevel0_row2\" class=\"row_heading level0 row2\" >2</th>\n",
       "                        <td id=\"T_50aa775a_a4ce_11eb_b6ae_8091333da24arow2_col0\" class=\"data row2 col0\" >Arunachal Pradesh</td>\n",
       "                        <td id=\"T_50aa775a_a4ce_11eb_b6ae_8091333da24arow2_col1\" class=\"data row2 col1\" >1823.000000</td>\n",
       "                        <td id=\"T_50aa775a_a4ce_11eb_b6ae_8091333da24arow2_col2\" class=\"data row2 col2\" >1821.000000</td>\n",
       "                        <td id=\"T_50aa775a_a4ce_11eb_b6ae_8091333da24arow2_col3\" class=\"data row2 col3\" >2.000000</td>\n",
       "                        <td id=\"T_50aa775a_a4ce_11eb_b6ae_8091333da24arow2_col4\" class=\"data row2 col4\" >1.158708</td>\n",
       "            </tr>\n",
       "            <tr>\n",
       "                        <th id=\"T_50aa775a_a4ce_11eb_b6ae_8091333da24alevel0_row3\" class=\"row_heading level0 row3\" >3</th>\n",
       "                        <td id=\"T_50aa775a_a4ce_11eb_b6ae_8091333da24arow3_col0\" class=\"data row3 col0\" >Assam</td>\n",
       "                        <td id=\"T_50aa775a_a4ce_11eb_b6ae_8091333da24arow3_col1\" class=\"data row3 col1\" >18002.000000</td>\n",
       "                        <td id=\"T_50aa775a_a4ce_11eb_b6ae_8091333da24arow3_col2\" class=\"data row3 col2\" >17940.000000</td>\n",
       "                        <td id=\"T_50aa775a_a4ce_11eb_b6ae_8091333da24arow3_col3\" class=\"data row3 col3\" >62.000000</td>\n",
       "                        <td id=\"T_50aa775a_a4ce_11eb_b6ae_8091333da24arow3_col4\" class=\"data row3 col4\" >0.879062</td>\n",
       "            </tr>\n",
       "            <tr>\n",
       "                        <th id=\"T_50aa775a_a4ce_11eb_b6ae_8091333da24alevel0_row4\" class=\"row_heading level0 row4\" >4</th>\n",
       "                        <td id=\"T_50aa775a_a4ce_11eb_b6ae_8091333da24arow4_col0\" class=\"data row4 col0\" >Bihar</td>\n",
       "                        <td id=\"T_50aa775a_a4ce_11eb_b6ae_8091333da24arow4_col1\" class=\"data row4 col1\" >36053.000000</td>\n",
       "                        <td id=\"T_50aa775a_a4ce_11eb_b6ae_8091333da24arow4_col2\" class=\"data row4 col2\" >35346.000000</td>\n",
       "                        <td id=\"T_50aa775a_a4ce_11eb_b6ae_8091333da24arow4_col3\" class=\"data row4 col3\" >707.000000</td>\n",
       "                        <td id=\"T_50aa775a_a4ce_11eb_b6ae_8091333da24arow4_col4\" class=\"data row4 col4\" >7.333333</td>\n",
       "            </tr>\n",
       "            <tr>\n",
       "                        <th id=\"T_50aa775a_a4ce_11eb_b6ae_8091333da24alevel0_row5\" class=\"row_heading level0 row5\" >5</th>\n",
       "                        <td id=\"T_50aa775a_a4ce_11eb_b6ae_8091333da24arow5_col0\" class=\"data row5 col0\" >Chandigarh</td>\n",
       "                        <td id=\"T_50aa775a_a4ce_11eb_b6ae_8091333da24arow5_col1\" class=\"data row5 col1\" >2142.000000</td>\n",
       "                        <td id=\"T_50aa775a_a4ce_11eb_b6ae_8091333da24arow5_col2\" class=\"data row5 col2\" >1969.000000</td>\n",
       "                        <td id=\"T_50aa775a_a4ce_11eb_b6ae_8091333da24arow5_col3\" class=\"data row5 col3\" >173.000000</td>\n",
       "                        <td id=\"T_50aa775a_a4ce_11eb_b6ae_8091333da24arow5_col4\" class=\"data row5 col4\" >5.726388</td>\n",
       "            </tr>\n",
       "            <tr>\n",
       "                        <th id=\"T_50aa775a_a4ce_11eb_b6ae_8091333da24alevel0_row6\" class=\"row_heading level0 row6\" >6</th>\n",
       "                        <td id=\"T_50aa775a_a4ce_11eb_b6ae_8091333da24arow6_col0\" class=\"data row6 col0\" >Chhattisgarh</td>\n",
       "                        <td id=\"T_50aa775a_a4ce_11eb_b6ae_8091333da24arow6_col1\" class=\"data row6 col1\" >25282.000000</td>\n",
       "                        <td id=\"T_50aa775a_a4ce_11eb_b6ae_8091333da24arow6_col2\" class=\"data row6 col2\" >25223.000000</td>\n",
       "                        <td id=\"T_50aa775a_a4ce_11eb_b6ae_8091333da24arow6_col3\" class=\"data row6 col3\" >59.000000</td>\n",
       "                        <td id=\"T_50aa775a_a4ce_11eb_b6ae_8091333da24arow6_col4\" class=\"data row6 col4\" >5.475711</td>\n",
       "            </tr>\n",
       "            <tr>\n",
       "                        <th id=\"T_50aa775a_a4ce_11eb_b6ae_8091333da24alevel0_row7\" class=\"row_heading level0 row7\" >7</th>\n",
       "                        <td id=\"T_50aa775a_a4ce_11eb_b6ae_8091333da24arow7_col0\" class=\"data row7 col0\" >Delhi</td>\n",
       "                        <td id=\"T_50aa775a_a4ce_11eb_b6ae_8091333da24arow7_col1\" class=\"data row7 col1\" >97678.000000</td>\n",
       "                        <td id=\"T_50aa775a_a4ce_11eb_b6ae_8091333da24arow7_col2\" class=\"data row7 col2\" >90445.000000</td>\n",
       "                        <td id=\"T_50aa775a_a4ce_11eb_b6ae_8091333da24arow7_col3\" class=\"data row7 col3\" >7233.000000</td>\n",
       "                        <td id=\"T_50aa775a_a4ce_11eb_b6ae_8091333da24arow7_col4\" class=\"data row7 col4\" >5.820638</td>\n",
       "            </tr>\n",
       "            <tr>\n",
       "                        <th id=\"T_50aa775a_a4ce_11eb_b6ae_8091333da24alevel0_row8\" class=\"row_heading level0 row8\" >8</th>\n",
       "                        <td id=\"T_50aa775a_a4ce_11eb_b6ae_8091333da24arow8_col0\" class=\"data row8 col0\" >Goa</td>\n",
       "                        <td id=\"T_50aa775a_a4ce_11eb_b6ae_8091333da24arow8_col1\" class=\"data row8 col1\" >4848.000000</td>\n",
       "                        <td id=\"T_50aa775a_a4ce_11eb_b6ae_8091333da24arow8_col2\" class=\"data row8 col2\" >4841.000000</td>\n",
       "                        <td id=\"T_50aa775a_a4ce_11eb_b6ae_8091333da24arow8_col3\" class=\"data row8 col3\" >7.000000</td>\n",
       "                        <td id=\"T_50aa775a_a4ce_11eb_b6ae_8091333da24arow8_col4\" class=\"data row8 col4\" >4.934323</td>\n",
       "            </tr>\n",
       "            <tr>\n",
       "                        <th id=\"T_50aa775a_a4ce_11eb_b6ae_8091333da24alevel0_row9\" class=\"row_heading level0 row9\" >9</th>\n",
       "                        <td id=\"T_50aa775a_a4ce_11eb_b6ae_8091333da24arow9_col0\" class=\"data row9 col0\" >Gujarat</td>\n",
       "                        <td id=\"T_50aa775a_a4ce_11eb_b6ae_8091333da24arow9_col1\" class=\"data row9 col1\" >113493.000000</td>\n",
       "                        <td id=\"T_50aa775a_a4ce_11eb_b6ae_8091333da24arow9_col2\" class=\"data row9 col2\" >105298.000000</td>\n",
       "                        <td id=\"T_50aa775a_a4ce_11eb_b6ae_8091333da24arow9_col3\" class=\"data row9 col3\" >8195.000000</td>\n",
       "                        <td id=\"T_50aa775a_a4ce_11eb_b6ae_8091333da24arow9_col4\" class=\"data row9 col4\" >4.502618</td>\n",
       "            </tr>\n",
       "            <tr>\n",
       "                        <th id=\"T_50aa775a_a4ce_11eb_b6ae_8091333da24alevel0_row10\" class=\"row_heading level0 row10\" >10</th>\n",
       "                        <td id=\"T_50aa775a_a4ce_11eb_b6ae_8091333da24arow10_col0\" class=\"data row10 col0\" >Haryana</td>\n",
       "                        <td id=\"T_50aa775a_a4ce_11eb_b6ae_8091333da24arow10_col1\" class=\"data row10 col1\" >56983.000000</td>\n",
       "                        <td id=\"T_50aa775a_a4ce_11eb_b6ae_8091333da24arow10_col2\" class=\"data row10 col2\" >56280.000000</td>\n",
       "                        <td id=\"T_50aa775a_a4ce_11eb_b6ae_8091333da24arow10_col3\" class=\"data row10 col3\" >703.000000</td>\n",
       "                        <td id=\"T_50aa775a_a4ce_11eb_b6ae_8091333da24arow10_col4\" class=\"data row10 col4\" >4.520796</td>\n",
       "            </tr>\n",
       "            <tr>\n",
       "                        <th id=\"T_50aa775a_a4ce_11eb_b6ae_8091333da24alevel0_row11\" class=\"row_heading level0 row11\" >11</th>\n",
       "                        <td id=\"T_50aa775a_a4ce_11eb_b6ae_8091333da24arow11_col0\" class=\"data row11 col0\" >Himachal Pradesh</td>\n",
       "                        <td id=\"T_50aa775a_a4ce_11eb_b6ae_8091333da24arow11_col1\" class=\"data row11 col1\" >10791.000000</td>\n",
       "                        <td id=\"T_50aa775a_a4ce_11eb_b6ae_8091333da24arow11_col2\" class=\"data row11 col2\" >10736.000000</td>\n",
       "                        <td id=\"T_50aa775a_a4ce_11eb_b6ae_8091333da24arow11_col3\" class=\"data row11 col3\" >55.000000</td>\n",
       "                        <td id=\"T_50aa775a_a4ce_11eb_b6ae_8091333da24arow11_col4\" class=\"data row11 col4\" >2.638992</td>\n",
       "            </tr>\n",
       "            <tr>\n",
       "                        <th id=\"T_50aa775a_a4ce_11eb_b6ae_8091333da24alevel0_row12\" class=\"row_heading level0 row12\" >12</th>\n",
       "                        <td id=\"T_50aa775a_a4ce_11eb_b6ae_8091333da24arow12_col0\" class=\"data row12 col0\" >Jammu and Kashmir</td>\n",
       "                        <td id=\"T_50aa775a_a4ce_11eb_b6ae_8091333da24arow12_col1\" class=\"data row12 col1\" >47080.000000</td>\n",
       "                        <td id=\"T_50aa775a_a4ce_11eb_b6ae_8091333da24arow12_col2\" class=\"data row12 col2\" >46219.000000</td>\n",
       "                        <td id=\"T_50aa775a_a4ce_11eb_b6ae_8091333da24arow12_col3\" class=\"data row12 col3\" >861.000000</td>\n",
       "                        <td id=\"T_50aa775a_a4ce_11eb_b6ae_8091333da24arow12_col4\" class=\"data row12 col4\" >2.826785</td>\n",
       "            </tr>\n",
       "            <tr>\n",
       "                        <th id=\"T_50aa775a_a4ce_11eb_b6ae_8091333da24alevel0_row13\" class=\"row_heading level0 row13\" >13</th>\n",
       "                        <td id=\"T_50aa775a_a4ce_11eb_b6ae_8091333da24arow13_col0\" class=\"data row13 col0\" >Jharkhand</td>\n",
       "                        <td id=\"T_50aa775a_a4ce_11eb_b6ae_8091333da24arow13_col1\" class=\"data row13 col1\" >20832.000000</td>\n",
       "                        <td id=\"T_50aa775a_a4ce_11eb_b6ae_8091333da24arow13_col2\" class=\"data row13 col2\" >20675.000000</td>\n",
       "                        <td id=\"T_50aa775a_a4ce_11eb_b6ae_8091333da24arow13_col3\" class=\"data row13 col3\" >157.000000</td>\n",
       "                        <td id=\"T_50aa775a_a4ce_11eb_b6ae_8091333da24arow13_col4\" class=\"data row13 col4\" >2.811189</td>\n",
       "            </tr>\n",
       "            <tr>\n",
       "                        <th id=\"T_50aa775a_a4ce_11eb_b6ae_8091333da24alevel0_row14\" class=\"row_heading level0 row14\" >14</th>\n",
       "                        <td id=\"T_50aa775a_a4ce_11eb_b6ae_8091333da24arow14_col0\" class=\"data row14 col0\" >Karnataka</td>\n",
       "                        <td id=\"T_50aa775a_a4ce_11eb_b6ae_8091333da24arow14_col1\" class=\"data row14 col1\" >107311.000000</td>\n",
       "                        <td id=\"T_50aa775a_a4ce_11eb_b6ae_8091333da24arow14_col2\" class=\"data row14 col2\" >106463.000000</td>\n",
       "                        <td id=\"T_50aa775a_a4ce_11eb_b6ae_8091333da24arow14_col3\" class=\"data row14 col3\" >848.000000</td>\n",
       "                        <td id=\"T_50aa775a_a4ce_11eb_b6ae_8091333da24arow14_col4\" class=\"data row14 col4\" >2.400030</td>\n",
       "            </tr>\n",
       "            <tr>\n",
       "                        <th id=\"T_50aa775a_a4ce_11eb_b6ae_8091333da24alevel0_row15\" class=\"row_heading level0 row15\" >15</th>\n",
       "                        <td id=\"T_50aa775a_a4ce_11eb_b6ae_8091333da24arow15_col0\" class=\"data row15 col0\" >Kerala</td>\n",
       "                        <td id=\"T_50aa775a_a4ce_11eb_b6ae_8091333da24arow15_col1\" class=\"data row15 col1\" >37464.000000</td>\n",
       "                        <td id=\"T_50aa775a_a4ce_11eb_b6ae_8091333da24arow15_col2\" class=\"data row15 col2\" >36952.000000</td>\n",
       "                        <td id=\"T_50aa775a_a4ce_11eb_b6ae_8091333da24arow15_col3\" class=\"data row15 col3\" >512.000000</td>\n",
       "                        <td id=\"T_50aa775a_a4ce_11eb_b6ae_8091333da24arow15_col4\" class=\"data row15 col4\" >2.349266</td>\n",
       "            </tr>\n",
       "            <tr>\n",
       "                        <th id=\"T_50aa775a_a4ce_11eb_b6ae_8091333da24alevel0_row16\" class=\"row_heading level0 row16\" >16</th>\n",
       "                        <td id=\"T_50aa775a_a4ce_11eb_b6ae_8091333da24arow16_col0\" class=\"data row16 col0\" >Ladakh</td>\n",
       "                        <td id=\"T_50aa775a_a4ce_11eb_b6ae_8091333da24arow16_col1\" class=\"data row16 col1\" >3503.000000</td>\n",
       "                        <td id=\"T_50aa775a_a4ce_11eb_b6ae_8091333da24arow16_col2\" class=\"data row16 col2\" >3461.000000</td>\n",
       "                        <td id=\"T_50aa775a_a4ce_11eb_b6ae_8091333da24arow16_col3\" class=\"data row16 col3\" >42.000000</td>\n",
       "                        <td id=\"T_50aa775a_a4ce_11eb_b6ae_8091333da24arow16_col4\" class=\"data row16 col4\" >2.117186</td>\n",
       "            </tr>\n",
       "            <tr>\n",
       "                        <th id=\"T_50aa775a_a4ce_11eb_b6ae_8091333da24alevel0_row17\" class=\"row_heading level0 row17\" >17</th>\n",
       "                        <td id=\"T_50aa775a_a4ce_11eb_b6ae_8091333da24arow17_col0\" class=\"data row17 col0\" >Madhya Pradesh</td>\n",
       "                        <td id=\"T_50aa775a_a4ce_11eb_b6ae_8091333da24arow17_col1\" class=\"data row17 col1\" >72069.000000</td>\n",
       "                        <td id=\"T_50aa775a_a4ce_11eb_b6ae_8091333da24arow17_col2\" class=\"data row17 col2\" >68455.000000</td>\n",
       "                        <td id=\"T_50aa775a_a4ce_11eb_b6ae_8091333da24arow17_col3\" class=\"data row17 col3\" >3614.000000</td>\n",
       "                        <td id=\"T_50aa775a_a4ce_11eb_b6ae_8091333da24arow17_col4\" class=\"data row17 col4\" >1.958470</td>\n",
       "            </tr>\n",
       "            <tr>\n",
       "                        <th id=\"T_50aa775a_a4ce_11eb_b6ae_8091333da24alevel0_row18\" class=\"row_heading level0 row18\" >18</th>\n",
       "                        <td id=\"T_50aa775a_a4ce_11eb_b6ae_8091333da24arow18_col0\" class=\"data row18 col0\" >Maharashtra</td>\n",
       "                        <td id=\"T_50aa775a_a4ce_11eb_b6ae_8091333da24arow18_col1\" class=\"data row18 col1\" >225524.000000</td>\n",
       "                        <td id=\"T_50aa775a_a4ce_11eb_b6ae_8091333da24arow18_col2\" class=\"data row18 col2\" >205296.000000</td>\n",
       "                        <td id=\"T_50aa775a_a4ce_11eb_b6ae_8091333da24arow18_col3\" class=\"data row18 col3\" >20228.000000</td>\n",
       "                        <td id=\"T_50aa775a_a4ce_11eb_b6ae_8091333da24arow18_col4\" class=\"data row18 col4\" >1.859177</td>\n",
       "            </tr>\n",
       "            <tr>\n",
       "                        <th id=\"T_50aa775a_a4ce_11eb_b6ae_8091333da24alevel0_row19\" class=\"row_heading level0 row19\" >19</th>\n",
       "                        <td id=\"T_50aa775a_a4ce_11eb_b6ae_8091333da24arow19_col0\" class=\"data row19 col0\" >Meghalaya</td>\n",
       "                        <td id=\"T_50aa775a_a4ce_11eb_b6ae_8091333da24arow19_col1\" class=\"data row19 col1\" >2287.000000</td>\n",
       "                        <td id=\"T_50aa775a_a4ce_11eb_b6ae_8091333da24arow19_col2\" class=\"data row19 col2\" >2275.000000</td>\n",
       "                        <td id=\"T_50aa775a_a4ce_11eb_b6ae_8091333da24arow19_col3\" class=\"data row19 col3\" >13.000000</td>\n",
       "                        <td id=\"T_50aa775a_a4ce_11eb_b6ae_8091333da24arow19_col4\" class=\"data row19 col4\" >1.757518</td>\n",
       "            </tr>\n",
       "            <tr>\n",
       "                        <th id=\"T_50aa775a_a4ce_11eb_b6ae_8091333da24alevel0_row20\" class=\"row_heading level0 row20\" >20</th>\n",
       "                        <td id=\"T_50aa775a_a4ce_11eb_b6ae_8091333da24arow20_col0\" class=\"data row20 col0\" >Mizoram</td>\n",
       "                        <td id=\"T_50aa775a_a4ce_11eb_b6ae_8091333da24arow20_col1\" class=\"data row20 col1\" >201.000000</td>\n",
       "                        <td id=\"T_50aa775a_a4ce_11eb_b6ae_8091333da24arow20_col2\" class=\"data row20 col2\" >200.000000</td>\n",
       "                        <td id=\"T_50aa775a_a4ce_11eb_b6ae_8091333da24arow20_col3\" class=\"data row20 col3\" >1.000000</td>\n",
       "                        <td id=\"T_50aa775a_a4ce_11eb_b6ae_8091333da24arow20_col4\" class=\"data row20 col4\" >1.658342</td>\n",
       "            </tr>\n",
       "            <tr>\n",
       "                        <th id=\"T_50aa775a_a4ce_11eb_b6ae_8091333da24alevel0_row21\" class=\"row_heading level0 row21\" >21</th>\n",
       "                        <td id=\"T_50aa775a_a4ce_11eb_b6ae_8091333da24arow21_col0\" class=\"data row21 col0\" >Nagaland</td>\n",
       "                        <td id=\"T_50aa775a_a4ce_11eb_b6ae_8091333da24arow21_col1\" class=\"data row21 col1\" >862.000000</td>\n",
       "                        <td id=\"T_50aa775a_a4ce_11eb_b6ae_8091333da24arow21_col2\" class=\"data row21 col2\" >862.000000</td>\n",
       "                        <td id=\"T_50aa775a_a4ce_11eb_b6ae_8091333da24arow21_col3\" class=\"data row21 col3\" >0.000000</td>\n",
       "                        <td id=\"T_50aa775a_a4ce_11eb_b6ae_8091333da24arow21_col4\" class=\"data row21 col4\" >1.612429</td>\n",
       "            </tr>\n",
       "            <tr>\n",
       "                        <th id=\"T_50aa775a_a4ce_11eb_b6ae_8091333da24alevel0_row22\" class=\"row_heading level0 row22\" >22</th>\n",
       "                        <td id=\"T_50aa775a_a4ce_11eb_b6ae_8091333da24arow22_col0\" class=\"data row22 col0\" >Odisha</td>\n",
       "                        <td id=\"T_50aa775a_a4ce_11eb_b6ae_8091333da24arow22_col1\" class=\"data row22 col1\" >59780.000000</td>\n",
       "                        <td id=\"T_50aa775a_a4ce_11eb_b6ae_8091333da24arow22_col2\" class=\"data row22 col2\" >59418.000000</td>\n",
       "                        <td id=\"T_50aa775a_a4ce_11eb_b6ae_8091333da24arow22_col3\" class=\"data row22 col3\" >362.000000</td>\n",
       "                        <td id=\"T_50aa775a_a4ce_11eb_b6ae_8091333da24arow22_col4\" class=\"data row22 col4\" >1.578785</td>\n",
       "            </tr>\n",
       "            <tr>\n",
       "                        <th id=\"T_50aa775a_a4ce_11eb_b6ae_8091333da24alevel0_row23\" class=\"row_heading level0 row23\" >23</th>\n",
       "                        <td id=\"T_50aa775a_a4ce_11eb_b6ae_8091333da24arow23_col0\" class=\"data row23 col0\" >Puducherry</td>\n",
       "                        <td id=\"T_50aa775a_a4ce_11eb_b6ae_8091333da24arow23_col1\" class=\"data row23 col1\" >4364.000000</td>\n",
       "                        <td id=\"T_50aa775a_a4ce_11eb_b6ae_8091333da24arow23_col2\" class=\"data row23 col2\" >4347.000000</td>\n",
       "                        <td id=\"T_50aa775a_a4ce_11eb_b6ae_8091333da24arow23_col3\" class=\"data row23 col3\" >17.000000</td>\n",
       "                        <td id=\"T_50aa775a_a4ce_11eb_b6ae_8091333da24arow23_col4\" class=\"data row23 col4\" >1.567207</td>\n",
       "            </tr>\n",
       "            <tr>\n",
       "                        <th id=\"T_50aa775a_a4ce_11eb_b6ae_8091333da24alevel0_row24\" class=\"row_heading level0 row24\" >24</th>\n",
       "                        <td id=\"T_50aa775a_a4ce_11eb_b6ae_8091333da24arow24_col0\" class=\"data row24 col0\" >Punjab</td>\n",
       "                        <td id=\"T_50aa775a_a4ce_11eb_b6ae_8091333da24arow24_col1\" class=\"data row24 col1\" >40962.000000</td>\n",
       "                        <td id=\"T_50aa775a_a4ce_11eb_b6ae_8091333da24arow24_col2\" class=\"data row24 col2\" >39139.000000</td>\n",
       "                        <td id=\"T_50aa775a_a4ce_11eb_b6ae_8091333da24arow24_col3\" class=\"data row24 col3\" >1823.000000</td>\n",
       "                        <td id=\"T_50aa775a_a4ce_11eb_b6ae_8091333da24arow24_col4\" class=\"data row24 col4\" >1.512588</td>\n",
       "            </tr>\n",
       "            <tr>\n",
       "                        <th id=\"T_50aa775a_a4ce_11eb_b6ae_8091333da24alevel0_row25\" class=\"row_heading level0 row25\" >25</th>\n",
       "                        <td id=\"T_50aa775a_a4ce_11eb_b6ae_8091333da24arow25_col0\" class=\"data row25 col0\" >Rajasthan</td>\n",
       "                        <td id=\"T_50aa775a_a4ce_11eb_b6ae_8091333da24arow25_col1\" class=\"data row25 col1\" >166424.000000</td>\n",
       "                        <td id=\"T_50aa775a_a4ce_11eb_b6ae_8091333da24arow25_col2\" class=\"data row25 col2\" >162610.000000</td>\n",
       "                        <td id=\"T_50aa775a_a4ce_11eb_b6ae_8091333da24arow25_col3\" class=\"data row25 col3\" >3814.000000</td>\n",
       "                        <td id=\"T_50aa775a_a4ce_11eb_b6ae_8091333da24arow25_col4\" class=\"data row25 col4\" >1.483745</td>\n",
       "            </tr>\n",
       "            <tr>\n",
       "                        <th id=\"T_50aa775a_a4ce_11eb_b6ae_8091333da24alevel0_row26\" class=\"row_heading level0 row26\" >26</th>\n",
       "                        <td id=\"T_50aa775a_a4ce_11eb_b6ae_8091333da24arow26_col0\" class=\"data row26 col0\" >Sikkim</td>\n",
       "                        <td id=\"T_50aa775a_a4ce_11eb_b6ae_8091333da24arow26_col1\" class=\"data row26 col1\" >219.000000</td>\n",
       "                        <td id=\"T_50aa775a_a4ce_11eb_b6ae_8091333da24arow26_col2\" class=\"data row26 col2\" >219.000000</td>\n",
       "                        <td id=\"T_50aa775a_a4ce_11eb_b6ae_8091333da24arow26_col3\" class=\"data row26 col3\" >0.000000</td>\n",
       "                        <td id=\"T_50aa775a_a4ce_11eb_b6ae_8091333da24arow26_col4\" class=\"data row26 col4\" >1.427874</td>\n",
       "            </tr>\n",
       "            <tr>\n",
       "                        <th id=\"T_50aa775a_a4ce_11eb_b6ae_8091333da24alevel0_row27\" class=\"row_heading level0 row27\" >27</th>\n",
       "                        <td id=\"T_50aa775a_a4ce_11eb_b6ae_8091333da24arow27_col0\" class=\"data row27 col0\" >Tamil Nadu</td>\n",
       "                        <td id=\"T_50aa775a_a4ce_11eb_b6ae_8091333da24arow27_col1\" class=\"data row27 col1\" >243037.000000</td>\n",
       "                        <td id=\"T_50aa775a_a4ce_11eb_b6ae_8091333da24arow27_col2\" class=\"data row27 col2\" >235833.000000</td>\n",
       "                        <td id=\"T_50aa775a_a4ce_11eb_b6ae_8091333da24arow27_col3\" class=\"data row27 col3\" >7204.000000</td>\n",
       "                        <td id=\"T_50aa775a_a4ce_11eb_b6ae_8091333da24arow27_col4\" class=\"data row27 col4\" >1.406788</td>\n",
       "            </tr>\n",
       "            <tr>\n",
       "                        <th id=\"T_50aa775a_a4ce_11eb_b6ae_8091333da24alevel0_row28\" class=\"row_heading level0 row28\" >28</th>\n",
       "                        <td id=\"T_50aa775a_a4ce_11eb_b6ae_8091333da24arow28_col0\" class=\"data row28 col0\" >Telangana</td>\n",
       "                        <td id=\"T_50aa775a_a4ce_11eb_b6ae_8091333da24arow28_col1\" class=\"data row28 col1\" >19278.000000</td>\n",
       "                        <td id=\"T_50aa775a_a4ce_11eb_b6ae_8091333da24arow28_col2\" class=\"data row28 col2\" >18262.000000</td>\n",
       "                        <td id=\"T_50aa775a_a4ce_11eb_b6ae_8091333da24arow28_col3\" class=\"data row28 col3\" >1016.000000</td>\n",
       "                        <td id=\"T_50aa775a_a4ce_11eb_b6ae_8091333da24arow28_col4\" class=\"data row28 col4\" >1.377276</td>\n",
       "            </tr>\n",
       "            <tr>\n",
       "                        <th id=\"T_50aa775a_a4ce_11eb_b6ae_8091333da24alevel0_row29\" class=\"row_heading level0 row29\" >29</th>\n",
       "                        <td id=\"T_50aa775a_a4ce_11eb_b6ae_8091333da24arow29_col0\" class=\"data row29 col0\" >Tripura</td>\n",
       "                        <td id=\"T_50aa775a_a4ce_11eb_b6ae_8091333da24arow29_col1\" class=\"data row29 col1\" >9091.000000</td>\n",
       "                        <td id=\"T_50aa775a_a4ce_11eb_b6ae_8091333da24arow29_col2\" class=\"data row29 col2\" >8955.000000</td>\n",
       "                        <td id=\"T_50aa775a_a4ce_11eb_b6ae_8091333da24arow29_col3\" class=\"data row29 col3\" >136.000000</td>\n",
       "                        <td id=\"T_50aa775a_a4ce_11eb_b6ae_8091333da24arow29_col4\" class=\"data row29 col4\" >1.317586</td>\n",
       "            </tr>\n",
       "            <tr>\n",
       "                        <th id=\"T_50aa775a_a4ce_11eb_b6ae_8091333da24alevel0_row30\" class=\"row_heading level0 row30\" >30</th>\n",
       "                        <td id=\"T_50aa775a_a4ce_11eb_b6ae_8091333da24arow30_col0\" class=\"data row30 col0\" >Uttar Pradesh</td>\n",
       "                        <td id=\"T_50aa775a_a4ce_11eb_b6ae_8091333da24arow30_col1\" class=\"data row30 col1\" >129955.000000</td>\n",
       "                        <td id=\"T_50aa775a_a4ce_11eb_b6ae_8091333da24arow30_col2\" class=\"data row30 col2\" >126488.000000</td>\n",
       "                        <td id=\"T_50aa775a_a4ce_11eb_b6ae_8091333da24arow30_col3\" class=\"data row30 col3\" >3467.000000</td>\n",
       "                        <td id=\"T_50aa775a_a4ce_11eb_b6ae_8091333da24arow30_col4\" class=\"data row30 col4\" >1.286219</td>\n",
       "            </tr>\n",
       "            <tr>\n",
       "                        <th id=\"T_50aa775a_a4ce_11eb_b6ae_8091333da24alevel0_row31\" class=\"row_heading level0 row31\" >31</th>\n",
       "                        <td id=\"T_50aa775a_a4ce_11eb_b6ae_8091333da24arow31_col0\" class=\"data row31 col0\" >Uttarakhand</td>\n",
       "                        <td id=\"T_50aa775a_a4ce_11eb_b6ae_8091333da24arow31_col1\" class=\"data row31 col1\" >9668.000000</td>\n",
       "                        <td id=\"T_50aa775a_a4ce_11eb_b6ae_8091333da24arow31_col2\" class=\"data row31 col2\" >9600.000000</td>\n",
       "                        <td id=\"T_50aa775a_a4ce_11eb_b6ae_8091333da24arow31_col3\" class=\"data row31 col3\" >68.000000</td>\n",
       "                        <td id=\"T_50aa775a_a4ce_11eb_b6ae_8091333da24arow31_col4\" class=\"data row31 col4\" >1.257839</td>\n",
       "            </tr>\n",
       "            <tr>\n",
       "                        <th id=\"T_50aa775a_a4ce_11eb_b6ae_8091333da24alevel0_row32\" class=\"row_heading level0 row32\" >32</th>\n",
       "                        <td id=\"T_50aa775a_a4ce_11eb_b6ae_8091333da24arow32_col0\" class=\"data row32 col0\" >West Bengal</td>\n",
       "                        <td id=\"T_50aa775a_a4ce_11eb_b6ae_8091333da24arow32_col1\" class=\"data row32 col1\" >43414.000000</td>\n",
       "                        <td id=\"T_50aa775a_a4ce_11eb_b6ae_8091333da24arow32_col2\" class=\"data row32 col2\" >41475.000000</td>\n",
       "                        <td id=\"T_50aa775a_a4ce_11eb_b6ae_8091333da24arow32_col3\" class=\"data row32 col3\" >1939.000000</td>\n",
       "                        <td id=\"T_50aa775a_a4ce_11eb_b6ae_8091333da24arow32_col4\" class=\"data row32 col4\" >1.227228</td>\n",
       "            </tr>\n",
       "    </tbody></table>"
      ],
      "text/plain": [
       "<pandas.io.formats.style.Styler at 0x1c12e9998c8>"
      ]
     },
     "execution_count": 221,
     "metadata": {},
     "output_type": "execute_result"
    }
   ],
   "source": [
    "covid_testing_state = covid_testing.groupby('State')['TotalSamples','Negative','Positive'].max().reset_index()\n",
    "covid_testing_state[\"Positive_percentage\"] = ((covid_testing[\"Positive\"] / covid_testing[\"TotalSamples\"]) * 100)\n",
    "covid_testing_state.style.background_gradient(cmap='gist_earth_r')"
   ]
  },
  {
   "cell_type": "code",
   "execution_count": 222,
   "metadata": {},
   "outputs": [
    {
     "data": {
      "application/vnd.plotly.v1+json": {
       "config": {
        "plotlyServerURL": "https://plot.ly"
       },
       "data": [
        {
         "alignmentgroup": "True",
         "hovertemplate": "State=%{x}<br>Total Samples=%{y}<extra></extra>",
         "legendgroup": "",
         "marker": {
          "color": "rgb(41, 24, 107)"
         },
         "name": "",
         "offsetgroup": "",
         "orientation": "v",
         "showlegend": false,
         "textposition": "auto",
         "type": "bar",
         "x": [
          "Tamil Nadu",
          "Maharashtra",
          "Andhra Pradesh",
          "Rajasthan",
          "Uttar Pradesh",
          "Gujarat",
          "Karnataka",
          "Delhi",
          "Madhya Pradesh",
          "Odisha"
         ],
         "xaxis": "x",
         "y": [
          243037,
          225524,
          173735,
          166424,
          129955,
          113493,
          107311,
          97678,
          72069,
          59780
         ],
         "yaxis": "y"
        }
       ],
       "layout": {
        "barmode": "relative",
        "legend": {
         "tracegroupgap": 0
        },
        "template": {
         "data": {
          "bar": [
           {
            "error_x": {
             "color": "#2a3f5f"
            },
            "error_y": {
             "color": "#2a3f5f"
            },
            "marker": {
             "line": {
              "color": "#E5ECF6",
              "width": 0.5
             }
            },
            "type": "bar"
           }
          ],
          "barpolar": [
           {
            "marker": {
             "line": {
              "color": "#E5ECF6",
              "width": 0.5
             }
            },
            "type": "barpolar"
           }
          ],
          "carpet": [
           {
            "aaxis": {
             "endlinecolor": "#2a3f5f",
             "gridcolor": "white",
             "linecolor": "white",
             "minorgridcolor": "white",
             "startlinecolor": "#2a3f5f"
            },
            "baxis": {
             "endlinecolor": "#2a3f5f",
             "gridcolor": "white",
             "linecolor": "white",
             "minorgridcolor": "white",
             "startlinecolor": "#2a3f5f"
            },
            "type": "carpet"
           }
          ],
          "choropleth": [
           {
            "colorbar": {
             "outlinewidth": 0,
             "ticks": ""
            },
            "type": "choropleth"
           }
          ],
          "contour": [
           {
            "colorbar": {
             "outlinewidth": 0,
             "ticks": ""
            },
            "colorscale": [
             [
              0,
              "#0d0887"
             ],
             [
              0.1111111111111111,
              "#46039f"
             ],
             [
              0.2222222222222222,
              "#7201a8"
             ],
             [
              0.3333333333333333,
              "#9c179e"
             ],
             [
              0.4444444444444444,
              "#bd3786"
             ],
             [
              0.5555555555555556,
              "#d8576b"
             ],
             [
              0.6666666666666666,
              "#ed7953"
             ],
             [
              0.7777777777777778,
              "#fb9f3a"
             ],
             [
              0.8888888888888888,
              "#fdca26"
             ],
             [
              1,
              "#f0f921"
             ]
            ],
            "type": "contour"
           }
          ],
          "contourcarpet": [
           {
            "colorbar": {
             "outlinewidth": 0,
             "ticks": ""
            },
            "type": "contourcarpet"
           }
          ],
          "heatmap": [
           {
            "colorbar": {
             "outlinewidth": 0,
             "ticks": ""
            },
            "colorscale": [
             [
              0,
              "#0d0887"
             ],
             [
              0.1111111111111111,
              "#46039f"
             ],
             [
              0.2222222222222222,
              "#7201a8"
             ],
             [
              0.3333333333333333,
              "#9c179e"
             ],
             [
              0.4444444444444444,
              "#bd3786"
             ],
             [
              0.5555555555555556,
              "#d8576b"
             ],
             [
              0.6666666666666666,
              "#ed7953"
             ],
             [
              0.7777777777777778,
              "#fb9f3a"
             ],
             [
              0.8888888888888888,
              "#fdca26"
             ],
             [
              1,
              "#f0f921"
             ]
            ],
            "type": "heatmap"
           }
          ],
          "heatmapgl": [
           {
            "colorbar": {
             "outlinewidth": 0,
             "ticks": ""
            },
            "colorscale": [
             [
              0,
              "#0d0887"
             ],
             [
              0.1111111111111111,
              "#46039f"
             ],
             [
              0.2222222222222222,
              "#7201a8"
             ],
             [
              0.3333333333333333,
              "#9c179e"
             ],
             [
              0.4444444444444444,
              "#bd3786"
             ],
             [
              0.5555555555555556,
              "#d8576b"
             ],
             [
              0.6666666666666666,
              "#ed7953"
             ],
             [
              0.7777777777777778,
              "#fb9f3a"
             ],
             [
              0.8888888888888888,
              "#fdca26"
             ],
             [
              1,
              "#f0f921"
             ]
            ],
            "type": "heatmapgl"
           }
          ],
          "histogram": [
           {
            "marker": {
             "colorbar": {
              "outlinewidth": 0,
              "ticks": ""
             }
            },
            "type": "histogram"
           }
          ],
          "histogram2d": [
           {
            "colorbar": {
             "outlinewidth": 0,
             "ticks": ""
            },
            "colorscale": [
             [
              0,
              "#0d0887"
             ],
             [
              0.1111111111111111,
              "#46039f"
             ],
             [
              0.2222222222222222,
              "#7201a8"
             ],
             [
              0.3333333333333333,
              "#9c179e"
             ],
             [
              0.4444444444444444,
              "#bd3786"
             ],
             [
              0.5555555555555556,
              "#d8576b"
             ],
             [
              0.6666666666666666,
              "#ed7953"
             ],
             [
              0.7777777777777778,
              "#fb9f3a"
             ],
             [
              0.8888888888888888,
              "#fdca26"
             ],
             [
              1,
              "#f0f921"
             ]
            ],
            "type": "histogram2d"
           }
          ],
          "histogram2dcontour": [
           {
            "colorbar": {
             "outlinewidth": 0,
             "ticks": ""
            },
            "colorscale": [
             [
              0,
              "#0d0887"
             ],
             [
              0.1111111111111111,
              "#46039f"
             ],
             [
              0.2222222222222222,
              "#7201a8"
             ],
             [
              0.3333333333333333,
              "#9c179e"
             ],
             [
              0.4444444444444444,
              "#bd3786"
             ],
             [
              0.5555555555555556,
              "#d8576b"
             ],
             [
              0.6666666666666666,
              "#ed7953"
             ],
             [
              0.7777777777777778,
              "#fb9f3a"
             ],
             [
              0.8888888888888888,
              "#fdca26"
             ],
             [
              1,
              "#f0f921"
             ]
            ],
            "type": "histogram2dcontour"
           }
          ],
          "mesh3d": [
           {
            "colorbar": {
             "outlinewidth": 0,
             "ticks": ""
            },
            "type": "mesh3d"
           }
          ],
          "parcoords": [
           {
            "line": {
             "colorbar": {
              "outlinewidth": 0,
              "ticks": ""
             }
            },
            "type": "parcoords"
           }
          ],
          "pie": [
           {
            "automargin": true,
            "type": "pie"
           }
          ],
          "scatter": [
           {
            "marker": {
             "colorbar": {
              "outlinewidth": 0,
              "ticks": ""
             }
            },
            "type": "scatter"
           }
          ],
          "scatter3d": [
           {
            "line": {
             "colorbar": {
              "outlinewidth": 0,
              "ticks": ""
             }
            },
            "marker": {
             "colorbar": {
              "outlinewidth": 0,
              "ticks": ""
             }
            },
            "type": "scatter3d"
           }
          ],
          "scattercarpet": [
           {
            "marker": {
             "colorbar": {
              "outlinewidth": 0,
              "ticks": ""
             }
            },
            "type": "scattercarpet"
           }
          ],
          "scattergeo": [
           {
            "marker": {
             "colorbar": {
              "outlinewidth": 0,
              "ticks": ""
             }
            },
            "type": "scattergeo"
           }
          ],
          "scattergl": [
           {
            "marker": {
             "colorbar": {
              "outlinewidth": 0,
              "ticks": ""
             }
            },
            "type": "scattergl"
           }
          ],
          "scattermapbox": [
           {
            "marker": {
             "colorbar": {
              "outlinewidth": 0,
              "ticks": ""
             }
            },
            "type": "scattermapbox"
           }
          ],
          "scatterpolar": [
           {
            "marker": {
             "colorbar": {
              "outlinewidth": 0,
              "ticks": ""
             }
            },
            "type": "scatterpolar"
           }
          ],
          "scatterpolargl": [
           {
            "marker": {
             "colorbar": {
              "outlinewidth": 0,
              "ticks": ""
             }
            },
            "type": "scatterpolargl"
           }
          ],
          "scatterternary": [
           {
            "marker": {
             "colorbar": {
              "outlinewidth": 0,
              "ticks": ""
             }
            },
            "type": "scatterternary"
           }
          ],
          "surface": [
           {
            "colorbar": {
             "outlinewidth": 0,
             "ticks": ""
            },
            "colorscale": [
             [
              0,
              "#0d0887"
             ],
             [
              0.1111111111111111,
              "#46039f"
             ],
             [
              0.2222222222222222,
              "#7201a8"
             ],
             [
              0.3333333333333333,
              "#9c179e"
             ],
             [
              0.4444444444444444,
              "#bd3786"
             ],
             [
              0.5555555555555556,
              "#d8576b"
             ],
             [
              0.6666666666666666,
              "#ed7953"
             ],
             [
              0.7777777777777778,
              "#fb9f3a"
             ],
             [
              0.8888888888888888,
              "#fdca26"
             ],
             [
              1,
              "#f0f921"
             ]
            ],
            "type": "surface"
           }
          ],
          "table": [
           {
            "cells": {
             "fill": {
              "color": "#EBF0F8"
             },
             "line": {
              "color": "white"
             }
            },
            "header": {
             "fill": {
              "color": "#C8D4E3"
             },
             "line": {
              "color": "white"
             }
            },
            "type": "table"
           }
          ]
         },
         "layout": {
          "annotationdefaults": {
           "arrowcolor": "#2a3f5f",
           "arrowhead": 0,
           "arrowwidth": 1
          },
          "autotypenumbers": "strict",
          "coloraxis": {
           "colorbar": {
            "outlinewidth": 0,
            "ticks": ""
           }
          },
          "colorscale": {
           "diverging": [
            [
             0,
             "#8e0152"
            ],
            [
             0.1,
             "#c51b7d"
            ],
            [
             0.2,
             "#de77ae"
            ],
            [
             0.3,
             "#f1b6da"
            ],
            [
             0.4,
             "#fde0ef"
            ],
            [
             0.5,
             "#f7f7f7"
            ],
            [
             0.6,
             "#e6f5d0"
            ],
            [
             0.7,
             "#b8e186"
            ],
            [
             0.8,
             "#7fbc41"
            ],
            [
             0.9,
             "#4d9221"
            ],
            [
             1,
             "#276419"
            ]
           ],
           "sequential": [
            [
             0,
             "#0d0887"
            ],
            [
             0.1111111111111111,
             "#46039f"
            ],
            [
             0.2222222222222222,
             "#7201a8"
            ],
            [
             0.3333333333333333,
             "#9c179e"
            ],
            [
             0.4444444444444444,
             "#bd3786"
            ],
            [
             0.5555555555555556,
             "#d8576b"
            ],
            [
             0.6666666666666666,
             "#ed7953"
            ],
            [
             0.7777777777777778,
             "#fb9f3a"
            ],
            [
             0.8888888888888888,
             "#fdca26"
            ],
            [
             1,
             "#f0f921"
            ]
           ],
           "sequentialminus": [
            [
             0,
             "#0d0887"
            ],
            [
             0.1111111111111111,
             "#46039f"
            ],
            [
             0.2222222222222222,
             "#7201a8"
            ],
            [
             0.3333333333333333,
             "#9c179e"
            ],
            [
             0.4444444444444444,
             "#bd3786"
            ],
            [
             0.5555555555555556,
             "#d8576b"
            ],
            [
             0.6666666666666666,
             "#ed7953"
            ],
            [
             0.7777777777777778,
             "#fb9f3a"
            ],
            [
             0.8888888888888888,
             "#fdca26"
            ],
            [
             1,
             "#f0f921"
            ]
           ]
          },
          "colorway": [
           "#636efa",
           "#EF553B",
           "#00cc96",
           "#ab63fa",
           "#FFA15A",
           "#19d3f3",
           "#FF6692",
           "#B6E880",
           "#FF97FF",
           "#FECB52"
          ],
          "font": {
           "color": "#2a3f5f"
          },
          "geo": {
           "bgcolor": "white",
           "lakecolor": "white",
           "landcolor": "#E5ECF6",
           "showlakes": true,
           "showland": true,
           "subunitcolor": "white"
          },
          "hoverlabel": {
           "align": "left"
          },
          "hovermode": "closest",
          "mapbox": {
           "style": "light"
          },
          "paper_bgcolor": "white",
          "plot_bgcolor": "#E5ECF6",
          "polar": {
           "angularaxis": {
            "gridcolor": "white",
            "linecolor": "white",
            "ticks": ""
           },
           "bgcolor": "#E5ECF6",
           "radialaxis": {
            "gridcolor": "white",
            "linecolor": "white",
            "ticks": ""
           }
          },
          "scene": {
           "xaxis": {
            "backgroundcolor": "#E5ECF6",
            "gridcolor": "white",
            "gridwidth": 2,
            "linecolor": "white",
            "showbackground": true,
            "ticks": "",
            "zerolinecolor": "white"
           },
           "yaxis": {
            "backgroundcolor": "#E5ECF6",
            "gridcolor": "white",
            "gridwidth": 2,
            "linecolor": "white",
            "showbackground": true,
            "ticks": "",
            "zerolinecolor": "white"
           },
           "zaxis": {
            "backgroundcolor": "#E5ECF6",
            "gridcolor": "white",
            "gridwidth": 2,
            "linecolor": "white",
            "showbackground": true,
            "ticks": "",
            "zerolinecolor": "white"
           }
          },
          "shapedefaults": {
           "line": {
            "color": "#2a3f5f"
           }
          },
          "ternary": {
           "aaxis": {
            "gridcolor": "white",
            "linecolor": "white",
            "ticks": ""
           },
           "baxis": {
            "gridcolor": "white",
            "linecolor": "white",
            "ticks": ""
           },
           "bgcolor": "#E5ECF6",
           "caxis": {
            "gridcolor": "white",
            "linecolor": "white",
            "ticks": ""
           }
          },
          "title": {
           "x": 0.05
          },
          "xaxis": {
           "automargin": true,
           "gridcolor": "white",
           "linecolor": "white",
           "ticks": "",
           "title": {
            "standoff": 15
           },
           "zerolinecolor": "white",
           "zerolinewidth": 2
          },
          "yaxis": {
           "automargin": true,
           "gridcolor": "white",
           "linecolor": "white",
           "ticks": "",
           "title": {
            "standoff": 15
           },
           "zerolinecolor": "white",
           "zerolinewidth": 2
          }
         }
        },
        "title": {
         "text": "Top 10 states with highest number of Total Samples"
        },
        "xaxis": {
         "anchor": "y",
         "domain": [
          0,
          1
         ],
         "title": {
          "text": "State"
         }
        },
        "yaxis": {
         "anchor": "x",
         "domain": [
          0,
          1
         ],
         "title": {
          "text": "Total Samples"
         }
        }
       }
      },
      "text/html": [
       "<div>                            <div id=\"c00a7822-599d-450a-b811-bb69d1b4ab81\" class=\"plotly-graph-div\" style=\"height:525px; width:100%;\"></div>            <script type=\"text/javascript\">                require([\"plotly\"], function(Plotly) {                    window.PLOTLYENV=window.PLOTLYENV || {};                                    if (document.getElementById(\"c00a7822-599d-450a-b811-bb69d1b4ab81\")) {                    Plotly.newPlot(                        \"c00a7822-599d-450a-b811-bb69d1b4ab81\",                        [{\"alignmentgroup\": \"True\", \"hovertemplate\": \"State=%{x}<br>Total Samples=%{y}<extra></extra>\", \"legendgroup\": \"\", \"marker\": {\"color\": \"rgb(41, 24, 107)\"}, \"name\": \"\", \"offsetgroup\": \"\", \"orientation\": \"v\", \"showlegend\": false, \"textposition\": \"auto\", \"type\": \"bar\", \"x\": [\"Tamil Nadu\", \"Maharashtra\", \"Andhra Pradesh\", \"Rajasthan\", \"Uttar Pradesh\", \"Gujarat\", \"Karnataka\", \"Delhi\", \"Madhya Pradesh\", \"Odisha\"], \"xaxis\": \"x\", \"y\": [243037.0, 225524.0, 173735.0, 166424.0, 129955.0, 113493.0, 107311.0, 97678.0, 72069.0, 59780.0], \"yaxis\": \"y\"}],                        {\"barmode\": \"relative\", \"legend\": {\"tracegroupgap\": 0}, \"template\": {\"data\": {\"bar\": [{\"error_x\": {\"color\": \"#2a3f5f\"}, \"error_y\": {\"color\": \"#2a3f5f\"}, \"marker\": {\"line\": {\"color\": \"#E5ECF6\", \"width\": 0.5}}, \"type\": \"bar\"}], \"barpolar\": [{\"marker\": {\"line\": {\"color\": \"#E5ECF6\", \"width\": 0.5}}, \"type\": \"barpolar\"}], \"carpet\": [{\"aaxis\": {\"endlinecolor\": \"#2a3f5f\", \"gridcolor\": \"white\", \"linecolor\": \"white\", \"minorgridcolor\": \"white\", \"startlinecolor\": \"#2a3f5f\"}, \"baxis\": {\"endlinecolor\": \"#2a3f5f\", \"gridcolor\": \"white\", \"linecolor\": \"white\", \"minorgridcolor\": \"white\", \"startlinecolor\": \"#2a3f5f\"}, \"type\": \"carpet\"}], \"choropleth\": [{\"colorbar\": {\"outlinewidth\": 0, \"ticks\": \"\"}, \"type\": \"choropleth\"}], \"contour\": [{\"colorbar\": {\"outlinewidth\": 0, \"ticks\": \"\"}, \"colorscale\": [[0.0, \"#0d0887\"], [0.1111111111111111, \"#46039f\"], [0.2222222222222222, \"#7201a8\"], [0.3333333333333333, \"#9c179e\"], [0.4444444444444444, \"#bd3786\"], [0.5555555555555556, \"#d8576b\"], [0.6666666666666666, \"#ed7953\"], [0.7777777777777778, \"#fb9f3a\"], [0.8888888888888888, \"#fdca26\"], [1.0, \"#f0f921\"]], \"type\": \"contour\"}], \"contourcarpet\": [{\"colorbar\": {\"outlinewidth\": 0, \"ticks\": \"\"}, \"type\": \"contourcarpet\"}], \"heatmap\": [{\"colorbar\": {\"outlinewidth\": 0, \"ticks\": \"\"}, \"colorscale\": [[0.0, \"#0d0887\"], [0.1111111111111111, \"#46039f\"], [0.2222222222222222, \"#7201a8\"], [0.3333333333333333, \"#9c179e\"], [0.4444444444444444, \"#bd3786\"], [0.5555555555555556, \"#d8576b\"], [0.6666666666666666, \"#ed7953\"], [0.7777777777777778, \"#fb9f3a\"], [0.8888888888888888, \"#fdca26\"], [1.0, \"#f0f921\"]], \"type\": \"heatmap\"}], \"heatmapgl\": [{\"colorbar\": {\"outlinewidth\": 0, \"ticks\": \"\"}, \"colorscale\": [[0.0, \"#0d0887\"], [0.1111111111111111, \"#46039f\"], [0.2222222222222222, \"#7201a8\"], [0.3333333333333333, \"#9c179e\"], [0.4444444444444444, \"#bd3786\"], [0.5555555555555556, \"#d8576b\"], [0.6666666666666666, \"#ed7953\"], [0.7777777777777778, \"#fb9f3a\"], [0.8888888888888888, \"#fdca26\"], [1.0, \"#f0f921\"]], \"type\": \"heatmapgl\"}], \"histogram\": [{\"marker\": {\"colorbar\": {\"outlinewidth\": 0, \"ticks\": \"\"}}, \"type\": \"histogram\"}], \"histogram2d\": [{\"colorbar\": {\"outlinewidth\": 0, \"ticks\": \"\"}, \"colorscale\": [[0.0, \"#0d0887\"], [0.1111111111111111, \"#46039f\"], [0.2222222222222222, \"#7201a8\"], [0.3333333333333333, \"#9c179e\"], [0.4444444444444444, \"#bd3786\"], [0.5555555555555556, \"#d8576b\"], [0.6666666666666666, \"#ed7953\"], [0.7777777777777778, \"#fb9f3a\"], [0.8888888888888888, \"#fdca26\"], [1.0, \"#f0f921\"]], \"type\": \"histogram2d\"}], \"histogram2dcontour\": [{\"colorbar\": {\"outlinewidth\": 0, \"ticks\": \"\"}, \"colorscale\": [[0.0, \"#0d0887\"], [0.1111111111111111, \"#46039f\"], [0.2222222222222222, \"#7201a8\"], [0.3333333333333333, \"#9c179e\"], [0.4444444444444444, \"#bd3786\"], [0.5555555555555556, \"#d8576b\"], [0.6666666666666666, \"#ed7953\"], [0.7777777777777778, \"#fb9f3a\"], [0.8888888888888888, \"#fdca26\"], [1.0, \"#f0f921\"]], \"type\": \"histogram2dcontour\"}], \"mesh3d\": [{\"colorbar\": {\"outlinewidth\": 0, \"ticks\": \"\"}, \"type\": \"mesh3d\"}], \"parcoords\": [{\"line\": {\"colorbar\": {\"outlinewidth\": 0, \"ticks\": \"\"}}, \"type\": \"parcoords\"}], \"pie\": [{\"automargin\": true, \"type\": \"pie\"}], \"scatter\": [{\"marker\": {\"colorbar\": {\"outlinewidth\": 0, \"ticks\": \"\"}}, \"type\": \"scatter\"}], \"scatter3d\": [{\"line\": {\"colorbar\": {\"outlinewidth\": 0, \"ticks\": \"\"}}, \"marker\": {\"colorbar\": {\"outlinewidth\": 0, \"ticks\": \"\"}}, \"type\": \"scatter3d\"}], \"scattercarpet\": [{\"marker\": {\"colorbar\": {\"outlinewidth\": 0, \"ticks\": \"\"}}, \"type\": \"scattercarpet\"}], \"scattergeo\": [{\"marker\": {\"colorbar\": {\"outlinewidth\": 0, \"ticks\": \"\"}}, \"type\": \"scattergeo\"}], \"scattergl\": [{\"marker\": {\"colorbar\": {\"outlinewidth\": 0, \"ticks\": \"\"}}, \"type\": \"scattergl\"}], \"scattermapbox\": [{\"marker\": {\"colorbar\": {\"outlinewidth\": 0, \"ticks\": \"\"}}, \"type\": \"scattermapbox\"}], \"scatterpolar\": [{\"marker\": {\"colorbar\": {\"outlinewidth\": 0, \"ticks\": \"\"}}, \"type\": \"scatterpolar\"}], \"scatterpolargl\": [{\"marker\": {\"colorbar\": {\"outlinewidth\": 0, \"ticks\": \"\"}}, \"type\": \"scatterpolargl\"}], \"scatterternary\": [{\"marker\": {\"colorbar\": {\"outlinewidth\": 0, \"ticks\": \"\"}}, \"type\": \"scatterternary\"}], \"surface\": [{\"colorbar\": {\"outlinewidth\": 0, \"ticks\": \"\"}, \"colorscale\": [[0.0, \"#0d0887\"], [0.1111111111111111, \"#46039f\"], [0.2222222222222222, \"#7201a8\"], [0.3333333333333333, \"#9c179e\"], [0.4444444444444444, \"#bd3786\"], [0.5555555555555556, \"#d8576b\"], [0.6666666666666666, \"#ed7953\"], [0.7777777777777778, \"#fb9f3a\"], [0.8888888888888888, \"#fdca26\"], [1.0, \"#f0f921\"]], \"type\": \"surface\"}], \"table\": [{\"cells\": {\"fill\": {\"color\": \"#EBF0F8\"}, \"line\": {\"color\": \"white\"}}, \"header\": {\"fill\": {\"color\": \"#C8D4E3\"}, \"line\": {\"color\": \"white\"}}, \"type\": \"table\"}]}, \"layout\": {\"annotationdefaults\": {\"arrowcolor\": \"#2a3f5f\", \"arrowhead\": 0, \"arrowwidth\": 1}, \"autotypenumbers\": \"strict\", \"coloraxis\": {\"colorbar\": {\"outlinewidth\": 0, \"ticks\": \"\"}}, \"colorscale\": {\"diverging\": [[0, \"#8e0152\"], [0.1, \"#c51b7d\"], [0.2, \"#de77ae\"], [0.3, \"#f1b6da\"], [0.4, \"#fde0ef\"], [0.5, \"#f7f7f7\"], [0.6, \"#e6f5d0\"], [0.7, \"#b8e186\"], [0.8, \"#7fbc41\"], [0.9, \"#4d9221\"], [1, \"#276419\"]], \"sequential\": [[0.0, \"#0d0887\"], [0.1111111111111111, \"#46039f\"], [0.2222222222222222, \"#7201a8\"], [0.3333333333333333, \"#9c179e\"], [0.4444444444444444, \"#bd3786\"], [0.5555555555555556, \"#d8576b\"], [0.6666666666666666, \"#ed7953\"], [0.7777777777777778, \"#fb9f3a\"], [0.8888888888888888, \"#fdca26\"], [1.0, \"#f0f921\"]], \"sequentialminus\": [[0.0, \"#0d0887\"], [0.1111111111111111, \"#46039f\"], [0.2222222222222222, \"#7201a8\"], [0.3333333333333333, \"#9c179e\"], [0.4444444444444444, \"#bd3786\"], [0.5555555555555556, \"#d8576b\"], [0.6666666666666666, \"#ed7953\"], [0.7777777777777778, \"#fb9f3a\"], [0.8888888888888888, \"#fdca26\"], [1.0, \"#f0f921\"]]}, \"colorway\": [\"#636efa\", \"#EF553B\", \"#00cc96\", \"#ab63fa\", \"#FFA15A\", \"#19d3f3\", \"#FF6692\", \"#B6E880\", \"#FF97FF\", \"#FECB52\"], \"font\": {\"color\": \"#2a3f5f\"}, \"geo\": {\"bgcolor\": \"white\", \"lakecolor\": \"white\", \"landcolor\": \"#E5ECF6\", \"showlakes\": true, \"showland\": true, \"subunitcolor\": \"white\"}, \"hoverlabel\": {\"align\": \"left\"}, \"hovermode\": \"closest\", \"mapbox\": {\"style\": \"light\"}, \"paper_bgcolor\": \"white\", \"plot_bgcolor\": \"#E5ECF6\", \"polar\": {\"angularaxis\": {\"gridcolor\": \"white\", \"linecolor\": \"white\", \"ticks\": \"\"}, \"bgcolor\": \"#E5ECF6\", \"radialaxis\": {\"gridcolor\": \"white\", \"linecolor\": \"white\", \"ticks\": \"\"}}, \"scene\": {\"xaxis\": {\"backgroundcolor\": \"#E5ECF6\", \"gridcolor\": \"white\", \"gridwidth\": 2, \"linecolor\": \"white\", \"showbackground\": true, \"ticks\": \"\", \"zerolinecolor\": \"white\"}, \"yaxis\": {\"backgroundcolor\": \"#E5ECF6\", \"gridcolor\": \"white\", \"gridwidth\": 2, \"linecolor\": \"white\", \"showbackground\": true, \"ticks\": \"\", \"zerolinecolor\": \"white\"}, \"zaxis\": {\"backgroundcolor\": \"#E5ECF6\", \"gridcolor\": \"white\", \"gridwidth\": 2, \"linecolor\": \"white\", \"showbackground\": true, \"ticks\": \"\", \"zerolinecolor\": \"white\"}}, \"shapedefaults\": {\"line\": {\"color\": \"#2a3f5f\"}}, \"ternary\": {\"aaxis\": {\"gridcolor\": \"white\", \"linecolor\": \"white\", \"ticks\": \"\"}, \"baxis\": {\"gridcolor\": \"white\", \"linecolor\": \"white\", \"ticks\": \"\"}, \"bgcolor\": \"#E5ECF6\", \"caxis\": {\"gridcolor\": \"white\", \"linecolor\": \"white\", \"ticks\": \"\"}}, \"title\": {\"x\": 0.05}, \"xaxis\": {\"automargin\": true, \"gridcolor\": \"white\", \"linecolor\": \"white\", \"ticks\": \"\", \"title\": {\"standoff\": 15}, \"zerolinecolor\": \"white\", \"zerolinewidth\": 2}, \"yaxis\": {\"automargin\": true, \"gridcolor\": \"white\", \"linecolor\": \"white\", \"ticks\": \"\", \"title\": {\"standoff\": 15}, \"zerolinecolor\": \"white\", \"zerolinewidth\": 2}}}, \"title\": {\"text\": \"Top 10 states with highest number of Total Samples\"}, \"xaxis\": {\"anchor\": \"y\", \"domain\": [0.0, 1.0], \"title\": {\"text\": \"State\"}}, \"yaxis\": {\"anchor\": \"x\", \"domain\": [0.0, 1.0], \"title\": {\"text\": \"Total Samples\"}}},                        {\"responsive\": true}                    ).then(function(){\n",
       "                            \n",
       "var gd = document.getElementById('c00a7822-599d-450a-b811-bb69d1b4ab81');\n",
       "var x = new MutationObserver(function (mutations, observer) {{\n",
       "        var display = window.getComputedStyle(gd).display;\n",
       "        if (!display || display === 'none') {{\n",
       "            console.log([gd, 'removed!']);\n",
       "            Plotly.purge(gd);\n",
       "            observer.disconnect();\n",
       "        }}\n",
       "}});\n",
       "\n",
       "// Listen for the removal of the full notebook cells\n",
       "var notebookContainer = gd.closest('#notebook-container');\n",
       "if (notebookContainer) {{\n",
       "    x.observe(notebookContainer, {childList: true});\n",
       "}}\n",
       "\n",
       "// Listen for the clearing of the current output cell\n",
       "var outputEl = gd.closest('.output');\n",
       "if (outputEl) {{\n",
       "    x.observe(outputEl, {childList: true});\n",
       "}}\n",
       "\n",
       "                        })                };                });            </script>        </div>"
      ]
     },
     "metadata": {},
     "output_type": "display_data"
    }
   ],
   "source": [
    "px.bar(x=covid_testing_state.nlargest(10,\"TotalSamples\")[\"State\"],\n",
    "       y = covid_testing_state.nlargest(10,\"TotalSamples\")[\"TotalSamples\"],\n",
    "       labels={'y':'Total Samples','x':'State'},\n",
    "       color_discrete_sequence=px.colors.sequential.haline,\n",
    "       title=\"Top 10 states with highest number of Total Samples\")"
   ]
  },
  {
   "cell_type": "code",
   "execution_count": 223,
   "metadata": {},
   "outputs": [
    {
     "data": {
      "application/vnd.plotly.v1+json": {
       "config": {
        "plotlyServerURL": "https://plot.ly"
       },
       "data": [
        {
         "alignmentgroup": "True",
         "hovertemplate": "State=%{x}<br>Total Negative cases=%{y}<extra></extra>",
         "legendgroup": "",
         "marker": {
          "color": "rgb(232, 245, 171)"
         },
         "name": "",
         "offsetgroup": "",
         "orientation": "v",
         "showlegend": false,
         "textposition": "auto",
         "type": "bar",
         "x": [
          "Tamil Nadu",
          "Maharashtra",
          "Andhra Pradesh",
          "Rajasthan",
          "Uttar Pradesh",
          "Karnataka",
          "Gujarat",
          "Delhi",
          "Madhya Pradesh",
          "Odisha"
         ],
         "xaxis": "x",
         "y": [
          235833,
          205296,
          171755,
          162610,
          126488,
          106463,
          105298,
          90445,
          68455,
          59418
         ],
         "yaxis": "y"
        }
       ],
       "layout": {
        "barmode": "relative",
        "legend": {
         "tracegroupgap": 0
        },
        "template": {
         "data": {
          "bar": [
           {
            "error_x": {
             "color": "#2a3f5f"
            },
            "error_y": {
             "color": "#2a3f5f"
            },
            "marker": {
             "line": {
              "color": "#E5ECF6",
              "width": 0.5
             }
            },
            "type": "bar"
           }
          ],
          "barpolar": [
           {
            "marker": {
             "line": {
              "color": "#E5ECF6",
              "width": 0.5
             }
            },
            "type": "barpolar"
           }
          ],
          "carpet": [
           {
            "aaxis": {
             "endlinecolor": "#2a3f5f",
             "gridcolor": "white",
             "linecolor": "white",
             "minorgridcolor": "white",
             "startlinecolor": "#2a3f5f"
            },
            "baxis": {
             "endlinecolor": "#2a3f5f",
             "gridcolor": "white",
             "linecolor": "white",
             "minorgridcolor": "white",
             "startlinecolor": "#2a3f5f"
            },
            "type": "carpet"
           }
          ],
          "choropleth": [
           {
            "colorbar": {
             "outlinewidth": 0,
             "ticks": ""
            },
            "type": "choropleth"
           }
          ],
          "contour": [
           {
            "colorbar": {
             "outlinewidth": 0,
             "ticks": ""
            },
            "colorscale": [
             [
              0,
              "#0d0887"
             ],
             [
              0.1111111111111111,
              "#46039f"
             ],
             [
              0.2222222222222222,
              "#7201a8"
             ],
             [
              0.3333333333333333,
              "#9c179e"
             ],
             [
              0.4444444444444444,
              "#bd3786"
             ],
             [
              0.5555555555555556,
              "#d8576b"
             ],
             [
              0.6666666666666666,
              "#ed7953"
             ],
             [
              0.7777777777777778,
              "#fb9f3a"
             ],
             [
              0.8888888888888888,
              "#fdca26"
             ],
             [
              1,
              "#f0f921"
             ]
            ],
            "type": "contour"
           }
          ],
          "contourcarpet": [
           {
            "colorbar": {
             "outlinewidth": 0,
             "ticks": ""
            },
            "type": "contourcarpet"
           }
          ],
          "heatmap": [
           {
            "colorbar": {
             "outlinewidth": 0,
             "ticks": ""
            },
            "colorscale": [
             [
              0,
              "#0d0887"
             ],
             [
              0.1111111111111111,
              "#46039f"
             ],
             [
              0.2222222222222222,
              "#7201a8"
             ],
             [
              0.3333333333333333,
              "#9c179e"
             ],
             [
              0.4444444444444444,
              "#bd3786"
             ],
             [
              0.5555555555555556,
              "#d8576b"
             ],
             [
              0.6666666666666666,
              "#ed7953"
             ],
             [
              0.7777777777777778,
              "#fb9f3a"
             ],
             [
              0.8888888888888888,
              "#fdca26"
             ],
             [
              1,
              "#f0f921"
             ]
            ],
            "type": "heatmap"
           }
          ],
          "heatmapgl": [
           {
            "colorbar": {
             "outlinewidth": 0,
             "ticks": ""
            },
            "colorscale": [
             [
              0,
              "#0d0887"
             ],
             [
              0.1111111111111111,
              "#46039f"
             ],
             [
              0.2222222222222222,
              "#7201a8"
             ],
             [
              0.3333333333333333,
              "#9c179e"
             ],
             [
              0.4444444444444444,
              "#bd3786"
             ],
             [
              0.5555555555555556,
              "#d8576b"
             ],
             [
              0.6666666666666666,
              "#ed7953"
             ],
             [
              0.7777777777777778,
              "#fb9f3a"
             ],
             [
              0.8888888888888888,
              "#fdca26"
             ],
             [
              1,
              "#f0f921"
             ]
            ],
            "type": "heatmapgl"
           }
          ],
          "histogram": [
           {
            "marker": {
             "colorbar": {
              "outlinewidth": 0,
              "ticks": ""
             }
            },
            "type": "histogram"
           }
          ],
          "histogram2d": [
           {
            "colorbar": {
             "outlinewidth": 0,
             "ticks": ""
            },
            "colorscale": [
             [
              0,
              "#0d0887"
             ],
             [
              0.1111111111111111,
              "#46039f"
             ],
             [
              0.2222222222222222,
              "#7201a8"
             ],
             [
              0.3333333333333333,
              "#9c179e"
             ],
             [
              0.4444444444444444,
              "#bd3786"
             ],
             [
              0.5555555555555556,
              "#d8576b"
             ],
             [
              0.6666666666666666,
              "#ed7953"
             ],
             [
              0.7777777777777778,
              "#fb9f3a"
             ],
             [
              0.8888888888888888,
              "#fdca26"
             ],
             [
              1,
              "#f0f921"
             ]
            ],
            "type": "histogram2d"
           }
          ],
          "histogram2dcontour": [
           {
            "colorbar": {
             "outlinewidth": 0,
             "ticks": ""
            },
            "colorscale": [
             [
              0,
              "#0d0887"
             ],
             [
              0.1111111111111111,
              "#46039f"
             ],
             [
              0.2222222222222222,
              "#7201a8"
             ],
             [
              0.3333333333333333,
              "#9c179e"
             ],
             [
              0.4444444444444444,
              "#bd3786"
             ],
             [
              0.5555555555555556,
              "#d8576b"
             ],
             [
              0.6666666666666666,
              "#ed7953"
             ],
             [
              0.7777777777777778,
              "#fb9f3a"
             ],
             [
              0.8888888888888888,
              "#fdca26"
             ],
             [
              1,
              "#f0f921"
             ]
            ],
            "type": "histogram2dcontour"
           }
          ],
          "mesh3d": [
           {
            "colorbar": {
             "outlinewidth": 0,
             "ticks": ""
            },
            "type": "mesh3d"
           }
          ],
          "parcoords": [
           {
            "line": {
             "colorbar": {
              "outlinewidth": 0,
              "ticks": ""
             }
            },
            "type": "parcoords"
           }
          ],
          "pie": [
           {
            "automargin": true,
            "type": "pie"
           }
          ],
          "scatter": [
           {
            "marker": {
             "colorbar": {
              "outlinewidth": 0,
              "ticks": ""
             }
            },
            "type": "scatter"
           }
          ],
          "scatter3d": [
           {
            "line": {
             "colorbar": {
              "outlinewidth": 0,
              "ticks": ""
             }
            },
            "marker": {
             "colorbar": {
              "outlinewidth": 0,
              "ticks": ""
             }
            },
            "type": "scatter3d"
           }
          ],
          "scattercarpet": [
           {
            "marker": {
             "colorbar": {
              "outlinewidth": 0,
              "ticks": ""
             }
            },
            "type": "scattercarpet"
           }
          ],
          "scattergeo": [
           {
            "marker": {
             "colorbar": {
              "outlinewidth": 0,
              "ticks": ""
             }
            },
            "type": "scattergeo"
           }
          ],
          "scattergl": [
           {
            "marker": {
             "colorbar": {
              "outlinewidth": 0,
              "ticks": ""
             }
            },
            "type": "scattergl"
           }
          ],
          "scattermapbox": [
           {
            "marker": {
             "colorbar": {
              "outlinewidth": 0,
              "ticks": ""
             }
            },
            "type": "scattermapbox"
           }
          ],
          "scatterpolar": [
           {
            "marker": {
             "colorbar": {
              "outlinewidth": 0,
              "ticks": ""
             }
            },
            "type": "scatterpolar"
           }
          ],
          "scatterpolargl": [
           {
            "marker": {
             "colorbar": {
              "outlinewidth": 0,
              "ticks": ""
             }
            },
            "type": "scatterpolargl"
           }
          ],
          "scatterternary": [
           {
            "marker": {
             "colorbar": {
              "outlinewidth": 0,
              "ticks": ""
             }
            },
            "type": "scatterternary"
           }
          ],
          "surface": [
           {
            "colorbar": {
             "outlinewidth": 0,
             "ticks": ""
            },
            "colorscale": [
             [
              0,
              "#0d0887"
             ],
             [
              0.1111111111111111,
              "#46039f"
             ],
             [
              0.2222222222222222,
              "#7201a8"
             ],
             [
              0.3333333333333333,
              "#9c179e"
             ],
             [
              0.4444444444444444,
              "#bd3786"
             ],
             [
              0.5555555555555556,
              "#d8576b"
             ],
             [
              0.6666666666666666,
              "#ed7953"
             ],
             [
              0.7777777777777778,
              "#fb9f3a"
             ],
             [
              0.8888888888888888,
              "#fdca26"
             ],
             [
              1,
              "#f0f921"
             ]
            ],
            "type": "surface"
           }
          ],
          "table": [
           {
            "cells": {
             "fill": {
              "color": "#EBF0F8"
             },
             "line": {
              "color": "white"
             }
            },
            "header": {
             "fill": {
              "color": "#C8D4E3"
             },
             "line": {
              "color": "white"
             }
            },
            "type": "table"
           }
          ]
         },
         "layout": {
          "annotationdefaults": {
           "arrowcolor": "#2a3f5f",
           "arrowhead": 0,
           "arrowwidth": 1
          },
          "autotypenumbers": "strict",
          "coloraxis": {
           "colorbar": {
            "outlinewidth": 0,
            "ticks": ""
           }
          },
          "colorscale": {
           "diverging": [
            [
             0,
             "#8e0152"
            ],
            [
             0.1,
             "#c51b7d"
            ],
            [
             0.2,
             "#de77ae"
            ],
            [
             0.3,
             "#f1b6da"
            ],
            [
             0.4,
             "#fde0ef"
            ],
            [
             0.5,
             "#f7f7f7"
            ],
            [
             0.6,
             "#e6f5d0"
            ],
            [
             0.7,
             "#b8e186"
            ],
            [
             0.8,
             "#7fbc41"
            ],
            [
             0.9,
             "#4d9221"
            ],
            [
             1,
             "#276419"
            ]
           ],
           "sequential": [
            [
             0,
             "#0d0887"
            ],
            [
             0.1111111111111111,
             "#46039f"
            ],
            [
             0.2222222222222222,
             "#7201a8"
            ],
            [
             0.3333333333333333,
             "#9c179e"
            ],
            [
             0.4444444444444444,
             "#bd3786"
            ],
            [
             0.5555555555555556,
             "#d8576b"
            ],
            [
             0.6666666666666666,
             "#ed7953"
            ],
            [
             0.7777777777777778,
             "#fb9f3a"
            ],
            [
             0.8888888888888888,
             "#fdca26"
            ],
            [
             1,
             "#f0f921"
            ]
           ],
           "sequentialminus": [
            [
             0,
             "#0d0887"
            ],
            [
             0.1111111111111111,
             "#46039f"
            ],
            [
             0.2222222222222222,
             "#7201a8"
            ],
            [
             0.3333333333333333,
             "#9c179e"
            ],
            [
             0.4444444444444444,
             "#bd3786"
            ],
            [
             0.5555555555555556,
             "#d8576b"
            ],
            [
             0.6666666666666666,
             "#ed7953"
            ],
            [
             0.7777777777777778,
             "#fb9f3a"
            ],
            [
             0.8888888888888888,
             "#fdca26"
            ],
            [
             1,
             "#f0f921"
            ]
           ]
          },
          "colorway": [
           "#636efa",
           "#EF553B",
           "#00cc96",
           "#ab63fa",
           "#FFA15A",
           "#19d3f3",
           "#FF6692",
           "#B6E880",
           "#FF97FF",
           "#FECB52"
          ],
          "font": {
           "color": "#2a3f5f"
          },
          "geo": {
           "bgcolor": "white",
           "lakecolor": "white",
           "landcolor": "#E5ECF6",
           "showlakes": true,
           "showland": true,
           "subunitcolor": "white"
          },
          "hoverlabel": {
           "align": "left"
          },
          "hovermode": "closest",
          "mapbox": {
           "style": "light"
          },
          "paper_bgcolor": "white",
          "plot_bgcolor": "#E5ECF6",
          "polar": {
           "angularaxis": {
            "gridcolor": "white",
            "linecolor": "white",
            "ticks": ""
           },
           "bgcolor": "#E5ECF6",
           "radialaxis": {
            "gridcolor": "white",
            "linecolor": "white",
            "ticks": ""
           }
          },
          "scene": {
           "xaxis": {
            "backgroundcolor": "#E5ECF6",
            "gridcolor": "white",
            "gridwidth": 2,
            "linecolor": "white",
            "showbackground": true,
            "ticks": "",
            "zerolinecolor": "white"
           },
           "yaxis": {
            "backgroundcolor": "#E5ECF6",
            "gridcolor": "white",
            "gridwidth": 2,
            "linecolor": "white",
            "showbackground": true,
            "ticks": "",
            "zerolinecolor": "white"
           },
           "zaxis": {
            "backgroundcolor": "#E5ECF6",
            "gridcolor": "white",
            "gridwidth": 2,
            "linecolor": "white",
            "showbackground": true,
            "ticks": "",
            "zerolinecolor": "white"
           }
          },
          "shapedefaults": {
           "line": {
            "color": "#2a3f5f"
           }
          },
          "ternary": {
           "aaxis": {
            "gridcolor": "white",
            "linecolor": "white",
            "ticks": ""
           },
           "baxis": {
            "gridcolor": "white",
            "linecolor": "white",
            "ticks": ""
           },
           "bgcolor": "#E5ECF6",
           "caxis": {
            "gridcolor": "white",
            "linecolor": "white",
            "ticks": ""
           }
          },
          "title": {
           "x": 0.05
          },
          "xaxis": {
           "automargin": true,
           "gridcolor": "white",
           "linecolor": "white",
           "ticks": "",
           "title": {
            "standoff": 15
           },
           "zerolinecolor": "white",
           "zerolinewidth": 2
          },
          "yaxis": {
           "automargin": true,
           "gridcolor": "white",
           "linecolor": "white",
           "ticks": "",
           "title": {
            "standoff": 15
           },
           "zerolinecolor": "white",
           "zerolinewidth": 2
          }
         }
        },
        "title": {
         "text": "Top 10 states with highest number of Negative cases"
        },
        "xaxis": {
         "anchor": "y",
         "domain": [
          0,
          1
         ],
         "title": {
          "text": "State"
         }
        },
        "yaxis": {
         "anchor": "x",
         "domain": [
          0,
          1
         ],
         "title": {
          "text": "Total Negative cases"
         }
        }
       }
      },
      "text/html": [
       "<div>                            <div id=\"dded9a1c-8bc6-40d5-8ddb-4658268cfced\" class=\"plotly-graph-div\" style=\"height:525px; width:100%;\"></div>            <script type=\"text/javascript\">                require([\"plotly\"], function(Plotly) {                    window.PLOTLYENV=window.PLOTLYENV || {};                                    if (document.getElementById(\"dded9a1c-8bc6-40d5-8ddb-4658268cfced\")) {                    Plotly.newPlot(                        \"dded9a1c-8bc6-40d5-8ddb-4658268cfced\",                        [{\"alignmentgroup\": \"True\", \"hovertemplate\": \"State=%{x}<br>Total Negative cases=%{y}<extra></extra>\", \"legendgroup\": \"\", \"marker\": {\"color\": \"rgb(232, 245, 171)\"}, \"name\": \"\", \"offsetgroup\": \"\", \"orientation\": \"v\", \"showlegend\": false, \"textposition\": \"auto\", \"type\": \"bar\", \"x\": [\"Tamil Nadu\", \"Maharashtra\", \"Andhra Pradesh\", \"Rajasthan\", \"Uttar Pradesh\", \"Karnataka\", \"Gujarat\", \"Delhi\", \"Madhya Pradesh\", \"Odisha\"], \"xaxis\": \"x\", \"y\": [235833.0, 205296.0, 171755.0, 162610.0, 126488.0, 106463.0, 105298.0, 90445.0, 68455.0, 59418.0], \"yaxis\": \"y\"}],                        {\"barmode\": \"relative\", \"legend\": {\"tracegroupgap\": 0}, \"template\": {\"data\": {\"bar\": [{\"error_x\": {\"color\": \"#2a3f5f\"}, \"error_y\": {\"color\": \"#2a3f5f\"}, \"marker\": {\"line\": {\"color\": \"#E5ECF6\", \"width\": 0.5}}, \"type\": \"bar\"}], \"barpolar\": [{\"marker\": {\"line\": {\"color\": \"#E5ECF6\", \"width\": 0.5}}, \"type\": \"barpolar\"}], \"carpet\": [{\"aaxis\": {\"endlinecolor\": \"#2a3f5f\", \"gridcolor\": \"white\", \"linecolor\": \"white\", \"minorgridcolor\": \"white\", \"startlinecolor\": \"#2a3f5f\"}, \"baxis\": {\"endlinecolor\": \"#2a3f5f\", \"gridcolor\": \"white\", \"linecolor\": \"white\", \"minorgridcolor\": \"white\", \"startlinecolor\": \"#2a3f5f\"}, \"type\": \"carpet\"}], \"choropleth\": [{\"colorbar\": {\"outlinewidth\": 0, \"ticks\": \"\"}, \"type\": \"choropleth\"}], \"contour\": [{\"colorbar\": {\"outlinewidth\": 0, \"ticks\": \"\"}, \"colorscale\": [[0.0, \"#0d0887\"], [0.1111111111111111, \"#46039f\"], [0.2222222222222222, \"#7201a8\"], [0.3333333333333333, \"#9c179e\"], [0.4444444444444444, \"#bd3786\"], [0.5555555555555556, \"#d8576b\"], [0.6666666666666666, \"#ed7953\"], [0.7777777777777778, \"#fb9f3a\"], [0.8888888888888888, \"#fdca26\"], [1.0, \"#f0f921\"]], \"type\": \"contour\"}], \"contourcarpet\": [{\"colorbar\": {\"outlinewidth\": 0, \"ticks\": \"\"}, \"type\": \"contourcarpet\"}], \"heatmap\": [{\"colorbar\": {\"outlinewidth\": 0, \"ticks\": \"\"}, \"colorscale\": [[0.0, \"#0d0887\"], [0.1111111111111111, \"#46039f\"], [0.2222222222222222, \"#7201a8\"], [0.3333333333333333, \"#9c179e\"], [0.4444444444444444, \"#bd3786\"], [0.5555555555555556, \"#d8576b\"], [0.6666666666666666, \"#ed7953\"], [0.7777777777777778, \"#fb9f3a\"], [0.8888888888888888, \"#fdca26\"], [1.0, \"#f0f921\"]], \"type\": \"heatmap\"}], \"heatmapgl\": [{\"colorbar\": {\"outlinewidth\": 0, \"ticks\": \"\"}, \"colorscale\": [[0.0, \"#0d0887\"], [0.1111111111111111, \"#46039f\"], [0.2222222222222222, \"#7201a8\"], [0.3333333333333333, \"#9c179e\"], [0.4444444444444444, \"#bd3786\"], [0.5555555555555556, \"#d8576b\"], [0.6666666666666666, \"#ed7953\"], [0.7777777777777778, \"#fb9f3a\"], [0.8888888888888888, \"#fdca26\"], [1.0, \"#f0f921\"]], \"type\": \"heatmapgl\"}], \"histogram\": [{\"marker\": {\"colorbar\": {\"outlinewidth\": 0, \"ticks\": \"\"}}, \"type\": \"histogram\"}], \"histogram2d\": [{\"colorbar\": {\"outlinewidth\": 0, \"ticks\": \"\"}, \"colorscale\": [[0.0, \"#0d0887\"], [0.1111111111111111, \"#46039f\"], [0.2222222222222222, \"#7201a8\"], [0.3333333333333333, \"#9c179e\"], [0.4444444444444444, \"#bd3786\"], [0.5555555555555556, \"#d8576b\"], [0.6666666666666666, \"#ed7953\"], [0.7777777777777778, \"#fb9f3a\"], [0.8888888888888888, \"#fdca26\"], [1.0, \"#f0f921\"]], \"type\": \"histogram2d\"}], \"histogram2dcontour\": [{\"colorbar\": {\"outlinewidth\": 0, \"ticks\": \"\"}, \"colorscale\": [[0.0, \"#0d0887\"], [0.1111111111111111, \"#46039f\"], [0.2222222222222222, \"#7201a8\"], [0.3333333333333333, \"#9c179e\"], [0.4444444444444444, \"#bd3786\"], [0.5555555555555556, \"#d8576b\"], [0.6666666666666666, \"#ed7953\"], [0.7777777777777778, \"#fb9f3a\"], [0.8888888888888888, \"#fdca26\"], [1.0, \"#f0f921\"]], \"type\": \"histogram2dcontour\"}], \"mesh3d\": [{\"colorbar\": {\"outlinewidth\": 0, \"ticks\": \"\"}, \"type\": \"mesh3d\"}], \"parcoords\": [{\"line\": {\"colorbar\": {\"outlinewidth\": 0, \"ticks\": \"\"}}, \"type\": \"parcoords\"}], \"pie\": [{\"automargin\": true, \"type\": \"pie\"}], \"scatter\": [{\"marker\": {\"colorbar\": {\"outlinewidth\": 0, \"ticks\": \"\"}}, \"type\": \"scatter\"}], \"scatter3d\": [{\"line\": {\"colorbar\": {\"outlinewidth\": 0, \"ticks\": \"\"}}, \"marker\": {\"colorbar\": {\"outlinewidth\": 0, \"ticks\": \"\"}}, \"type\": \"scatter3d\"}], \"scattercarpet\": [{\"marker\": {\"colorbar\": {\"outlinewidth\": 0, \"ticks\": \"\"}}, \"type\": \"scattercarpet\"}], \"scattergeo\": [{\"marker\": {\"colorbar\": {\"outlinewidth\": 0, \"ticks\": \"\"}}, \"type\": \"scattergeo\"}], \"scattergl\": [{\"marker\": {\"colorbar\": {\"outlinewidth\": 0, \"ticks\": \"\"}}, \"type\": \"scattergl\"}], \"scattermapbox\": [{\"marker\": {\"colorbar\": {\"outlinewidth\": 0, \"ticks\": \"\"}}, \"type\": \"scattermapbox\"}], \"scatterpolar\": [{\"marker\": {\"colorbar\": {\"outlinewidth\": 0, \"ticks\": \"\"}}, \"type\": \"scatterpolar\"}], \"scatterpolargl\": [{\"marker\": {\"colorbar\": {\"outlinewidth\": 0, \"ticks\": \"\"}}, \"type\": \"scatterpolargl\"}], \"scatterternary\": [{\"marker\": {\"colorbar\": {\"outlinewidth\": 0, \"ticks\": \"\"}}, \"type\": \"scatterternary\"}], \"surface\": [{\"colorbar\": {\"outlinewidth\": 0, \"ticks\": \"\"}, \"colorscale\": [[0.0, \"#0d0887\"], [0.1111111111111111, \"#46039f\"], [0.2222222222222222, \"#7201a8\"], [0.3333333333333333, \"#9c179e\"], [0.4444444444444444, \"#bd3786\"], [0.5555555555555556, \"#d8576b\"], [0.6666666666666666, \"#ed7953\"], [0.7777777777777778, \"#fb9f3a\"], [0.8888888888888888, \"#fdca26\"], [1.0, \"#f0f921\"]], \"type\": \"surface\"}], \"table\": [{\"cells\": {\"fill\": {\"color\": \"#EBF0F8\"}, \"line\": {\"color\": \"white\"}}, \"header\": {\"fill\": {\"color\": \"#C8D4E3\"}, \"line\": {\"color\": \"white\"}}, \"type\": \"table\"}]}, \"layout\": {\"annotationdefaults\": {\"arrowcolor\": \"#2a3f5f\", \"arrowhead\": 0, \"arrowwidth\": 1}, \"autotypenumbers\": \"strict\", \"coloraxis\": {\"colorbar\": {\"outlinewidth\": 0, \"ticks\": \"\"}}, \"colorscale\": {\"diverging\": [[0, \"#8e0152\"], [0.1, \"#c51b7d\"], [0.2, \"#de77ae\"], [0.3, \"#f1b6da\"], [0.4, \"#fde0ef\"], [0.5, \"#f7f7f7\"], [0.6, \"#e6f5d0\"], [0.7, \"#b8e186\"], [0.8, \"#7fbc41\"], [0.9, \"#4d9221\"], [1, \"#276419\"]], \"sequential\": [[0.0, \"#0d0887\"], [0.1111111111111111, \"#46039f\"], [0.2222222222222222, \"#7201a8\"], [0.3333333333333333, \"#9c179e\"], [0.4444444444444444, \"#bd3786\"], [0.5555555555555556, \"#d8576b\"], [0.6666666666666666, \"#ed7953\"], [0.7777777777777778, \"#fb9f3a\"], [0.8888888888888888, \"#fdca26\"], [1.0, \"#f0f921\"]], \"sequentialminus\": [[0.0, \"#0d0887\"], [0.1111111111111111, \"#46039f\"], [0.2222222222222222, \"#7201a8\"], [0.3333333333333333, \"#9c179e\"], [0.4444444444444444, \"#bd3786\"], [0.5555555555555556, \"#d8576b\"], [0.6666666666666666, \"#ed7953\"], [0.7777777777777778, \"#fb9f3a\"], [0.8888888888888888, \"#fdca26\"], [1.0, \"#f0f921\"]]}, \"colorway\": [\"#636efa\", \"#EF553B\", \"#00cc96\", \"#ab63fa\", \"#FFA15A\", \"#19d3f3\", \"#FF6692\", \"#B6E880\", \"#FF97FF\", \"#FECB52\"], \"font\": {\"color\": \"#2a3f5f\"}, \"geo\": {\"bgcolor\": \"white\", \"lakecolor\": \"white\", \"landcolor\": \"#E5ECF6\", \"showlakes\": true, \"showland\": true, \"subunitcolor\": \"white\"}, \"hoverlabel\": {\"align\": \"left\"}, \"hovermode\": \"closest\", \"mapbox\": {\"style\": \"light\"}, \"paper_bgcolor\": \"white\", \"plot_bgcolor\": \"#E5ECF6\", \"polar\": {\"angularaxis\": {\"gridcolor\": \"white\", \"linecolor\": \"white\", \"ticks\": \"\"}, \"bgcolor\": \"#E5ECF6\", \"radialaxis\": {\"gridcolor\": \"white\", \"linecolor\": \"white\", \"ticks\": \"\"}}, \"scene\": {\"xaxis\": {\"backgroundcolor\": \"#E5ECF6\", \"gridcolor\": \"white\", \"gridwidth\": 2, \"linecolor\": \"white\", \"showbackground\": true, \"ticks\": \"\", \"zerolinecolor\": \"white\"}, \"yaxis\": {\"backgroundcolor\": \"#E5ECF6\", \"gridcolor\": \"white\", \"gridwidth\": 2, \"linecolor\": \"white\", \"showbackground\": true, \"ticks\": \"\", \"zerolinecolor\": \"white\"}, \"zaxis\": {\"backgroundcolor\": \"#E5ECF6\", \"gridcolor\": \"white\", \"gridwidth\": 2, \"linecolor\": \"white\", \"showbackground\": true, \"ticks\": \"\", \"zerolinecolor\": \"white\"}}, \"shapedefaults\": {\"line\": {\"color\": \"#2a3f5f\"}}, \"ternary\": {\"aaxis\": {\"gridcolor\": \"white\", \"linecolor\": \"white\", \"ticks\": \"\"}, \"baxis\": {\"gridcolor\": \"white\", \"linecolor\": \"white\", \"ticks\": \"\"}, \"bgcolor\": \"#E5ECF6\", \"caxis\": {\"gridcolor\": \"white\", \"linecolor\": \"white\", \"ticks\": \"\"}}, \"title\": {\"x\": 0.05}, \"xaxis\": {\"automargin\": true, \"gridcolor\": \"white\", \"linecolor\": \"white\", \"ticks\": \"\", \"title\": {\"standoff\": 15}, \"zerolinecolor\": \"white\", \"zerolinewidth\": 2}, \"yaxis\": {\"automargin\": true, \"gridcolor\": \"white\", \"linecolor\": \"white\", \"ticks\": \"\", \"title\": {\"standoff\": 15}, \"zerolinecolor\": \"white\", \"zerolinewidth\": 2}}}, \"title\": {\"text\": \"Top 10 states with highest number of Negative cases\"}, \"xaxis\": {\"anchor\": \"y\", \"domain\": [0.0, 1.0], \"title\": {\"text\": \"State\"}}, \"yaxis\": {\"anchor\": \"x\", \"domain\": [0.0, 1.0], \"title\": {\"text\": \"Total Negative cases\"}}},                        {\"responsive\": true}                    ).then(function(){\n",
       "                            \n",
       "var gd = document.getElementById('dded9a1c-8bc6-40d5-8ddb-4658268cfced');\n",
       "var x = new MutationObserver(function (mutations, observer) {{\n",
       "        var display = window.getComputedStyle(gd).display;\n",
       "        if (!display || display === 'none') {{\n",
       "            console.log([gd, 'removed!']);\n",
       "            Plotly.purge(gd);\n",
       "            observer.disconnect();\n",
       "        }}\n",
       "}});\n",
       "\n",
       "// Listen for the removal of the full notebook cells\n",
       "var notebookContainer = gd.closest('#notebook-container');\n",
       "if (notebookContainer) {{\n",
       "    x.observe(notebookContainer, {childList: true});\n",
       "}}\n",
       "\n",
       "// Listen for the clearing of the current output cell\n",
       "var outputEl = gd.closest('.output');\n",
       "if (outputEl) {{\n",
       "    x.observe(outputEl, {childList: true});\n",
       "}}\n",
       "\n",
       "                        })                };                });            </script>        </div>"
      ]
     },
     "metadata": {},
     "output_type": "display_data"
    }
   ],
   "source": [
    "px.bar(x=covid_testing_state.nlargest(10,\"Negative\")[\"State\"],\n",
    "       y = covid_testing_state.nlargest(10,\"Negative\")[\"Negative\"],\n",
    "       labels={'y':'Total Negative cases','x':'State'},\n",
    "       color_discrete_sequence=px.colors.sequential.turbid,\n",
    "       title=\"Top 10 states with highest number of Negative cases\")"
   ]
  },
  {
   "cell_type": "code",
   "execution_count": 224,
   "metadata": {},
   "outputs": [
    {
     "data": {
      "application/vnd.plotly.v1+json": {
       "config": {
        "plotlyServerURL": "https://plot.ly"
       },
       "data": [
        {
         "alignmentgroup": "True",
         "hovertemplate": "State=%{x}<br>Total Positive Cases=%{y}<extra></extra>",
         "legendgroup": "",
         "marker": {
          "color": "rgb(51, 19, 23)"
         },
         "name": "",
         "offsetgroup": "",
         "orientation": "v",
         "showlegend": false,
         "textposition": "auto",
         "type": "bar",
         "x": [
          "Maharashtra",
          "Gujarat",
          "Delhi",
          "Tamil Nadu",
          "Rajasthan",
          "Madhya Pradesh",
          "Uttar Pradesh",
          "Andhra Pradesh",
          "West Bengal",
          "Punjab"
         ],
         "xaxis": "x",
         "y": [
          20228,
          8195,
          7233,
          7204,
          3814,
          3614,
          3467,
          1980,
          1939,
          1823
         ],
         "yaxis": "y"
        }
       ],
       "layout": {
        "barmode": "relative",
        "legend": {
         "tracegroupgap": 0
        },
        "template": {
         "data": {
          "bar": [
           {
            "error_x": {
             "color": "#2a3f5f"
            },
            "error_y": {
             "color": "#2a3f5f"
            },
            "marker": {
             "line": {
              "color": "#E5ECF6",
              "width": 0.5
             }
            },
            "type": "bar"
           }
          ],
          "barpolar": [
           {
            "marker": {
             "line": {
              "color": "#E5ECF6",
              "width": 0.5
             }
            },
            "type": "barpolar"
           }
          ],
          "carpet": [
           {
            "aaxis": {
             "endlinecolor": "#2a3f5f",
             "gridcolor": "white",
             "linecolor": "white",
             "minorgridcolor": "white",
             "startlinecolor": "#2a3f5f"
            },
            "baxis": {
             "endlinecolor": "#2a3f5f",
             "gridcolor": "white",
             "linecolor": "white",
             "minorgridcolor": "white",
             "startlinecolor": "#2a3f5f"
            },
            "type": "carpet"
           }
          ],
          "choropleth": [
           {
            "colorbar": {
             "outlinewidth": 0,
             "ticks": ""
            },
            "type": "choropleth"
           }
          ],
          "contour": [
           {
            "colorbar": {
             "outlinewidth": 0,
             "ticks": ""
            },
            "colorscale": [
             [
              0,
              "#0d0887"
             ],
             [
              0.1111111111111111,
              "#46039f"
             ],
             [
              0.2222222222222222,
              "#7201a8"
             ],
             [
              0.3333333333333333,
              "#9c179e"
             ],
             [
              0.4444444444444444,
              "#bd3786"
             ],
             [
              0.5555555555555556,
              "#d8576b"
             ],
             [
              0.6666666666666666,
              "#ed7953"
             ],
             [
              0.7777777777777778,
              "#fb9f3a"
             ],
             [
              0.8888888888888888,
              "#fdca26"
             ],
             [
              1,
              "#f0f921"
             ]
            ],
            "type": "contour"
           }
          ],
          "contourcarpet": [
           {
            "colorbar": {
             "outlinewidth": 0,
             "ticks": ""
            },
            "type": "contourcarpet"
           }
          ],
          "heatmap": [
           {
            "colorbar": {
             "outlinewidth": 0,
             "ticks": ""
            },
            "colorscale": [
             [
              0,
              "#0d0887"
             ],
             [
              0.1111111111111111,
              "#46039f"
             ],
             [
              0.2222222222222222,
              "#7201a8"
             ],
             [
              0.3333333333333333,
              "#9c179e"
             ],
             [
              0.4444444444444444,
              "#bd3786"
             ],
             [
              0.5555555555555556,
              "#d8576b"
             ],
             [
              0.6666666666666666,
              "#ed7953"
             ],
             [
              0.7777777777777778,
              "#fb9f3a"
             ],
             [
              0.8888888888888888,
              "#fdca26"
             ],
             [
              1,
              "#f0f921"
             ]
            ],
            "type": "heatmap"
           }
          ],
          "heatmapgl": [
           {
            "colorbar": {
             "outlinewidth": 0,
             "ticks": ""
            },
            "colorscale": [
             [
              0,
              "#0d0887"
             ],
             [
              0.1111111111111111,
              "#46039f"
             ],
             [
              0.2222222222222222,
              "#7201a8"
             ],
             [
              0.3333333333333333,
              "#9c179e"
             ],
             [
              0.4444444444444444,
              "#bd3786"
             ],
             [
              0.5555555555555556,
              "#d8576b"
             ],
             [
              0.6666666666666666,
              "#ed7953"
             ],
             [
              0.7777777777777778,
              "#fb9f3a"
             ],
             [
              0.8888888888888888,
              "#fdca26"
             ],
             [
              1,
              "#f0f921"
             ]
            ],
            "type": "heatmapgl"
           }
          ],
          "histogram": [
           {
            "marker": {
             "colorbar": {
              "outlinewidth": 0,
              "ticks": ""
             }
            },
            "type": "histogram"
           }
          ],
          "histogram2d": [
           {
            "colorbar": {
             "outlinewidth": 0,
             "ticks": ""
            },
            "colorscale": [
             [
              0,
              "#0d0887"
             ],
             [
              0.1111111111111111,
              "#46039f"
             ],
             [
              0.2222222222222222,
              "#7201a8"
             ],
             [
              0.3333333333333333,
              "#9c179e"
             ],
             [
              0.4444444444444444,
              "#bd3786"
             ],
             [
              0.5555555555555556,
              "#d8576b"
             ],
             [
              0.6666666666666666,
              "#ed7953"
             ],
             [
              0.7777777777777778,
              "#fb9f3a"
             ],
             [
              0.8888888888888888,
              "#fdca26"
             ],
             [
              1,
              "#f0f921"
             ]
            ],
            "type": "histogram2d"
           }
          ],
          "histogram2dcontour": [
           {
            "colorbar": {
             "outlinewidth": 0,
             "ticks": ""
            },
            "colorscale": [
             [
              0,
              "#0d0887"
             ],
             [
              0.1111111111111111,
              "#46039f"
             ],
             [
              0.2222222222222222,
              "#7201a8"
             ],
             [
              0.3333333333333333,
              "#9c179e"
             ],
             [
              0.4444444444444444,
              "#bd3786"
             ],
             [
              0.5555555555555556,
              "#d8576b"
             ],
             [
              0.6666666666666666,
              "#ed7953"
             ],
             [
              0.7777777777777778,
              "#fb9f3a"
             ],
             [
              0.8888888888888888,
              "#fdca26"
             ],
             [
              1,
              "#f0f921"
             ]
            ],
            "type": "histogram2dcontour"
           }
          ],
          "mesh3d": [
           {
            "colorbar": {
             "outlinewidth": 0,
             "ticks": ""
            },
            "type": "mesh3d"
           }
          ],
          "parcoords": [
           {
            "line": {
             "colorbar": {
              "outlinewidth": 0,
              "ticks": ""
             }
            },
            "type": "parcoords"
           }
          ],
          "pie": [
           {
            "automargin": true,
            "type": "pie"
           }
          ],
          "scatter": [
           {
            "marker": {
             "colorbar": {
              "outlinewidth": 0,
              "ticks": ""
             }
            },
            "type": "scatter"
           }
          ],
          "scatter3d": [
           {
            "line": {
             "colorbar": {
              "outlinewidth": 0,
              "ticks": ""
             }
            },
            "marker": {
             "colorbar": {
              "outlinewidth": 0,
              "ticks": ""
             }
            },
            "type": "scatter3d"
           }
          ],
          "scattercarpet": [
           {
            "marker": {
             "colorbar": {
              "outlinewidth": 0,
              "ticks": ""
             }
            },
            "type": "scattercarpet"
           }
          ],
          "scattergeo": [
           {
            "marker": {
             "colorbar": {
              "outlinewidth": 0,
              "ticks": ""
             }
            },
            "type": "scattergeo"
           }
          ],
          "scattergl": [
           {
            "marker": {
             "colorbar": {
              "outlinewidth": 0,
              "ticks": ""
             }
            },
            "type": "scattergl"
           }
          ],
          "scattermapbox": [
           {
            "marker": {
             "colorbar": {
              "outlinewidth": 0,
              "ticks": ""
             }
            },
            "type": "scattermapbox"
           }
          ],
          "scatterpolar": [
           {
            "marker": {
             "colorbar": {
              "outlinewidth": 0,
              "ticks": ""
             }
            },
            "type": "scatterpolar"
           }
          ],
          "scatterpolargl": [
           {
            "marker": {
             "colorbar": {
              "outlinewidth": 0,
              "ticks": ""
             }
            },
            "type": "scatterpolargl"
           }
          ],
          "scatterternary": [
           {
            "marker": {
             "colorbar": {
              "outlinewidth": 0,
              "ticks": ""
             }
            },
            "type": "scatterternary"
           }
          ],
          "surface": [
           {
            "colorbar": {
             "outlinewidth": 0,
             "ticks": ""
            },
            "colorscale": [
             [
              0,
              "#0d0887"
             ],
             [
              0.1111111111111111,
              "#46039f"
             ],
             [
              0.2222222222222222,
              "#7201a8"
             ],
             [
              0.3333333333333333,
              "#9c179e"
             ],
             [
              0.4444444444444444,
              "#bd3786"
             ],
             [
              0.5555555555555556,
              "#d8576b"
             ],
             [
              0.6666666666666666,
              "#ed7953"
             ],
             [
              0.7777777777777778,
              "#fb9f3a"
             ],
             [
              0.8888888888888888,
              "#fdca26"
             ],
             [
              1,
              "#f0f921"
             ]
            ],
            "type": "surface"
           }
          ],
          "table": [
           {
            "cells": {
             "fill": {
              "color": "#EBF0F8"
             },
             "line": {
              "color": "white"
             }
            },
            "header": {
             "fill": {
              "color": "#C8D4E3"
             },
             "line": {
              "color": "white"
             }
            },
            "type": "table"
           }
          ]
         },
         "layout": {
          "annotationdefaults": {
           "arrowcolor": "#2a3f5f",
           "arrowhead": 0,
           "arrowwidth": 1
          },
          "autotypenumbers": "strict",
          "coloraxis": {
           "colorbar": {
            "outlinewidth": 0,
            "ticks": ""
           }
          },
          "colorscale": {
           "diverging": [
            [
             0,
             "#8e0152"
            ],
            [
             0.1,
             "#c51b7d"
            ],
            [
             0.2,
             "#de77ae"
            ],
            [
             0.3,
             "#f1b6da"
            ],
            [
             0.4,
             "#fde0ef"
            ],
            [
             0.5,
             "#f7f7f7"
            ],
            [
             0.6,
             "#e6f5d0"
            ],
            [
             0.7,
             "#b8e186"
            ],
            [
             0.8,
             "#7fbc41"
            ],
            [
             0.9,
             "#4d9221"
            ],
            [
             1,
             "#276419"
            ]
           ],
           "sequential": [
            [
             0,
             "#0d0887"
            ],
            [
             0.1111111111111111,
             "#46039f"
            ],
            [
             0.2222222222222222,
             "#7201a8"
            ],
            [
             0.3333333333333333,
             "#9c179e"
            ],
            [
             0.4444444444444444,
             "#bd3786"
            ],
            [
             0.5555555555555556,
             "#d8576b"
            ],
            [
             0.6666666666666666,
             "#ed7953"
            ],
            [
             0.7777777777777778,
             "#fb9f3a"
            ],
            [
             0.8888888888888888,
             "#fdca26"
            ],
            [
             1,
             "#f0f921"
            ]
           ],
           "sequentialminus": [
            [
             0,
             "#0d0887"
            ],
            [
             0.1111111111111111,
             "#46039f"
            ],
            [
             0.2222222222222222,
             "#7201a8"
            ],
            [
             0.3333333333333333,
             "#9c179e"
            ],
            [
             0.4444444444444444,
             "#bd3786"
            ],
            [
             0.5555555555555556,
             "#d8576b"
            ],
            [
             0.6666666666666666,
             "#ed7953"
            ],
            [
             0.7777777777777778,
             "#fb9f3a"
            ],
            [
             0.8888888888888888,
             "#fdca26"
            ],
            [
             1,
             "#f0f921"
            ]
           ]
          },
          "colorway": [
           "#636efa",
           "#EF553B",
           "#00cc96",
           "#ab63fa",
           "#FFA15A",
           "#19d3f3",
           "#FF6692",
           "#B6E880",
           "#FF97FF",
           "#FECB52"
          ],
          "font": {
           "color": "#2a3f5f"
          },
          "geo": {
           "bgcolor": "white",
           "lakecolor": "white",
           "landcolor": "#E5ECF6",
           "showlakes": true,
           "showland": true,
           "subunitcolor": "white"
          },
          "hoverlabel": {
           "align": "left"
          },
          "hovermode": "closest",
          "mapbox": {
           "style": "light"
          },
          "paper_bgcolor": "white",
          "plot_bgcolor": "#E5ECF6",
          "polar": {
           "angularaxis": {
            "gridcolor": "white",
            "linecolor": "white",
            "ticks": ""
           },
           "bgcolor": "#E5ECF6",
           "radialaxis": {
            "gridcolor": "white",
            "linecolor": "white",
            "ticks": ""
           }
          },
          "scene": {
           "xaxis": {
            "backgroundcolor": "#E5ECF6",
            "gridcolor": "white",
            "gridwidth": 2,
            "linecolor": "white",
            "showbackground": true,
            "ticks": "",
            "zerolinecolor": "white"
           },
           "yaxis": {
            "backgroundcolor": "#E5ECF6",
            "gridcolor": "white",
            "gridwidth": 2,
            "linecolor": "white",
            "showbackground": true,
            "ticks": "",
            "zerolinecolor": "white"
           },
           "zaxis": {
            "backgroundcolor": "#E5ECF6",
            "gridcolor": "white",
            "gridwidth": 2,
            "linecolor": "white",
            "showbackground": true,
            "ticks": "",
            "zerolinecolor": "white"
           }
          },
          "shapedefaults": {
           "line": {
            "color": "#2a3f5f"
           }
          },
          "ternary": {
           "aaxis": {
            "gridcolor": "white",
            "linecolor": "white",
            "ticks": ""
           },
           "baxis": {
            "gridcolor": "white",
            "linecolor": "white",
            "ticks": ""
           },
           "bgcolor": "#E5ECF6",
           "caxis": {
            "gridcolor": "white",
            "linecolor": "white",
            "ticks": ""
           }
          },
          "title": {
           "x": 0.05
          },
          "xaxis": {
           "automargin": true,
           "gridcolor": "white",
           "linecolor": "white",
           "ticks": "",
           "title": {
            "standoff": 15
           },
           "zerolinecolor": "white",
           "zerolinewidth": 2
          },
          "yaxis": {
           "automargin": true,
           "gridcolor": "white",
           "linecolor": "white",
           "ticks": "",
           "title": {
            "standoff": 15
           },
           "zerolinecolor": "white",
           "zerolinewidth": 2
          }
         }
        },
        "title": {
         "text": "Top 10 states with highest number of Positive cases"
        },
        "xaxis": {
         "anchor": "y",
         "domain": [
          0,
          1
         ],
         "title": {
          "text": "State"
         }
        },
        "yaxis": {
         "anchor": "x",
         "domain": [
          0,
          1
         ],
         "title": {
          "text": "Total Positive Cases"
         }
        }
       }
      },
      "text/html": [
       "<div>                            <div id=\"19ab42d7-db41-42bf-bf45-badacf8b550e\" class=\"plotly-graph-div\" style=\"height:525px; width:100%;\"></div>            <script type=\"text/javascript\">                require([\"plotly\"], function(Plotly) {                    window.PLOTLYENV=window.PLOTLYENV || {};                                    if (document.getElementById(\"19ab42d7-db41-42bf-bf45-badacf8b550e\")) {                    Plotly.newPlot(                        \"19ab42d7-db41-42bf-bf45-badacf8b550e\",                        [{\"alignmentgroup\": \"True\", \"hovertemplate\": \"State=%{x}<br>Total Positive Cases=%{y}<extra></extra>\", \"legendgroup\": \"\", \"marker\": {\"color\": \"rgb(51, 19, 23)\"}, \"name\": \"\", \"offsetgroup\": \"\", \"orientation\": \"v\", \"showlegend\": false, \"textposition\": \"auto\", \"type\": \"bar\", \"x\": [\"Maharashtra\", \"Gujarat\", \"Delhi\", \"Tamil Nadu\", \"Rajasthan\", \"Madhya Pradesh\", \"Uttar Pradesh\", \"Andhra Pradesh\", \"West Bengal\", \"Punjab\"], \"xaxis\": \"x\", \"y\": [20228.0, 8195.0, 7233.0, 7204.0, 3814.0, 3614.0, 3467.0, 1980.0, 1939.0, 1823.0], \"yaxis\": \"y\"}],                        {\"barmode\": \"relative\", \"legend\": {\"tracegroupgap\": 0}, \"template\": {\"data\": {\"bar\": [{\"error_x\": {\"color\": \"#2a3f5f\"}, \"error_y\": {\"color\": \"#2a3f5f\"}, \"marker\": {\"line\": {\"color\": \"#E5ECF6\", \"width\": 0.5}}, \"type\": \"bar\"}], \"barpolar\": [{\"marker\": {\"line\": {\"color\": \"#E5ECF6\", \"width\": 0.5}}, \"type\": \"barpolar\"}], \"carpet\": [{\"aaxis\": {\"endlinecolor\": \"#2a3f5f\", \"gridcolor\": \"white\", \"linecolor\": \"white\", \"minorgridcolor\": \"white\", \"startlinecolor\": \"#2a3f5f\"}, \"baxis\": {\"endlinecolor\": \"#2a3f5f\", \"gridcolor\": \"white\", \"linecolor\": \"white\", \"minorgridcolor\": \"white\", \"startlinecolor\": \"#2a3f5f\"}, \"type\": \"carpet\"}], \"choropleth\": [{\"colorbar\": {\"outlinewidth\": 0, \"ticks\": \"\"}, \"type\": \"choropleth\"}], \"contour\": [{\"colorbar\": {\"outlinewidth\": 0, \"ticks\": \"\"}, \"colorscale\": [[0.0, \"#0d0887\"], [0.1111111111111111, \"#46039f\"], [0.2222222222222222, \"#7201a8\"], [0.3333333333333333, \"#9c179e\"], [0.4444444444444444, \"#bd3786\"], [0.5555555555555556, \"#d8576b\"], [0.6666666666666666, \"#ed7953\"], [0.7777777777777778, \"#fb9f3a\"], [0.8888888888888888, \"#fdca26\"], [1.0, \"#f0f921\"]], \"type\": \"contour\"}], \"contourcarpet\": [{\"colorbar\": {\"outlinewidth\": 0, \"ticks\": \"\"}, \"type\": \"contourcarpet\"}], \"heatmap\": [{\"colorbar\": {\"outlinewidth\": 0, \"ticks\": \"\"}, \"colorscale\": [[0.0, \"#0d0887\"], [0.1111111111111111, \"#46039f\"], [0.2222222222222222, \"#7201a8\"], [0.3333333333333333, \"#9c179e\"], [0.4444444444444444, \"#bd3786\"], [0.5555555555555556, \"#d8576b\"], [0.6666666666666666, \"#ed7953\"], [0.7777777777777778, \"#fb9f3a\"], [0.8888888888888888, \"#fdca26\"], [1.0, \"#f0f921\"]], \"type\": \"heatmap\"}], \"heatmapgl\": [{\"colorbar\": {\"outlinewidth\": 0, \"ticks\": \"\"}, \"colorscale\": [[0.0, \"#0d0887\"], [0.1111111111111111, \"#46039f\"], [0.2222222222222222, \"#7201a8\"], [0.3333333333333333, \"#9c179e\"], [0.4444444444444444, \"#bd3786\"], [0.5555555555555556, \"#d8576b\"], [0.6666666666666666, \"#ed7953\"], [0.7777777777777778, \"#fb9f3a\"], [0.8888888888888888, \"#fdca26\"], [1.0, \"#f0f921\"]], \"type\": \"heatmapgl\"}], \"histogram\": [{\"marker\": {\"colorbar\": {\"outlinewidth\": 0, \"ticks\": \"\"}}, \"type\": \"histogram\"}], \"histogram2d\": [{\"colorbar\": {\"outlinewidth\": 0, \"ticks\": \"\"}, \"colorscale\": [[0.0, \"#0d0887\"], [0.1111111111111111, \"#46039f\"], [0.2222222222222222, \"#7201a8\"], [0.3333333333333333, \"#9c179e\"], [0.4444444444444444, \"#bd3786\"], [0.5555555555555556, \"#d8576b\"], [0.6666666666666666, \"#ed7953\"], [0.7777777777777778, \"#fb9f3a\"], [0.8888888888888888, \"#fdca26\"], [1.0, \"#f0f921\"]], \"type\": \"histogram2d\"}], \"histogram2dcontour\": [{\"colorbar\": {\"outlinewidth\": 0, \"ticks\": \"\"}, \"colorscale\": [[0.0, \"#0d0887\"], [0.1111111111111111, \"#46039f\"], [0.2222222222222222, \"#7201a8\"], [0.3333333333333333, \"#9c179e\"], [0.4444444444444444, \"#bd3786\"], [0.5555555555555556, \"#d8576b\"], [0.6666666666666666, \"#ed7953\"], [0.7777777777777778, \"#fb9f3a\"], [0.8888888888888888, \"#fdca26\"], [1.0, \"#f0f921\"]], \"type\": \"histogram2dcontour\"}], \"mesh3d\": [{\"colorbar\": {\"outlinewidth\": 0, \"ticks\": \"\"}, \"type\": \"mesh3d\"}], \"parcoords\": [{\"line\": {\"colorbar\": {\"outlinewidth\": 0, \"ticks\": \"\"}}, \"type\": \"parcoords\"}], \"pie\": [{\"automargin\": true, \"type\": \"pie\"}], \"scatter\": [{\"marker\": {\"colorbar\": {\"outlinewidth\": 0, \"ticks\": \"\"}}, \"type\": \"scatter\"}], \"scatter3d\": [{\"line\": {\"colorbar\": {\"outlinewidth\": 0, \"ticks\": \"\"}}, \"marker\": {\"colorbar\": {\"outlinewidth\": 0, \"ticks\": \"\"}}, \"type\": \"scatter3d\"}], \"scattercarpet\": [{\"marker\": {\"colorbar\": {\"outlinewidth\": 0, \"ticks\": \"\"}}, \"type\": \"scattercarpet\"}], \"scattergeo\": [{\"marker\": {\"colorbar\": {\"outlinewidth\": 0, \"ticks\": \"\"}}, \"type\": \"scattergeo\"}], \"scattergl\": [{\"marker\": {\"colorbar\": {\"outlinewidth\": 0, \"ticks\": \"\"}}, \"type\": \"scattergl\"}], \"scattermapbox\": [{\"marker\": {\"colorbar\": {\"outlinewidth\": 0, \"ticks\": \"\"}}, \"type\": \"scattermapbox\"}], \"scatterpolar\": [{\"marker\": {\"colorbar\": {\"outlinewidth\": 0, \"ticks\": \"\"}}, \"type\": \"scatterpolar\"}], \"scatterpolargl\": [{\"marker\": {\"colorbar\": {\"outlinewidth\": 0, \"ticks\": \"\"}}, \"type\": \"scatterpolargl\"}], \"scatterternary\": [{\"marker\": {\"colorbar\": {\"outlinewidth\": 0, \"ticks\": \"\"}}, \"type\": \"scatterternary\"}], \"surface\": [{\"colorbar\": {\"outlinewidth\": 0, \"ticks\": \"\"}, \"colorscale\": [[0.0, \"#0d0887\"], [0.1111111111111111, \"#46039f\"], [0.2222222222222222, \"#7201a8\"], [0.3333333333333333, \"#9c179e\"], [0.4444444444444444, \"#bd3786\"], [0.5555555555555556, \"#d8576b\"], [0.6666666666666666, \"#ed7953\"], [0.7777777777777778, \"#fb9f3a\"], [0.8888888888888888, \"#fdca26\"], [1.0, \"#f0f921\"]], \"type\": \"surface\"}], \"table\": [{\"cells\": {\"fill\": {\"color\": \"#EBF0F8\"}, \"line\": {\"color\": \"white\"}}, \"header\": {\"fill\": {\"color\": \"#C8D4E3\"}, \"line\": {\"color\": \"white\"}}, \"type\": \"table\"}]}, \"layout\": {\"annotationdefaults\": {\"arrowcolor\": \"#2a3f5f\", \"arrowhead\": 0, \"arrowwidth\": 1}, \"autotypenumbers\": \"strict\", \"coloraxis\": {\"colorbar\": {\"outlinewidth\": 0, \"ticks\": \"\"}}, \"colorscale\": {\"diverging\": [[0, \"#8e0152\"], [0.1, \"#c51b7d\"], [0.2, \"#de77ae\"], [0.3, \"#f1b6da\"], [0.4, \"#fde0ef\"], [0.5, \"#f7f7f7\"], [0.6, \"#e6f5d0\"], [0.7, \"#b8e186\"], [0.8, \"#7fbc41\"], [0.9, \"#4d9221\"], [1, \"#276419\"]], \"sequential\": [[0.0, \"#0d0887\"], [0.1111111111111111, \"#46039f\"], [0.2222222222222222, \"#7201a8\"], [0.3333333333333333, \"#9c179e\"], [0.4444444444444444, \"#bd3786\"], [0.5555555555555556, \"#d8576b\"], [0.6666666666666666, \"#ed7953\"], [0.7777777777777778, \"#fb9f3a\"], [0.8888888888888888, \"#fdca26\"], [1.0, \"#f0f921\"]], \"sequentialminus\": [[0.0, \"#0d0887\"], [0.1111111111111111, \"#46039f\"], [0.2222222222222222, \"#7201a8\"], [0.3333333333333333, \"#9c179e\"], [0.4444444444444444, \"#bd3786\"], [0.5555555555555556, \"#d8576b\"], [0.6666666666666666, \"#ed7953\"], [0.7777777777777778, \"#fb9f3a\"], [0.8888888888888888, \"#fdca26\"], [1.0, \"#f0f921\"]]}, \"colorway\": [\"#636efa\", \"#EF553B\", \"#00cc96\", \"#ab63fa\", \"#FFA15A\", \"#19d3f3\", \"#FF6692\", \"#B6E880\", \"#FF97FF\", \"#FECB52\"], \"font\": {\"color\": \"#2a3f5f\"}, \"geo\": {\"bgcolor\": \"white\", \"lakecolor\": \"white\", \"landcolor\": \"#E5ECF6\", \"showlakes\": true, \"showland\": true, \"subunitcolor\": \"white\"}, \"hoverlabel\": {\"align\": \"left\"}, \"hovermode\": \"closest\", \"mapbox\": {\"style\": \"light\"}, \"paper_bgcolor\": \"white\", \"plot_bgcolor\": \"#E5ECF6\", \"polar\": {\"angularaxis\": {\"gridcolor\": \"white\", \"linecolor\": \"white\", \"ticks\": \"\"}, \"bgcolor\": \"#E5ECF6\", \"radialaxis\": {\"gridcolor\": \"white\", \"linecolor\": \"white\", \"ticks\": \"\"}}, \"scene\": {\"xaxis\": {\"backgroundcolor\": \"#E5ECF6\", \"gridcolor\": \"white\", \"gridwidth\": 2, \"linecolor\": \"white\", \"showbackground\": true, \"ticks\": \"\", \"zerolinecolor\": \"white\"}, \"yaxis\": {\"backgroundcolor\": \"#E5ECF6\", \"gridcolor\": \"white\", \"gridwidth\": 2, \"linecolor\": \"white\", \"showbackground\": true, \"ticks\": \"\", \"zerolinecolor\": \"white\"}, \"zaxis\": {\"backgroundcolor\": \"#E5ECF6\", \"gridcolor\": \"white\", \"gridwidth\": 2, \"linecolor\": \"white\", \"showbackground\": true, \"ticks\": \"\", \"zerolinecolor\": \"white\"}}, \"shapedefaults\": {\"line\": {\"color\": \"#2a3f5f\"}}, \"ternary\": {\"aaxis\": {\"gridcolor\": \"white\", \"linecolor\": \"white\", \"ticks\": \"\"}, \"baxis\": {\"gridcolor\": \"white\", \"linecolor\": \"white\", \"ticks\": \"\"}, \"bgcolor\": \"#E5ECF6\", \"caxis\": {\"gridcolor\": \"white\", \"linecolor\": \"white\", \"ticks\": \"\"}}, \"title\": {\"x\": 0.05}, \"xaxis\": {\"automargin\": true, \"gridcolor\": \"white\", \"linecolor\": \"white\", \"ticks\": \"\", \"title\": {\"standoff\": 15}, \"zerolinecolor\": \"white\", \"zerolinewidth\": 2}, \"yaxis\": {\"automargin\": true, \"gridcolor\": \"white\", \"linecolor\": \"white\", \"ticks\": \"\", \"title\": {\"standoff\": 15}, \"zerolinecolor\": \"white\", \"zerolinewidth\": 2}}}, \"title\": {\"text\": \"Top 10 states with highest number of Positive cases\"}, \"xaxis\": {\"anchor\": \"y\", \"domain\": [0.0, 1.0], \"title\": {\"text\": \"State\"}}, \"yaxis\": {\"anchor\": \"x\", \"domain\": [0.0, 1.0], \"title\": {\"text\": \"Total Positive Cases\"}}},                        {\"responsive\": true}                    ).then(function(){\n",
       "                            \n",
       "var gd = document.getElementById('19ab42d7-db41-42bf-bf45-badacf8b550e');\n",
       "var x = new MutationObserver(function (mutations, observer) {{\n",
       "        var display = window.getComputedStyle(gd).display;\n",
       "        if (!display || display === 'none') {{\n",
       "            console.log([gd, 'removed!']);\n",
       "            Plotly.purge(gd);\n",
       "            observer.disconnect();\n",
       "        }}\n",
       "}});\n",
       "\n",
       "// Listen for the removal of the full notebook cells\n",
       "var notebookContainer = gd.closest('#notebook-container');\n",
       "if (notebookContainer) {{\n",
       "    x.observe(notebookContainer, {childList: true});\n",
       "}}\n",
       "\n",
       "// Listen for the clearing of the current output cell\n",
       "var outputEl = gd.closest('.output');\n",
       "if (outputEl) {{\n",
       "    x.observe(outputEl, {childList: true});\n",
       "}}\n",
       "\n",
       "                        })                };                });            </script>        </div>"
      ]
     },
     "metadata": {},
     "output_type": "display_data"
    }
   ],
   "source": [
    "px.bar(x=covid_testing_state.nlargest(10,\"Positive\")[\"State\"],\n",
    "       y = covid_testing_state.nlargest(10,\"Positive\")[\"Positive\"],\n",
    "       labels={'y':'Total Positive Cases','x':'State'},\n",
    "       color_discrete_sequence=px.colors.sequential.solar,\n",
    "       title=\"Top 10 states with highest number of Positive cases\")"
   ]
  },
  {
   "cell_type": "code",
   "execution_count": 225,
   "metadata": {
    "scrolled": true
   },
   "outputs": [
    {
     "data": {
      "application/vnd.plotly.v1+json": {
       "config": {
        "plotlyServerURL": "https://plot.ly"
       },
       "data": [
        {
         "alignmentgroup": "True",
         "hovertemplate": "State=%{x}<br>Positive Percentage=%{y}<extra></extra>",
         "legendgroup": "",
         "marker": {
          "color": "rgb(36, 86, 104)"
         },
         "name": "",
         "offsetgroup": "",
         "orientation": "v",
         "showlegend": false,
         "textposition": "auto",
         "type": "bar",
         "x": [
          "Bihar",
          "Delhi",
          "Chandigarh",
          "Chhattisgarh",
          "Goa",
          "Haryana",
          "Gujarat",
          "Jammu and Kashmir",
          "Jharkhand",
          "Himachal Pradesh"
         ],
         "xaxis": "x",
         "y": [
          7.333333333333333,
          5.82063811440069,
          5.726388453090681,
          5.4757114113250935,
          4.934323243860652,
          4.520795660036167,
          4.502617801047121,
          2.8267852730417595,
          2.8111888111888113,
          2.638991845811712
         ],
         "yaxis": "y"
        }
       ],
       "layout": {
        "barmode": "relative",
        "height": 420,
        "legend": {
         "tracegroupgap": 0
        },
        "template": {
         "data": {
          "bar": [
           {
            "error_x": {
             "color": "#2a3f5f"
            },
            "error_y": {
             "color": "#2a3f5f"
            },
            "marker": {
             "line": {
              "color": "#E5ECF6",
              "width": 0.5
             }
            },
            "type": "bar"
           }
          ],
          "barpolar": [
           {
            "marker": {
             "line": {
              "color": "#E5ECF6",
              "width": 0.5
             }
            },
            "type": "barpolar"
           }
          ],
          "carpet": [
           {
            "aaxis": {
             "endlinecolor": "#2a3f5f",
             "gridcolor": "white",
             "linecolor": "white",
             "minorgridcolor": "white",
             "startlinecolor": "#2a3f5f"
            },
            "baxis": {
             "endlinecolor": "#2a3f5f",
             "gridcolor": "white",
             "linecolor": "white",
             "minorgridcolor": "white",
             "startlinecolor": "#2a3f5f"
            },
            "type": "carpet"
           }
          ],
          "choropleth": [
           {
            "colorbar": {
             "outlinewidth": 0,
             "ticks": ""
            },
            "type": "choropleth"
           }
          ],
          "contour": [
           {
            "colorbar": {
             "outlinewidth": 0,
             "ticks": ""
            },
            "colorscale": [
             [
              0,
              "#0d0887"
             ],
             [
              0.1111111111111111,
              "#46039f"
             ],
             [
              0.2222222222222222,
              "#7201a8"
             ],
             [
              0.3333333333333333,
              "#9c179e"
             ],
             [
              0.4444444444444444,
              "#bd3786"
             ],
             [
              0.5555555555555556,
              "#d8576b"
             ],
             [
              0.6666666666666666,
              "#ed7953"
             ],
             [
              0.7777777777777778,
              "#fb9f3a"
             ],
             [
              0.8888888888888888,
              "#fdca26"
             ],
             [
              1,
              "#f0f921"
             ]
            ],
            "type": "contour"
           }
          ],
          "contourcarpet": [
           {
            "colorbar": {
             "outlinewidth": 0,
             "ticks": ""
            },
            "type": "contourcarpet"
           }
          ],
          "heatmap": [
           {
            "colorbar": {
             "outlinewidth": 0,
             "ticks": ""
            },
            "colorscale": [
             [
              0,
              "#0d0887"
             ],
             [
              0.1111111111111111,
              "#46039f"
             ],
             [
              0.2222222222222222,
              "#7201a8"
             ],
             [
              0.3333333333333333,
              "#9c179e"
             ],
             [
              0.4444444444444444,
              "#bd3786"
             ],
             [
              0.5555555555555556,
              "#d8576b"
             ],
             [
              0.6666666666666666,
              "#ed7953"
             ],
             [
              0.7777777777777778,
              "#fb9f3a"
             ],
             [
              0.8888888888888888,
              "#fdca26"
             ],
             [
              1,
              "#f0f921"
             ]
            ],
            "type": "heatmap"
           }
          ],
          "heatmapgl": [
           {
            "colorbar": {
             "outlinewidth": 0,
             "ticks": ""
            },
            "colorscale": [
             [
              0,
              "#0d0887"
             ],
             [
              0.1111111111111111,
              "#46039f"
             ],
             [
              0.2222222222222222,
              "#7201a8"
             ],
             [
              0.3333333333333333,
              "#9c179e"
             ],
             [
              0.4444444444444444,
              "#bd3786"
             ],
             [
              0.5555555555555556,
              "#d8576b"
             ],
             [
              0.6666666666666666,
              "#ed7953"
             ],
             [
              0.7777777777777778,
              "#fb9f3a"
             ],
             [
              0.8888888888888888,
              "#fdca26"
             ],
             [
              1,
              "#f0f921"
             ]
            ],
            "type": "heatmapgl"
           }
          ],
          "histogram": [
           {
            "marker": {
             "colorbar": {
              "outlinewidth": 0,
              "ticks": ""
             }
            },
            "type": "histogram"
           }
          ],
          "histogram2d": [
           {
            "colorbar": {
             "outlinewidth": 0,
             "ticks": ""
            },
            "colorscale": [
             [
              0,
              "#0d0887"
             ],
             [
              0.1111111111111111,
              "#46039f"
             ],
             [
              0.2222222222222222,
              "#7201a8"
             ],
             [
              0.3333333333333333,
              "#9c179e"
             ],
             [
              0.4444444444444444,
              "#bd3786"
             ],
             [
              0.5555555555555556,
              "#d8576b"
             ],
             [
              0.6666666666666666,
              "#ed7953"
             ],
             [
              0.7777777777777778,
              "#fb9f3a"
             ],
             [
              0.8888888888888888,
              "#fdca26"
             ],
             [
              1,
              "#f0f921"
             ]
            ],
            "type": "histogram2d"
           }
          ],
          "histogram2dcontour": [
           {
            "colorbar": {
             "outlinewidth": 0,
             "ticks": ""
            },
            "colorscale": [
             [
              0,
              "#0d0887"
             ],
             [
              0.1111111111111111,
              "#46039f"
             ],
             [
              0.2222222222222222,
              "#7201a8"
             ],
             [
              0.3333333333333333,
              "#9c179e"
             ],
             [
              0.4444444444444444,
              "#bd3786"
             ],
             [
              0.5555555555555556,
              "#d8576b"
             ],
             [
              0.6666666666666666,
              "#ed7953"
             ],
             [
              0.7777777777777778,
              "#fb9f3a"
             ],
             [
              0.8888888888888888,
              "#fdca26"
             ],
             [
              1,
              "#f0f921"
             ]
            ],
            "type": "histogram2dcontour"
           }
          ],
          "mesh3d": [
           {
            "colorbar": {
             "outlinewidth": 0,
             "ticks": ""
            },
            "type": "mesh3d"
           }
          ],
          "parcoords": [
           {
            "line": {
             "colorbar": {
              "outlinewidth": 0,
              "ticks": ""
             }
            },
            "type": "parcoords"
           }
          ],
          "pie": [
           {
            "automargin": true,
            "type": "pie"
           }
          ],
          "scatter": [
           {
            "marker": {
             "colorbar": {
              "outlinewidth": 0,
              "ticks": ""
             }
            },
            "type": "scatter"
           }
          ],
          "scatter3d": [
           {
            "line": {
             "colorbar": {
              "outlinewidth": 0,
              "ticks": ""
             }
            },
            "marker": {
             "colorbar": {
              "outlinewidth": 0,
              "ticks": ""
             }
            },
            "type": "scatter3d"
           }
          ],
          "scattercarpet": [
           {
            "marker": {
             "colorbar": {
              "outlinewidth": 0,
              "ticks": ""
             }
            },
            "type": "scattercarpet"
           }
          ],
          "scattergeo": [
           {
            "marker": {
             "colorbar": {
              "outlinewidth": 0,
              "ticks": ""
             }
            },
            "type": "scattergeo"
           }
          ],
          "scattergl": [
           {
            "marker": {
             "colorbar": {
              "outlinewidth": 0,
              "ticks": ""
             }
            },
            "type": "scattergl"
           }
          ],
          "scattermapbox": [
           {
            "marker": {
             "colorbar": {
              "outlinewidth": 0,
              "ticks": ""
             }
            },
            "type": "scattermapbox"
           }
          ],
          "scatterpolar": [
           {
            "marker": {
             "colorbar": {
              "outlinewidth": 0,
              "ticks": ""
             }
            },
            "type": "scatterpolar"
           }
          ],
          "scatterpolargl": [
           {
            "marker": {
             "colorbar": {
              "outlinewidth": 0,
              "ticks": ""
             }
            },
            "type": "scatterpolargl"
           }
          ],
          "scatterternary": [
           {
            "marker": {
             "colorbar": {
              "outlinewidth": 0,
              "ticks": ""
             }
            },
            "type": "scatterternary"
           }
          ],
          "surface": [
           {
            "colorbar": {
             "outlinewidth": 0,
             "ticks": ""
            },
            "colorscale": [
             [
              0,
              "#0d0887"
             ],
             [
              0.1111111111111111,
              "#46039f"
             ],
             [
              0.2222222222222222,
              "#7201a8"
             ],
             [
              0.3333333333333333,
              "#9c179e"
             ],
             [
              0.4444444444444444,
              "#bd3786"
             ],
             [
              0.5555555555555556,
              "#d8576b"
             ],
             [
              0.6666666666666666,
              "#ed7953"
             ],
             [
              0.7777777777777778,
              "#fb9f3a"
             ],
             [
              0.8888888888888888,
              "#fdca26"
             ],
             [
              1,
              "#f0f921"
             ]
            ],
            "type": "surface"
           }
          ],
          "table": [
           {
            "cells": {
             "fill": {
              "color": "#EBF0F8"
             },
             "line": {
              "color": "white"
             }
            },
            "header": {
             "fill": {
              "color": "#C8D4E3"
             },
             "line": {
              "color": "white"
             }
            },
            "type": "table"
           }
          ]
         },
         "layout": {
          "annotationdefaults": {
           "arrowcolor": "#2a3f5f",
           "arrowhead": 0,
           "arrowwidth": 1
          },
          "autotypenumbers": "strict",
          "coloraxis": {
           "colorbar": {
            "outlinewidth": 0,
            "ticks": ""
           }
          },
          "colorscale": {
           "diverging": [
            [
             0,
             "#8e0152"
            ],
            [
             0.1,
             "#c51b7d"
            ],
            [
             0.2,
             "#de77ae"
            ],
            [
             0.3,
             "#f1b6da"
            ],
            [
             0.4,
             "#fde0ef"
            ],
            [
             0.5,
             "#f7f7f7"
            ],
            [
             0.6,
             "#e6f5d0"
            ],
            [
             0.7,
             "#b8e186"
            ],
            [
             0.8,
             "#7fbc41"
            ],
            [
             0.9,
             "#4d9221"
            ],
            [
             1,
             "#276419"
            ]
           ],
           "sequential": [
            [
             0,
             "#0d0887"
            ],
            [
             0.1111111111111111,
             "#46039f"
            ],
            [
             0.2222222222222222,
             "#7201a8"
            ],
            [
             0.3333333333333333,
             "#9c179e"
            ],
            [
             0.4444444444444444,
             "#bd3786"
            ],
            [
             0.5555555555555556,
             "#d8576b"
            ],
            [
             0.6666666666666666,
             "#ed7953"
            ],
            [
             0.7777777777777778,
             "#fb9f3a"
            ],
            [
             0.8888888888888888,
             "#fdca26"
            ],
            [
             1,
             "#f0f921"
            ]
           ],
           "sequentialminus": [
            [
             0,
             "#0d0887"
            ],
            [
             0.1111111111111111,
             "#46039f"
            ],
            [
             0.2222222222222222,
             "#7201a8"
            ],
            [
             0.3333333333333333,
             "#9c179e"
            ],
            [
             0.4444444444444444,
             "#bd3786"
            ],
            [
             0.5555555555555556,
             "#d8576b"
            ],
            [
             0.6666666666666666,
             "#ed7953"
            ],
            [
             0.7777777777777778,
             "#fb9f3a"
            ],
            [
             0.8888888888888888,
             "#fdca26"
            ],
            [
             1,
             "#f0f921"
            ]
           ]
          },
          "colorway": [
           "#636efa",
           "#EF553B",
           "#00cc96",
           "#ab63fa",
           "#FFA15A",
           "#19d3f3",
           "#FF6692",
           "#B6E880",
           "#FF97FF",
           "#FECB52"
          ],
          "font": {
           "color": "#2a3f5f"
          },
          "geo": {
           "bgcolor": "white",
           "lakecolor": "white",
           "landcolor": "#E5ECF6",
           "showlakes": true,
           "showland": true,
           "subunitcolor": "white"
          },
          "hoverlabel": {
           "align": "left"
          },
          "hovermode": "closest",
          "mapbox": {
           "style": "light"
          },
          "paper_bgcolor": "white",
          "plot_bgcolor": "#E5ECF6",
          "polar": {
           "angularaxis": {
            "gridcolor": "white",
            "linecolor": "white",
            "ticks": ""
           },
           "bgcolor": "#E5ECF6",
           "radialaxis": {
            "gridcolor": "white",
            "linecolor": "white",
            "ticks": ""
           }
          },
          "scene": {
           "xaxis": {
            "backgroundcolor": "#E5ECF6",
            "gridcolor": "white",
            "gridwidth": 2,
            "linecolor": "white",
            "showbackground": true,
            "ticks": "",
            "zerolinecolor": "white"
           },
           "yaxis": {
            "backgroundcolor": "#E5ECF6",
            "gridcolor": "white",
            "gridwidth": 2,
            "linecolor": "white",
            "showbackground": true,
            "ticks": "",
            "zerolinecolor": "white"
           },
           "zaxis": {
            "backgroundcolor": "#E5ECF6",
            "gridcolor": "white",
            "gridwidth": 2,
            "linecolor": "white",
            "showbackground": true,
            "ticks": "",
            "zerolinecolor": "white"
           }
          },
          "shapedefaults": {
           "line": {
            "color": "#2a3f5f"
           }
          },
          "ternary": {
           "aaxis": {
            "gridcolor": "white",
            "linecolor": "white",
            "ticks": ""
           },
           "baxis": {
            "gridcolor": "white",
            "linecolor": "white",
            "ticks": ""
           },
           "bgcolor": "#E5ECF6",
           "caxis": {
            "gridcolor": "white",
            "linecolor": "white",
            "ticks": ""
           }
          },
          "title": {
           "x": 0.05
          },
          "xaxis": {
           "automargin": true,
           "gridcolor": "white",
           "linecolor": "white",
           "ticks": "",
           "title": {
            "standoff": 15
           },
           "zerolinecolor": "white",
           "zerolinewidth": 2
          },
          "yaxis": {
           "automargin": true,
           "gridcolor": "white",
           "linecolor": "white",
           "ticks": "",
           "title": {
            "standoff": 15
           },
           "zerolinecolor": "white",
           "zerolinewidth": 2
          }
         }
        },
        "title": {
         "text": "Top 10 states with highest Positive percentage"
        },
        "xaxis": {
         "anchor": "y",
         "domain": [
          0,
          1
         ],
         "title": {
          "text": "State"
         }
        },
        "yaxis": {
         "anchor": "x",
         "domain": [
          0,
          1
         ],
         "title": {
          "text": "Positive Percentage"
         }
        }
       }
      },
      "text/html": [
       "<div>                            <div id=\"c1b3f316-36c3-4b5d-bd91-0c990ed24ef3\" class=\"plotly-graph-div\" style=\"height:420px; width:100%;\"></div>            <script type=\"text/javascript\">                require([\"plotly\"], function(Plotly) {                    window.PLOTLYENV=window.PLOTLYENV || {};                                    if (document.getElementById(\"c1b3f316-36c3-4b5d-bd91-0c990ed24ef3\")) {                    Plotly.newPlot(                        \"c1b3f316-36c3-4b5d-bd91-0c990ed24ef3\",                        [{\"alignmentgroup\": \"True\", \"hovertemplate\": \"State=%{x}<br>Positive Percentage=%{y}<extra></extra>\", \"legendgroup\": \"\", \"marker\": {\"color\": \"rgb(36, 86, 104)\"}, \"name\": \"\", \"offsetgroup\": \"\", \"orientation\": \"v\", \"showlegend\": false, \"textposition\": \"auto\", \"type\": \"bar\", \"x\": [\"Bihar\", \"Delhi\", \"Chandigarh\", \"Chhattisgarh\", \"Goa\", \"Haryana\", \"Gujarat\", \"Jammu and Kashmir\", \"Jharkhand\", \"Himachal Pradesh\"], \"xaxis\": \"x\", \"y\": [7.333333333333333, 5.82063811440069, 5.726388453090681, 5.4757114113250935, 4.934323243860652, 4.520795660036167, 4.502617801047121, 2.8267852730417595, 2.8111888111888113, 2.638991845811712], \"yaxis\": \"y\"}],                        {\"barmode\": \"relative\", \"height\": 420, \"legend\": {\"tracegroupgap\": 0}, \"template\": {\"data\": {\"bar\": [{\"error_x\": {\"color\": \"#2a3f5f\"}, \"error_y\": {\"color\": \"#2a3f5f\"}, \"marker\": {\"line\": {\"color\": \"#E5ECF6\", \"width\": 0.5}}, \"type\": \"bar\"}], \"barpolar\": [{\"marker\": {\"line\": {\"color\": \"#E5ECF6\", \"width\": 0.5}}, \"type\": \"barpolar\"}], \"carpet\": [{\"aaxis\": {\"endlinecolor\": \"#2a3f5f\", \"gridcolor\": \"white\", \"linecolor\": \"white\", \"minorgridcolor\": \"white\", \"startlinecolor\": \"#2a3f5f\"}, \"baxis\": {\"endlinecolor\": \"#2a3f5f\", \"gridcolor\": \"white\", \"linecolor\": \"white\", \"minorgridcolor\": \"white\", \"startlinecolor\": \"#2a3f5f\"}, \"type\": \"carpet\"}], \"choropleth\": [{\"colorbar\": {\"outlinewidth\": 0, \"ticks\": \"\"}, \"type\": \"choropleth\"}], \"contour\": [{\"colorbar\": {\"outlinewidth\": 0, \"ticks\": \"\"}, \"colorscale\": [[0.0, \"#0d0887\"], [0.1111111111111111, \"#46039f\"], [0.2222222222222222, \"#7201a8\"], [0.3333333333333333, \"#9c179e\"], [0.4444444444444444, \"#bd3786\"], [0.5555555555555556, \"#d8576b\"], [0.6666666666666666, \"#ed7953\"], [0.7777777777777778, \"#fb9f3a\"], [0.8888888888888888, \"#fdca26\"], [1.0, \"#f0f921\"]], \"type\": \"contour\"}], \"contourcarpet\": [{\"colorbar\": {\"outlinewidth\": 0, \"ticks\": \"\"}, \"type\": \"contourcarpet\"}], \"heatmap\": [{\"colorbar\": {\"outlinewidth\": 0, \"ticks\": \"\"}, \"colorscale\": [[0.0, \"#0d0887\"], [0.1111111111111111, \"#46039f\"], [0.2222222222222222, \"#7201a8\"], [0.3333333333333333, \"#9c179e\"], [0.4444444444444444, \"#bd3786\"], [0.5555555555555556, \"#d8576b\"], [0.6666666666666666, \"#ed7953\"], [0.7777777777777778, \"#fb9f3a\"], [0.8888888888888888, \"#fdca26\"], [1.0, \"#f0f921\"]], \"type\": \"heatmap\"}], \"heatmapgl\": [{\"colorbar\": {\"outlinewidth\": 0, \"ticks\": \"\"}, \"colorscale\": [[0.0, \"#0d0887\"], [0.1111111111111111, \"#46039f\"], [0.2222222222222222, \"#7201a8\"], [0.3333333333333333, \"#9c179e\"], [0.4444444444444444, \"#bd3786\"], [0.5555555555555556, \"#d8576b\"], [0.6666666666666666, \"#ed7953\"], [0.7777777777777778, \"#fb9f3a\"], [0.8888888888888888, \"#fdca26\"], [1.0, \"#f0f921\"]], \"type\": \"heatmapgl\"}], \"histogram\": [{\"marker\": {\"colorbar\": {\"outlinewidth\": 0, \"ticks\": \"\"}}, \"type\": \"histogram\"}], \"histogram2d\": [{\"colorbar\": {\"outlinewidth\": 0, \"ticks\": \"\"}, \"colorscale\": [[0.0, \"#0d0887\"], [0.1111111111111111, \"#46039f\"], [0.2222222222222222, \"#7201a8\"], [0.3333333333333333, \"#9c179e\"], [0.4444444444444444, \"#bd3786\"], [0.5555555555555556, \"#d8576b\"], [0.6666666666666666, \"#ed7953\"], [0.7777777777777778, \"#fb9f3a\"], [0.8888888888888888, \"#fdca26\"], [1.0, \"#f0f921\"]], \"type\": \"histogram2d\"}], \"histogram2dcontour\": [{\"colorbar\": {\"outlinewidth\": 0, \"ticks\": \"\"}, \"colorscale\": [[0.0, \"#0d0887\"], [0.1111111111111111, \"#46039f\"], [0.2222222222222222, \"#7201a8\"], [0.3333333333333333, \"#9c179e\"], [0.4444444444444444, \"#bd3786\"], [0.5555555555555556, \"#d8576b\"], [0.6666666666666666, \"#ed7953\"], [0.7777777777777778, \"#fb9f3a\"], [0.8888888888888888, \"#fdca26\"], [1.0, \"#f0f921\"]], \"type\": \"histogram2dcontour\"}], \"mesh3d\": [{\"colorbar\": {\"outlinewidth\": 0, \"ticks\": \"\"}, \"type\": \"mesh3d\"}], \"parcoords\": [{\"line\": {\"colorbar\": {\"outlinewidth\": 0, \"ticks\": \"\"}}, \"type\": \"parcoords\"}], \"pie\": [{\"automargin\": true, \"type\": \"pie\"}], \"scatter\": [{\"marker\": {\"colorbar\": {\"outlinewidth\": 0, \"ticks\": \"\"}}, \"type\": \"scatter\"}], \"scatter3d\": [{\"line\": {\"colorbar\": {\"outlinewidth\": 0, \"ticks\": \"\"}}, \"marker\": {\"colorbar\": {\"outlinewidth\": 0, \"ticks\": \"\"}}, \"type\": \"scatter3d\"}], \"scattercarpet\": [{\"marker\": {\"colorbar\": {\"outlinewidth\": 0, \"ticks\": \"\"}}, \"type\": \"scattercarpet\"}], \"scattergeo\": [{\"marker\": {\"colorbar\": {\"outlinewidth\": 0, \"ticks\": \"\"}}, \"type\": \"scattergeo\"}], \"scattergl\": [{\"marker\": {\"colorbar\": {\"outlinewidth\": 0, \"ticks\": \"\"}}, \"type\": \"scattergl\"}], \"scattermapbox\": [{\"marker\": {\"colorbar\": {\"outlinewidth\": 0, \"ticks\": \"\"}}, \"type\": \"scattermapbox\"}], \"scatterpolar\": [{\"marker\": {\"colorbar\": {\"outlinewidth\": 0, \"ticks\": \"\"}}, \"type\": \"scatterpolar\"}], \"scatterpolargl\": [{\"marker\": {\"colorbar\": {\"outlinewidth\": 0, \"ticks\": \"\"}}, \"type\": \"scatterpolargl\"}], \"scatterternary\": [{\"marker\": {\"colorbar\": {\"outlinewidth\": 0, \"ticks\": \"\"}}, \"type\": \"scatterternary\"}], \"surface\": [{\"colorbar\": {\"outlinewidth\": 0, \"ticks\": \"\"}, \"colorscale\": [[0.0, \"#0d0887\"], [0.1111111111111111, \"#46039f\"], [0.2222222222222222, \"#7201a8\"], [0.3333333333333333, \"#9c179e\"], [0.4444444444444444, \"#bd3786\"], [0.5555555555555556, \"#d8576b\"], [0.6666666666666666, \"#ed7953\"], [0.7777777777777778, \"#fb9f3a\"], [0.8888888888888888, \"#fdca26\"], [1.0, \"#f0f921\"]], \"type\": \"surface\"}], \"table\": [{\"cells\": {\"fill\": {\"color\": \"#EBF0F8\"}, \"line\": {\"color\": \"white\"}}, \"header\": {\"fill\": {\"color\": \"#C8D4E3\"}, \"line\": {\"color\": \"white\"}}, \"type\": \"table\"}]}, \"layout\": {\"annotationdefaults\": {\"arrowcolor\": \"#2a3f5f\", \"arrowhead\": 0, \"arrowwidth\": 1}, \"autotypenumbers\": \"strict\", \"coloraxis\": {\"colorbar\": {\"outlinewidth\": 0, \"ticks\": \"\"}}, \"colorscale\": {\"diverging\": [[0, \"#8e0152\"], [0.1, \"#c51b7d\"], [0.2, \"#de77ae\"], [0.3, \"#f1b6da\"], [0.4, \"#fde0ef\"], [0.5, \"#f7f7f7\"], [0.6, \"#e6f5d0\"], [0.7, \"#b8e186\"], [0.8, \"#7fbc41\"], [0.9, \"#4d9221\"], [1, \"#276419\"]], \"sequential\": [[0.0, \"#0d0887\"], [0.1111111111111111, \"#46039f\"], [0.2222222222222222, \"#7201a8\"], [0.3333333333333333, \"#9c179e\"], [0.4444444444444444, \"#bd3786\"], [0.5555555555555556, \"#d8576b\"], [0.6666666666666666, \"#ed7953\"], [0.7777777777777778, \"#fb9f3a\"], [0.8888888888888888, \"#fdca26\"], [1.0, \"#f0f921\"]], \"sequentialminus\": [[0.0, \"#0d0887\"], [0.1111111111111111, \"#46039f\"], [0.2222222222222222, \"#7201a8\"], [0.3333333333333333, \"#9c179e\"], [0.4444444444444444, \"#bd3786\"], [0.5555555555555556, \"#d8576b\"], [0.6666666666666666, \"#ed7953\"], [0.7777777777777778, \"#fb9f3a\"], [0.8888888888888888, \"#fdca26\"], [1.0, \"#f0f921\"]]}, \"colorway\": [\"#636efa\", \"#EF553B\", \"#00cc96\", \"#ab63fa\", \"#FFA15A\", \"#19d3f3\", \"#FF6692\", \"#B6E880\", \"#FF97FF\", \"#FECB52\"], \"font\": {\"color\": \"#2a3f5f\"}, \"geo\": {\"bgcolor\": \"white\", \"lakecolor\": \"white\", \"landcolor\": \"#E5ECF6\", \"showlakes\": true, \"showland\": true, \"subunitcolor\": \"white\"}, \"hoverlabel\": {\"align\": \"left\"}, \"hovermode\": \"closest\", \"mapbox\": {\"style\": \"light\"}, \"paper_bgcolor\": \"white\", \"plot_bgcolor\": \"#E5ECF6\", \"polar\": {\"angularaxis\": {\"gridcolor\": \"white\", \"linecolor\": \"white\", \"ticks\": \"\"}, \"bgcolor\": \"#E5ECF6\", \"radialaxis\": {\"gridcolor\": \"white\", \"linecolor\": \"white\", \"ticks\": \"\"}}, \"scene\": {\"xaxis\": {\"backgroundcolor\": \"#E5ECF6\", \"gridcolor\": \"white\", \"gridwidth\": 2, \"linecolor\": \"white\", \"showbackground\": true, \"ticks\": \"\", \"zerolinecolor\": \"white\"}, \"yaxis\": {\"backgroundcolor\": \"#E5ECF6\", \"gridcolor\": \"white\", \"gridwidth\": 2, \"linecolor\": \"white\", \"showbackground\": true, \"ticks\": \"\", \"zerolinecolor\": \"white\"}, \"zaxis\": {\"backgroundcolor\": \"#E5ECF6\", \"gridcolor\": \"white\", \"gridwidth\": 2, \"linecolor\": \"white\", \"showbackground\": true, \"ticks\": \"\", \"zerolinecolor\": \"white\"}}, \"shapedefaults\": {\"line\": {\"color\": \"#2a3f5f\"}}, \"ternary\": {\"aaxis\": {\"gridcolor\": \"white\", \"linecolor\": \"white\", \"ticks\": \"\"}, \"baxis\": {\"gridcolor\": \"white\", \"linecolor\": \"white\", \"ticks\": \"\"}, \"bgcolor\": \"#E5ECF6\", \"caxis\": {\"gridcolor\": \"white\", \"linecolor\": \"white\", \"ticks\": \"\"}}, \"title\": {\"x\": 0.05}, \"xaxis\": {\"automargin\": true, \"gridcolor\": \"white\", \"linecolor\": \"white\", \"ticks\": \"\", \"title\": {\"standoff\": 15}, \"zerolinecolor\": \"white\", \"zerolinewidth\": 2}, \"yaxis\": {\"automargin\": true, \"gridcolor\": \"white\", \"linecolor\": \"white\", \"ticks\": \"\", \"title\": {\"standoff\": 15}, \"zerolinecolor\": \"white\", \"zerolinewidth\": 2}}}, \"title\": {\"text\": \"Top 10 states with highest Positive percentage\"}, \"xaxis\": {\"anchor\": \"y\", \"domain\": [0.0, 1.0], \"title\": {\"text\": \"State\"}}, \"yaxis\": {\"anchor\": \"x\", \"domain\": [0.0, 1.0], \"title\": {\"text\": \"Positive Percentage\"}}},                        {\"responsive\": true}                    ).then(function(){\n",
       "                            \n",
       "var gd = document.getElementById('c1b3f316-36c3-4b5d-bd91-0c990ed24ef3');\n",
       "var x = new MutationObserver(function (mutations, observer) {{\n",
       "        var display = window.getComputedStyle(gd).display;\n",
       "        if (!display || display === 'none') {{\n",
       "            console.log([gd, 'removed!']);\n",
       "            Plotly.purge(gd);\n",
       "            observer.disconnect();\n",
       "        }}\n",
       "}});\n",
       "\n",
       "// Listen for the removal of the full notebook cells\n",
       "var notebookContainer = gd.closest('#notebook-container');\n",
       "if (notebookContainer) {{\n",
       "    x.observe(notebookContainer, {childList: true});\n",
       "}}\n",
       "\n",
       "// Listen for the clearing of the current output cell\n",
       "var outputEl = gd.closest('.output');\n",
       "if (outputEl) {{\n",
       "    x.observe(outputEl, {childList: true});\n",
       "}}\n",
       "\n",
       "                        })                };                });            </script>        </div>"
      ]
     },
     "metadata": {},
     "output_type": "display_data"
    }
   ],
   "source": [
    "px.bar(x=covid_testing_state.nlargest(10,\"Positive_percentage\")[\"State\"],\n",
    "       y = covid_testing_state.nlargest(10,\"Positive_percentage\")[\"Positive_percentage\"],\n",
    "       labels={'y':'Positive Percentage','x':'State'},\n",
    "       color_discrete_sequence=px.colors.sequential.Aggrnyl,\n",
    "       title=\"Top 10 states with highest Positive percentage\",\n",
    "       height = 420)"
   ]
  },
  {
   "cell_type": "markdown",
   "metadata": {},
   "source": [
    "### There is another dataset named \"covid_vaccine_statewise\" attached to this same project. I will upload another Notebook analysing that data and will attach a link to that Notebook as a reference in this Project."
   ]
  },
  {
   "cell_type": "code",
   "execution_count": null,
   "metadata": {},
   "outputs": [],
   "source": []
  }
 ],
 "metadata": {
  "kernelspec": {
   "display_name": "Python 3",
   "language": "python",
   "name": "python3"
  },
  "language_info": {
   "codemirror_mode": {
    "name": "ipython",
    "version": 3
   },
   "file_extension": ".py",
   "mimetype": "text/x-python",
   "name": "python",
   "nbconvert_exporter": "python",
   "pygments_lexer": "ipython3",
   "version": "3.7.6"
  }
 },
 "nbformat": 4,
 "nbformat_minor": 4
}
